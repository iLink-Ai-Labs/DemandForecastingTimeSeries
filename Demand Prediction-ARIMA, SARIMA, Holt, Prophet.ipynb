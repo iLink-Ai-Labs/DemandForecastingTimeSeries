{
 "cells": [
  {
   "cell_type": "code",
   "execution_count": 1,
   "id": "4e6b7c4e",
   "metadata": {},
   "outputs": [],
   "source": [
    "import pandas as pd\n",
    "import numpy as np\n",
    "import matplotlib.pyplot as plt\n",
    "import seaborn as sns\n",
    "\n"
   ]
  },
  {
   "cell_type": "code",
   "execution_count": 2,
   "id": "d5a3b866",
   "metadata": {},
   "outputs": [],
   "source": [
    "path= 'C:\\\\Users\\\\Ramshankar\\\\OneDrive - iLink Systems Inc\\\\Documents\\\\Demand forecasting-POC\\\\Sample\\\\Dataset\\\\'\n",
    "\n",
    "\n",
    "data= pd.read_excel(path + 'item_and_store_details.xlsx', sheet_name = 'item_and_store_details')"
   ]
  },
  {
   "cell_type": "code",
   "execution_count": 3,
   "id": "2b3d6e13",
   "metadata": {},
   "outputs": [
    {
     "data": {
      "text/html": [
       "<div>\n",
       "<style scoped>\n",
       "    .dataframe tbody tr th:only-of-type {\n",
       "        vertical-align: middle;\n",
       "    }\n",
       "\n",
       "    .dataframe tbody tr th {\n",
       "        vertical-align: top;\n",
       "    }\n",
       "\n",
       "    .dataframe thead th {\n",
       "        text-align: right;\n",
       "    }\n",
       "</style>\n",
       "<table border=\"1\" class=\"dataframe\">\n",
       "  <thead>\n",
       "    <tr style=\"text-align: right;\">\n",
       "      <th></th>\n",
       "      <th>date</th>\n",
       "      <th>store</th>\n",
       "      <th>item</th>\n",
       "      <th>sales</th>\n",
       "    </tr>\n",
       "  </thead>\n",
       "  <tbody>\n",
       "    <tr>\n",
       "      <th>0</th>\n",
       "      <td>2013-01-01</td>\n",
       "      <td>1</td>\n",
       "      <td>1</td>\n",
       "      <td>13</td>\n",
       "    </tr>\n",
       "    <tr>\n",
       "      <th>1</th>\n",
       "      <td>2013-01-02</td>\n",
       "      <td>1</td>\n",
       "      <td>1</td>\n",
       "      <td>11</td>\n",
       "    </tr>\n",
       "    <tr>\n",
       "      <th>2</th>\n",
       "      <td>2013-01-03</td>\n",
       "      <td>1</td>\n",
       "      <td>1</td>\n",
       "      <td>14</td>\n",
       "    </tr>\n",
       "    <tr>\n",
       "      <th>3</th>\n",
       "      <td>2013-01-04</td>\n",
       "      <td>1</td>\n",
       "      <td>1</td>\n",
       "      <td>13</td>\n",
       "    </tr>\n",
       "    <tr>\n",
       "      <th>4</th>\n",
       "      <td>2013-01-05</td>\n",
       "      <td>1</td>\n",
       "      <td>1</td>\n",
       "      <td>10</td>\n",
       "    </tr>\n",
       "    <tr>\n",
       "      <th>...</th>\n",
       "      <td>...</td>\n",
       "      <td>...</td>\n",
       "      <td>...</td>\n",
       "      <td>...</td>\n",
       "    </tr>\n",
       "    <tr>\n",
       "      <th>912995</th>\n",
       "      <td>2017-12-27</td>\n",
       "      <td>10</td>\n",
       "      <td>50</td>\n",
       "      <td>63</td>\n",
       "    </tr>\n",
       "    <tr>\n",
       "      <th>912996</th>\n",
       "      <td>2017-12-28</td>\n",
       "      <td>10</td>\n",
       "      <td>50</td>\n",
       "      <td>59</td>\n",
       "    </tr>\n",
       "    <tr>\n",
       "      <th>912997</th>\n",
       "      <td>2017-12-29</td>\n",
       "      <td>10</td>\n",
       "      <td>50</td>\n",
       "      <td>74</td>\n",
       "    </tr>\n",
       "    <tr>\n",
       "      <th>912998</th>\n",
       "      <td>2017-12-30</td>\n",
       "      <td>10</td>\n",
       "      <td>50</td>\n",
       "      <td>62</td>\n",
       "    </tr>\n",
       "    <tr>\n",
       "      <th>912999</th>\n",
       "      <td>2017-12-31</td>\n",
       "      <td>10</td>\n",
       "      <td>50</td>\n",
       "      <td>82</td>\n",
       "    </tr>\n",
       "  </tbody>\n",
       "</table>\n",
       "<p>913000 rows × 4 columns</p>\n",
       "</div>"
      ],
      "text/plain": [
       "             date  store  item  sales\n",
       "0      2013-01-01      1     1     13\n",
       "1      2013-01-02      1     1     11\n",
       "2      2013-01-03      1     1     14\n",
       "3      2013-01-04      1     1     13\n",
       "4      2013-01-05      1     1     10\n",
       "...           ...    ...   ...    ...\n",
       "912995 2017-12-27     10    50     63\n",
       "912996 2017-12-28     10    50     59\n",
       "912997 2017-12-29     10    50     74\n",
       "912998 2017-12-30     10    50     62\n",
       "912999 2017-12-31     10    50     82\n",
       "\n",
       "[913000 rows x 4 columns]"
      ]
     },
     "execution_count": 3,
     "metadata": {},
     "output_type": "execute_result"
    }
   ],
   "source": [
    "data"
   ]
  },
  {
   "cell_type": "code",
   "execution_count": 4,
   "id": "123b5ed8",
   "metadata": {},
   "outputs": [
    {
     "data": {
      "text/html": [
       "<div>\n",
       "<style scoped>\n",
       "    .dataframe tbody tr th:only-of-type {\n",
       "        vertical-align: middle;\n",
       "    }\n",
       "\n",
       "    .dataframe tbody tr th {\n",
       "        vertical-align: top;\n",
       "    }\n",
       "\n",
       "    .dataframe thead th {\n",
       "        text-align: right;\n",
       "    }\n",
       "</style>\n",
       "<table border=\"1\" class=\"dataframe\">\n",
       "  <thead>\n",
       "    <tr style=\"text-align: right;\">\n",
       "      <th></th>\n",
       "      <th>date</th>\n",
       "      <th>store</th>\n",
       "      <th>item</th>\n",
       "      <th>sales</th>\n",
       "    </tr>\n",
       "  </thead>\n",
       "  <tbody>\n",
       "    <tr>\n",
       "      <th>0</th>\n",
       "      <td>2013-01-01</td>\n",
       "      <td>1</td>\n",
       "      <td>1</td>\n",
       "      <td>13</td>\n",
       "    </tr>\n",
       "    <tr>\n",
       "      <th>1</th>\n",
       "      <td>2013-01-02</td>\n",
       "      <td>1</td>\n",
       "      <td>1</td>\n",
       "      <td>11</td>\n",
       "    </tr>\n",
       "    <tr>\n",
       "      <th>2</th>\n",
       "      <td>2013-01-03</td>\n",
       "      <td>1</td>\n",
       "      <td>1</td>\n",
       "      <td>14</td>\n",
       "    </tr>\n",
       "    <tr>\n",
       "      <th>3</th>\n",
       "      <td>2013-01-04</td>\n",
       "      <td>1</td>\n",
       "      <td>1</td>\n",
       "      <td>13</td>\n",
       "    </tr>\n",
       "    <tr>\n",
       "      <th>4</th>\n",
       "      <td>2013-01-05</td>\n",
       "      <td>1</td>\n",
       "      <td>1</td>\n",
       "      <td>10</td>\n",
       "    </tr>\n",
       "  </tbody>\n",
       "</table>\n",
       "</div>"
      ],
      "text/plain": [
       "        date  store  item  sales\n",
       "0 2013-01-01      1     1     13\n",
       "1 2013-01-02      1     1     11\n",
       "2 2013-01-03      1     1     14\n",
       "3 2013-01-04      1     1     13\n",
       "4 2013-01-05      1     1     10"
      ]
     },
     "execution_count": 4,
     "metadata": {},
     "output_type": "execute_result"
    }
   ],
   "source": [
    "data.head()"
   ]
  },
  {
   "cell_type": "code",
   "execution_count": 5,
   "id": "5f74b078",
   "metadata": {},
   "outputs": [
    {
     "data": {
      "text/plain": [
       "(913000, 4)"
      ]
     },
     "execution_count": 5,
     "metadata": {},
     "output_type": "execute_result"
    }
   ],
   "source": [
    "data.shape"
   ]
  },
  {
   "cell_type": "code",
   "execution_count": 6,
   "id": "10e63b81",
   "metadata": {},
   "outputs": [
    {
     "data": {
      "text/plain": [
       "Index(['date', 'store', 'item', 'sales'], dtype='object')"
      ]
     },
     "execution_count": 6,
     "metadata": {},
     "output_type": "execute_result"
    }
   ],
   "source": [
    "data.columns"
   ]
  },
  {
   "cell_type": "code",
   "execution_count": 7,
   "id": "e1dc6f6d",
   "metadata": {},
   "outputs": [
    {
     "data": {
      "text/plain": [
       "10"
      ]
     },
     "execution_count": 7,
     "metadata": {},
     "output_type": "execute_result"
    }
   ],
   "source": [
    "len(data.store.unique())    #Total number of stores "
   ]
  },
  {
   "cell_type": "code",
   "execution_count": 8,
   "id": "a52f7981",
   "metadata": {},
   "outputs": [
    {
     "data": {
      "text/plain": [
       "50"
      ]
     },
     "execution_count": 8,
     "metadata": {},
     "output_type": "execute_result"
    }
   ],
   "source": [
    "len(data.item.unique())   # Total number of items."
   ]
  },
  {
   "cell_type": "markdown",
   "id": "05d89fad",
   "metadata": {},
   "source": [
    "__Selecting top 10 selling items__ "
   ]
  },
  {
   "cell_type": "code",
   "execution_count": 9,
   "id": "9efe2ce6",
   "metadata": {},
   "outputs": [],
   "source": [
    "data_filter = data[data['item'].isin([8,13,15,18,22,25,28,36,38,45])]"
   ]
  },
  {
   "cell_type": "code",
   "execution_count": 10,
   "id": "eb00a135",
   "metadata": {},
   "outputs": [
    {
     "data": {
      "text/html": [
       "<div>\n",
       "<style scoped>\n",
       "    .dataframe tbody tr th:only-of-type {\n",
       "        vertical-align: middle;\n",
       "    }\n",
       "\n",
       "    .dataframe tbody tr th {\n",
       "        vertical-align: top;\n",
       "    }\n",
       "\n",
       "    .dataframe thead th {\n",
       "        text-align: right;\n",
       "    }\n",
       "</style>\n",
       "<table border=\"1\" class=\"dataframe\">\n",
       "  <thead>\n",
       "    <tr style=\"text-align: right;\">\n",
       "      <th></th>\n",
       "      <th>date</th>\n",
       "      <th>store</th>\n",
       "      <th>item</th>\n",
       "      <th>sales</th>\n",
       "    </tr>\n",
       "  </thead>\n",
       "  <tbody>\n",
       "    <tr>\n",
       "      <th>127820</th>\n",
       "      <td>2013-01-01</td>\n",
       "      <td>1</td>\n",
       "      <td>8</td>\n",
       "      <td>33</td>\n",
       "    </tr>\n",
       "    <tr>\n",
       "      <th>127821</th>\n",
       "      <td>2013-01-02</td>\n",
       "      <td>1</td>\n",
       "      <td>8</td>\n",
       "      <td>37</td>\n",
       "    </tr>\n",
       "    <tr>\n",
       "      <th>127822</th>\n",
       "      <td>2013-01-03</td>\n",
       "      <td>1</td>\n",
       "      <td>8</td>\n",
       "      <td>38</td>\n",
       "    </tr>\n",
       "    <tr>\n",
       "      <th>127823</th>\n",
       "      <td>2013-01-04</td>\n",
       "      <td>1</td>\n",
       "      <td>8</td>\n",
       "      <td>54</td>\n",
       "    </tr>\n",
       "    <tr>\n",
       "      <th>127824</th>\n",
       "      <td>2013-01-05</td>\n",
       "      <td>1</td>\n",
       "      <td>8</td>\n",
       "      <td>51</td>\n",
       "    </tr>\n",
       "    <tr>\n",
       "      <th>...</th>\n",
       "      <td>...</td>\n",
       "      <td>...</td>\n",
       "      <td>...</td>\n",
       "      <td>...</td>\n",
       "    </tr>\n",
       "    <tr>\n",
       "      <th>821695</th>\n",
       "      <td>2017-12-27</td>\n",
       "      <td>10</td>\n",
       "      <td>45</td>\n",
       "      <td>64</td>\n",
       "    </tr>\n",
       "    <tr>\n",
       "      <th>821696</th>\n",
       "      <td>2017-12-28</td>\n",
       "      <td>10</td>\n",
       "      <td>45</td>\n",
       "      <td>79</td>\n",
       "    </tr>\n",
       "    <tr>\n",
       "      <th>821697</th>\n",
       "      <td>2017-12-29</td>\n",
       "      <td>10</td>\n",
       "      <td>45</td>\n",
       "      <td>72</td>\n",
       "    </tr>\n",
       "    <tr>\n",
       "      <th>821698</th>\n",
       "      <td>2017-12-30</td>\n",
       "      <td>10</td>\n",
       "      <td>45</td>\n",
       "      <td>76</td>\n",
       "    </tr>\n",
       "    <tr>\n",
       "      <th>821699</th>\n",
       "      <td>2017-12-31</td>\n",
       "      <td>10</td>\n",
       "      <td>45</td>\n",
       "      <td>89</td>\n",
       "    </tr>\n",
       "  </tbody>\n",
       "</table>\n",
       "<p>182600 rows × 4 columns</p>\n",
       "</div>"
      ],
      "text/plain": [
       "             date  store  item  sales\n",
       "127820 2013-01-01      1     8     33\n",
       "127821 2013-01-02      1     8     37\n",
       "127822 2013-01-03      1     8     38\n",
       "127823 2013-01-04      1     8     54\n",
       "127824 2013-01-05      1     8     51\n",
       "...           ...    ...   ...    ...\n",
       "821695 2017-12-27     10    45     64\n",
       "821696 2017-12-28     10    45     79\n",
       "821697 2017-12-29     10    45     72\n",
       "821698 2017-12-30     10    45     76\n",
       "821699 2017-12-31     10    45     89\n",
       "\n",
       "[182600 rows x 4 columns]"
      ]
     },
     "execution_count": 10,
     "metadata": {},
     "output_type": "execute_result"
    }
   ],
   "source": [
    "data_filter"
   ]
  },
  {
   "cell_type": "code",
   "execution_count": 11,
   "id": "468d268c",
   "metadata": {},
   "outputs": [
    {
     "data": {
      "text/html": [
       "<div>\n",
       "<style scoped>\n",
       "    .dataframe tbody tr th:only-of-type {\n",
       "        vertical-align: middle;\n",
       "    }\n",
       "\n",
       "    .dataframe tbody tr th {\n",
       "        vertical-align: top;\n",
       "    }\n",
       "\n",
       "    .dataframe thead th {\n",
       "        text-align: right;\n",
       "    }\n",
       "</style>\n",
       "<table border=\"1\" class=\"dataframe\">\n",
       "  <thead>\n",
       "    <tr style=\"text-align: right;\">\n",
       "      <th></th>\n",
       "      <th>date</th>\n",
       "      <th>store</th>\n",
       "      <th>item</th>\n",
       "      <th>sales</th>\n",
       "    </tr>\n",
       "  </thead>\n",
       "  <tbody>\n",
       "    <tr>\n",
       "      <th>127820</th>\n",
       "      <td>2013-01-01</td>\n",
       "      <td>1</td>\n",
       "      <td>8</td>\n",
       "      <td>33</td>\n",
       "    </tr>\n",
       "    <tr>\n",
       "      <th>127821</th>\n",
       "      <td>2013-01-02</td>\n",
       "      <td>1</td>\n",
       "      <td>8</td>\n",
       "      <td>37</td>\n",
       "    </tr>\n",
       "    <tr>\n",
       "      <th>127822</th>\n",
       "      <td>2013-01-03</td>\n",
       "      <td>1</td>\n",
       "      <td>8</td>\n",
       "      <td>38</td>\n",
       "    </tr>\n",
       "    <tr>\n",
       "      <th>127823</th>\n",
       "      <td>2013-01-04</td>\n",
       "      <td>1</td>\n",
       "      <td>8</td>\n",
       "      <td>54</td>\n",
       "    </tr>\n",
       "    <tr>\n",
       "      <th>127824</th>\n",
       "      <td>2013-01-05</td>\n",
       "      <td>1</td>\n",
       "      <td>8</td>\n",
       "      <td>51</td>\n",
       "    </tr>\n",
       "    <tr>\n",
       "      <th>127825</th>\n",
       "      <td>2013-01-06</td>\n",
       "      <td>1</td>\n",
       "      <td>8</td>\n",
       "      <td>60</td>\n",
       "    </tr>\n",
       "    <tr>\n",
       "      <th>127826</th>\n",
       "      <td>2013-01-07</td>\n",
       "      <td>1</td>\n",
       "      <td>8</td>\n",
       "      <td>28</td>\n",
       "    </tr>\n",
       "    <tr>\n",
       "      <th>127827</th>\n",
       "      <td>2013-01-08</td>\n",
       "      <td>1</td>\n",
       "      <td>8</td>\n",
       "      <td>34</td>\n",
       "    </tr>\n",
       "    <tr>\n",
       "      <th>127828</th>\n",
       "      <td>2013-01-09</td>\n",
       "      <td>1</td>\n",
       "      <td>8</td>\n",
       "      <td>40</td>\n",
       "    </tr>\n",
       "    <tr>\n",
       "      <th>127829</th>\n",
       "      <td>2013-01-10</td>\n",
       "      <td>1</td>\n",
       "      <td>8</td>\n",
       "      <td>43</td>\n",
       "    </tr>\n",
       "  </tbody>\n",
       "</table>\n",
       "</div>"
      ],
      "text/plain": [
       "             date  store  item  sales\n",
       "127820 2013-01-01      1     8     33\n",
       "127821 2013-01-02      1     8     37\n",
       "127822 2013-01-03      1     8     38\n",
       "127823 2013-01-04      1     8     54\n",
       "127824 2013-01-05      1     8     51\n",
       "127825 2013-01-06      1     8     60\n",
       "127826 2013-01-07      1     8     28\n",
       "127827 2013-01-08      1     8     34\n",
       "127828 2013-01-09      1     8     40\n",
       "127829 2013-01-10      1     8     43"
      ]
     },
     "execution_count": 11,
     "metadata": {},
     "output_type": "execute_result"
    }
   ],
   "source": [
    "data_filter.head(10)"
   ]
  },
  {
   "cell_type": "code",
   "execution_count": 12,
   "id": "6f2e9804",
   "metadata": {},
   "outputs": [
    {
     "data": {
      "text/html": [
       "<div>\n",
       "<style scoped>\n",
       "    .dataframe tbody tr th:only-of-type {\n",
       "        vertical-align: middle;\n",
       "    }\n",
       "\n",
       "    .dataframe tbody tr th {\n",
       "        vertical-align: top;\n",
       "    }\n",
       "\n",
       "    .dataframe thead th {\n",
       "        text-align: right;\n",
       "    }\n",
       "</style>\n",
       "<table border=\"1\" class=\"dataframe\">\n",
       "  <thead>\n",
       "    <tr style=\"text-align: right;\">\n",
       "      <th></th>\n",
       "      <th>date</th>\n",
       "      <th>store</th>\n",
       "      <th>item</th>\n",
       "      <th>sales</th>\n",
       "    </tr>\n",
       "  </thead>\n",
       "  <tbody>\n",
       "    <tr>\n",
       "      <th>821690</th>\n",
       "      <td>2017-12-22</td>\n",
       "      <td>10</td>\n",
       "      <td>45</td>\n",
       "      <td>81</td>\n",
       "    </tr>\n",
       "    <tr>\n",
       "      <th>821691</th>\n",
       "      <td>2017-12-23</td>\n",
       "      <td>10</td>\n",
       "      <td>45</td>\n",
       "      <td>77</td>\n",
       "    </tr>\n",
       "    <tr>\n",
       "      <th>821692</th>\n",
       "      <td>2017-12-24</td>\n",
       "      <td>10</td>\n",
       "      <td>45</td>\n",
       "      <td>93</td>\n",
       "    </tr>\n",
       "    <tr>\n",
       "      <th>821693</th>\n",
       "      <td>2017-12-25</td>\n",
       "      <td>10</td>\n",
       "      <td>45</td>\n",
       "      <td>65</td>\n",
       "    </tr>\n",
       "    <tr>\n",
       "      <th>821694</th>\n",
       "      <td>2017-12-26</td>\n",
       "      <td>10</td>\n",
       "      <td>45</td>\n",
       "      <td>87</td>\n",
       "    </tr>\n",
       "    <tr>\n",
       "      <th>821695</th>\n",
       "      <td>2017-12-27</td>\n",
       "      <td>10</td>\n",
       "      <td>45</td>\n",
       "      <td>64</td>\n",
       "    </tr>\n",
       "    <tr>\n",
       "      <th>821696</th>\n",
       "      <td>2017-12-28</td>\n",
       "      <td>10</td>\n",
       "      <td>45</td>\n",
       "      <td>79</td>\n",
       "    </tr>\n",
       "    <tr>\n",
       "      <th>821697</th>\n",
       "      <td>2017-12-29</td>\n",
       "      <td>10</td>\n",
       "      <td>45</td>\n",
       "      <td>72</td>\n",
       "    </tr>\n",
       "    <tr>\n",
       "      <th>821698</th>\n",
       "      <td>2017-12-30</td>\n",
       "      <td>10</td>\n",
       "      <td>45</td>\n",
       "      <td>76</td>\n",
       "    </tr>\n",
       "    <tr>\n",
       "      <th>821699</th>\n",
       "      <td>2017-12-31</td>\n",
       "      <td>10</td>\n",
       "      <td>45</td>\n",
       "      <td>89</td>\n",
       "    </tr>\n",
       "  </tbody>\n",
       "</table>\n",
       "</div>"
      ],
      "text/plain": [
       "             date  store  item  sales\n",
       "821690 2017-12-22     10    45     81\n",
       "821691 2017-12-23     10    45     77\n",
       "821692 2017-12-24     10    45     93\n",
       "821693 2017-12-25     10    45     65\n",
       "821694 2017-12-26     10    45     87\n",
       "821695 2017-12-27     10    45     64\n",
       "821696 2017-12-28     10    45     79\n",
       "821697 2017-12-29     10    45     72\n",
       "821698 2017-12-30     10    45     76\n",
       "821699 2017-12-31     10    45     89"
      ]
     },
     "execution_count": 12,
     "metadata": {},
     "output_type": "execute_result"
    }
   ],
   "source": [
    "data_filter.tail(10)"
   ]
  },
  {
   "cell_type": "code",
   "execution_count": 13,
   "id": "c8b7bbba",
   "metadata": {},
   "outputs": [
    {
     "data": {
      "text/plain": [
       "array([ 1,  2,  3,  4,  5,  6,  7,  8,  9, 10], dtype=int64)"
      ]
     },
     "execution_count": 13,
     "metadata": {},
     "output_type": "execute_result"
    }
   ],
   "source": [
    "data_filter.store.unique()"
   ]
  },
  {
   "cell_type": "code",
   "execution_count": 14,
   "id": "5f38432c",
   "metadata": {},
   "outputs": [
    {
     "name": "stderr",
     "output_type": "stream",
     "text": [
      "C:\\Users\\Ramshankar\\AppData\\Local\\Temp\\ipykernel_17728\\831078164.py:1: SettingWithCopyWarning: \n",
      "A value is trying to be set on a copy of a slice from a DataFrame.\n",
      "Try using .loc[row_indexer,col_indexer] = value instead\n",
      "\n",
      "See the caveats in the documentation: https://pandas.pydata.org/pandas-docs/stable/user_guide/indexing.html#returning-a-view-versus-a-copy\n",
      "  data_filter['store'] = data_filter['store'].replace([1,2,3,4,5,6,7,8,9,10],['St1', 'St2','St3','St4',\\\n"
     ]
    }
   ],
   "source": [
    "data_filter['store'] = data_filter['store'].replace([1,2,3,4,5,6,7,8,9,10],['St1', 'St2','St3','St4',\\\n",
    "                                                                           'St5', 'St6', 'St7', 'St8',\\\n",
    "                                                                           'St9', 'St10'])"
   ]
  },
  {
   "cell_type": "code",
   "execution_count": 15,
   "id": "ef1691b0",
   "metadata": {},
   "outputs": [
    {
     "data": {
      "text/html": [
       "<div>\n",
       "<style scoped>\n",
       "    .dataframe tbody tr th:only-of-type {\n",
       "        vertical-align: middle;\n",
       "    }\n",
       "\n",
       "    .dataframe tbody tr th {\n",
       "        vertical-align: top;\n",
       "    }\n",
       "\n",
       "    .dataframe thead th {\n",
       "        text-align: right;\n",
       "    }\n",
       "</style>\n",
       "<table border=\"1\" class=\"dataframe\">\n",
       "  <thead>\n",
       "    <tr style=\"text-align: right;\">\n",
       "      <th></th>\n",
       "      <th>date</th>\n",
       "      <th>store</th>\n",
       "      <th>item</th>\n",
       "      <th>sales</th>\n",
       "    </tr>\n",
       "  </thead>\n",
       "  <tbody>\n",
       "    <tr>\n",
       "      <th>127820</th>\n",
       "      <td>2013-01-01</td>\n",
       "      <td>St1</td>\n",
       "      <td>8</td>\n",
       "      <td>33</td>\n",
       "    </tr>\n",
       "    <tr>\n",
       "      <th>127821</th>\n",
       "      <td>2013-01-02</td>\n",
       "      <td>St1</td>\n",
       "      <td>8</td>\n",
       "      <td>37</td>\n",
       "    </tr>\n",
       "    <tr>\n",
       "      <th>127822</th>\n",
       "      <td>2013-01-03</td>\n",
       "      <td>St1</td>\n",
       "      <td>8</td>\n",
       "      <td>38</td>\n",
       "    </tr>\n",
       "    <tr>\n",
       "      <th>127823</th>\n",
       "      <td>2013-01-04</td>\n",
       "      <td>St1</td>\n",
       "      <td>8</td>\n",
       "      <td>54</td>\n",
       "    </tr>\n",
       "    <tr>\n",
       "      <th>127824</th>\n",
       "      <td>2013-01-05</td>\n",
       "      <td>St1</td>\n",
       "      <td>8</td>\n",
       "      <td>51</td>\n",
       "    </tr>\n",
       "  </tbody>\n",
       "</table>\n",
       "</div>"
      ],
      "text/plain": [
       "             date store  item  sales\n",
       "127820 2013-01-01   St1     8     33\n",
       "127821 2013-01-02   St1     8     37\n",
       "127822 2013-01-03   St1     8     38\n",
       "127823 2013-01-04   St1     8     54\n",
       "127824 2013-01-05   St1     8     51"
      ]
     },
     "execution_count": 15,
     "metadata": {},
     "output_type": "execute_result"
    }
   ],
   "source": [
    "data_filter.head()"
   ]
  },
  {
   "cell_type": "code",
   "execution_count": 16,
   "id": "b199ea34",
   "metadata": {},
   "outputs": [
    {
     "data": {
      "text/html": [
       "<div>\n",
       "<style scoped>\n",
       "    .dataframe tbody tr th:only-of-type {\n",
       "        vertical-align: middle;\n",
       "    }\n",
       "\n",
       "    .dataframe tbody tr th {\n",
       "        vertical-align: top;\n",
       "    }\n",
       "\n",
       "    .dataframe thead th {\n",
       "        text-align: right;\n",
       "    }\n",
       "</style>\n",
       "<table border=\"1\" class=\"dataframe\">\n",
       "  <thead>\n",
       "    <tr style=\"text-align: right;\">\n",
       "      <th></th>\n",
       "      <th>date</th>\n",
       "      <th>store</th>\n",
       "      <th>item</th>\n",
       "      <th>sales</th>\n",
       "    </tr>\n",
       "  </thead>\n",
       "  <tbody>\n",
       "    <tr>\n",
       "      <th>821695</th>\n",
       "      <td>2017-12-27</td>\n",
       "      <td>St10</td>\n",
       "      <td>45</td>\n",
       "      <td>64</td>\n",
       "    </tr>\n",
       "    <tr>\n",
       "      <th>821696</th>\n",
       "      <td>2017-12-28</td>\n",
       "      <td>St10</td>\n",
       "      <td>45</td>\n",
       "      <td>79</td>\n",
       "    </tr>\n",
       "    <tr>\n",
       "      <th>821697</th>\n",
       "      <td>2017-12-29</td>\n",
       "      <td>St10</td>\n",
       "      <td>45</td>\n",
       "      <td>72</td>\n",
       "    </tr>\n",
       "    <tr>\n",
       "      <th>821698</th>\n",
       "      <td>2017-12-30</td>\n",
       "      <td>St10</td>\n",
       "      <td>45</td>\n",
       "      <td>76</td>\n",
       "    </tr>\n",
       "    <tr>\n",
       "      <th>821699</th>\n",
       "      <td>2017-12-31</td>\n",
       "      <td>St10</td>\n",
       "      <td>45</td>\n",
       "      <td>89</td>\n",
       "    </tr>\n",
       "  </tbody>\n",
       "</table>\n",
       "</div>"
      ],
      "text/plain": [
       "             date store  item  sales\n",
       "821695 2017-12-27  St10    45     64\n",
       "821696 2017-12-28  St10    45     79\n",
       "821697 2017-12-29  St10    45     72\n",
       "821698 2017-12-30  St10    45     76\n",
       "821699 2017-12-31  St10    45     89"
      ]
     },
     "execution_count": 16,
     "metadata": {},
     "output_type": "execute_result"
    }
   ],
   "source": [
    "data_filter.tail()"
   ]
  },
  {
   "cell_type": "code",
   "execution_count": 17,
   "id": "6efa3f4c",
   "metadata": {},
   "outputs": [
    {
     "data": {
      "text/plain": [
       "127820     8\n",
       "127821     8\n",
       "127822     8\n",
       "127823     8\n",
       "127824     8\n",
       "          ..\n",
       "821695    45\n",
       "821696    45\n",
       "821697    45\n",
       "821698    45\n",
       "821699    45\n",
       "Name: item, Length: 182600, dtype: int64"
      ]
     },
     "execution_count": 17,
     "metadata": {},
     "output_type": "execute_result"
    }
   ],
   "source": [
    "data_filter.item"
   ]
  },
  {
   "cell_type": "code",
   "execution_count": 18,
   "id": "25c80e8e",
   "metadata": {},
   "outputs": [
    {
     "name": "stderr",
     "output_type": "stream",
     "text": [
      "C:\\Users\\Ramshankar\\AppData\\Local\\Temp\\ipykernel_17728\\1329963114.py:1: SettingWithCopyWarning: \n",
      "A value is trying to be set on a copy of a slice from a DataFrame.\n",
      "Try using .loc[row_indexer,col_indexer] = value instead\n",
      "\n",
      "See the caveats in the documentation: https://pandas.pydata.org/pandas-docs/stable/user_guide/indexing.html#returning-a-view-versus-a-copy\n",
      "  data_filter['item'] = data_filter['item'].replace([8,13,15,18,22,25,28,36,38,45],[\"Lay's\", 'Kurkure','Bingo','Haldiram',\\\n"
     ]
    }
   ],
   "source": [
    "data_filter['item'] = data_filter['item'].replace([8,13,15,18,22,25,28,36,38,45],[\"Lay's\", 'Kurkure','Bingo','Haldiram',\\\n",
    "                                                                           'Peanuts', 'Banana Chips', 'Too Yum', 'Parle-G',\\\n",
    "                                                                           'Fruit Cake', 'Wafers'])"
   ]
  },
  {
   "cell_type": "code",
   "execution_count": 19,
   "id": "3b8a47e7",
   "metadata": {},
   "outputs": [
    {
     "data": {
      "text/html": [
       "<div>\n",
       "<style scoped>\n",
       "    .dataframe tbody tr th:only-of-type {\n",
       "        vertical-align: middle;\n",
       "    }\n",
       "\n",
       "    .dataframe tbody tr th {\n",
       "        vertical-align: top;\n",
       "    }\n",
       "\n",
       "    .dataframe thead th {\n",
       "        text-align: right;\n",
       "    }\n",
       "</style>\n",
       "<table border=\"1\" class=\"dataframe\">\n",
       "  <thead>\n",
       "    <tr style=\"text-align: right;\">\n",
       "      <th></th>\n",
       "      <th>date</th>\n",
       "      <th>store</th>\n",
       "      <th>item</th>\n",
       "      <th>sales</th>\n",
       "    </tr>\n",
       "  </thead>\n",
       "  <tbody>\n",
       "    <tr>\n",
       "      <th>127820</th>\n",
       "      <td>2013-01-01</td>\n",
       "      <td>St1</td>\n",
       "      <td>Lay's</td>\n",
       "      <td>33</td>\n",
       "    </tr>\n",
       "    <tr>\n",
       "      <th>127821</th>\n",
       "      <td>2013-01-02</td>\n",
       "      <td>St1</td>\n",
       "      <td>Lay's</td>\n",
       "      <td>37</td>\n",
       "    </tr>\n",
       "    <tr>\n",
       "      <th>127822</th>\n",
       "      <td>2013-01-03</td>\n",
       "      <td>St1</td>\n",
       "      <td>Lay's</td>\n",
       "      <td>38</td>\n",
       "    </tr>\n",
       "    <tr>\n",
       "      <th>127823</th>\n",
       "      <td>2013-01-04</td>\n",
       "      <td>St1</td>\n",
       "      <td>Lay's</td>\n",
       "      <td>54</td>\n",
       "    </tr>\n",
       "    <tr>\n",
       "      <th>127824</th>\n",
       "      <td>2013-01-05</td>\n",
       "      <td>St1</td>\n",
       "      <td>Lay's</td>\n",
       "      <td>51</td>\n",
       "    </tr>\n",
       "    <tr>\n",
       "      <th>...</th>\n",
       "      <td>...</td>\n",
       "      <td>...</td>\n",
       "      <td>...</td>\n",
       "      <td>...</td>\n",
       "    </tr>\n",
       "    <tr>\n",
       "      <th>821695</th>\n",
       "      <td>2017-12-27</td>\n",
       "      <td>St10</td>\n",
       "      <td>Wafers</td>\n",
       "      <td>64</td>\n",
       "    </tr>\n",
       "    <tr>\n",
       "      <th>821696</th>\n",
       "      <td>2017-12-28</td>\n",
       "      <td>St10</td>\n",
       "      <td>Wafers</td>\n",
       "      <td>79</td>\n",
       "    </tr>\n",
       "    <tr>\n",
       "      <th>821697</th>\n",
       "      <td>2017-12-29</td>\n",
       "      <td>St10</td>\n",
       "      <td>Wafers</td>\n",
       "      <td>72</td>\n",
       "    </tr>\n",
       "    <tr>\n",
       "      <th>821698</th>\n",
       "      <td>2017-12-30</td>\n",
       "      <td>St10</td>\n",
       "      <td>Wafers</td>\n",
       "      <td>76</td>\n",
       "    </tr>\n",
       "    <tr>\n",
       "      <th>821699</th>\n",
       "      <td>2017-12-31</td>\n",
       "      <td>St10</td>\n",
       "      <td>Wafers</td>\n",
       "      <td>89</td>\n",
       "    </tr>\n",
       "  </tbody>\n",
       "</table>\n",
       "<p>182600 rows × 4 columns</p>\n",
       "</div>"
      ],
      "text/plain": [
       "             date store    item  sales\n",
       "127820 2013-01-01   St1   Lay's     33\n",
       "127821 2013-01-02   St1   Lay's     37\n",
       "127822 2013-01-03   St1   Lay's     38\n",
       "127823 2013-01-04   St1   Lay's     54\n",
       "127824 2013-01-05   St1   Lay's     51\n",
       "...           ...   ...     ...    ...\n",
       "821695 2017-12-27  St10  Wafers     64\n",
       "821696 2017-12-28  St10  Wafers     79\n",
       "821697 2017-12-29  St10  Wafers     72\n",
       "821698 2017-12-30  St10  Wafers     76\n",
       "821699 2017-12-31  St10  Wafers     89\n",
       "\n",
       "[182600 rows x 4 columns]"
      ]
     },
     "execution_count": 19,
     "metadata": {},
     "output_type": "execute_result"
    }
   ],
   "source": [
    "data_filter"
   ]
  },
  {
   "cell_type": "markdown",
   "id": "3205b969",
   "metadata": {},
   "source": [
    "# Checking Stationarity\n",
    "### Adfuller Test"
   ]
  },
  {
   "cell_type": "code",
   "execution_count": 20,
   "id": "8e1b22bf",
   "metadata": {},
   "outputs": [
    {
     "name": "stdout",
     "output_type": "stream",
     "text": [
      "1. ADF :  -26.55760674463949\n",
      "2. P-Value :  0.0\n"
     ]
    }
   ],
   "source": [
    "from statsmodels.tsa.stattools import adfuller\n",
    "\n",
    "dftest = adfuller(data_filter['sales'], autolag = 'AIC')\n",
    "\n",
    "print(\"1. ADF : \",dftest[0])\n",
    "print(\"2. P-Value : \", dftest[1])"
   ]
  },
  {
   "cell_type": "markdown",
   "id": "ffa28d06",
   "metadata": {},
   "source": [
    "Null hypothesis: Time series is non-stationary.\n",
    "\n",
    "Alternative hypothesis: Time series is stationary.\n",
    "\n",
    "As p value is p<0.05 we reject the null hypothesis and accept the alternative hypothesis. "
   ]
  },
  {
   "cell_type": "markdown",
   "id": "31a2b52c",
   "metadata": {},
   "source": [
    "### Kwiatkowski-Phillips-Schmidt-Shin (KPSS) test"
   ]
  },
  {
   "cell_type": "code",
   "execution_count": 21,
   "id": "5e74aaf8",
   "metadata": {},
   "outputs": [
    {
     "name": "stdout",
     "output_type": "stream",
     "text": [
      "KPSS Statistic: 0.350986\n",
      "p-value: 0.098282\n"
     ]
    }
   ],
   "source": [
    "from statsmodels.tsa.stattools import kpss\n",
    "kpss_test = kpss(data_filter['sales'])\n",
    "\n",
    "print('KPSS Statistic: %f' % kpss_test[0])\n",
    "print('p-value: %f' % kpss_test[1])"
   ]
  },
  {
   "cell_type": "markdown",
   "id": "ee3f13a7",
   "metadata": {},
   "source": [
    "Null hypothesis: Time series is stationary.\n",
    "\n",
    "Alternative hypothesis: Time series is non-stationary.\n",
    "\n",
    "As p value is p>0.05 we accept the null hypothesis and reject the alternative hypothesis. "
   ]
  },
  {
   "cell_type": "code",
   "execution_count": null,
   "id": "f34e15db",
   "metadata": {},
   "outputs": [],
   "source": [
    "# data_filter.to_excel('Retail_sales_dt.xlsx', index=False)"
   ]
  },
  {
   "cell_type": "markdown",
   "id": "5259743c",
   "metadata": {},
   "source": [
    "# Time Series Decomposition"
   ]
  },
  {
   "cell_type": "code",
   "execution_count": 20,
   "id": "c04b3502",
   "metadata": {},
   "outputs": [
    {
     "data": {
      "text/plain": [
       "(Timestamp('2017-12-31 00:00:00'), Timestamp('2013-01-01 00:00:00'))"
      ]
     },
     "execution_count": 20,
     "metadata": {},
     "output_type": "execute_result"
    }
   ],
   "source": [
    "data_filter.date.max(), data_filter.date.min()"
   ]
  },
  {
   "cell_type": "code",
   "execution_count": 21,
   "id": "da29a341",
   "metadata": {},
   "outputs": [],
   "source": [
    "import copy\n",
    "data_df= copy.deepcopy(data_filter)"
   ]
  },
  {
   "cell_type": "code",
   "execution_count": 22,
   "id": "9886d9a9",
   "metadata": {},
   "outputs": [
    {
     "data": {
      "text/html": [
       "<div>\n",
       "<style scoped>\n",
       "    .dataframe tbody tr th:only-of-type {\n",
       "        vertical-align: middle;\n",
       "    }\n",
       "\n",
       "    .dataframe tbody tr th {\n",
       "        vertical-align: top;\n",
       "    }\n",
       "\n",
       "    .dataframe thead th {\n",
       "        text-align: right;\n",
       "    }\n",
       "</style>\n",
       "<table border=\"1\" class=\"dataframe\">\n",
       "  <thead>\n",
       "    <tr style=\"text-align: right;\">\n",
       "      <th></th>\n",
       "      <th>store</th>\n",
       "      <th>item</th>\n",
       "      <th>sales</th>\n",
       "    </tr>\n",
       "    <tr>\n",
       "      <th>date</th>\n",
       "      <th></th>\n",
       "      <th></th>\n",
       "      <th></th>\n",
       "    </tr>\n",
       "  </thead>\n",
       "  <tbody>\n",
       "    <tr>\n",
       "      <th>2013-01-01</th>\n",
       "      <td>St1</td>\n",
       "      <td>Lay's</td>\n",
       "      <td>33</td>\n",
       "    </tr>\n",
       "    <tr>\n",
       "      <th>2013-01-02</th>\n",
       "      <td>St1</td>\n",
       "      <td>Lay's</td>\n",
       "      <td>37</td>\n",
       "    </tr>\n",
       "    <tr>\n",
       "      <th>2013-01-03</th>\n",
       "      <td>St1</td>\n",
       "      <td>Lay's</td>\n",
       "      <td>38</td>\n",
       "    </tr>\n",
       "    <tr>\n",
       "      <th>2013-01-04</th>\n",
       "      <td>St1</td>\n",
       "      <td>Lay's</td>\n",
       "      <td>54</td>\n",
       "    </tr>\n",
       "    <tr>\n",
       "      <th>2013-01-05</th>\n",
       "      <td>St1</td>\n",
       "      <td>Lay's</td>\n",
       "      <td>51</td>\n",
       "    </tr>\n",
       "    <tr>\n",
       "      <th>...</th>\n",
       "      <td>...</td>\n",
       "      <td>...</td>\n",
       "      <td>...</td>\n",
       "    </tr>\n",
       "    <tr>\n",
       "      <th>2017-12-27</th>\n",
       "      <td>St10</td>\n",
       "      <td>Wafers</td>\n",
       "      <td>64</td>\n",
       "    </tr>\n",
       "    <tr>\n",
       "      <th>2017-12-28</th>\n",
       "      <td>St10</td>\n",
       "      <td>Wafers</td>\n",
       "      <td>79</td>\n",
       "    </tr>\n",
       "    <tr>\n",
       "      <th>2017-12-29</th>\n",
       "      <td>St10</td>\n",
       "      <td>Wafers</td>\n",
       "      <td>72</td>\n",
       "    </tr>\n",
       "    <tr>\n",
       "      <th>2017-12-30</th>\n",
       "      <td>St10</td>\n",
       "      <td>Wafers</td>\n",
       "      <td>76</td>\n",
       "    </tr>\n",
       "    <tr>\n",
       "      <th>2017-12-31</th>\n",
       "      <td>St10</td>\n",
       "      <td>Wafers</td>\n",
       "      <td>89</td>\n",
       "    </tr>\n",
       "  </tbody>\n",
       "</table>\n",
       "<p>182600 rows × 3 columns</p>\n",
       "</div>"
      ],
      "text/plain": [
       "           store    item  sales\n",
       "date                           \n",
       "2013-01-01   St1   Lay's     33\n",
       "2013-01-02   St1   Lay's     37\n",
       "2013-01-03   St1   Lay's     38\n",
       "2013-01-04   St1   Lay's     54\n",
       "2013-01-05   St1   Lay's     51\n",
       "...          ...     ...    ...\n",
       "2017-12-27  St10  Wafers     64\n",
       "2017-12-28  St10  Wafers     79\n",
       "2017-12-29  St10  Wafers     72\n",
       "2017-12-30  St10  Wafers     76\n",
       "2017-12-31  St10  Wafers     89\n",
       "\n",
       "[182600 rows x 3 columns]"
      ]
     },
     "execution_count": 22,
     "metadata": {},
     "output_type": "execute_result"
    }
   ],
   "source": [
    "data_df.set_index('date')"
   ]
  },
  {
   "cell_type": "code",
   "execution_count": null,
   "id": "cb365927",
   "metadata": {},
   "outputs": [],
   "source": [
    "data_df2 = data_df[(data_df['store']== 'St1') & (data_df['item']== \"Lay's\")]"
   ]
  },
  {
   "cell_type": "markdown",
   "id": "c64445dc",
   "metadata": {},
   "source": [
    "#### Multiplicative"
   ]
  },
  {
   "cell_type": "code",
   "execution_count": null,
   "id": "b32343bc",
   "metadata": {},
   "outputs": [],
   "source": [
    "from statsmodels.tsa.seasonal import seasonal_decompose\n",
    "\n",
    "result=seasonal_decompose(data_df2['sales'], model='multiplicable', period=365, extrapolate_trend= 'freq')"
   ]
  },
  {
   "cell_type": "code",
   "execution_count": null,
   "id": "e0b99602",
   "metadata": {},
   "outputs": [],
   "source": [
    "result.plot()"
   ]
  },
  {
   "cell_type": "markdown",
   "id": "6a6a78f6",
   "metadata": {},
   "source": [
    "#### Additive"
   ]
  },
  {
   "cell_type": "code",
   "execution_count": null,
   "id": "28a378b0",
   "metadata": {},
   "outputs": [],
   "source": [
    "from statsmodels.tsa.seasonal import seasonal_decompose\n",
    "\n",
    "result1 =seasonal_decompose(data_df2['sales'], model='additive', period=int(365.25), extrapolate_trend= 'freq')"
   ]
  },
  {
   "cell_type": "code",
   "execution_count": null,
   "id": "28649799",
   "metadata": {},
   "outputs": [],
   "source": [
    "result1.plot()"
   ]
  },
  {
   "cell_type": "code",
   "execution_count": null,
   "id": "af774081",
   "metadata": {},
   "outputs": [],
   "source": [
    "data_df.head()"
   ]
  },
  {
   "cell_type": "code",
   "execution_count": null,
   "id": "2e280e7f",
   "metadata": {},
   "outputs": [],
   "source": [
    "data_df.tail()"
   ]
  },
  {
   "cell_type": "markdown",
   "id": "e65cd8aa",
   "metadata": {},
   "source": [
    "### All in One"
   ]
  },
  {
   "cell_type": "code",
   "execution_count": null,
   "id": "f714149b",
   "metadata": {},
   "outputs": [],
   "source": [
    "for i in data_df['store'].unique():\n",
    "#     print(i)\n",
    "    df= data_df[data_df['store']==i]\n",
    "    for j in df['item'].unique():\n",
    "#         print(i, \":- \", j)\n",
    "        item_data = df[df['item']==j]\n",
    "#         print(item_data)\n",
    "        \n",
    "        item_data= item_data.drop(['store', 'item'], axis=1)\n",
    "        item_data.set_index('date')\n",
    "#         print(item_data)\n",
    "        time_series = item_data.index  #Get dates for test data\n",
    "        \n",
    "        result=seasonal_decompose(item_data['sales'], model='Additive', period=int(365.25), extrapolate_trend= 'freq')\n",
    "        \n",
    "        #Results\n",
    "        se_out= pd.DataFrame()\n",
    "        se_out['Trend'] = result.trend\n",
    "        se_out['seasonality']  = result.seasonal\n",
    "        se_out['remainder']  = result.resid\n",
    "#         se_out['Date']= train_dates.values\n",
    "        df_out = pd.concat([item_data,se_out], axis=1 )\n",
    "    \n",
    "        \n",
    "        #Saving Results \n",
    "        df_out['Store']= i\n",
    "        df_out['Item']=j\n",
    "        \n",
    "        predction_output = \"Seasonality\\season_\" +i+\"-\"+j+\".xlsx\"\n",
    "        df_out.to_excel(predction_output, index= False)\n",
    "        \n",
    "#         print(df_out)"
   ]
  },
  {
   "cell_type": "code",
   "execution_count": null,
   "id": "3a8c9525",
   "metadata": {},
   "outputs": [],
   "source": [
    "import pandas as pd\n",
    "import os\n",
    "import glob"
   ]
  },
  {
   "cell_type": "code",
   "execution_count": null,
   "id": "b0361c5b",
   "metadata": {},
   "outputs": [],
   "source": [
    "path = 'C:\\\\Users\\\\Ramshankar\\\\OneDrive - iLink Systems Inc\\\\Documents\\\\Demand forecasting-POC\\\\Notebooks\\\\Seasonality'\n",
    "out_files = glob.glob(os.path.join(path, \"*.xlsx\"))\n",
    "   \n",
    "dfs= []\n",
    "\n",
    "\n",
    "for f in out_files:\n",
    "    dfs.append(pd.read_excel(f))\n",
    "df_season=pd.concat(dfs, ignore_index=True)"
   ]
  },
  {
   "cell_type": "code",
   "execution_count": null,
   "id": "d756e7ff",
   "metadata": {},
   "outputs": [],
   "source": [
    "df_season"
   ]
  },
  {
   "cell_type": "code",
   "execution_count": null,
   "id": "c09d664b",
   "metadata": {},
   "outputs": [],
   "source": [
    "# df_season.to_excel('Seasonality_Additive_all.xlsx', index=False)"
   ]
  },
  {
   "cell_type": "markdown",
   "id": "1016ee26",
   "metadata": {},
   "source": [
    "### Modelling "
   ]
  },
  {
   "cell_type": "code",
   "execution_count": 20,
   "id": "3e64cc76",
   "metadata": {},
   "outputs": [],
   "source": [
    "import copy\n",
    "data_df= copy.deepcopy(data_filter)"
   ]
  },
  {
   "cell_type": "code",
   "execution_count": 21,
   "id": "374bcf65",
   "metadata": {},
   "outputs": [],
   "source": [
    "data_df2 = data_df[(data_df['store']== 'St1') & (data_df['item']== \"Lay's\")]"
   ]
  },
  {
   "cell_type": "code",
   "execution_count": 22,
   "id": "d5ad8bae",
   "metadata": {},
   "outputs": [
    {
     "data": {
      "text/html": [
       "<div>\n",
       "<style scoped>\n",
       "    .dataframe tbody tr th:only-of-type {\n",
       "        vertical-align: middle;\n",
       "    }\n",
       "\n",
       "    .dataframe tbody tr th {\n",
       "        vertical-align: top;\n",
       "    }\n",
       "\n",
       "    .dataframe thead th {\n",
       "        text-align: right;\n",
       "    }\n",
       "</style>\n",
       "<table border=\"1\" class=\"dataframe\">\n",
       "  <thead>\n",
       "    <tr style=\"text-align: right;\">\n",
       "      <th></th>\n",
       "      <th>date</th>\n",
       "      <th>store</th>\n",
       "      <th>item</th>\n",
       "      <th>sales</th>\n",
       "    </tr>\n",
       "  </thead>\n",
       "  <tbody>\n",
       "    <tr>\n",
       "      <th>127820</th>\n",
       "      <td>2013-01-01</td>\n",
       "      <td>St1</td>\n",
       "      <td>Lay's</td>\n",
       "      <td>33</td>\n",
       "    </tr>\n",
       "    <tr>\n",
       "      <th>127821</th>\n",
       "      <td>2013-01-02</td>\n",
       "      <td>St1</td>\n",
       "      <td>Lay's</td>\n",
       "      <td>37</td>\n",
       "    </tr>\n",
       "    <tr>\n",
       "      <th>127822</th>\n",
       "      <td>2013-01-03</td>\n",
       "      <td>St1</td>\n",
       "      <td>Lay's</td>\n",
       "      <td>38</td>\n",
       "    </tr>\n",
       "    <tr>\n",
       "      <th>127823</th>\n",
       "      <td>2013-01-04</td>\n",
       "      <td>St1</td>\n",
       "      <td>Lay's</td>\n",
       "      <td>54</td>\n",
       "    </tr>\n",
       "    <tr>\n",
       "      <th>127824</th>\n",
       "      <td>2013-01-05</td>\n",
       "      <td>St1</td>\n",
       "      <td>Lay's</td>\n",
       "      <td>51</td>\n",
       "    </tr>\n",
       "    <tr>\n",
       "      <th>...</th>\n",
       "      <td>...</td>\n",
       "      <td>...</td>\n",
       "      <td>...</td>\n",
       "      <td>...</td>\n",
       "    </tr>\n",
       "    <tr>\n",
       "      <th>129641</th>\n",
       "      <td>2017-12-27</td>\n",
       "      <td>St1</td>\n",
       "      <td>Lay's</td>\n",
       "      <td>58</td>\n",
       "    </tr>\n",
       "    <tr>\n",
       "      <th>129642</th>\n",
       "      <td>2017-12-28</td>\n",
       "      <td>St1</td>\n",
       "      <td>Lay's</td>\n",
       "      <td>49</td>\n",
       "    </tr>\n",
       "    <tr>\n",
       "      <th>129643</th>\n",
       "      <td>2017-12-29</td>\n",
       "      <td>St1</td>\n",
       "      <td>Lay's</td>\n",
       "      <td>54</td>\n",
       "    </tr>\n",
       "    <tr>\n",
       "      <th>129644</th>\n",
       "      <td>2017-12-30</td>\n",
       "      <td>St1</td>\n",
       "      <td>Lay's</td>\n",
       "      <td>75</td>\n",
       "    </tr>\n",
       "    <tr>\n",
       "      <th>129645</th>\n",
       "      <td>2017-12-31</td>\n",
       "      <td>St1</td>\n",
       "      <td>Lay's</td>\n",
       "      <td>62</td>\n",
       "    </tr>\n",
       "  </tbody>\n",
       "</table>\n",
       "<p>1826 rows × 4 columns</p>\n",
       "</div>"
      ],
      "text/plain": [
       "             date store   item  sales\n",
       "127820 2013-01-01   St1  Lay's     33\n",
       "127821 2013-01-02   St1  Lay's     37\n",
       "127822 2013-01-03   St1  Lay's     38\n",
       "127823 2013-01-04   St1  Lay's     54\n",
       "127824 2013-01-05   St1  Lay's     51\n",
       "...           ...   ...    ...    ...\n",
       "129641 2017-12-27   St1  Lay's     58\n",
       "129642 2017-12-28   St1  Lay's     49\n",
       "129643 2017-12-29   St1  Lay's     54\n",
       "129644 2017-12-30   St1  Lay's     75\n",
       "129645 2017-12-31   St1  Lay's     62\n",
       "\n",
       "[1826 rows x 4 columns]"
      ]
     },
     "execution_count": 22,
     "metadata": {},
     "output_type": "execute_result"
    }
   ],
   "source": [
    "data_df2"
   ]
  },
  {
   "cell_type": "code",
   "execution_count": 25,
   "id": "b1c83157",
   "metadata": {},
   "outputs": [],
   "source": [
    "data_df2= data_df2.set_index('date')"
   ]
  },
  {
   "cell_type": "code",
   "execution_count": 26,
   "id": "1e0b23f6",
   "metadata": {},
   "outputs": [
    {
     "data": {
      "text/html": [
       "<div>\n",
       "<style scoped>\n",
       "    .dataframe tbody tr th:only-of-type {\n",
       "        vertical-align: middle;\n",
       "    }\n",
       "\n",
       "    .dataframe tbody tr th {\n",
       "        vertical-align: top;\n",
       "    }\n",
       "\n",
       "    .dataframe thead th {\n",
       "        text-align: right;\n",
       "    }\n",
       "</style>\n",
       "<table border=\"1\" class=\"dataframe\">\n",
       "  <thead>\n",
       "    <tr style=\"text-align: right;\">\n",
       "      <th></th>\n",
       "      <th>store</th>\n",
       "      <th>item</th>\n",
       "      <th>sales</th>\n",
       "    </tr>\n",
       "    <tr>\n",
       "      <th>date</th>\n",
       "      <th></th>\n",
       "      <th></th>\n",
       "      <th></th>\n",
       "    </tr>\n",
       "  </thead>\n",
       "  <tbody>\n",
       "    <tr>\n",
       "      <th>2013-01-01</th>\n",
       "      <td>St1</td>\n",
       "      <td>Lay's</td>\n",
       "      <td>33</td>\n",
       "    </tr>\n",
       "    <tr>\n",
       "      <th>2013-01-02</th>\n",
       "      <td>St1</td>\n",
       "      <td>Lay's</td>\n",
       "      <td>37</td>\n",
       "    </tr>\n",
       "    <tr>\n",
       "      <th>2013-01-03</th>\n",
       "      <td>St1</td>\n",
       "      <td>Lay's</td>\n",
       "      <td>38</td>\n",
       "    </tr>\n",
       "    <tr>\n",
       "      <th>2013-01-04</th>\n",
       "      <td>St1</td>\n",
       "      <td>Lay's</td>\n",
       "      <td>54</td>\n",
       "    </tr>\n",
       "    <tr>\n",
       "      <th>2013-01-05</th>\n",
       "      <td>St1</td>\n",
       "      <td>Lay's</td>\n",
       "      <td>51</td>\n",
       "    </tr>\n",
       "    <tr>\n",
       "      <th>...</th>\n",
       "      <td>...</td>\n",
       "      <td>...</td>\n",
       "      <td>...</td>\n",
       "    </tr>\n",
       "    <tr>\n",
       "      <th>2017-12-27</th>\n",
       "      <td>St1</td>\n",
       "      <td>Lay's</td>\n",
       "      <td>58</td>\n",
       "    </tr>\n",
       "    <tr>\n",
       "      <th>2017-12-28</th>\n",
       "      <td>St1</td>\n",
       "      <td>Lay's</td>\n",
       "      <td>49</td>\n",
       "    </tr>\n",
       "    <tr>\n",
       "      <th>2017-12-29</th>\n",
       "      <td>St1</td>\n",
       "      <td>Lay's</td>\n",
       "      <td>54</td>\n",
       "    </tr>\n",
       "    <tr>\n",
       "      <th>2017-12-30</th>\n",
       "      <td>St1</td>\n",
       "      <td>Lay's</td>\n",
       "      <td>75</td>\n",
       "    </tr>\n",
       "    <tr>\n",
       "      <th>2017-12-31</th>\n",
       "      <td>St1</td>\n",
       "      <td>Lay's</td>\n",
       "      <td>62</td>\n",
       "    </tr>\n",
       "  </tbody>\n",
       "</table>\n",
       "<p>1826 rows × 3 columns</p>\n",
       "</div>"
      ],
      "text/plain": [
       "           store   item  sales\n",
       "date                          \n",
       "2013-01-01   St1  Lay's     33\n",
       "2013-01-02   St1  Lay's     37\n",
       "2013-01-03   St1  Lay's     38\n",
       "2013-01-04   St1  Lay's     54\n",
       "2013-01-05   St1  Lay's     51\n",
       "...          ...    ...    ...\n",
       "2017-12-27   St1  Lay's     58\n",
       "2017-12-28   St1  Lay's     49\n",
       "2017-12-29   St1  Lay's     54\n",
       "2017-12-30   St1  Lay's     75\n",
       "2017-12-31   St1  Lay's     62\n",
       "\n",
       "[1826 rows x 3 columns]"
      ]
     },
     "execution_count": 26,
     "metadata": {},
     "output_type": "execute_result"
    }
   ],
   "source": [
    "data_df2"
   ]
  },
  {
   "cell_type": "code",
   "execution_count": 27,
   "id": "cdfbfbba",
   "metadata": {},
   "outputs": [],
   "source": [
    "# # Import the library\n",
    "# from pmdarima import auto_arima\n",
    "  \n",
    "# # Ignore harmless warnings\n",
    "# import warnings\n",
    "# warnings.filterwarnings(\"ignore\")"
   ]
  },
  {
   "cell_type": "code",
   "execution_count": 28,
   "id": "e7e272ff",
   "metadata": {},
   "outputs": [
    {
     "name": "stdout",
     "output_type": "stream",
     "text": [
      "Performing stepwise search to minimize aic\n",
      " ARIMA(1,0,1)(0,1,1)[12] intercept   : AIC=inf, Time=11.80 sec\n",
      " ARIMA(0,0,0)(0,1,0)[12] intercept   : AIC=15799.873, Time=0.21 sec\n",
      " ARIMA(1,0,0)(1,1,0)[12] intercept   : AIC=15372.020, Time=2.13 sec\n",
      " ARIMA(0,0,1)(0,1,1)[12] intercept   : AIC=15076.888, Time=2.99 sec\n",
      " ARIMA(0,0,0)(0,1,0)[12]             : AIC=15797.966, Time=0.14 sec\n",
      " ARIMA(0,0,1)(0,1,0)[12] intercept   : AIC=15701.909, Time=0.89 sec\n",
      " ARIMA(0,0,1)(1,1,1)[12] intercept   : AIC=inf, Time=8.80 sec\n",
      " ARIMA(0,0,1)(0,1,2)[12] intercept   : AIC=15067.934, Time=5.86 sec\n",
      " ARIMA(0,0,1)(1,1,2)[12] intercept   : AIC=15051.119, Time=12.92 sec\n",
      " ARIMA(0,0,1)(2,1,2)[12] intercept   : AIC=inf, Time=22.01 sec\n",
      " ARIMA(0,0,1)(2,1,1)[12] intercept   : AIC=inf, Time=18.18 sec\n",
      " ARIMA(0,0,0)(1,1,2)[12] intercept   : AIC=15174.450, Time=7.49 sec\n",
      " ARIMA(1,0,1)(1,1,2)[12] intercept   : AIC=inf, Time=25.49 sec\n",
      " ARIMA(0,0,2)(1,1,2)[12] intercept   : AIC=inf, Time=25.00 sec\n",
      " ARIMA(1,0,0)(1,1,2)[12] intercept   : AIC=inf, Time=16.58 sec\n",
      " ARIMA(1,0,2)(1,1,2)[12] intercept   : AIC=inf, Time=28.26 sec\n",
      " ARIMA(0,0,1)(1,1,2)[12]             : AIC=15050.727, Time=7.77 sec\n",
      " ARIMA(0,0,1)(0,1,2)[12]             : AIC=15067.872, Time=2.94 sec\n",
      " ARIMA(0,0,1)(1,1,1)[12]             : AIC=inf, Time=3.32 sec\n",
      " ARIMA(0,0,1)(2,1,2)[12]             : AIC=inf, Time=14.19 sec\n",
      " ARIMA(0,0,1)(0,1,1)[12]             : AIC=15076.332, Time=1.19 sec\n",
      " ARIMA(0,0,1)(2,1,1)[12]             : AIC=inf, Time=6.68 sec\n",
      " ARIMA(0,0,0)(1,1,2)[12]             : AIC=15173.956, Time=4.91 sec\n",
      " ARIMA(1,0,1)(1,1,2)[12]             : AIC=inf, Time=20.68 sec\n",
      " ARIMA(0,0,2)(1,1,2)[12]             : AIC=inf, Time=17.18 sec\n",
      " ARIMA(1,0,0)(1,1,2)[12]             : AIC=inf, Time=8.28 sec\n",
      " ARIMA(1,0,2)(1,1,2)[12]             : AIC=inf, Time=25.84 sec\n",
      "\n",
      "Best model:  ARIMA(0,0,1)(1,1,2)[12]          \n",
      "Total fit time: 301.764 seconds\n"
     ]
    },
    {
     "data": {
      "text/html": [
       "<table class=\"simpletable\">\n",
       "<caption>SARIMAX Results</caption>\n",
       "<tr>\n",
       "  <th>Dep. Variable:</th>                    <td>y</td>                  <th>  No. Observations:  </th>   <td>1826</td>   \n",
       "</tr>\n",
       "<tr>\n",
       "  <th>Model:</th>           <td>SARIMAX(0, 0, 1)x(1, 1, [1, 2], 12)</td> <th>  Log Likelihood     </th> <td>-7520.364</td>\n",
       "</tr>\n",
       "<tr>\n",
       "  <th>Date:</th>                     <td>Mon, 26 Jun 2023</td>           <th>  AIC                </th> <td>15050.727</td>\n",
       "</tr>\n",
       "<tr>\n",
       "  <th>Time:</th>                         <td>16:26:38</td>               <th>  BIC                </th> <td>15078.244</td>\n",
       "</tr>\n",
       "<tr>\n",
       "  <th>Sample:</th>                      <td>01-01-2013</td>              <th>  HQIC               </th> <td>15060.881</td>\n",
       "</tr>\n",
       "<tr>\n",
       "  <th></th>                            <td>- 12-31-2017</td>             <th>                     </th>     <td> </td>    \n",
       "</tr>\n",
       "<tr>\n",
       "  <th>Covariance Type:</th>                 <td>opg</td>                 <th>                     </th>     <td> </td>    \n",
       "</tr>\n",
       "</table>\n",
       "<table class=\"simpletable\">\n",
       "<tr>\n",
       "      <td></td>        <th>coef</th>     <th>std err</th>      <th>z</th>      <th>P>|z|</th>  <th>[0.025</th>    <th>0.975]</th>  \n",
       "</tr>\n",
       "<tr>\n",
       "  <th>ma.L1</th>    <td>    0.2455</td> <td>    0.024</td> <td>   10.166</td> <td> 0.000</td> <td>    0.198</td> <td>    0.293</td>\n",
       "</tr>\n",
       "<tr>\n",
       "  <th>ar.S.L12</th> <td>   -0.7865</td> <td>    0.061</td> <td>  -12.863</td> <td> 0.000</td> <td>   -0.906</td> <td>   -0.667</td>\n",
       "</tr>\n",
       "<tr>\n",
       "  <th>ma.S.L12</th> <td>    0.1531</td> <td>    0.057</td> <td>    2.708</td> <td> 0.007</td> <td>    0.042</td> <td>    0.264</td>\n",
       "</tr>\n",
       "<tr>\n",
       "  <th>ma.S.L24</th> <td>   -0.6216</td> <td>    0.034</td> <td>  -18.163</td> <td> 0.000</td> <td>   -0.689</td> <td>   -0.554</td>\n",
       "</tr>\n",
       "<tr>\n",
       "  <th>sigma2</th>   <td>  232.5088</td> <td>    8.331</td> <td>   27.908</td> <td> 0.000</td> <td>  216.180</td> <td>  248.837</td>\n",
       "</tr>\n",
       "</table>\n",
       "<table class=\"simpletable\">\n",
       "<tr>\n",
       "  <th>Ljung-Box (L1) (Q):</th>     <td>2.76</td> <th>  Jarque-Bera (JB):  </th> <td>6.86</td>\n",
       "</tr>\n",
       "<tr>\n",
       "  <th>Prob(Q):</th>                <td>0.10</td> <th>  Prob(JB):          </th> <td>0.03</td>\n",
       "</tr>\n",
       "<tr>\n",
       "  <th>Heteroskedasticity (H):</th> <td>1.34</td> <th>  Skew:              </th> <td>0.06</td>\n",
       "</tr>\n",
       "<tr>\n",
       "  <th>Prob(H) (two-sided):</th>    <td>0.00</td> <th>  Kurtosis:          </th> <td>2.72</td>\n",
       "</tr>\n",
       "</table><br/><br/>Warnings:<br/>[1] Covariance matrix calculated using the outer product of gradients (complex-step)."
      ],
      "text/plain": [
       "<class 'statsmodels.iolib.summary.Summary'>\n",
       "\"\"\"\n",
       "                                        SARIMAX Results                                        \n",
       "===============================================================================================\n",
       "Dep. Variable:                                       y   No. Observations:                 1826\n",
       "Model:             SARIMAX(0, 0, 1)x(1, 1, [1, 2], 12)   Log Likelihood               -7520.364\n",
       "Date:                                 Mon, 26 Jun 2023   AIC                          15050.727\n",
       "Time:                                         16:26:38   BIC                          15078.244\n",
       "Sample:                                     01-01-2013   HQIC                         15060.881\n",
       "                                          - 12-31-2017                                         \n",
       "Covariance Type:                                   opg                                         \n",
       "==============================================================================\n",
       "                 coef    std err          z      P>|z|      [0.025      0.975]\n",
       "------------------------------------------------------------------------------\n",
       "ma.L1          0.2455      0.024     10.166      0.000       0.198       0.293\n",
       "ar.S.L12      -0.7865      0.061    -12.863      0.000      -0.906      -0.667\n",
       "ma.S.L12       0.1531      0.057      2.708      0.007       0.042       0.264\n",
       "ma.S.L24      -0.6216      0.034    -18.163      0.000      -0.689      -0.554\n",
       "sigma2       232.5088      8.331     27.908      0.000     216.180     248.837\n",
       "===================================================================================\n",
       "Ljung-Box (L1) (Q):                   2.76   Jarque-Bera (JB):                 6.86\n",
       "Prob(Q):                              0.10   Prob(JB):                         0.03\n",
       "Heteroskedasticity (H):               1.34   Skew:                             0.06\n",
       "Prob(H) (two-sided):                  0.00   Kurtosis:                         2.72\n",
       "===================================================================================\n",
       "\n",
       "Warnings:\n",
       "[1] Covariance matrix calculated using the outer product of gradients (complex-step).\n",
       "\"\"\""
      ]
     },
     "execution_count": 28,
     "metadata": {},
     "output_type": "execute_result"
    }
   ],
   "source": [
    "# # Fit auto_arima function to df dataset\n",
    "\n",
    "# stepwise_fit = auto_arima(data_df2['sales'], start_p = 1, start_q = 1,\n",
    "#                           max_p = 3, max_q = 3, m = 12,\n",
    "#                           start_P = 0, seasonal = True,\n",
    "#                           d = None, D = 1, trace = True,\n",
    "#                           error_action ='ignore',   # we don't want to know if an order does not work\n",
    "#                           suppress_warnings = True,  # we don't want convergence warnings\n",
    "#                           stepwise = True)           # set to stepwise\n",
    "  \n",
    "# # To print the summary\n",
    "# stepwise_fit.summary()"
   ]
  },
  {
   "cell_type": "markdown",
   "id": "f94bed33",
   "metadata": {},
   "source": [
    "### ARIMA Model"
   ]
  },
  {
   "cell_type": "code",
   "execution_count": 162,
   "id": "14658d05",
   "metadata": {},
   "outputs": [],
   "source": [
    "data_df2= data_df2.set_index('date')"
   ]
  },
  {
   "cell_type": "code",
   "execution_count": 163,
   "id": "c6b9cda2",
   "metadata": {},
   "outputs": [],
   "source": [
    "from statsmodels.tsa.arima.model import ARIMA\n"
   ]
  },
  {
   "cell_type": "code",
   "execution_count": 164,
   "id": "5a4c981f",
   "metadata": {},
   "outputs": [
    {
     "data": {
      "text/plain": [
       "1826"
      ]
     },
     "execution_count": 164,
     "metadata": {},
     "output_type": "execute_result"
    }
   ],
   "source": [
    "len(data_df2)"
   ]
  },
  {
   "cell_type": "code",
   "execution_count": 165,
   "id": "d3620099",
   "metadata": {},
   "outputs": [
    {
     "data": {
      "text/plain": [
       "1460.8000000000002"
      ]
     },
     "execution_count": 165,
     "metadata": {},
     "output_type": "execute_result"
    }
   ],
   "source": [
    "1826*0.8"
   ]
  },
  {
   "cell_type": "code",
   "execution_count": 166,
   "id": "03ddf3f7",
   "metadata": {},
   "outputs": [],
   "source": [
    "# Split data into train / test sets\n",
    "train = data_df2.iloc[:len(data_df2)-366]\n",
    "test = data_df2.iloc[len(data_df2)-366:]"
   ]
  },
  {
   "cell_type": "code",
   "execution_count": 167,
   "id": "5ef94c9f",
   "metadata": {},
   "outputs": [
    {
     "data": {
      "text/plain": [
       "1460"
      ]
     },
     "execution_count": 167,
     "metadata": {},
     "output_type": "execute_result"
    }
   ],
   "source": [
    "len(train)"
   ]
  },
  {
   "cell_type": "code",
   "execution_count": 168,
   "id": "3531ae08",
   "metadata": {},
   "outputs": [
    {
     "data": {
      "text/plain": [
       "366"
      ]
     },
     "execution_count": 168,
     "metadata": {},
     "output_type": "execute_result"
    }
   ],
   "source": [
    "len(test)"
   ]
  },
  {
   "cell_type": "code",
   "execution_count": 169,
   "id": "111f01bc",
   "metadata": {},
   "outputs": [
    {
     "data": {
      "text/html": [
       "<table class=\"simpletable\">\n",
       "<caption>SARIMAX Results</caption>\n",
       "<tr>\n",
       "  <th>Dep. Variable:</th>         <td>sales</td>      <th>  No. Observations:  </th>   <td>1460</td>   \n",
       "</tr>\n",
       "<tr>\n",
       "  <th>Model:</th>            <td>ARIMA(2, 1, 0)</td>  <th>  Log Likelihood     </th> <td>-5966.481</td>\n",
       "</tr>\n",
       "<tr>\n",
       "  <th>Date:</th>            <td>Mon, 26 Jun 2023</td> <th>  AIC                </th> <td>11938.962</td>\n",
       "</tr>\n",
       "<tr>\n",
       "  <th>Time:</th>                <td>17:28:22</td>     <th>  BIC                </th> <td>11954.819</td>\n",
       "</tr>\n",
       "<tr>\n",
       "  <th>Sample:</th>             <td>01-01-2013</td>    <th>  HQIC               </th> <td>11944.878</td>\n",
       "</tr>\n",
       "<tr>\n",
       "  <th></th>                   <td>- 12-30-2016</td>   <th>                     </th>     <td> </td>    \n",
       "</tr>\n",
       "<tr>\n",
       "  <th>Covariance Type:</th>        <td>opg</td>       <th>                     </th>     <td> </td>    \n",
       "</tr>\n",
       "</table>\n",
       "<table class=\"simpletable\">\n",
       "<tr>\n",
       "     <td></td>       <th>coef</th>     <th>std err</th>      <th>z</th>      <th>P>|z|</th>  <th>[0.025</th>    <th>0.975]</th>  \n",
       "</tr>\n",
       "<tr>\n",
       "  <th>ar.L1</th>  <td>   -0.5229</td> <td>    0.028</td> <td>  -18.788</td> <td> 0.000</td> <td>   -0.577</td> <td>   -0.468</td>\n",
       "</tr>\n",
       "<tr>\n",
       "  <th>ar.L2</th>  <td>   -0.2071</td> <td>    0.029</td> <td>   -7.075</td> <td> 0.000</td> <td>   -0.265</td> <td>   -0.150</td>\n",
       "</tr>\n",
       "<tr>\n",
       "  <th>sigma2</th> <td>  208.6726</td> <td>    7.331</td> <td>   28.466</td> <td> 0.000</td> <td>  194.305</td> <td>  223.040</td>\n",
       "</tr>\n",
       "</table>\n",
       "<table class=\"simpletable\">\n",
       "<tr>\n",
       "  <th>Ljung-Box (L1) (Q):</th>     <td>2.45</td> <th>  Jarque-Bera (JB):  </th> <td>109.32</td>\n",
       "</tr>\n",
       "<tr>\n",
       "  <th>Prob(Q):</th>                <td>0.12</td> <th>  Prob(JB):          </th>  <td>0.00</td> \n",
       "</tr>\n",
       "<tr>\n",
       "  <th>Heteroskedasticity (H):</th> <td>1.32</td> <th>  Skew:              </th>  <td>-0.63</td>\n",
       "</tr>\n",
       "<tr>\n",
       "  <th>Prob(H) (two-sided):</th>    <td>0.00</td> <th>  Kurtosis:          </th>  <td>3.46</td> \n",
       "</tr>\n",
       "</table><br/><br/>Warnings:<br/>[1] Covariance matrix calculated using the outer product of gradients (complex-step)."
      ],
      "text/plain": [
       "<class 'statsmodels.iolib.summary.Summary'>\n",
       "\"\"\"\n",
       "                               SARIMAX Results                                \n",
       "==============================================================================\n",
       "Dep. Variable:                  sales   No. Observations:                 1460\n",
       "Model:                 ARIMA(2, 1, 0)   Log Likelihood               -5966.481\n",
       "Date:                Mon, 26 Jun 2023   AIC                          11938.962\n",
       "Time:                        17:28:22   BIC                          11954.819\n",
       "Sample:                    01-01-2013   HQIC                         11944.878\n",
       "                         - 12-30-2016                                         \n",
       "Covariance Type:                  opg                                         \n",
       "==============================================================================\n",
       "                 coef    std err          z      P>|z|      [0.025      0.975]\n",
       "------------------------------------------------------------------------------\n",
       "ar.L1         -0.5229      0.028    -18.788      0.000      -0.577      -0.468\n",
       "ar.L2         -0.2071      0.029     -7.075      0.000      -0.265      -0.150\n",
       "sigma2       208.6726      7.331     28.466      0.000     194.305     223.040\n",
       "===================================================================================\n",
       "Ljung-Box (L1) (Q):                   2.45   Jarque-Bera (JB):               109.32\n",
       "Prob(Q):                              0.12   Prob(JB):                         0.00\n",
       "Heteroskedasticity (H):               1.32   Skew:                            -0.63\n",
       "Prob(H) (two-sided):                  0.00   Kurtosis:                         3.46\n",
       "===================================================================================\n",
       "\n",
       "Warnings:\n",
       "[1] Covariance matrix calculated using the outer product of gradients (complex-step).\n",
       "\"\"\""
      ]
     },
     "execution_count": 169,
     "metadata": {},
     "output_type": "execute_result"
    }
   ],
   "source": [
    "model = ARIMA(train['sales'], \n",
    "                order = (2, 1, 0))\n",
    "  \n",
    "result = model.fit()\n",
    "result.summary()"
   ]
  },
  {
   "cell_type": "code",
   "execution_count": 170,
   "id": "8cb5cfd2",
   "metadata": {},
   "outputs": [
    {
     "data": {
      "text/plain": [
       "<AxesSubplot:xlabel='date'>"
      ]
     },
     "execution_count": 170,
     "metadata": {},
     "output_type": "execute_result"
    },
    {
     "data": {
      "image/png": "[encoded data removed]",
      "text/plain": [
       "<Figure size 864x360 with 1 Axes>"
      ]
     },
     "metadata": {
      "needs_background": "light"
     },
     "output_type": "display_data"
    }
   ],
   "source": [
    "start = 1\n",
    "end1 = len(train) + len(test)\n",
    "\n",
    "  \n",
    "# Predictions for one-year against the test set\n",
    "predictions = result.predict(start=1461, end= 1826,\n",
    "                             typ = 'levels').rename(\"Predictions\")\n",
    "  \n",
    "# plot predictions and actual values\n",
    "predictions.plot(legend = True)\n",
    "train['sales'].plot(figsize = (12, 5), legend = True)\n",
    "# test['sales'].plot(figsize = (12, 5), legend = True)"
   ]
  },
  {
   "cell_type": "code",
   "execution_count": 171,
   "id": "600792f9",
   "metadata": {},
   "outputs": [
    {
     "data": {
      "text/plain": [
       "2017-01-01    60.249473\n",
       "2017-01-02    61.368315\n",
       "2017-01-03    60.599921\n",
       "2017-01-04    60.769923\n",
       "2017-01-05    60.840206\n",
       "                ...    \n",
       "2017-12-28    60.790193\n",
       "2017-12-29    60.790193\n",
       "2017-12-30    60.790193\n",
       "2017-12-31    60.790193\n",
       "2018-01-01    60.790193\n",
       "Freq: D, Name: Predictions, Length: 366, dtype: float64"
      ]
     },
     "execution_count": 171,
     "metadata": {},
     "output_type": "execute_result"
    }
   ],
   "source": [
    "predictions"
   ]
  },
  {
   "cell_type": "code",
   "execution_count": 172,
   "id": "029b9fa3",
   "metadata": {},
   "outputs": [],
   "source": [
    "## Importing liberaries \n",
    "\n",
    "from sklearn.metrics import mean_squared_error, r2_score, mean_absolute_error, mean_absolute_percentage_error\n",
    "\n",
    "import math \n"
   ]
  },
  {
   "cell_type": "code",
   "execution_count": 173,
   "id": "76d1104a",
   "metadata": {},
   "outputs": [
    {
     "data": {
      "text/plain": [
       "691.4008119588817"
      ]
     },
     "execution_count": 173,
     "metadata": {},
     "output_type": "execute_result"
    }
   ],
   "source": [
    "#MSE\n",
    "\n",
    "mean_squared_error(test['sales'], predictions.values)"
   ]
  },
  {
   "cell_type": "code",
   "execution_count": 174,
   "id": "4ccfaa52",
   "metadata": {},
   "outputs": [
    {
     "data": {
      "text/plain": [
       "26.29450155372567"
      ]
     },
     "execution_count": 174,
     "metadata": {},
     "output_type": "execute_result"
    }
   ],
   "source": [
    "#RMSE\n",
    "\n",
    "math.sqrt(mean_squared_error(test['sales'], predictions.values))"
   ]
  },
  {
   "cell_type": "code",
   "execution_count": 175,
   "id": "54ef01c5",
   "metadata": {},
   "outputs": [
    {
     "name": "stdout",
     "output_type": "stream",
     "text": [
      "MAPE_Score: 0.25\n"
     ]
    }
   ],
   "source": [
    "#MAPE\n",
    "MAPE_Score= mean_absolute_percentage_error(test['sales'], predictions.values).round(2)\n",
    "print('MAPE_Score:', MAPE_Score)\n",
    "\n"
   ]
  },
  {
   "cell_type": "code",
   "execution_count": null,
   "id": "8e0f404c",
   "metadata": {},
   "outputs": [],
   "source": []
  },
  {
   "cell_type": "markdown",
   "id": "2710f808",
   "metadata": {},
   "source": [
    "### Sarima Model "
   ]
  },
  {
   "cell_type": "code",
   "execution_count": 177,
   "id": "c73b5ad9",
   "metadata": {},
   "outputs": [],
   "source": [
    "# data_df2= data_df2.set_index('date')\n",
    "\n",
    "# Split data into train / test sets\n",
    "train = data_df2.iloc[:len(data_df2)-366]\n",
    "test = data_df2.iloc[len(data_df2)-366:]"
   ]
  },
  {
   "cell_type": "code",
   "execution_count": 178,
   "id": "621c1d6b",
   "metadata": {},
   "outputs": [],
   "source": [
    "from statsmodels.tsa.statespace.sarimax import SARIMAX"
   ]
  },
  {
   "cell_type": "code",
   "execution_count": 179,
   "id": "5c3b9459",
   "metadata": {},
   "outputs": [],
   "source": [
    "# Train the model on the full dataset\n",
    "model_sr = SARIMAX(train['sales'], \n",
    "                        order = (0, 1, 2), \n",
    "                        seasonal_order =(1, 1, 2, 12))\n",
    "result_sr = model_sr.fit()\n",
    "#   ARIMA(0,0,1)(1,1,2)[12]  "
   ]
  },
  {
   "cell_type": "code",
   "execution_count": 188,
   "id": "cb877f75",
   "metadata": {},
   "outputs": [
    {
     "data": {
      "text/plain": [
       "<AxesSubplot:xlabel='date'>"
      ]
     },
     "execution_count": 188,
     "metadata": {},
     "output_type": "execute_result"
    },
    {
     "data": {
      "image/png": "[encoded data removed]",
      "text/plain": [
       "<Figure size 864x360 with 1 Axes>"
      ]
     },
     "metadata": {
      "needs_background": "light"
     },
     "output_type": "display_data"
    }
   ],
   "source": [
    "# Forecast for the next 3 years\n",
    "forecast_sr = result_sr.predict(start = (len(train)+1), \n",
    "                          end = (len(data_df2)), \n",
    "                          typ = 'levels').rename('Forecast')\n",
    "  \n",
    "# Plot the forecast values\n",
    "train['sales'].plot(figsize = (12, 5), legend = True)\n",
    "forecast_sr.plot(legend = True)"
   ]
  },
  {
   "cell_type": "code",
   "execution_count": 189,
   "id": "78558c72",
   "metadata": {
    "scrolled": true
   },
   "outputs": [
    {
     "data": {
      "text/plain": [
       "634.1646691048553"
      ]
     },
     "execution_count": 189,
     "metadata": {},
     "output_type": "execute_result"
    }
   ],
   "source": [
    "#MSE\n",
    "\n",
    "mean_squared_error(test['sales'], forecast_sr.values)"
   ]
  },
  {
   "cell_type": "code",
   "execution_count": 190,
   "id": "7a9ac98d",
   "metadata": {},
   "outputs": [
    {
     "data": {
      "text/plain": [
       "25.182626334535787"
      ]
     },
     "execution_count": 190,
     "metadata": {},
     "output_type": "execute_result"
    }
   ],
   "source": [
    "#RMSE\n",
    "\n",
    "math.sqrt(mean_squared_error(test['sales'], forecast_sr.values))"
   ]
  },
  {
   "cell_type": "code",
   "execution_count": 191,
   "id": "ac488b7f",
   "metadata": {},
   "outputs": [
    {
     "name": "stdout",
     "output_type": "stream",
     "text": [
      "MAPE_Score: 0.24\n"
     ]
    }
   ],
   "source": [
    "#MAPE\n",
    "MAPE_Score= mean_absolute_percentage_error(test['sales'], forecast_sr.values).round(2)\n",
    "print('MAPE_Score:', MAPE_Score)\n",
    "\n"
   ]
  },
  {
   "cell_type": "code",
   "execution_count": null,
   "id": "229b60ce",
   "metadata": {},
   "outputs": [],
   "source": []
  },
  {
   "cell_type": "markdown",
   "id": "00119b76",
   "metadata": {},
   "source": [
    "### Holt Winter Model "
   ]
  },
  {
   "cell_type": "code",
   "execution_count": null,
   "id": "01a1a662",
   "metadata": {},
   "outputs": [],
   "source": [
    "# data_df2= data_df2.set_index('date')\n",
    "\n",
    "# Split data into train / test sets\n",
    "train = data_df2.iloc[:len(data_df2)-366]\n",
    "test = data_df2.iloc[len(data_df2)-366:]"
   ]
  },
  {
   "cell_type": "code",
   "execution_count": 192,
   "id": "5e31eefe",
   "metadata": {},
   "outputs": [
    {
     "data": {
      "text/html": [
       "<div>\n",
       "<style scoped>\n",
       "    .dataframe tbody tr th:only-of-type {\n",
       "        vertical-align: middle;\n",
       "    }\n",
       "\n",
       "    .dataframe tbody tr th {\n",
       "        vertical-align: top;\n",
       "    }\n",
       "\n",
       "    .dataframe thead th {\n",
       "        text-align: right;\n",
       "    }\n",
       "</style>\n",
       "<table border=\"1\" class=\"dataframe\">\n",
       "  <thead>\n",
       "    <tr style=\"text-align: right;\">\n",
       "      <th></th>\n",
       "      <th>store</th>\n",
       "      <th>item</th>\n",
       "      <th>sales</th>\n",
       "    </tr>\n",
       "    <tr>\n",
       "      <th>date</th>\n",
       "      <th></th>\n",
       "      <th></th>\n",
       "      <th></th>\n",
       "    </tr>\n",
       "  </thead>\n",
       "  <tbody>\n",
       "    <tr>\n",
       "      <th>2013-01-01</th>\n",
       "      <td>St1</td>\n",
       "      <td>Lay's</td>\n",
       "      <td>33</td>\n",
       "    </tr>\n",
       "    <tr>\n",
       "      <th>2013-01-02</th>\n",
       "      <td>St1</td>\n",
       "      <td>Lay's</td>\n",
       "      <td>37</td>\n",
       "    </tr>\n",
       "    <tr>\n",
       "      <th>2013-01-03</th>\n",
       "      <td>St1</td>\n",
       "      <td>Lay's</td>\n",
       "      <td>38</td>\n",
       "    </tr>\n",
       "    <tr>\n",
       "      <th>2013-01-04</th>\n",
       "      <td>St1</td>\n",
       "      <td>Lay's</td>\n",
       "      <td>54</td>\n",
       "    </tr>\n",
       "    <tr>\n",
       "      <th>2013-01-05</th>\n",
       "      <td>St1</td>\n",
       "      <td>Lay's</td>\n",
       "      <td>51</td>\n",
       "    </tr>\n",
       "    <tr>\n",
       "      <th>...</th>\n",
       "      <td>...</td>\n",
       "      <td>...</td>\n",
       "      <td>...</td>\n",
       "    </tr>\n",
       "    <tr>\n",
       "      <th>2017-12-27</th>\n",
       "      <td>St1</td>\n",
       "      <td>Lay's</td>\n",
       "      <td>58</td>\n",
       "    </tr>\n",
       "    <tr>\n",
       "      <th>2017-12-28</th>\n",
       "      <td>St1</td>\n",
       "      <td>Lay's</td>\n",
       "      <td>49</td>\n",
       "    </tr>\n",
       "    <tr>\n",
       "      <th>2017-12-29</th>\n",
       "      <td>St1</td>\n",
       "      <td>Lay's</td>\n",
       "      <td>54</td>\n",
       "    </tr>\n",
       "    <tr>\n",
       "      <th>2017-12-30</th>\n",
       "      <td>St1</td>\n",
       "      <td>Lay's</td>\n",
       "      <td>75</td>\n",
       "    </tr>\n",
       "    <tr>\n",
       "      <th>2017-12-31</th>\n",
       "      <td>St1</td>\n",
       "      <td>Lay's</td>\n",
       "      <td>62</td>\n",
       "    </tr>\n",
       "  </tbody>\n",
       "</table>\n",
       "<p>1826 rows × 3 columns</p>\n",
       "</div>"
      ],
      "text/plain": [
       "           store   item  sales\n",
       "date                          \n",
       "2013-01-01   St1  Lay's     33\n",
       "2013-01-02   St1  Lay's     37\n",
       "2013-01-03   St1  Lay's     38\n",
       "2013-01-04   St1  Lay's     54\n",
       "2013-01-05   St1  Lay's     51\n",
       "...          ...    ...    ...\n",
       "2017-12-27   St1  Lay's     58\n",
       "2017-12-28   St1  Lay's     49\n",
       "2017-12-29   St1  Lay's     54\n",
       "2017-12-30   St1  Lay's     75\n",
       "2017-12-31   St1  Lay's     62\n",
       "\n",
       "[1826 rows x 3 columns]"
      ]
     },
     "execution_count": 192,
     "metadata": {},
     "output_type": "execute_result"
    }
   ],
   "source": [
    "data_df2"
   ]
  },
  {
   "cell_type": "code",
   "execution_count": 193,
   "id": "32750ab3",
   "metadata": {},
   "outputs": [],
   "source": [
    "from statsmodels.tsa.holtwinters import ExponentialSmoothing"
   ]
  },
  {
   "cell_type": "code",
   "execution_count": 194,
   "id": "fcf40ed6",
   "metadata": {},
   "outputs": [],
   "source": [
    "# Split data into train / test sets\n",
    "train = data_df2.iloc[:len(data_df2)-366]\n",
    "test = data_df2.iloc[len(data_df2)-366:]\n",
    "\n",
    "start = 1\n",
    "end1 = len(train) + len(test)\n"
   ]
  },
  {
   "cell_type": "code",
   "execution_count": 195,
   "id": "fbcdca94",
   "metadata": {},
   "outputs": [],
   "source": [
    "model_holt_winters = ExponentialSmoothing(train['sales'], seasonal_periods=12, seasonal='additive',\n",
    "                                           trend='additive',damped=True).fit() #Taking additive trend and seasonality.\n",
    "\n",
    "\n"
   ]
  },
  {
   "cell_type": "code",
   "execution_count": 196,
   "id": "8e67e054",
   "metadata": {},
   "outputs": [],
   "source": [
    "y_pred1 = model_holt_winters.forecast(len(test))# Predict the test data\n",
    "# y_pred1 = pd.DataFrame(y_pred1,index = test.index,columns=['holt_winters_Pred'])"
   ]
  },
  {
   "cell_type": "code",
   "execution_count": 197,
   "id": "a76f2a21",
   "metadata": {},
   "outputs": [],
   "source": [
    "# test.index"
   ]
  },
  {
   "cell_type": "code",
   "execution_count": 198,
   "id": "95425813",
   "metadata": {},
   "outputs": [],
   "source": [
    "# train.index"
   ]
  },
  {
   "cell_type": "code",
   "execution_count": 199,
   "id": "85dc58e4",
   "metadata": {},
   "outputs": [],
   "source": [
    "# y_pred1.index"
   ]
  },
  {
   "cell_type": "code",
   "execution_count": 200,
   "id": "9749d481",
   "metadata": {},
   "outputs": [],
   "source": [
    "# y_pred1.values"
   ]
  },
  {
   "cell_type": "code",
   "execution_count": 201,
   "id": "5b459c5c",
   "metadata": {},
   "outputs": [],
   "source": [
    "# df= pd.DataFrame()\n",
    "# df['date']= y_pred1.index\n",
    "# df['Pred']=y_pred1.values"
   ]
  },
  {
   "cell_type": "code",
   "execution_count": 202,
   "id": "6f22a73f",
   "metadata": {},
   "outputs": [],
   "source": [
    "# df"
   ]
  },
  {
   "cell_type": "code",
   "execution_count": 203,
   "id": "d0c87e20",
   "metadata": {
    "scrolled": true
   },
   "outputs": [
    {
     "data": {
      "text/plain": [
       "2333.574142404187"
      ]
     },
     "execution_count": 203,
     "metadata": {},
     "output_type": "execute_result"
    }
   ],
   "source": [
    "#MSE\n",
    "\n",
    "mean_squared_error(test['sales'], y_pred1.values)"
   ]
  },
  {
   "cell_type": "code",
   "execution_count": 204,
   "id": "8d357a66",
   "metadata": {},
   "outputs": [
    {
     "data": {
      "text/plain": [
       "48.30708170034894"
      ]
     },
     "execution_count": 204,
     "metadata": {},
     "output_type": "execute_result"
    }
   ],
   "source": [
    "#RMSE\n",
    "\n",
    "math.sqrt(mean_squared_error(test['sales'], y_pred1.values))"
   ]
  },
  {
   "cell_type": "code",
   "execution_count": 205,
   "id": "aec3df15",
   "metadata": {},
   "outputs": [
    {
     "name": "stdout",
     "output_type": "stream",
     "text": [
      "MAPE_Score: 0.51\n"
     ]
    }
   ],
   "source": [
    "#MAPE\n",
    "MAPE_Score= mean_absolute_percentage_error(test['sales'], y_pred1.values).round(2)\n",
    "print('MAPE_Score:', MAPE_Score)\n",
    "\n"
   ]
  },
  {
   "cell_type": "code",
   "execution_count": null,
   "id": "3eb54f70",
   "metadata": {},
   "outputs": [],
   "source": []
  },
  {
   "cell_type": "code",
   "execution_count": null,
   "id": "20052da0",
   "metadata": {},
   "outputs": [],
   "source": []
  },
  {
   "cell_type": "code",
   "execution_count": null,
   "id": "fdb18ab1",
   "metadata": {},
   "outputs": [],
   "source": []
  },
  {
   "cell_type": "code",
   "execution_count": null,
   "id": "d966933b",
   "metadata": {},
   "outputs": [],
   "source": []
  },
  {
   "cell_type": "code",
   "execution_count": null,
   "id": "17ff54b0",
   "metadata": {},
   "outputs": [],
   "source": []
  },
  {
   "cell_type": "markdown",
   "id": "d96f4c6b",
   "metadata": {},
   "source": [
    "## Facebook Probhet Model "
   ]
  },
  {
   "cell_type": "code",
   "execution_count": null,
   "id": "377693f2",
   "metadata": {},
   "outputs": [],
   "source": [
    "# data_df2= data_df2.set_index('date')\n",
    "\n",
    "# Split data into train / test sets\n",
    "# train = data_df2.iloc[:len(data_df2)-366]\n",
    "# test = data_df2.iloc[len(data_df2)-366:]"
   ]
  },
  {
   "cell_type": "code",
   "execution_count": 33,
   "id": "2f8e02e0",
   "metadata": {},
   "outputs": [
    {
     "data": {
      "text/html": [
       "<div>\n",
       "<style scoped>\n",
       "    .dataframe tbody tr th:only-of-type {\n",
       "        vertical-align: middle;\n",
       "    }\n",
       "\n",
       "    .dataframe tbody tr th {\n",
       "        vertical-align: top;\n",
       "    }\n",
       "\n",
       "    .dataframe thead th {\n",
       "        text-align: right;\n",
       "    }\n",
       "</style>\n",
       "<table border=\"1\" class=\"dataframe\">\n",
       "  <thead>\n",
       "    <tr style=\"text-align: right;\">\n",
       "      <th></th>\n",
       "      <th>date</th>\n",
       "      <th>store</th>\n",
       "      <th>item</th>\n",
       "      <th>sales</th>\n",
       "    </tr>\n",
       "  </thead>\n",
       "  <tbody>\n",
       "    <tr>\n",
       "      <th>127820</th>\n",
       "      <td>2013-01-01</td>\n",
       "      <td>St1</td>\n",
       "      <td>Lay's</td>\n",
       "      <td>33</td>\n",
       "    </tr>\n",
       "    <tr>\n",
       "      <th>127821</th>\n",
       "      <td>2013-01-02</td>\n",
       "      <td>St1</td>\n",
       "      <td>Lay's</td>\n",
       "      <td>37</td>\n",
       "    </tr>\n",
       "    <tr>\n",
       "      <th>127822</th>\n",
       "      <td>2013-01-03</td>\n",
       "      <td>St1</td>\n",
       "      <td>Lay's</td>\n",
       "      <td>38</td>\n",
       "    </tr>\n",
       "    <tr>\n",
       "      <th>127823</th>\n",
       "      <td>2013-01-04</td>\n",
       "      <td>St1</td>\n",
       "      <td>Lay's</td>\n",
       "      <td>54</td>\n",
       "    </tr>\n",
       "    <tr>\n",
       "      <th>127824</th>\n",
       "      <td>2013-01-05</td>\n",
       "      <td>St1</td>\n",
       "      <td>Lay's</td>\n",
       "      <td>51</td>\n",
       "    </tr>\n",
       "    <tr>\n",
       "      <th>...</th>\n",
       "      <td>...</td>\n",
       "      <td>...</td>\n",
       "      <td>...</td>\n",
       "      <td>...</td>\n",
       "    </tr>\n",
       "    <tr>\n",
       "      <th>821695</th>\n",
       "      <td>2017-12-27</td>\n",
       "      <td>St10</td>\n",
       "      <td>Wafers</td>\n",
       "      <td>64</td>\n",
       "    </tr>\n",
       "    <tr>\n",
       "      <th>821696</th>\n",
       "      <td>2017-12-28</td>\n",
       "      <td>St10</td>\n",
       "      <td>Wafers</td>\n",
       "      <td>79</td>\n",
       "    </tr>\n",
       "    <tr>\n",
       "      <th>821697</th>\n",
       "      <td>2017-12-29</td>\n",
       "      <td>St10</td>\n",
       "      <td>Wafers</td>\n",
       "      <td>72</td>\n",
       "    </tr>\n",
       "    <tr>\n",
       "      <th>821698</th>\n",
       "      <td>2017-12-30</td>\n",
       "      <td>St10</td>\n",
       "      <td>Wafers</td>\n",
       "      <td>76</td>\n",
       "    </tr>\n",
       "    <tr>\n",
       "      <th>821699</th>\n",
       "      <td>2017-12-31</td>\n",
       "      <td>St10</td>\n",
       "      <td>Wafers</td>\n",
       "      <td>89</td>\n",
       "    </tr>\n",
       "  </tbody>\n",
       "</table>\n",
       "<p>182600 rows × 4 columns</p>\n",
       "</div>"
      ],
      "text/plain": [
       "             date store    item  sales\n",
       "127820 2013-01-01   St1   Lay's     33\n",
       "127821 2013-01-02   St1   Lay's     37\n",
       "127822 2013-01-03   St1   Lay's     38\n",
       "127823 2013-01-04   St1   Lay's     54\n",
       "127824 2013-01-05   St1   Lay's     51\n",
       "...           ...   ...     ...    ...\n",
       "821695 2017-12-27  St10  Wafers     64\n",
       "821696 2017-12-28  St10  Wafers     79\n",
       "821697 2017-12-29  St10  Wafers     72\n",
       "821698 2017-12-30  St10  Wafers     76\n",
       "821699 2017-12-31  St10  Wafers     89\n",
       "\n",
       "[182600 rows x 4 columns]"
      ]
     },
     "execution_count": 33,
     "metadata": {},
     "output_type": "execute_result"
    }
   ],
   "source": [
    "data_filter"
   ]
  },
  {
   "cell_type": "code",
   "execution_count": 24,
   "id": "f89d614f",
   "metadata": {},
   "outputs": [],
   "source": [
    "import copy\n",
    "data_df= copy.deepcopy(data_filter)"
   ]
  },
  {
   "cell_type": "code",
   "execution_count": 34,
   "id": "87f08fa2",
   "metadata": {},
   "outputs": [
    {
     "data": {
      "text/html": [
       "<div>\n",
       "<style scoped>\n",
       "    .dataframe tbody tr th:only-of-type {\n",
       "        vertical-align: middle;\n",
       "    }\n",
       "\n",
       "    .dataframe tbody tr th {\n",
       "        vertical-align: top;\n",
       "    }\n",
       "\n",
       "    .dataframe thead th {\n",
       "        text-align: right;\n",
       "    }\n",
       "</style>\n",
       "<table border=\"1\" class=\"dataframe\">\n",
       "  <thead>\n",
       "    <tr style=\"text-align: right;\">\n",
       "      <th></th>\n",
       "      <th>date</th>\n",
       "      <th>store</th>\n",
       "      <th>item</th>\n",
       "      <th>sales</th>\n",
       "    </tr>\n",
       "  </thead>\n",
       "  <tbody>\n",
       "    <tr>\n",
       "      <th>127820</th>\n",
       "      <td>2013-01-01</td>\n",
       "      <td>St1</td>\n",
       "      <td>Lay's</td>\n",
       "      <td>33</td>\n",
       "    </tr>\n",
       "    <tr>\n",
       "      <th>127821</th>\n",
       "      <td>2013-01-02</td>\n",
       "      <td>St1</td>\n",
       "      <td>Lay's</td>\n",
       "      <td>37</td>\n",
       "    </tr>\n",
       "    <tr>\n",
       "      <th>127822</th>\n",
       "      <td>2013-01-03</td>\n",
       "      <td>St1</td>\n",
       "      <td>Lay's</td>\n",
       "      <td>38</td>\n",
       "    </tr>\n",
       "    <tr>\n",
       "      <th>127823</th>\n",
       "      <td>2013-01-04</td>\n",
       "      <td>St1</td>\n",
       "      <td>Lay's</td>\n",
       "      <td>54</td>\n",
       "    </tr>\n",
       "    <tr>\n",
       "      <th>127824</th>\n",
       "      <td>2013-01-05</td>\n",
       "      <td>St1</td>\n",
       "      <td>Lay's</td>\n",
       "      <td>51</td>\n",
       "    </tr>\n",
       "    <tr>\n",
       "      <th>...</th>\n",
       "      <td>...</td>\n",
       "      <td>...</td>\n",
       "      <td>...</td>\n",
       "      <td>...</td>\n",
       "    </tr>\n",
       "    <tr>\n",
       "      <th>821695</th>\n",
       "      <td>2017-12-27</td>\n",
       "      <td>St10</td>\n",
       "      <td>Wafers</td>\n",
       "      <td>64</td>\n",
       "    </tr>\n",
       "    <tr>\n",
       "      <th>821696</th>\n",
       "      <td>2017-12-28</td>\n",
       "      <td>St10</td>\n",
       "      <td>Wafers</td>\n",
       "      <td>79</td>\n",
       "    </tr>\n",
       "    <tr>\n",
       "      <th>821697</th>\n",
       "      <td>2017-12-29</td>\n",
       "      <td>St10</td>\n",
       "      <td>Wafers</td>\n",
       "      <td>72</td>\n",
       "    </tr>\n",
       "    <tr>\n",
       "      <th>821698</th>\n",
       "      <td>2017-12-30</td>\n",
       "      <td>St10</td>\n",
       "      <td>Wafers</td>\n",
       "      <td>76</td>\n",
       "    </tr>\n",
       "    <tr>\n",
       "      <th>821699</th>\n",
       "      <td>2017-12-31</td>\n",
       "      <td>St10</td>\n",
       "      <td>Wafers</td>\n",
       "      <td>89</td>\n",
       "    </tr>\n",
       "  </tbody>\n",
       "</table>\n",
       "<p>182600 rows × 4 columns</p>\n",
       "</div>"
      ],
      "text/plain": [
       "             date store    item  sales\n",
       "127820 2013-01-01   St1   Lay's     33\n",
       "127821 2013-01-02   St1   Lay's     37\n",
       "127822 2013-01-03   St1   Lay's     38\n",
       "127823 2013-01-04   St1   Lay's     54\n",
       "127824 2013-01-05   St1   Lay's     51\n",
       "...           ...   ...     ...    ...\n",
       "821695 2017-12-27  St10  Wafers     64\n",
       "821696 2017-12-28  St10  Wafers     79\n",
       "821697 2017-12-29  St10  Wafers     72\n",
       "821698 2017-12-30  St10  Wafers     76\n",
       "821699 2017-12-31  St10  Wafers     89\n",
       "\n",
       "[182600 rows x 4 columns]"
      ]
     },
     "execution_count": 34,
     "metadata": {},
     "output_type": "execute_result"
    }
   ],
   "source": [
    "data_df"
   ]
  },
  {
   "cell_type": "code",
   "execution_count": 36,
   "id": "5d4cdc7a",
   "metadata": {},
   "outputs": [
    {
     "data": {
      "text/html": [
       "<div>\n",
       "<style scoped>\n",
       "    .dataframe tbody tr th:only-of-type {\n",
       "        vertical-align: middle;\n",
       "    }\n",
       "\n",
       "    .dataframe tbody tr th {\n",
       "        vertical-align: top;\n",
       "    }\n",
       "\n",
       "    .dataframe thead th {\n",
       "        text-align: right;\n",
       "    }\n",
       "</style>\n",
       "<table border=\"1\" class=\"dataframe\">\n",
       "  <thead>\n",
       "    <tr style=\"text-align: right;\">\n",
       "      <th></th>\n",
       "      <th>date</th>\n",
       "      <th>store</th>\n",
       "      <th>item</th>\n",
       "      <th>sales</th>\n",
       "    </tr>\n",
       "  </thead>\n",
       "  <tbody>\n",
       "    <tr>\n",
       "      <th>127820</th>\n",
       "      <td>2013-01-01</td>\n",
       "      <td>St1</td>\n",
       "      <td>Lay's</td>\n",
       "      <td>33</td>\n",
       "    </tr>\n",
       "    <tr>\n",
       "      <th>127821</th>\n",
       "      <td>2013-01-02</td>\n",
       "      <td>St1</td>\n",
       "      <td>Lay's</td>\n",
       "      <td>37</td>\n",
       "    </tr>\n",
       "    <tr>\n",
       "      <th>127822</th>\n",
       "      <td>2013-01-03</td>\n",
       "      <td>St1</td>\n",
       "      <td>Lay's</td>\n",
       "      <td>38</td>\n",
       "    </tr>\n",
       "    <tr>\n",
       "      <th>127823</th>\n",
       "      <td>2013-01-04</td>\n",
       "      <td>St1</td>\n",
       "      <td>Lay's</td>\n",
       "      <td>54</td>\n",
       "    </tr>\n",
       "    <tr>\n",
       "      <th>127824</th>\n",
       "      <td>2013-01-05</td>\n",
       "      <td>St1</td>\n",
       "      <td>Lay's</td>\n",
       "      <td>51</td>\n",
       "    </tr>\n",
       "    <tr>\n",
       "      <th>...</th>\n",
       "      <td>...</td>\n",
       "      <td>...</td>\n",
       "      <td>...</td>\n",
       "      <td>...</td>\n",
       "    </tr>\n",
       "    <tr>\n",
       "      <th>129641</th>\n",
       "      <td>2017-12-27</td>\n",
       "      <td>St1</td>\n",
       "      <td>Lay's</td>\n",
       "      <td>58</td>\n",
       "    </tr>\n",
       "    <tr>\n",
       "      <th>129642</th>\n",
       "      <td>2017-12-28</td>\n",
       "      <td>St1</td>\n",
       "      <td>Lay's</td>\n",
       "      <td>49</td>\n",
       "    </tr>\n",
       "    <tr>\n",
       "      <th>129643</th>\n",
       "      <td>2017-12-29</td>\n",
       "      <td>St1</td>\n",
       "      <td>Lay's</td>\n",
       "      <td>54</td>\n",
       "    </tr>\n",
       "    <tr>\n",
       "      <th>129644</th>\n",
       "      <td>2017-12-30</td>\n",
       "      <td>St1</td>\n",
       "      <td>Lay's</td>\n",
       "      <td>75</td>\n",
       "    </tr>\n",
       "    <tr>\n",
       "      <th>129645</th>\n",
       "      <td>2017-12-31</td>\n",
       "      <td>St1</td>\n",
       "      <td>Lay's</td>\n",
       "      <td>62</td>\n",
       "    </tr>\n",
       "  </tbody>\n",
       "</table>\n",
       "<p>1826 rows × 4 columns</p>\n",
       "</div>"
      ],
      "text/plain": [
       "             date store   item  sales\n",
       "127820 2013-01-01   St1  Lay's     33\n",
       "127821 2013-01-02   St1  Lay's     37\n",
       "127822 2013-01-03   St1  Lay's     38\n",
       "127823 2013-01-04   St1  Lay's     54\n",
       "127824 2013-01-05   St1  Lay's     51\n",
       "...           ...   ...    ...    ...\n",
       "129641 2017-12-27   St1  Lay's     58\n",
       "129642 2017-12-28   St1  Lay's     49\n",
       "129643 2017-12-29   St1  Lay's     54\n",
       "129644 2017-12-30   St1  Lay's     75\n",
       "129645 2017-12-31   St1  Lay's     62\n",
       "\n",
       "[1826 rows x 4 columns]"
      ]
     },
     "execution_count": 36,
     "metadata": {},
     "output_type": "execute_result"
    }
   ],
   "source": [
    "data_df2 = data_df[(data_df['store']== 'St1') & (data_df['item']== \"Lay's\")]\n",
    "data_df2"
   ]
  },
  {
   "cell_type": "code",
   "execution_count": 26,
   "id": "095cdf53",
   "metadata": {},
   "outputs": [],
   "source": [
    "# data_df2.reset_index(inplace= True)"
   ]
  },
  {
   "cell_type": "code",
   "execution_count": 61,
   "id": "4defc5a1",
   "metadata": {},
   "outputs": [],
   "source": [
    "# Split data into train / test sets\n",
    "train = data_df2.iloc[:len(data_df2)-366]\n",
    "test = data_df2.iloc[len(data_df2)-366:]"
   ]
  },
  {
   "cell_type": "code",
   "execution_count": 62,
   "id": "a7e010f6",
   "metadata": {},
   "outputs": [
    {
     "data": {
      "text/html": [
       "<div>\n",
       "<style scoped>\n",
       "    .dataframe tbody tr th:only-of-type {\n",
       "        vertical-align: middle;\n",
       "    }\n",
       "\n",
       "    .dataframe tbody tr th {\n",
       "        vertical-align: top;\n",
       "    }\n",
       "\n",
       "    .dataframe thead th {\n",
       "        text-align: right;\n",
       "    }\n",
       "</style>\n",
       "<table border=\"1\" class=\"dataframe\">\n",
       "  <thead>\n",
       "    <tr style=\"text-align: right;\">\n",
       "      <th></th>\n",
       "      <th>date</th>\n",
       "      <th>store</th>\n",
       "      <th>item</th>\n",
       "      <th>sales</th>\n",
       "    </tr>\n",
       "  </thead>\n",
       "  <tbody>\n",
       "    <tr>\n",
       "      <th>127820</th>\n",
       "      <td>2013-01-01</td>\n",
       "      <td>St1</td>\n",
       "      <td>Lay's</td>\n",
       "      <td>33</td>\n",
       "    </tr>\n",
       "    <tr>\n",
       "      <th>127821</th>\n",
       "      <td>2013-01-02</td>\n",
       "      <td>St1</td>\n",
       "      <td>Lay's</td>\n",
       "      <td>37</td>\n",
       "    </tr>\n",
       "    <tr>\n",
       "      <th>127822</th>\n",
       "      <td>2013-01-03</td>\n",
       "      <td>St1</td>\n",
       "      <td>Lay's</td>\n",
       "      <td>38</td>\n",
       "    </tr>\n",
       "    <tr>\n",
       "      <th>127823</th>\n",
       "      <td>2013-01-04</td>\n",
       "      <td>St1</td>\n",
       "      <td>Lay's</td>\n",
       "      <td>54</td>\n",
       "    </tr>\n",
       "    <tr>\n",
       "      <th>127824</th>\n",
       "      <td>2013-01-05</td>\n",
       "      <td>St1</td>\n",
       "      <td>Lay's</td>\n",
       "      <td>51</td>\n",
       "    </tr>\n",
       "    <tr>\n",
       "      <th>...</th>\n",
       "      <td>...</td>\n",
       "      <td>...</td>\n",
       "      <td>...</td>\n",
       "      <td>...</td>\n",
       "    </tr>\n",
       "    <tr>\n",
       "      <th>129275</th>\n",
       "      <td>2016-12-26</td>\n",
       "      <td>St1</td>\n",
       "      <td>Lay's</td>\n",
       "      <td>47</td>\n",
       "    </tr>\n",
       "    <tr>\n",
       "      <th>129276</th>\n",
       "      <td>2016-12-27</td>\n",
       "      <td>St1</td>\n",
       "      <td>Lay's</td>\n",
       "      <td>42</td>\n",
       "    </tr>\n",
       "    <tr>\n",
       "      <th>129277</th>\n",
       "      <td>2016-12-28</td>\n",
       "      <td>St1</td>\n",
       "      <td>Lay's</td>\n",
       "      <td>53</td>\n",
       "    </tr>\n",
       "    <tr>\n",
       "      <th>129278</th>\n",
       "      <td>2016-12-29</td>\n",
       "      <td>St1</td>\n",
       "      <td>Lay's</td>\n",
       "      <td>52</td>\n",
       "    </tr>\n",
       "    <tr>\n",
       "      <th>129279</th>\n",
       "      <td>2016-12-30</td>\n",
       "      <td>St1</td>\n",
       "      <td>Lay's</td>\n",
       "      <td>67</td>\n",
       "    </tr>\n",
       "  </tbody>\n",
       "</table>\n",
       "<p>1460 rows × 4 columns</p>\n",
       "</div>"
      ],
      "text/plain": [
       "             date store   item  sales\n",
       "127820 2013-01-01   St1  Lay's     33\n",
       "127821 2013-01-02   St1  Lay's     37\n",
       "127822 2013-01-03   St1  Lay's     38\n",
       "127823 2013-01-04   St1  Lay's     54\n",
       "127824 2013-01-05   St1  Lay's     51\n",
       "...           ...   ...    ...    ...\n",
       "129275 2016-12-26   St1  Lay's     47\n",
       "129276 2016-12-27   St1  Lay's     42\n",
       "129277 2016-12-28   St1  Lay's     53\n",
       "129278 2016-12-29   St1  Lay's     52\n",
       "129279 2016-12-30   St1  Lay's     67\n",
       "\n",
       "[1460 rows x 4 columns]"
      ]
     },
     "execution_count": 62,
     "metadata": {},
     "output_type": "execute_result"
    }
   ],
   "source": [
    "train"
   ]
  },
  {
   "cell_type": "code",
   "execution_count": 63,
   "id": "29b8a71e",
   "metadata": {},
   "outputs": [
    {
     "name": "stderr",
     "output_type": "stream",
     "text": [
      "C:\\Users\\Ramshankar\\AppData\\Local\\Temp\\ipykernel_7748\\3383891889.py:1: SettingWithCopyWarning: \n",
      "A value is trying to be set on a copy of a slice from a DataFrame\n",
      "\n",
      "See the caveats in the documentation: https://pandas.pydata.org/pandas-docs/stable/user_guide/indexing.html#returning-a-view-versus-a-copy\n",
      "  train.drop(['store', 'item'], axis=1, inplace=True)\n"
     ]
    }
   ],
   "source": [
    "train.drop(['store', 'item'], axis=1, inplace=True)"
   ]
  },
  {
   "cell_type": "code",
   "execution_count": 64,
   "id": "26eea26b",
   "metadata": {},
   "outputs": [
    {
     "data": {
      "text/html": [
       "<div>\n",
       "<style scoped>\n",
       "    .dataframe tbody tr th:only-of-type {\n",
       "        vertical-align: middle;\n",
       "    }\n",
       "\n",
       "    .dataframe tbody tr th {\n",
       "        vertical-align: top;\n",
       "    }\n",
       "\n",
       "    .dataframe thead th {\n",
       "        text-align: right;\n",
       "    }\n",
       "</style>\n",
       "<table border=\"1\" class=\"dataframe\">\n",
       "  <thead>\n",
       "    <tr style=\"text-align: right;\">\n",
       "      <th></th>\n",
       "      <th>date</th>\n",
       "      <th>sales</th>\n",
       "    </tr>\n",
       "  </thead>\n",
       "  <tbody>\n",
       "    <tr>\n",
       "      <th>127820</th>\n",
       "      <td>2013-01-01</td>\n",
       "      <td>33</td>\n",
       "    </tr>\n",
       "    <tr>\n",
       "      <th>127821</th>\n",
       "      <td>2013-01-02</td>\n",
       "      <td>37</td>\n",
       "    </tr>\n",
       "    <tr>\n",
       "      <th>127822</th>\n",
       "      <td>2013-01-03</td>\n",
       "      <td>38</td>\n",
       "    </tr>\n",
       "    <tr>\n",
       "      <th>127823</th>\n",
       "      <td>2013-01-04</td>\n",
       "      <td>54</td>\n",
       "    </tr>\n",
       "    <tr>\n",
       "      <th>127824</th>\n",
       "      <td>2013-01-05</td>\n",
       "      <td>51</td>\n",
       "    </tr>\n",
       "    <tr>\n",
       "      <th>...</th>\n",
       "      <td>...</td>\n",
       "      <td>...</td>\n",
       "    </tr>\n",
       "    <tr>\n",
       "      <th>129275</th>\n",
       "      <td>2016-12-26</td>\n",
       "      <td>47</td>\n",
       "    </tr>\n",
       "    <tr>\n",
       "      <th>129276</th>\n",
       "      <td>2016-12-27</td>\n",
       "      <td>42</td>\n",
       "    </tr>\n",
       "    <tr>\n",
       "      <th>129277</th>\n",
       "      <td>2016-12-28</td>\n",
       "      <td>53</td>\n",
       "    </tr>\n",
       "    <tr>\n",
       "      <th>129278</th>\n",
       "      <td>2016-12-29</td>\n",
       "      <td>52</td>\n",
       "    </tr>\n",
       "    <tr>\n",
       "      <th>129279</th>\n",
       "      <td>2016-12-30</td>\n",
       "      <td>67</td>\n",
       "    </tr>\n",
       "  </tbody>\n",
       "</table>\n",
       "<p>1460 rows × 2 columns</p>\n",
       "</div>"
      ],
      "text/plain": [
       "             date  sales\n",
       "127820 2013-01-01     33\n",
       "127821 2013-01-02     37\n",
       "127822 2013-01-03     38\n",
       "127823 2013-01-04     54\n",
       "127824 2013-01-05     51\n",
       "...           ...    ...\n",
       "129275 2016-12-26     47\n",
       "129276 2016-12-27     42\n",
       "129277 2016-12-28     53\n",
       "129278 2016-12-29     52\n",
       "129279 2016-12-30     67\n",
       "\n",
       "[1460 rows x 2 columns]"
      ]
     },
     "execution_count": 64,
     "metadata": {},
     "output_type": "execute_result"
    }
   ],
   "source": [
    "train"
   ]
  },
  {
   "cell_type": "code",
   "execution_count": 65,
   "id": "e1f823f7",
   "metadata": {},
   "outputs": [],
   "source": [
    "train= train.rename(columns= {'date': 'ds', 'sales': 'y'})"
   ]
  },
  {
   "cell_type": "code",
   "execution_count": 66,
   "id": "aa7b62fa",
   "metadata": {},
   "outputs": [],
   "source": [
    "#importing liberaries \n",
    "\n",
    "from prophet import Prophet"
   ]
  },
  {
   "cell_type": "code",
   "execution_count": 67,
   "id": "52cb52cc",
   "metadata": {},
   "outputs": [
    {
     "name": "stderr",
     "output_type": "stream",
     "text": [
      "21:07:20 - cmdstanpy - INFO - Chain [1] start processing\n",
      "21:07:21 - cmdstanpy - INFO - Chain [1] done processing\n"
     ]
    },
    {
     "data": {
      "text/plain": [
       "<prophet.forecaster.Prophet at 0x252b2b67af0>"
      ]
     },
     "execution_count": 67,
     "metadata": {},
     "output_type": "execute_result"
    }
   ],
   "source": [
    "model = Prophet()\n",
    "model.fit(train)"
   ]
  },
  {
   "cell_type": "code",
   "execution_count": 68,
   "id": "432a7f67",
   "metadata": {},
   "outputs": [
    {
     "data": {
      "text/html": [
       "<div>\n",
       "<style scoped>\n",
       "    .dataframe tbody tr th:only-of-type {\n",
       "        vertical-align: middle;\n",
       "    }\n",
       "\n",
       "    .dataframe tbody tr th {\n",
       "        vertical-align: top;\n",
       "    }\n",
       "\n",
       "    .dataframe thead th {\n",
       "        text-align: right;\n",
       "    }\n",
       "</style>\n",
       "<table border=\"1\" class=\"dataframe\">\n",
       "  <thead>\n",
       "    <tr style=\"text-align: right;\">\n",
       "      <th></th>\n",
       "      <th>ds</th>\n",
       "    </tr>\n",
       "  </thead>\n",
       "  <tbody>\n",
       "    <tr>\n",
       "      <th>127820</th>\n",
       "      <td>2013-01-01</td>\n",
       "    </tr>\n",
       "    <tr>\n",
       "      <th>127821</th>\n",
       "      <td>2013-01-02</td>\n",
       "    </tr>\n",
       "    <tr>\n",
       "      <th>127822</th>\n",
       "      <td>2013-01-03</td>\n",
       "    </tr>\n",
       "    <tr>\n",
       "      <th>127823</th>\n",
       "      <td>2013-01-04</td>\n",
       "    </tr>\n",
       "    <tr>\n",
       "      <th>127824</th>\n",
       "      <td>2013-01-05</td>\n",
       "    </tr>\n",
       "    <tr>\n",
       "      <th>...</th>\n",
       "      <td>...</td>\n",
       "    </tr>\n",
       "    <tr>\n",
       "      <th>129641</th>\n",
       "      <td>2017-12-27</td>\n",
       "    </tr>\n",
       "    <tr>\n",
       "      <th>129642</th>\n",
       "      <td>2017-12-28</td>\n",
       "    </tr>\n",
       "    <tr>\n",
       "      <th>129643</th>\n",
       "      <td>2017-12-29</td>\n",
       "    </tr>\n",
       "    <tr>\n",
       "      <th>129644</th>\n",
       "      <td>2017-12-30</td>\n",
       "    </tr>\n",
       "    <tr>\n",
       "      <th>129645</th>\n",
       "      <td>2017-12-31</td>\n",
       "    </tr>\n",
       "  </tbody>\n",
       "</table>\n",
       "<p>1826 rows × 1 columns</p>\n",
       "</div>"
      ],
      "text/plain": [
       "               ds\n",
       "127820 2013-01-01\n",
       "127821 2013-01-02\n",
       "127822 2013-01-03\n",
       "127823 2013-01-04\n",
       "127824 2013-01-05\n",
       "...           ...\n",
       "129641 2017-12-27\n",
       "129642 2017-12-28\n",
       "129643 2017-12-29\n",
       "129644 2017-12-30\n",
       "129645 2017-12-31\n",
       "\n",
       "[1826 rows x 1 columns]"
      ]
     },
     "execution_count": 68,
     "metadata": {},
     "output_type": "execute_result"
    }
   ],
   "source": [
    "# test1= test.drop(['sales', 'store', 'item'], axis=1)\n",
    "# test1= test1.rename(columns= {'date': 'ds'})\n",
    "# test1.head()\n",
    "\n",
    "data_df3= data_df2.drop(['store', 'item', 'sales'], axis=1)\n",
    "data_df3= data_df3.rename(columns= {'date': 'ds'})\n",
    "data_df3"
   ]
  },
  {
   "cell_type": "code",
   "execution_count": 69,
   "id": "6b62d063",
   "metadata": {},
   "outputs": [],
   "source": [
    "forecasted = model.predict(data_df3)"
   ]
  },
  {
   "cell_type": "code",
   "execution_count": 70,
   "id": "a9d840b1",
   "metadata": {
    "scrolled": true
   },
   "outputs": [
    {
     "data": {
      "text/html": [
       "<div>\n",
       "<style scoped>\n",
       "    .dataframe tbody tr th:only-of-type {\n",
       "        vertical-align: middle;\n",
       "    }\n",
       "\n",
       "    .dataframe tbody tr th {\n",
       "        vertical-align: top;\n",
       "    }\n",
       "\n",
       "    .dataframe thead th {\n",
       "        text-align: right;\n",
       "    }\n",
       "</style>\n",
       "<table border=\"1\" class=\"dataframe\">\n",
       "  <thead>\n",
       "    <tr style=\"text-align: right;\">\n",
       "      <th></th>\n",
       "      <th>ds</th>\n",
       "      <th>trend</th>\n",
       "      <th>yhat_lower</th>\n",
       "      <th>yhat_upper</th>\n",
       "      <th>trend_lower</th>\n",
       "      <th>trend_upper</th>\n",
       "      <th>additive_terms</th>\n",
       "      <th>additive_terms_lower</th>\n",
       "      <th>additive_terms_upper</th>\n",
       "      <th>weekly</th>\n",
       "      <th>weekly_lower</th>\n",
       "      <th>weekly_upper</th>\n",
       "      <th>yearly</th>\n",
       "      <th>yearly_lower</th>\n",
       "      <th>yearly_upper</th>\n",
       "      <th>multiplicative_terms</th>\n",
       "      <th>multiplicative_terms_lower</th>\n",
       "      <th>multiplicative_terms_upper</th>\n",
       "      <th>yhat</th>\n",
       "    </tr>\n",
       "  </thead>\n",
       "  <tbody>\n",
       "    <tr>\n",
       "      <th>0</th>\n",
       "      <td>2013-01-01</td>\n",
       "      <td>55.032615</td>\n",
       "      <td>21.718394</td>\n",
       "      <td>44.338909</td>\n",
       "      <td>55.032615</td>\n",
       "      <td>55.032615</td>\n",
       "      <td>-21.979282</td>\n",
       "      <td>-21.979282</td>\n",
       "      <td>-21.979282</td>\n",
       "      <td>-4.369953</td>\n",
       "      <td>-4.369953</td>\n",
       "      <td>-4.369953</td>\n",
       "      <td>-17.609329</td>\n",
       "      <td>-17.609329</td>\n",
       "      <td>-17.609329</td>\n",
       "      <td>0.0</td>\n",
       "      <td>0.0</td>\n",
       "      <td>0.0</td>\n",
       "      <td>33.053333</td>\n",
       "    </tr>\n",
       "    <tr>\n",
       "      <th>1</th>\n",
       "      <td>2013-01-02</td>\n",
       "      <td>55.050807</td>\n",
       "      <td>22.088100</td>\n",
       "      <td>44.037067</td>\n",
       "      <td>55.050807</td>\n",
       "      <td>55.050807</td>\n",
       "      <td>-22.471265</td>\n",
       "      <td>-22.471265</td>\n",
       "      <td>-22.471265</td>\n",
       "      <td>-4.969766</td>\n",
       "      <td>-4.969766</td>\n",
       "      <td>-4.969766</td>\n",
       "      <td>-17.501499</td>\n",
       "      <td>-17.501499</td>\n",
       "      <td>-17.501499</td>\n",
       "      <td>0.0</td>\n",
       "      <td>0.0</td>\n",
       "      <td>0.0</td>\n",
       "      <td>32.579542</td>\n",
       "    </tr>\n",
       "    <tr>\n",
       "      <th>2</th>\n",
       "      <td>2013-01-03</td>\n",
       "      <td>55.068998</td>\n",
       "      <td>25.724209</td>\n",
       "      <td>47.816733</td>\n",
       "      <td>55.068998</td>\n",
       "      <td>55.068998</td>\n",
       "      <td>-18.636446</td>\n",
       "      <td>-18.636446</td>\n",
       "      <td>-18.636446</td>\n",
       "      <td>-1.215501</td>\n",
       "      <td>-1.215501</td>\n",
       "      <td>-1.215501</td>\n",
       "      <td>-17.420945</td>\n",
       "      <td>-17.420945</td>\n",
       "      <td>-17.420945</td>\n",
       "      <td>0.0</td>\n",
       "      <td>0.0</td>\n",
       "      <td>0.0</td>\n",
       "      <td>36.432553</td>\n",
       "    </tr>\n",
       "    <tr>\n",
       "      <th>3</th>\n",
       "      <td>2013-01-04</td>\n",
       "      <td>55.087190</td>\n",
       "      <td>29.739387</td>\n",
       "      <td>53.097246</td>\n",
       "      <td>55.087190</td>\n",
       "      <td>55.087190</td>\n",
       "      <td>-13.738091</td>\n",
       "      <td>-13.738091</td>\n",
       "      <td>-13.738091</td>\n",
       "      <td>3.629724</td>\n",
       "      <td>3.629724</td>\n",
       "      <td>3.629724</td>\n",
       "      <td>-17.367814</td>\n",
       "      <td>-17.367814</td>\n",
       "      <td>-17.367814</td>\n",
       "      <td>0.0</td>\n",
       "      <td>0.0</td>\n",
       "      <td>0.0</td>\n",
       "      <td>41.349099</td>\n",
       "    </tr>\n",
       "    <tr>\n",
       "      <th>4</th>\n",
       "      <td>2013-01-05</td>\n",
       "      <td>55.105381</td>\n",
       "      <td>34.259591</td>\n",
       "      <td>57.017871</td>\n",
       "      <td>55.105381</td>\n",
       "      <td>55.105381</td>\n",
       "      <td>-8.996812</td>\n",
       "      <td>-8.996812</td>\n",
       "      <td>-8.996812</td>\n",
       "      <td>8.344633</td>\n",
       "      <td>8.344633</td>\n",
       "      <td>8.344633</td>\n",
       "      <td>-17.341445</td>\n",
       "      <td>-17.341445</td>\n",
       "      <td>-17.341445</td>\n",
       "      <td>0.0</td>\n",
       "      <td>0.0</td>\n",
       "      <td>0.0</td>\n",
       "      <td>46.108570</td>\n",
       "    </tr>\n",
       "    <tr>\n",
       "      <th>...</th>\n",
       "      <td>...</td>\n",
       "      <td>...</td>\n",
       "      <td>...</td>\n",
       "      <td>...</td>\n",
       "      <td>...</td>\n",
       "      <td>...</td>\n",
       "      <td>...</td>\n",
       "      <td>...</td>\n",
       "      <td>...</td>\n",
       "      <td>...</td>\n",
       "      <td>...</td>\n",
       "      <td>...</td>\n",
       "      <td>...</td>\n",
       "      <td>...</td>\n",
       "      <td>...</td>\n",
       "      <td>...</td>\n",
       "      <td>...</td>\n",
       "      <td>...</td>\n",
       "      <td>...</td>\n",
       "    </tr>\n",
       "    <tr>\n",
       "      <th>1821</th>\n",
       "      <td>2017-12-27</td>\n",
       "      <td>83.732055</td>\n",
       "      <td>48.830750</td>\n",
       "      <td>71.649552</td>\n",
       "      <td>83.270459</td>\n",
       "      <td>84.176395</td>\n",
       "      <td>-23.515590</td>\n",
       "      <td>-23.515590</td>\n",
       "      <td>-23.515590</td>\n",
       "      <td>-4.969766</td>\n",
       "      <td>-4.969766</td>\n",
       "      <td>-4.969766</td>\n",
       "      <td>-18.545824</td>\n",
       "      <td>-18.545824</td>\n",
       "      <td>-18.545824</td>\n",
       "      <td>0.0</td>\n",
       "      <td>0.0</td>\n",
       "      <td>0.0</td>\n",
       "      <td>60.216465</td>\n",
       "    </tr>\n",
       "    <tr>\n",
       "      <th>1822</th>\n",
       "      <td>2017-12-28</td>\n",
       "      <td>83.747530</td>\n",
       "      <td>53.286397</td>\n",
       "      <td>75.435269</td>\n",
       "      <td>83.284255</td>\n",
       "      <td>84.194201</td>\n",
       "      <td>-19.547334</td>\n",
       "      <td>-19.547334</td>\n",
       "      <td>-19.547334</td>\n",
       "      <td>-1.215501</td>\n",
       "      <td>-1.215501</td>\n",
       "      <td>-1.215501</td>\n",
       "      <td>-18.331833</td>\n",
       "      <td>-18.331833</td>\n",
       "      <td>-18.331833</td>\n",
       "      <td>0.0</td>\n",
       "      <td>0.0</td>\n",
       "      <td>0.0</td>\n",
       "      <td>64.200196</td>\n",
       "    </tr>\n",
       "    <tr>\n",
       "      <th>1823</th>\n",
       "      <td>2017-12-29</td>\n",
       "      <td>83.763005</td>\n",
       "      <td>58.550165</td>\n",
       "      <td>80.510005</td>\n",
       "      <td>83.298269</td>\n",
       "      <td>84.211975</td>\n",
       "      <td>-14.500276</td>\n",
       "      <td>-14.500276</td>\n",
       "      <td>-14.500276</td>\n",
       "      <td>3.629724</td>\n",
       "      <td>3.629724</td>\n",
       "      <td>3.629724</td>\n",
       "      <td>-18.130000</td>\n",
       "      <td>-18.130000</td>\n",
       "      <td>-18.130000</td>\n",
       "      <td>0.0</td>\n",
       "      <td>0.0</td>\n",
       "      <td>0.0</td>\n",
       "      <td>69.262729</td>\n",
       "    </tr>\n",
       "    <tr>\n",
       "      <th>1824</th>\n",
       "      <td>2017-12-30</td>\n",
       "      <td>83.778480</td>\n",
       "      <td>63.679736</td>\n",
       "      <td>84.578856</td>\n",
       "      <td>83.312284</td>\n",
       "      <td>84.230341</td>\n",
       "      <td>-9.600415</td>\n",
       "      <td>-9.600415</td>\n",
       "      <td>-9.600415</td>\n",
       "      <td>8.344633</td>\n",
       "      <td>8.344633</td>\n",
       "      <td>8.344633</td>\n",
       "      <td>-17.945048</td>\n",
       "      <td>-17.945048</td>\n",
       "      <td>-17.945048</td>\n",
       "      <td>0.0</td>\n",
       "      <td>0.0</td>\n",
       "      <td>0.0</td>\n",
       "      <td>74.178065</td>\n",
       "    </tr>\n",
       "    <tr>\n",
       "      <th>1825</th>\n",
       "      <td>2017-12-31</td>\n",
       "      <td>83.793955</td>\n",
       "      <td>69.143014</td>\n",
       "      <td>90.715912</td>\n",
       "      <td>83.326299</td>\n",
       "      <td>84.248721</td>\n",
       "      <td>-4.667889</td>\n",
       "      <td>-4.667889</td>\n",
       "      <td>-4.667889</td>\n",
       "      <td>13.112974</td>\n",
       "      <td>13.112974</td>\n",
       "      <td>13.112974</td>\n",
       "      <td>-17.780863</td>\n",
       "      <td>-17.780863</td>\n",
       "      <td>-17.780863</td>\n",
       "      <td>0.0</td>\n",
       "      <td>0.0</td>\n",
       "      <td>0.0</td>\n",
       "      <td>79.126066</td>\n",
       "    </tr>\n",
       "  </tbody>\n",
       "</table>\n",
       "<p>1826 rows × 19 columns</p>\n",
       "</div>"
      ],
      "text/plain": [
       "             ds      trend  yhat_lower  yhat_upper  trend_lower  trend_upper  \\\n",
       "0    2013-01-01  55.032615   21.718394   44.338909    55.032615    55.032615   \n",
       "1    2013-01-02  55.050807   22.088100   44.037067    55.050807    55.050807   \n",
       "2    2013-01-03  55.068998   25.724209   47.816733    55.068998    55.068998   \n",
       "3    2013-01-04  55.087190   29.739387   53.097246    55.087190    55.087190   \n",
       "4    2013-01-05  55.105381   34.259591   57.017871    55.105381    55.105381   \n",
       "...         ...        ...         ...         ...          ...          ...   \n",
       "1821 2017-12-27  83.732055   48.830750   71.649552    83.270459    84.176395   \n",
       "1822 2017-12-28  83.747530   53.286397   75.435269    83.284255    84.194201   \n",
       "1823 2017-12-29  83.763005   58.550165   80.510005    83.298269    84.211975   \n",
       "1824 2017-12-30  83.778480   63.679736   84.578856    83.312284    84.230341   \n",
       "1825 2017-12-31  83.793955   69.143014   90.715912    83.326299    84.248721   \n",
       "\n",
       "      additive_terms  additive_terms_lower  additive_terms_upper     weekly  \\\n",
       "0         -21.979282            -21.979282            -21.979282  -4.369953   \n",
       "1         -22.471265            -22.471265            -22.471265  -4.969766   \n",
       "2         -18.636446            -18.636446            -18.636446  -1.215501   \n",
       "3         -13.738091            -13.738091            -13.738091   3.629724   \n",
       "4          -8.996812             -8.996812             -8.996812   8.344633   \n",
       "...              ...                   ...                   ...        ...   \n",
       "1821      -23.515590            -23.515590            -23.515590  -4.969766   \n",
       "1822      -19.547334            -19.547334            -19.547334  -1.215501   \n",
       "1823      -14.500276            -14.500276            -14.500276   3.629724   \n",
       "1824       -9.600415             -9.600415             -9.600415   8.344633   \n",
       "1825       -4.667889             -4.667889             -4.667889  13.112974   \n",
       "\n",
       "      weekly_lower  weekly_upper     yearly  yearly_lower  yearly_upper  \\\n",
       "0        -4.369953     -4.369953 -17.609329    -17.609329    -17.609329   \n",
       "1        -4.969766     -4.969766 -17.501499    -17.501499    -17.501499   \n",
       "2        -1.215501     -1.215501 -17.420945    -17.420945    -17.420945   \n",
       "3         3.629724      3.629724 -17.367814    -17.367814    -17.367814   \n",
       "4         8.344633      8.344633 -17.341445    -17.341445    -17.341445   \n",
       "...            ...           ...        ...           ...           ...   \n",
       "1821     -4.969766     -4.969766 -18.545824    -18.545824    -18.545824   \n",
       "1822     -1.215501     -1.215501 -18.331833    -18.331833    -18.331833   \n",
       "1823      3.629724      3.629724 -18.130000    -18.130000    -18.130000   \n",
       "1824      8.344633      8.344633 -17.945048    -17.945048    -17.945048   \n",
       "1825     13.112974     13.112974 -17.780863    -17.780863    -17.780863   \n",
       "\n",
       "      multiplicative_terms  multiplicative_terms_lower  \\\n",
       "0                      0.0                         0.0   \n",
       "1                      0.0                         0.0   \n",
       "2                      0.0                         0.0   \n",
       "3                      0.0                         0.0   \n",
       "4                      0.0                         0.0   \n",
       "...                    ...                         ...   \n",
       "1821                   0.0                         0.0   \n",
       "1822                   0.0                         0.0   \n",
       "1823                   0.0                         0.0   \n",
       "1824                   0.0                         0.0   \n",
       "1825                   0.0                         0.0   \n",
       "\n",
       "      multiplicative_terms_upper       yhat  \n",
       "0                            0.0  33.053333  \n",
       "1                            0.0  32.579542  \n",
       "2                            0.0  36.432553  \n",
       "3                            0.0  41.349099  \n",
       "4                            0.0  46.108570  \n",
       "...                          ...        ...  \n",
       "1821                         0.0  60.216465  \n",
       "1822                         0.0  64.200196  \n",
       "1823                         0.0  69.262729  \n",
       "1824                         0.0  74.178065  \n",
       "1825                         0.0  79.126066  \n",
       "\n",
       "[1826 rows x 19 columns]"
      ]
     },
     "execution_count": 70,
     "metadata": {},
     "output_type": "execute_result"
    }
   ],
   "source": [
    "forecasted"
   ]
  },
  {
   "cell_type": "code",
   "execution_count": 71,
   "id": "8a753715",
   "metadata": {},
   "outputs": [
    {
     "data": {
      "text/html": [
       "<div>\n",
       "<style scoped>\n",
       "    .dataframe tbody tr th:only-of-type {\n",
       "        vertical-align: middle;\n",
       "    }\n",
       "\n",
       "    .dataframe tbody tr th {\n",
       "        vertical-align: top;\n",
       "    }\n",
       "\n",
       "    .dataframe thead th {\n",
       "        text-align: right;\n",
       "    }\n",
       "</style>\n",
       "<table border=\"1\" class=\"dataframe\">\n",
       "  <thead>\n",
       "    <tr style=\"text-align: right;\">\n",
       "      <th></th>\n",
       "      <th>ds</th>\n",
       "      <th>yhat</th>\n",
       "    </tr>\n",
       "  </thead>\n",
       "  <tbody>\n",
       "    <tr>\n",
       "      <th>0</th>\n",
       "      <td>2013-01-01</td>\n",
       "      <td>33.053333</td>\n",
       "    </tr>\n",
       "    <tr>\n",
       "      <th>1</th>\n",
       "      <td>2013-01-02</td>\n",
       "      <td>32.579542</td>\n",
       "    </tr>\n",
       "    <tr>\n",
       "      <th>2</th>\n",
       "      <td>2013-01-03</td>\n",
       "      <td>36.432553</td>\n",
       "    </tr>\n",
       "    <tr>\n",
       "      <th>3</th>\n",
       "      <td>2013-01-04</td>\n",
       "      <td>41.349099</td>\n",
       "    </tr>\n",
       "    <tr>\n",
       "      <th>4</th>\n",
       "      <td>2013-01-05</td>\n",
       "      <td>46.108570</td>\n",
       "    </tr>\n",
       "    <tr>\n",
       "      <th>...</th>\n",
       "      <td>...</td>\n",
       "      <td>...</td>\n",
       "    </tr>\n",
       "    <tr>\n",
       "      <th>1821</th>\n",
       "      <td>2017-12-27</td>\n",
       "      <td>60.216465</td>\n",
       "    </tr>\n",
       "    <tr>\n",
       "      <th>1822</th>\n",
       "      <td>2017-12-28</td>\n",
       "      <td>64.200196</td>\n",
       "    </tr>\n",
       "    <tr>\n",
       "      <th>1823</th>\n",
       "      <td>2017-12-29</td>\n",
       "      <td>69.262729</td>\n",
       "    </tr>\n",
       "    <tr>\n",
       "      <th>1824</th>\n",
       "      <td>2017-12-30</td>\n",
       "      <td>74.178065</td>\n",
       "    </tr>\n",
       "    <tr>\n",
       "      <th>1825</th>\n",
       "      <td>2017-12-31</td>\n",
       "      <td>79.126066</td>\n",
       "    </tr>\n",
       "  </tbody>\n",
       "</table>\n",
       "<p>1826 rows × 2 columns</p>\n",
       "</div>"
      ],
      "text/plain": [
       "             ds       yhat\n",
       "0    2013-01-01  33.053333\n",
       "1    2013-01-02  32.579542\n",
       "2    2013-01-03  36.432553\n",
       "3    2013-01-04  41.349099\n",
       "4    2013-01-05  46.108570\n",
       "...         ...        ...\n",
       "1821 2017-12-27  60.216465\n",
       "1822 2017-12-28  64.200196\n",
       "1823 2017-12-29  69.262729\n",
       "1824 2017-12-30  74.178065\n",
       "1825 2017-12-31  79.126066\n",
       "\n",
       "[1826 rows x 2 columns]"
      ]
     },
     "execution_count": 71,
     "metadata": {},
     "output_type": "execute_result"
    }
   ],
   "source": [
    "forecasted_df= forecasted[['ds', 'yhat']]\n",
    "forecasted_df"
   ]
  },
  {
   "cell_type": "code",
   "execution_count": 72,
   "id": "9fa79f56",
   "metadata": {},
   "outputs": [
    {
     "data": {
      "text/html": [
       "<div>\n",
       "<style scoped>\n",
       "    .dataframe tbody tr th:only-of-type {\n",
       "        vertical-align: middle;\n",
       "    }\n",
       "\n",
       "    .dataframe tbody tr th {\n",
       "        vertical-align: top;\n",
       "    }\n",
       "\n",
       "    .dataframe thead th {\n",
       "        text-align: right;\n",
       "    }\n",
       "</style>\n",
       "<table border=\"1\" class=\"dataframe\">\n",
       "  <thead>\n",
       "    <tr style=\"text-align: right;\">\n",
       "      <th></th>\n",
       "      <th>date</th>\n",
       "      <th>store</th>\n",
       "      <th>item</th>\n",
       "      <th>sales</th>\n",
       "    </tr>\n",
       "  </thead>\n",
       "  <tbody>\n",
       "    <tr>\n",
       "      <th>127820</th>\n",
       "      <td>2013-01-01</td>\n",
       "      <td>St1</td>\n",
       "      <td>Lay's</td>\n",
       "      <td>33</td>\n",
       "    </tr>\n",
       "    <tr>\n",
       "      <th>127821</th>\n",
       "      <td>2013-01-02</td>\n",
       "      <td>St1</td>\n",
       "      <td>Lay's</td>\n",
       "      <td>37</td>\n",
       "    </tr>\n",
       "    <tr>\n",
       "      <th>127822</th>\n",
       "      <td>2013-01-03</td>\n",
       "      <td>St1</td>\n",
       "      <td>Lay's</td>\n",
       "      <td>38</td>\n",
       "    </tr>\n",
       "    <tr>\n",
       "      <th>127823</th>\n",
       "      <td>2013-01-04</td>\n",
       "      <td>St1</td>\n",
       "      <td>Lay's</td>\n",
       "      <td>54</td>\n",
       "    </tr>\n",
       "    <tr>\n",
       "      <th>127824</th>\n",
       "      <td>2013-01-05</td>\n",
       "      <td>St1</td>\n",
       "      <td>Lay's</td>\n",
       "      <td>51</td>\n",
       "    </tr>\n",
       "    <tr>\n",
       "      <th>...</th>\n",
       "      <td>...</td>\n",
       "      <td>...</td>\n",
       "      <td>...</td>\n",
       "      <td>...</td>\n",
       "    </tr>\n",
       "    <tr>\n",
       "      <th>129641</th>\n",
       "      <td>2017-12-27</td>\n",
       "      <td>St1</td>\n",
       "      <td>Lay's</td>\n",
       "      <td>58</td>\n",
       "    </tr>\n",
       "    <tr>\n",
       "      <th>129642</th>\n",
       "      <td>2017-12-28</td>\n",
       "      <td>St1</td>\n",
       "      <td>Lay's</td>\n",
       "      <td>49</td>\n",
       "    </tr>\n",
       "    <tr>\n",
       "      <th>129643</th>\n",
       "      <td>2017-12-29</td>\n",
       "      <td>St1</td>\n",
       "      <td>Lay's</td>\n",
       "      <td>54</td>\n",
       "    </tr>\n",
       "    <tr>\n",
       "      <th>129644</th>\n",
       "      <td>2017-12-30</td>\n",
       "      <td>St1</td>\n",
       "      <td>Lay's</td>\n",
       "      <td>75</td>\n",
       "    </tr>\n",
       "    <tr>\n",
       "      <th>129645</th>\n",
       "      <td>2017-12-31</td>\n",
       "      <td>St1</td>\n",
       "      <td>Lay's</td>\n",
       "      <td>62</td>\n",
       "    </tr>\n",
       "  </tbody>\n",
       "</table>\n",
       "<p>1826 rows × 4 columns</p>\n",
       "</div>"
      ],
      "text/plain": [
       "             date store   item  sales\n",
       "127820 2013-01-01   St1  Lay's     33\n",
       "127821 2013-01-02   St1  Lay's     37\n",
       "127822 2013-01-03   St1  Lay's     38\n",
       "127823 2013-01-04   St1  Lay's     54\n",
       "127824 2013-01-05   St1  Lay's     51\n",
       "...           ...   ...    ...    ...\n",
       "129641 2017-12-27   St1  Lay's     58\n",
       "129642 2017-12-28   St1  Lay's     49\n",
       "129643 2017-12-29   St1  Lay's     54\n",
       "129644 2017-12-30   St1  Lay's     75\n",
       "129645 2017-12-31   St1  Lay's     62\n",
       "\n",
       "[1826 rows x 4 columns]"
      ]
     },
     "execution_count": 72,
     "metadata": {},
     "output_type": "execute_result"
    }
   ],
   "source": [
    "data_df2"
   ]
  },
  {
   "cell_type": "code",
   "execution_count": 73,
   "id": "3383f5ce",
   "metadata": {},
   "outputs": [],
   "source": [
    "data4= data_df2.rename(columns= {'date':'ds', 'sales': 'y'})"
   ]
  },
  {
   "cell_type": "code",
   "execution_count": 76,
   "id": "6a3f3f50",
   "metadata": {},
   "outputs": [],
   "source": [
    "data_merge= pd.merge(data4,forecasted_df, on= ['ds'], how ='inner' )"
   ]
  },
  {
   "cell_type": "code",
   "execution_count": 77,
   "id": "fcdda6ed",
   "metadata": {},
   "outputs": [
    {
     "data": {
      "text/html": [
       "<div>\n",
       "<style scoped>\n",
       "    .dataframe tbody tr th:only-of-type {\n",
       "        vertical-align: middle;\n",
       "    }\n",
       "\n",
       "    .dataframe tbody tr th {\n",
       "        vertical-align: top;\n",
       "    }\n",
       "\n",
       "    .dataframe thead th {\n",
       "        text-align: right;\n",
       "    }\n",
       "</style>\n",
       "<table border=\"1\" class=\"dataframe\">\n",
       "  <thead>\n",
       "    <tr style=\"text-align: right;\">\n",
       "      <th></th>\n",
       "      <th>ds</th>\n",
       "      <th>store</th>\n",
       "      <th>item</th>\n",
       "      <th>y</th>\n",
       "      <th>yhat</th>\n",
       "    </tr>\n",
       "  </thead>\n",
       "  <tbody>\n",
       "    <tr>\n",
       "      <th>0</th>\n",
       "      <td>2013-01-01</td>\n",
       "      <td>St1</td>\n",
       "      <td>Lay's</td>\n",
       "      <td>33</td>\n",
       "      <td>33.053333</td>\n",
       "    </tr>\n",
       "    <tr>\n",
       "      <th>1</th>\n",
       "      <td>2013-01-02</td>\n",
       "      <td>St1</td>\n",
       "      <td>Lay's</td>\n",
       "      <td>37</td>\n",
       "      <td>32.579542</td>\n",
       "    </tr>\n",
       "    <tr>\n",
       "      <th>2</th>\n",
       "      <td>2013-01-03</td>\n",
       "      <td>St1</td>\n",
       "      <td>Lay's</td>\n",
       "      <td>38</td>\n",
       "      <td>36.432553</td>\n",
       "    </tr>\n",
       "    <tr>\n",
       "      <th>3</th>\n",
       "      <td>2013-01-04</td>\n",
       "      <td>St1</td>\n",
       "      <td>Lay's</td>\n",
       "      <td>54</td>\n",
       "      <td>41.349099</td>\n",
       "    </tr>\n",
       "    <tr>\n",
       "      <th>4</th>\n",
       "      <td>2013-01-05</td>\n",
       "      <td>St1</td>\n",
       "      <td>Lay's</td>\n",
       "      <td>51</td>\n",
       "      <td>46.108570</td>\n",
       "    </tr>\n",
       "    <tr>\n",
       "      <th>...</th>\n",
       "      <td>...</td>\n",
       "      <td>...</td>\n",
       "      <td>...</td>\n",
       "      <td>...</td>\n",
       "      <td>...</td>\n",
       "    </tr>\n",
       "    <tr>\n",
       "      <th>1821</th>\n",
       "      <td>2017-12-27</td>\n",
       "      <td>St1</td>\n",
       "      <td>Lay's</td>\n",
       "      <td>58</td>\n",
       "      <td>60.216465</td>\n",
       "    </tr>\n",
       "    <tr>\n",
       "      <th>1822</th>\n",
       "      <td>2017-12-28</td>\n",
       "      <td>St1</td>\n",
       "      <td>Lay's</td>\n",
       "      <td>49</td>\n",
       "      <td>64.200196</td>\n",
       "    </tr>\n",
       "    <tr>\n",
       "      <th>1823</th>\n",
       "      <td>2017-12-29</td>\n",
       "      <td>St1</td>\n",
       "      <td>Lay's</td>\n",
       "      <td>54</td>\n",
       "      <td>69.262729</td>\n",
       "    </tr>\n",
       "    <tr>\n",
       "      <th>1824</th>\n",
       "      <td>2017-12-30</td>\n",
       "      <td>St1</td>\n",
       "      <td>Lay's</td>\n",
       "      <td>75</td>\n",
       "      <td>74.178065</td>\n",
       "    </tr>\n",
       "    <tr>\n",
       "      <th>1825</th>\n",
       "      <td>2017-12-31</td>\n",
       "      <td>St1</td>\n",
       "      <td>Lay's</td>\n",
       "      <td>62</td>\n",
       "      <td>79.126066</td>\n",
       "    </tr>\n",
       "  </tbody>\n",
       "</table>\n",
       "<p>1826 rows × 5 columns</p>\n",
       "</div>"
      ],
      "text/plain": [
       "             ds store   item   y       yhat\n",
       "0    2013-01-01   St1  Lay's  33  33.053333\n",
       "1    2013-01-02   St1  Lay's  37  32.579542\n",
       "2    2013-01-03   St1  Lay's  38  36.432553\n",
       "3    2013-01-04   St1  Lay's  54  41.349099\n",
       "4    2013-01-05   St1  Lay's  51  46.108570\n",
       "...         ...   ...    ...  ..        ...\n",
       "1821 2017-12-27   St1  Lay's  58  60.216465\n",
       "1822 2017-12-28   St1  Lay's  49  64.200196\n",
       "1823 2017-12-29   St1  Lay's  54  69.262729\n",
       "1824 2017-12-30   St1  Lay's  75  74.178065\n",
       "1825 2017-12-31   St1  Lay's  62  79.126066\n",
       "\n",
       "[1826 rows x 5 columns]"
      ]
     },
     "execution_count": 77,
     "metadata": {},
     "output_type": "execute_result"
    }
   ],
   "source": [
    "data_merge"
   ]
  },
  {
   "cell_type": "code",
   "execution_count": 57,
   "id": "75b36f8e",
   "metadata": {},
   "outputs": [],
   "source": [
    "from sklearn.metrics import mean_squared_error, r2_score, mean_absolute_error"
   ]
  },
  {
   "cell_type": "code",
   "execution_count": 58,
   "id": "cf76029c",
   "metadata": {},
   "outputs": [
    {
     "data": {
      "text/plain": [
       "81.74753603073245"
      ]
     },
     "execution_count": 58,
     "metadata": {},
     "output_type": "execute_result"
    }
   ],
   "source": [
    "mean_squared_error(data_merge.y, data_merge.yhat)"
   ]
  },
  {
   "cell_type": "code",
   "execution_count": 253,
   "id": "25d2cce6",
   "metadata": {},
   "outputs": [
    {
     "data": {
      "text/plain": [
       "10.434237525932032"
      ]
     },
     "execution_count": 253,
     "metadata": {},
     "output_type": "execute_result"
    }
   ],
   "source": [
    "import math \n",
    "\n",
    "math.sqrt(mean_squared_error(data_merge.y, data_merge.yhat))"
   ]
  },
  {
   "cell_type": "code",
   "execution_count": 254,
   "id": "a23b17d4",
   "metadata": {},
   "outputs": [],
   "source": [
    " from sklearn.metrics import mean_absolute_percentage_error"
   ]
  },
  {
   "cell_type": "code",
   "execution_count": 255,
   "id": "247cf598",
   "metadata": {},
   "outputs": [
    {
     "name": "stdout",
     "output_type": "stream",
     "text": [
      "MAPE_Score: 0.12\n"
     ]
    }
   ],
   "source": [
    "MAPE_Score= mean_absolute_percentage_error(data_merge.y, data_merge.yhat).round(2)\n",
    "print('MAPE_Score:', MAPE_Score)"
   ]
  },
  {
   "cell_type": "code",
   "execution_count": 256,
   "id": "73da352b",
   "metadata": {},
   "outputs": [
    {
     "data": {
      "text/plain": [
       "<AxesSubplot:>"
      ]
     },
     "execution_count": 256,
     "metadata": {},
     "output_type": "execute_result"
    },
    {
     "data": {
      "image/png": "[encoded data removed]",
      "text/plain": [
       "<Figure size 432x288 with 1 Axes>"
      ]
     },
     "metadata": {
      "needs_background": "light"
     },
     "output_type": "display_data"
    }
   ],
   "source": [
    "data_merge[['y', 'yhat']].plot()"
   ]
  },
  {
   "cell_type": "code",
   "execution_count": null,
   "id": "6e0f1aec",
   "metadata": {},
   "outputs": [],
   "source": []
  }
 ],
 "metadata": {
  "kernelspec": {
   "display_name": "Python 3 (ipykernel)",
   "language": "python",
   "name": "python3"
  },
  "language_info": {
   "codemirror_mode": {
    "name": "ipython",
    "version": 3
   },
   "file_extension": ".py",
   "mimetype": "text/x-python",
   "name": "python",
   "nbconvert_exporter": "python",
   "pygments_lexer": "ipython3",
   "version": "3.11.5"
  }
 },
 "nbformat": 4,
 "nbformat_minor": 5
}
