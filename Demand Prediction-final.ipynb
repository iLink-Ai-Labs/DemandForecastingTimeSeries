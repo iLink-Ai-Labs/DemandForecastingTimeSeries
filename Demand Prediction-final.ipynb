{
 "cells": [
  {
   "cell_type": "code",
   "execution_count": 1,
   "id": "4e6b7c4e",
   "metadata": {},
   "outputs": [],
   "source": [
    "import pandas as pd\n",
    "import numpy as np\n",
    "import matplotlib.pyplot as plt\n",
    "import seaborn as sns\n",
    "\n"
   ]
  },
  {
   "cell_type": "code",
   "execution_count": 2,
   "id": "d5a3b866",
   "metadata": {},
   "outputs": [],
   "source": [
    "path= 'C:\\\\Users\\\\Ramshankar\\\\OneDrive - iLink Systems Inc\\\\Documents\\\\Demand forecasting-POC\\\\Sample\\\\Dataset\\\\'\n",
    "\n",
    "\n",
    "data= pd.read_excel(path + 'item_and_store_details.xlsx', sheet_name = 'item_and_store_details')"
   ]
  },
  {
   "cell_type": "code",
   "execution_count": 3,
   "id": "2b3d6e13",
   "metadata": {},
   "outputs": [
    {
     "data": {
      "text/html": [
       "<div>\n",
       "<style scoped>\n",
       "    .dataframe tbody tr th:only-of-type {\n",
       "        vertical-align: middle;\n",
       "    }\n",
       "\n",
       "    .dataframe tbody tr th {\n",
       "        vertical-align: top;\n",
       "    }\n",
       "\n",
       "    .dataframe thead th {\n",
       "        text-align: right;\n",
       "    }\n",
       "</style>\n",
       "<table border=\"1\" class=\"dataframe\">\n",
       "  <thead>\n",
       "    <tr style=\"text-align: right;\">\n",
       "      <th></th>\n",
       "      <th>date</th>\n",
       "      <th>store</th>\n",
       "      <th>item</th>\n",
       "      <th>sales</th>\n",
       "    </tr>\n",
       "  </thead>\n",
       "  <tbody>\n",
       "    <tr>\n",
       "      <th>0</th>\n",
       "      <td>2013-01-01</td>\n",
       "      <td>1</td>\n",
       "      <td>1</td>\n",
       "      <td>13</td>\n",
       "    </tr>\n",
       "    <tr>\n",
       "      <th>1</th>\n",
       "      <td>2013-01-02</td>\n",
       "      <td>1</td>\n",
       "      <td>1</td>\n",
       "      <td>11</td>\n",
       "    </tr>\n",
       "    <tr>\n",
       "      <th>2</th>\n",
       "      <td>2013-01-03</td>\n",
       "      <td>1</td>\n",
       "      <td>1</td>\n",
       "      <td>14</td>\n",
       "    </tr>\n",
       "    <tr>\n",
       "      <th>3</th>\n",
       "      <td>2013-01-04</td>\n",
       "      <td>1</td>\n",
       "      <td>1</td>\n",
       "      <td>13</td>\n",
       "    </tr>\n",
       "    <tr>\n",
       "      <th>4</th>\n",
       "      <td>2013-01-05</td>\n",
       "      <td>1</td>\n",
       "      <td>1</td>\n",
       "      <td>10</td>\n",
       "    </tr>\n",
       "    <tr>\n",
       "      <th>...</th>\n",
       "      <td>...</td>\n",
       "      <td>...</td>\n",
       "      <td>...</td>\n",
       "      <td>...</td>\n",
       "    </tr>\n",
       "    <tr>\n",
       "      <th>912995</th>\n",
       "      <td>2017-12-27</td>\n",
       "      <td>10</td>\n",
       "      <td>50</td>\n",
       "      <td>63</td>\n",
       "    </tr>\n",
       "    <tr>\n",
       "      <th>912996</th>\n",
       "      <td>2017-12-28</td>\n",
       "      <td>10</td>\n",
       "      <td>50</td>\n",
       "      <td>59</td>\n",
       "    </tr>\n",
       "    <tr>\n",
       "      <th>912997</th>\n",
       "      <td>2017-12-29</td>\n",
       "      <td>10</td>\n",
       "      <td>50</td>\n",
       "      <td>74</td>\n",
       "    </tr>\n",
       "    <tr>\n",
       "      <th>912998</th>\n",
       "      <td>2017-12-30</td>\n",
       "      <td>10</td>\n",
       "      <td>50</td>\n",
       "      <td>62</td>\n",
       "    </tr>\n",
       "    <tr>\n",
       "      <th>912999</th>\n",
       "      <td>2017-12-31</td>\n",
       "      <td>10</td>\n",
       "      <td>50</td>\n",
       "      <td>82</td>\n",
       "    </tr>\n",
       "  </tbody>\n",
       "</table>\n",
       "<p>913000 rows × 4 columns</p>\n",
       "</div>"
      ],
      "text/plain": [
       "             date  store  item  sales\n",
       "0      2013-01-01      1     1     13\n",
       "1      2013-01-02      1     1     11\n",
       "2      2013-01-03      1     1     14\n",
       "3      2013-01-04      1     1     13\n",
       "4      2013-01-05      1     1     10\n",
       "...           ...    ...   ...    ...\n",
       "912995 2017-12-27     10    50     63\n",
       "912996 2017-12-28     10    50     59\n",
       "912997 2017-12-29     10    50     74\n",
       "912998 2017-12-30     10    50     62\n",
       "912999 2017-12-31     10    50     82\n",
       "\n",
       "[913000 rows x 4 columns]"
      ]
     },
     "execution_count": 3,
     "metadata": {},
     "output_type": "execute_result"
    }
   ],
   "source": [
    "data"
   ]
  },
  {
   "cell_type": "code",
   "execution_count": 4,
   "id": "123b5ed8",
   "metadata": {},
   "outputs": [
    {
     "data": {
      "text/html": [
       "<div>\n",
       "<style scoped>\n",
       "    .dataframe tbody tr th:only-of-type {\n",
       "        vertical-align: middle;\n",
       "    }\n",
       "\n",
       "    .dataframe tbody tr th {\n",
       "        vertical-align: top;\n",
       "    }\n",
       "\n",
       "    .dataframe thead th {\n",
       "        text-align: right;\n",
       "    }\n",
       "</style>\n",
       "<table border=\"1\" class=\"dataframe\">\n",
       "  <thead>\n",
       "    <tr style=\"text-align: right;\">\n",
       "      <th></th>\n",
       "      <th>date</th>\n",
       "      <th>store</th>\n",
       "      <th>item</th>\n",
       "      <th>sales</th>\n",
       "    </tr>\n",
       "  </thead>\n",
       "  <tbody>\n",
       "    <tr>\n",
       "      <th>0</th>\n",
       "      <td>2013-01-01</td>\n",
       "      <td>1</td>\n",
       "      <td>1</td>\n",
       "      <td>13</td>\n",
       "    </tr>\n",
       "    <tr>\n",
       "      <th>1</th>\n",
       "      <td>2013-01-02</td>\n",
       "      <td>1</td>\n",
       "      <td>1</td>\n",
       "      <td>11</td>\n",
       "    </tr>\n",
       "    <tr>\n",
       "      <th>2</th>\n",
       "      <td>2013-01-03</td>\n",
       "      <td>1</td>\n",
       "      <td>1</td>\n",
       "      <td>14</td>\n",
       "    </tr>\n",
       "    <tr>\n",
       "      <th>3</th>\n",
       "      <td>2013-01-04</td>\n",
       "      <td>1</td>\n",
       "      <td>1</td>\n",
       "      <td>13</td>\n",
       "    </tr>\n",
       "    <tr>\n",
       "      <th>4</th>\n",
       "      <td>2013-01-05</td>\n",
       "      <td>1</td>\n",
       "      <td>1</td>\n",
       "      <td>10</td>\n",
       "    </tr>\n",
       "  </tbody>\n",
       "</table>\n",
       "</div>"
      ],
      "text/plain": [
       "        date  store  item  sales\n",
       "0 2013-01-01      1     1     13\n",
       "1 2013-01-02      1     1     11\n",
       "2 2013-01-03      1     1     14\n",
       "3 2013-01-04      1     1     13\n",
       "4 2013-01-05      1     1     10"
      ]
     },
     "execution_count": 4,
     "metadata": {},
     "output_type": "execute_result"
    }
   ],
   "source": [
    "data.head()"
   ]
  },
  {
   "cell_type": "code",
   "execution_count": 5,
   "id": "5f74b078",
   "metadata": {},
   "outputs": [
    {
     "data": {
      "text/plain": [
       "(913000, 4)"
      ]
     },
     "execution_count": 5,
     "metadata": {},
     "output_type": "execute_result"
    }
   ],
   "source": [
    "data.shape"
   ]
  },
  {
   "cell_type": "code",
   "execution_count": 6,
   "id": "10e63b81",
   "metadata": {},
   "outputs": [
    {
     "data": {
      "text/plain": [
       "Index(['date', 'store', 'item', 'sales'], dtype='object')"
      ]
     },
     "execution_count": 6,
     "metadata": {},
     "output_type": "execute_result"
    }
   ],
   "source": [
    "data.columns"
   ]
  },
  {
   "cell_type": "code",
   "execution_count": 7,
   "id": "e1dc6f6d",
   "metadata": {},
   "outputs": [
    {
     "data": {
      "text/plain": [
       "10"
      ]
     },
     "execution_count": 7,
     "metadata": {},
     "output_type": "execute_result"
    }
   ],
   "source": [
    "len(data.store.unique())    #Total number of stores "
   ]
  },
  {
   "cell_type": "code",
   "execution_count": 8,
   "id": "a52f7981",
   "metadata": {},
   "outputs": [
    {
     "data": {
      "text/plain": [
       "50"
      ]
     },
     "execution_count": 8,
     "metadata": {},
     "output_type": "execute_result"
    }
   ],
   "source": [
    "len(data.item.unique())   # Total number of items."
   ]
  },
  {
   "cell_type": "markdown",
   "id": "05d89fad",
   "metadata": {},
   "source": [
    "__Selecting top 10 selling items__ "
   ]
  },
  {
   "cell_type": "code",
   "execution_count": 9,
   "id": "9efe2ce6",
   "metadata": {},
   "outputs": [],
   "source": [
    "data_filter = data[data['item'].isin([8,13,15,18,22,25,28,36,38,45])]"
   ]
  },
  {
   "cell_type": "code",
   "execution_count": 10,
   "id": "eb00a135",
   "metadata": {},
   "outputs": [
    {
     "data": {
      "text/html": [
       "<div>\n",
       "<style scoped>\n",
       "    .dataframe tbody tr th:only-of-type {\n",
       "        vertical-align: middle;\n",
       "    }\n",
       "\n",
       "    .dataframe tbody tr th {\n",
       "        vertical-align: top;\n",
       "    }\n",
       "\n",
       "    .dataframe thead th {\n",
       "        text-align: right;\n",
       "    }\n",
       "</style>\n",
       "<table border=\"1\" class=\"dataframe\">\n",
       "  <thead>\n",
       "    <tr style=\"text-align: right;\">\n",
       "      <th></th>\n",
       "      <th>date</th>\n",
       "      <th>store</th>\n",
       "      <th>item</th>\n",
       "      <th>sales</th>\n",
       "    </tr>\n",
       "  </thead>\n",
       "  <tbody>\n",
       "    <tr>\n",
       "      <th>127820</th>\n",
       "      <td>2013-01-01</td>\n",
       "      <td>1</td>\n",
       "      <td>8</td>\n",
       "      <td>33</td>\n",
       "    </tr>\n",
       "    <tr>\n",
       "      <th>127821</th>\n",
       "      <td>2013-01-02</td>\n",
       "      <td>1</td>\n",
       "      <td>8</td>\n",
       "      <td>37</td>\n",
       "    </tr>\n",
       "    <tr>\n",
       "      <th>127822</th>\n",
       "      <td>2013-01-03</td>\n",
       "      <td>1</td>\n",
       "      <td>8</td>\n",
       "      <td>38</td>\n",
       "    </tr>\n",
       "    <tr>\n",
       "      <th>127823</th>\n",
       "      <td>2013-01-04</td>\n",
       "      <td>1</td>\n",
       "      <td>8</td>\n",
       "      <td>54</td>\n",
       "    </tr>\n",
       "    <tr>\n",
       "      <th>127824</th>\n",
       "      <td>2013-01-05</td>\n",
       "      <td>1</td>\n",
       "      <td>8</td>\n",
       "      <td>51</td>\n",
       "    </tr>\n",
       "    <tr>\n",
       "      <th>...</th>\n",
       "      <td>...</td>\n",
       "      <td>...</td>\n",
       "      <td>...</td>\n",
       "      <td>...</td>\n",
       "    </tr>\n",
       "    <tr>\n",
       "      <th>821695</th>\n",
       "      <td>2017-12-27</td>\n",
       "      <td>10</td>\n",
       "      <td>45</td>\n",
       "      <td>64</td>\n",
       "    </tr>\n",
       "    <tr>\n",
       "      <th>821696</th>\n",
       "      <td>2017-12-28</td>\n",
       "      <td>10</td>\n",
       "      <td>45</td>\n",
       "      <td>79</td>\n",
       "    </tr>\n",
       "    <tr>\n",
       "      <th>821697</th>\n",
       "      <td>2017-12-29</td>\n",
       "      <td>10</td>\n",
       "      <td>45</td>\n",
       "      <td>72</td>\n",
       "    </tr>\n",
       "    <tr>\n",
       "      <th>821698</th>\n",
       "      <td>2017-12-30</td>\n",
       "      <td>10</td>\n",
       "      <td>45</td>\n",
       "      <td>76</td>\n",
       "    </tr>\n",
       "    <tr>\n",
       "      <th>821699</th>\n",
       "      <td>2017-12-31</td>\n",
       "      <td>10</td>\n",
       "      <td>45</td>\n",
       "      <td>89</td>\n",
       "    </tr>\n",
       "  </tbody>\n",
       "</table>\n",
       "<p>182600 rows × 4 columns</p>\n",
       "</div>"
      ],
      "text/plain": [
       "             date  store  item  sales\n",
       "127820 2013-01-01      1     8     33\n",
       "127821 2013-01-02      1     8     37\n",
       "127822 2013-01-03      1     8     38\n",
       "127823 2013-01-04      1     8     54\n",
       "127824 2013-01-05      1     8     51\n",
       "...           ...    ...   ...    ...\n",
       "821695 2017-12-27     10    45     64\n",
       "821696 2017-12-28     10    45     79\n",
       "821697 2017-12-29     10    45     72\n",
       "821698 2017-12-30     10    45     76\n",
       "821699 2017-12-31     10    45     89\n",
       "\n",
       "[182600 rows x 4 columns]"
      ]
     },
     "execution_count": 10,
     "metadata": {},
     "output_type": "execute_result"
    }
   ],
   "source": [
    "data_filter"
   ]
  },
  {
   "cell_type": "code",
   "execution_count": 11,
   "id": "468d268c",
   "metadata": {},
   "outputs": [
    {
     "data": {
      "text/html": [
       "<div>\n",
       "<style scoped>\n",
       "    .dataframe tbody tr th:only-of-type {\n",
       "        vertical-align: middle;\n",
       "    }\n",
       "\n",
       "    .dataframe tbody tr th {\n",
       "        vertical-align: top;\n",
       "    }\n",
       "\n",
       "    .dataframe thead th {\n",
       "        text-align: right;\n",
       "    }\n",
       "</style>\n",
       "<table border=\"1\" class=\"dataframe\">\n",
       "  <thead>\n",
       "    <tr style=\"text-align: right;\">\n",
       "      <th></th>\n",
       "      <th>date</th>\n",
       "      <th>store</th>\n",
       "      <th>item</th>\n",
       "      <th>sales</th>\n",
       "    </tr>\n",
       "  </thead>\n",
       "  <tbody>\n",
       "    <tr>\n",
       "      <th>127820</th>\n",
       "      <td>2013-01-01</td>\n",
       "      <td>1</td>\n",
       "      <td>8</td>\n",
       "      <td>33</td>\n",
       "    </tr>\n",
       "    <tr>\n",
       "      <th>127821</th>\n",
       "      <td>2013-01-02</td>\n",
       "      <td>1</td>\n",
       "      <td>8</td>\n",
       "      <td>37</td>\n",
       "    </tr>\n",
       "    <tr>\n",
       "      <th>127822</th>\n",
       "      <td>2013-01-03</td>\n",
       "      <td>1</td>\n",
       "      <td>8</td>\n",
       "      <td>38</td>\n",
       "    </tr>\n",
       "    <tr>\n",
       "      <th>127823</th>\n",
       "      <td>2013-01-04</td>\n",
       "      <td>1</td>\n",
       "      <td>8</td>\n",
       "      <td>54</td>\n",
       "    </tr>\n",
       "    <tr>\n",
       "      <th>127824</th>\n",
       "      <td>2013-01-05</td>\n",
       "      <td>1</td>\n",
       "      <td>8</td>\n",
       "      <td>51</td>\n",
       "    </tr>\n",
       "    <tr>\n",
       "      <th>127825</th>\n",
       "      <td>2013-01-06</td>\n",
       "      <td>1</td>\n",
       "      <td>8</td>\n",
       "      <td>60</td>\n",
       "    </tr>\n",
       "    <tr>\n",
       "      <th>127826</th>\n",
       "      <td>2013-01-07</td>\n",
       "      <td>1</td>\n",
       "      <td>8</td>\n",
       "      <td>28</td>\n",
       "    </tr>\n",
       "    <tr>\n",
       "      <th>127827</th>\n",
       "      <td>2013-01-08</td>\n",
       "      <td>1</td>\n",
       "      <td>8</td>\n",
       "      <td>34</td>\n",
       "    </tr>\n",
       "    <tr>\n",
       "      <th>127828</th>\n",
       "      <td>2013-01-09</td>\n",
       "      <td>1</td>\n",
       "      <td>8</td>\n",
       "      <td>40</td>\n",
       "    </tr>\n",
       "    <tr>\n",
       "      <th>127829</th>\n",
       "      <td>2013-01-10</td>\n",
       "      <td>1</td>\n",
       "      <td>8</td>\n",
       "      <td>43</td>\n",
       "    </tr>\n",
       "  </tbody>\n",
       "</table>\n",
       "</div>"
      ],
      "text/plain": [
       "             date  store  item  sales\n",
       "127820 2013-01-01      1     8     33\n",
       "127821 2013-01-02      1     8     37\n",
       "127822 2013-01-03      1     8     38\n",
       "127823 2013-01-04      1     8     54\n",
       "127824 2013-01-05      1     8     51\n",
       "127825 2013-01-06      1     8     60\n",
       "127826 2013-01-07      1     8     28\n",
       "127827 2013-01-08      1     8     34\n",
       "127828 2013-01-09      1     8     40\n",
       "127829 2013-01-10      1     8     43"
      ]
     },
     "execution_count": 11,
     "metadata": {},
     "output_type": "execute_result"
    }
   ],
   "source": [
    "data_filter.head(10)"
   ]
  },
  {
   "cell_type": "code",
   "execution_count": 12,
   "id": "6f2e9804",
   "metadata": {},
   "outputs": [
    {
     "data": {
      "text/html": [
       "<div>\n",
       "<style scoped>\n",
       "    .dataframe tbody tr th:only-of-type {\n",
       "        vertical-align: middle;\n",
       "    }\n",
       "\n",
       "    .dataframe tbody tr th {\n",
       "        vertical-align: top;\n",
       "    }\n",
       "\n",
       "    .dataframe thead th {\n",
       "        text-align: right;\n",
       "    }\n",
       "</style>\n",
       "<table border=\"1\" class=\"dataframe\">\n",
       "  <thead>\n",
       "    <tr style=\"text-align: right;\">\n",
       "      <th></th>\n",
       "      <th>date</th>\n",
       "      <th>store</th>\n",
       "      <th>item</th>\n",
       "      <th>sales</th>\n",
       "    </tr>\n",
       "  </thead>\n",
       "  <tbody>\n",
       "    <tr>\n",
       "      <th>821690</th>\n",
       "      <td>2017-12-22</td>\n",
       "      <td>10</td>\n",
       "      <td>45</td>\n",
       "      <td>81</td>\n",
       "    </tr>\n",
       "    <tr>\n",
       "      <th>821691</th>\n",
       "      <td>2017-12-23</td>\n",
       "      <td>10</td>\n",
       "      <td>45</td>\n",
       "      <td>77</td>\n",
       "    </tr>\n",
       "    <tr>\n",
       "      <th>821692</th>\n",
       "      <td>2017-12-24</td>\n",
       "      <td>10</td>\n",
       "      <td>45</td>\n",
       "      <td>93</td>\n",
       "    </tr>\n",
       "    <tr>\n",
       "      <th>821693</th>\n",
       "      <td>2017-12-25</td>\n",
       "      <td>10</td>\n",
       "      <td>45</td>\n",
       "      <td>65</td>\n",
       "    </tr>\n",
       "    <tr>\n",
       "      <th>821694</th>\n",
       "      <td>2017-12-26</td>\n",
       "      <td>10</td>\n",
       "      <td>45</td>\n",
       "      <td>87</td>\n",
       "    </tr>\n",
       "    <tr>\n",
       "      <th>821695</th>\n",
       "      <td>2017-12-27</td>\n",
       "      <td>10</td>\n",
       "      <td>45</td>\n",
       "      <td>64</td>\n",
       "    </tr>\n",
       "    <tr>\n",
       "      <th>821696</th>\n",
       "      <td>2017-12-28</td>\n",
       "      <td>10</td>\n",
       "      <td>45</td>\n",
       "      <td>79</td>\n",
       "    </tr>\n",
       "    <tr>\n",
       "      <th>821697</th>\n",
       "      <td>2017-12-29</td>\n",
       "      <td>10</td>\n",
       "      <td>45</td>\n",
       "      <td>72</td>\n",
       "    </tr>\n",
       "    <tr>\n",
       "      <th>821698</th>\n",
       "      <td>2017-12-30</td>\n",
       "      <td>10</td>\n",
       "      <td>45</td>\n",
       "      <td>76</td>\n",
       "    </tr>\n",
       "    <tr>\n",
       "      <th>821699</th>\n",
       "      <td>2017-12-31</td>\n",
       "      <td>10</td>\n",
       "      <td>45</td>\n",
       "      <td>89</td>\n",
       "    </tr>\n",
       "  </tbody>\n",
       "</table>\n",
       "</div>"
      ],
      "text/plain": [
       "             date  store  item  sales\n",
       "821690 2017-12-22     10    45     81\n",
       "821691 2017-12-23     10    45     77\n",
       "821692 2017-12-24     10    45     93\n",
       "821693 2017-12-25     10    45     65\n",
       "821694 2017-12-26     10    45     87\n",
       "821695 2017-12-27     10    45     64\n",
       "821696 2017-12-28     10    45     79\n",
       "821697 2017-12-29     10    45     72\n",
       "821698 2017-12-30     10    45     76\n",
       "821699 2017-12-31     10    45     89"
      ]
     },
     "execution_count": 12,
     "metadata": {},
     "output_type": "execute_result"
    }
   ],
   "source": [
    "data_filter.tail(10)"
   ]
  },
  {
   "cell_type": "code",
   "execution_count": 13,
   "id": "c8b7bbba",
   "metadata": {},
   "outputs": [
    {
     "data": {
      "text/plain": [
       "array([ 1,  2,  3,  4,  5,  6,  7,  8,  9, 10], dtype=int64)"
      ]
     },
     "execution_count": 13,
     "metadata": {},
     "output_type": "execute_result"
    }
   ],
   "source": [
    "data_filter.store.unique()"
   ]
  },
  {
   "cell_type": "code",
   "execution_count": 14,
   "id": "5f38432c",
   "metadata": {},
   "outputs": [
    {
     "name": "stderr",
     "output_type": "stream",
     "text": [
      "C:\\Users\\Ramshankar\\AppData\\Local\\Temp\\ipykernel_15304\\831078164.py:1: SettingWithCopyWarning: \n",
      "A value is trying to be set on a copy of a slice from a DataFrame.\n",
      "Try using .loc[row_indexer,col_indexer] = value instead\n",
      "\n",
      "See the caveats in the documentation: https://pandas.pydata.org/pandas-docs/stable/user_guide/indexing.html#returning-a-view-versus-a-copy\n",
      "  data_filter['store'] = data_filter['store'].replace([1,2,3,4,5,6,7,8,9,10],['St1', 'St2','St3','St4',\\\n"
     ]
    }
   ],
   "source": [
    "data_filter['store'] = data_filter['store'].replace([1,2,3,4,5,6,7,8,9,10],['St1', 'St2','St3','St4',\\\n",
    "                                                                           'St5', 'St6', 'St7', 'St8',\\\n",
    "                                                                           'St9', 'St10'])"
   ]
  },
  {
   "cell_type": "code",
   "execution_count": 15,
   "id": "ef1691b0",
   "metadata": {},
   "outputs": [
    {
     "data": {
      "text/html": [
       "<div>\n",
       "<style scoped>\n",
       "    .dataframe tbody tr th:only-of-type {\n",
       "        vertical-align: middle;\n",
       "    }\n",
       "\n",
       "    .dataframe tbody tr th {\n",
       "        vertical-align: top;\n",
       "    }\n",
       "\n",
       "    .dataframe thead th {\n",
       "        text-align: right;\n",
       "    }\n",
       "</style>\n",
       "<table border=\"1\" class=\"dataframe\">\n",
       "  <thead>\n",
       "    <tr style=\"text-align: right;\">\n",
       "      <th></th>\n",
       "      <th>date</th>\n",
       "      <th>store</th>\n",
       "      <th>item</th>\n",
       "      <th>sales</th>\n",
       "    </tr>\n",
       "  </thead>\n",
       "  <tbody>\n",
       "    <tr>\n",
       "      <th>127820</th>\n",
       "      <td>2013-01-01</td>\n",
       "      <td>St1</td>\n",
       "      <td>8</td>\n",
       "      <td>33</td>\n",
       "    </tr>\n",
       "    <tr>\n",
       "      <th>127821</th>\n",
       "      <td>2013-01-02</td>\n",
       "      <td>St1</td>\n",
       "      <td>8</td>\n",
       "      <td>37</td>\n",
       "    </tr>\n",
       "    <tr>\n",
       "      <th>127822</th>\n",
       "      <td>2013-01-03</td>\n",
       "      <td>St1</td>\n",
       "      <td>8</td>\n",
       "      <td>38</td>\n",
       "    </tr>\n",
       "    <tr>\n",
       "      <th>127823</th>\n",
       "      <td>2013-01-04</td>\n",
       "      <td>St1</td>\n",
       "      <td>8</td>\n",
       "      <td>54</td>\n",
       "    </tr>\n",
       "    <tr>\n",
       "      <th>127824</th>\n",
       "      <td>2013-01-05</td>\n",
       "      <td>St1</td>\n",
       "      <td>8</td>\n",
       "      <td>51</td>\n",
       "    </tr>\n",
       "  </tbody>\n",
       "</table>\n",
       "</div>"
      ],
      "text/plain": [
       "             date store  item  sales\n",
       "127820 2013-01-01   St1     8     33\n",
       "127821 2013-01-02   St1     8     37\n",
       "127822 2013-01-03   St1     8     38\n",
       "127823 2013-01-04   St1     8     54\n",
       "127824 2013-01-05   St1     8     51"
      ]
     },
     "execution_count": 15,
     "metadata": {},
     "output_type": "execute_result"
    }
   ],
   "source": [
    "data_filter.head()"
   ]
  },
  {
   "cell_type": "code",
   "execution_count": 16,
   "id": "b199ea34",
   "metadata": {},
   "outputs": [
    {
     "data": {
      "text/html": [
       "<div>\n",
       "<style scoped>\n",
       "    .dataframe tbody tr th:only-of-type {\n",
       "        vertical-align: middle;\n",
       "    }\n",
       "\n",
       "    .dataframe tbody tr th {\n",
       "        vertical-align: top;\n",
       "    }\n",
       "\n",
       "    .dataframe thead th {\n",
       "        text-align: right;\n",
       "    }\n",
       "</style>\n",
       "<table border=\"1\" class=\"dataframe\">\n",
       "  <thead>\n",
       "    <tr style=\"text-align: right;\">\n",
       "      <th></th>\n",
       "      <th>date</th>\n",
       "      <th>store</th>\n",
       "      <th>item</th>\n",
       "      <th>sales</th>\n",
       "    </tr>\n",
       "  </thead>\n",
       "  <tbody>\n",
       "    <tr>\n",
       "      <th>821695</th>\n",
       "      <td>2017-12-27</td>\n",
       "      <td>St10</td>\n",
       "      <td>45</td>\n",
       "      <td>64</td>\n",
       "    </tr>\n",
       "    <tr>\n",
       "      <th>821696</th>\n",
       "      <td>2017-12-28</td>\n",
       "      <td>St10</td>\n",
       "      <td>45</td>\n",
       "      <td>79</td>\n",
       "    </tr>\n",
       "    <tr>\n",
       "      <th>821697</th>\n",
       "      <td>2017-12-29</td>\n",
       "      <td>St10</td>\n",
       "      <td>45</td>\n",
       "      <td>72</td>\n",
       "    </tr>\n",
       "    <tr>\n",
       "      <th>821698</th>\n",
       "      <td>2017-12-30</td>\n",
       "      <td>St10</td>\n",
       "      <td>45</td>\n",
       "      <td>76</td>\n",
       "    </tr>\n",
       "    <tr>\n",
       "      <th>821699</th>\n",
       "      <td>2017-12-31</td>\n",
       "      <td>St10</td>\n",
       "      <td>45</td>\n",
       "      <td>89</td>\n",
       "    </tr>\n",
       "  </tbody>\n",
       "</table>\n",
       "</div>"
      ],
      "text/plain": [
       "             date store  item  sales\n",
       "821695 2017-12-27  St10    45     64\n",
       "821696 2017-12-28  St10    45     79\n",
       "821697 2017-12-29  St10    45     72\n",
       "821698 2017-12-30  St10    45     76\n",
       "821699 2017-12-31  St10    45     89"
      ]
     },
     "execution_count": 16,
     "metadata": {},
     "output_type": "execute_result"
    }
   ],
   "source": [
    "data_filter.tail()"
   ]
  },
  {
   "cell_type": "code",
   "execution_count": 17,
   "id": "6efa3f4c",
   "metadata": {},
   "outputs": [
    {
     "data": {
      "text/plain": [
       "127820     8\n",
       "127821     8\n",
       "127822     8\n",
       "127823     8\n",
       "127824     8\n",
       "          ..\n",
       "821695    45\n",
       "821696    45\n",
       "821697    45\n",
       "821698    45\n",
       "821699    45\n",
       "Name: item, Length: 182600, dtype: int64"
      ]
     },
     "execution_count": 17,
     "metadata": {},
     "output_type": "execute_result"
    }
   ],
   "source": [
    "data_filter.item"
   ]
  },
  {
   "cell_type": "code",
   "execution_count": 18,
   "id": "25c80e8e",
   "metadata": {},
   "outputs": [
    {
     "name": "stderr",
     "output_type": "stream",
     "text": [
      "C:\\Users\\Ramshankar\\AppData\\Local\\Temp\\ipykernel_15304\\1329963114.py:1: SettingWithCopyWarning: \n",
      "A value is trying to be set on a copy of a slice from a DataFrame.\n",
      "Try using .loc[row_indexer,col_indexer] = value instead\n",
      "\n",
      "See the caveats in the documentation: https://pandas.pydata.org/pandas-docs/stable/user_guide/indexing.html#returning-a-view-versus-a-copy\n",
      "  data_filter['item'] = data_filter['item'].replace([8,13,15,18,22,25,28,36,38,45],[\"Lay's\", 'Kurkure','Bingo','Haldiram',\\\n"
     ]
    }
   ],
   "source": [
    "data_filter['item'] = data_filter['item'].replace([8,13,15,18,22,25,28,36,38,45],[\"Lay's\", 'Kurkure','Bingo','Haldiram',\\\n",
    "                                                                           'Peanuts', 'Banana Chips', 'Too Yum', 'Parle-G',\\\n",
    "                                                                           'Fruit Cake', 'Wafers'])"
   ]
  },
  {
   "cell_type": "code",
   "execution_count": 19,
   "id": "3b8a47e7",
   "metadata": {},
   "outputs": [
    {
     "data": {
      "text/html": [
       "<div>\n",
       "<style scoped>\n",
       "    .dataframe tbody tr th:only-of-type {\n",
       "        vertical-align: middle;\n",
       "    }\n",
       "\n",
       "    .dataframe tbody tr th {\n",
       "        vertical-align: top;\n",
       "    }\n",
       "\n",
       "    .dataframe thead th {\n",
       "        text-align: right;\n",
       "    }\n",
       "</style>\n",
       "<table border=\"1\" class=\"dataframe\">\n",
       "  <thead>\n",
       "    <tr style=\"text-align: right;\">\n",
       "      <th></th>\n",
       "      <th>date</th>\n",
       "      <th>store</th>\n",
       "      <th>item</th>\n",
       "      <th>sales</th>\n",
       "    </tr>\n",
       "  </thead>\n",
       "  <tbody>\n",
       "    <tr>\n",
       "      <th>127820</th>\n",
       "      <td>2013-01-01</td>\n",
       "      <td>St1</td>\n",
       "      <td>Lay's</td>\n",
       "      <td>33</td>\n",
       "    </tr>\n",
       "    <tr>\n",
       "      <th>127821</th>\n",
       "      <td>2013-01-02</td>\n",
       "      <td>St1</td>\n",
       "      <td>Lay's</td>\n",
       "      <td>37</td>\n",
       "    </tr>\n",
       "    <tr>\n",
       "      <th>127822</th>\n",
       "      <td>2013-01-03</td>\n",
       "      <td>St1</td>\n",
       "      <td>Lay's</td>\n",
       "      <td>38</td>\n",
       "    </tr>\n",
       "    <tr>\n",
       "      <th>127823</th>\n",
       "      <td>2013-01-04</td>\n",
       "      <td>St1</td>\n",
       "      <td>Lay's</td>\n",
       "      <td>54</td>\n",
       "    </tr>\n",
       "    <tr>\n",
       "      <th>127824</th>\n",
       "      <td>2013-01-05</td>\n",
       "      <td>St1</td>\n",
       "      <td>Lay's</td>\n",
       "      <td>51</td>\n",
       "    </tr>\n",
       "    <tr>\n",
       "      <th>...</th>\n",
       "      <td>...</td>\n",
       "      <td>...</td>\n",
       "      <td>...</td>\n",
       "      <td>...</td>\n",
       "    </tr>\n",
       "    <tr>\n",
       "      <th>821695</th>\n",
       "      <td>2017-12-27</td>\n",
       "      <td>St10</td>\n",
       "      <td>Wafers</td>\n",
       "      <td>64</td>\n",
       "    </tr>\n",
       "    <tr>\n",
       "      <th>821696</th>\n",
       "      <td>2017-12-28</td>\n",
       "      <td>St10</td>\n",
       "      <td>Wafers</td>\n",
       "      <td>79</td>\n",
       "    </tr>\n",
       "    <tr>\n",
       "      <th>821697</th>\n",
       "      <td>2017-12-29</td>\n",
       "      <td>St10</td>\n",
       "      <td>Wafers</td>\n",
       "      <td>72</td>\n",
       "    </tr>\n",
       "    <tr>\n",
       "      <th>821698</th>\n",
       "      <td>2017-12-30</td>\n",
       "      <td>St10</td>\n",
       "      <td>Wafers</td>\n",
       "      <td>76</td>\n",
       "    </tr>\n",
       "    <tr>\n",
       "      <th>821699</th>\n",
       "      <td>2017-12-31</td>\n",
       "      <td>St10</td>\n",
       "      <td>Wafers</td>\n",
       "      <td>89</td>\n",
       "    </tr>\n",
       "  </tbody>\n",
       "</table>\n",
       "<p>182600 rows × 4 columns</p>\n",
       "</div>"
      ],
      "text/plain": [
       "             date store    item  sales\n",
       "127820 2013-01-01   St1   Lay's     33\n",
       "127821 2013-01-02   St1   Lay's     37\n",
       "127822 2013-01-03   St1   Lay's     38\n",
       "127823 2013-01-04   St1   Lay's     54\n",
       "127824 2013-01-05   St1   Lay's     51\n",
       "...           ...   ...     ...    ...\n",
       "821695 2017-12-27  St10  Wafers     64\n",
       "821696 2017-12-28  St10  Wafers     79\n",
       "821697 2017-12-29  St10  Wafers     72\n",
       "821698 2017-12-30  St10  Wafers     76\n",
       "821699 2017-12-31  St10  Wafers     89\n",
       "\n",
       "[182600 rows x 4 columns]"
      ]
     },
     "execution_count": 19,
     "metadata": {},
     "output_type": "execute_result"
    }
   ],
   "source": [
    "data_filter"
   ]
  },
  {
   "cell_type": "markdown",
   "id": "3205b969",
   "metadata": {},
   "source": [
    "# Checking Stationarity\n",
    "### Adfuller Test"
   ]
  },
  {
   "cell_type": "code",
   "execution_count": null,
   "id": "8e1b22bf",
   "metadata": {},
   "outputs": [],
   "source": [
    "from statsmodels.tsa.stattools import adfuller\n",
    "\n",
    "dftest = adfuller(data_filter['sales'], autolag = 'AIC')\n",
    "\n",
    "print(\"1. ADF : \",dftest[0])\n",
    "print(\"2. P-Value : \", dftest[1])"
   ]
  },
  {
   "cell_type": "markdown",
   "id": "ffa28d06",
   "metadata": {},
   "source": [
    "Null hypothesis: Time series is non-stationary.\n",
    "\n",
    "Alternative hypothesis: Time series is stationary.\n",
    "\n",
    "As p value is p<0.05 we reject the null hypothesis and accept the alternative hypothesis. "
   ]
  },
  {
   "cell_type": "markdown",
   "id": "31a2b52c",
   "metadata": {},
   "source": [
    "### Kwiatkowski-Phillips-Schmidt-Shin (KPSS) test"
   ]
  },
  {
   "cell_type": "code",
   "execution_count": null,
   "id": "5e74aaf8",
   "metadata": {},
   "outputs": [],
   "source": [
    "from statsmodels.tsa.stattools import kpss\n",
    "kpss_test = kpss(data_filter['sales'])\n",
    "\n",
    "print('KPSS Statistic: %f' % kpss_test[0])\n",
    "print('p-value: %f' % kpss_test[1])"
   ]
  },
  {
   "cell_type": "markdown",
   "id": "ee3f13a7",
   "metadata": {},
   "source": [
    "Null hypothesis: Time series is stationary.\n",
    "\n",
    "Alternative hypothesis: Time series is non-stationary.\n",
    "\n",
    "As p value is p>0.05 we accept the null hypothesis and reject the alternative hypothesis. "
   ]
  },
  {
   "cell_type": "code",
   "execution_count": null,
   "id": "f34e15db",
   "metadata": {},
   "outputs": [],
   "source": [
    "# data_filter.to_excel('Retail_sales_dt.xlsx', index=False)"
   ]
  },
  {
   "cell_type": "markdown",
   "id": "5259743c",
   "metadata": {},
   "source": [
    "# Time Series Decomposition"
   ]
  },
  {
   "cell_type": "code",
   "execution_count": 20,
   "id": "c04b3502",
   "metadata": {},
   "outputs": [
    {
     "data": {
      "text/plain": [
       "(Timestamp('2017-12-31 00:00:00'), Timestamp('2013-01-01 00:00:00'))"
      ]
     },
     "execution_count": 20,
     "metadata": {},
     "output_type": "execute_result"
    }
   ],
   "source": [
    "data_filter.date.max(), data_filter.date.min()"
   ]
  },
  {
   "cell_type": "code",
   "execution_count": 21,
   "id": "da29a341",
   "metadata": {},
   "outputs": [],
   "source": [
    "import copy\n",
    "data_df= copy.deepcopy(data_filter)"
   ]
  },
  {
   "cell_type": "code",
   "execution_count": 22,
   "id": "9886d9a9",
   "metadata": {},
   "outputs": [
    {
     "data": {
      "text/html": [
       "<div>\n",
       "<style scoped>\n",
       "    .dataframe tbody tr th:only-of-type {\n",
       "        vertical-align: middle;\n",
       "    }\n",
       "\n",
       "    .dataframe tbody tr th {\n",
       "        vertical-align: top;\n",
       "    }\n",
       "\n",
       "    .dataframe thead th {\n",
       "        text-align: right;\n",
       "    }\n",
       "</style>\n",
       "<table border=\"1\" class=\"dataframe\">\n",
       "  <thead>\n",
       "    <tr style=\"text-align: right;\">\n",
       "      <th></th>\n",
       "      <th>store</th>\n",
       "      <th>item</th>\n",
       "      <th>sales</th>\n",
       "    </tr>\n",
       "    <tr>\n",
       "      <th>date</th>\n",
       "      <th></th>\n",
       "      <th></th>\n",
       "      <th></th>\n",
       "    </tr>\n",
       "  </thead>\n",
       "  <tbody>\n",
       "    <tr>\n",
       "      <th>2013-01-01</th>\n",
       "      <td>St1</td>\n",
       "      <td>Lay's</td>\n",
       "      <td>33</td>\n",
       "    </tr>\n",
       "    <tr>\n",
       "      <th>2013-01-02</th>\n",
       "      <td>St1</td>\n",
       "      <td>Lay's</td>\n",
       "      <td>37</td>\n",
       "    </tr>\n",
       "    <tr>\n",
       "      <th>2013-01-03</th>\n",
       "      <td>St1</td>\n",
       "      <td>Lay's</td>\n",
       "      <td>38</td>\n",
       "    </tr>\n",
       "    <tr>\n",
       "      <th>2013-01-04</th>\n",
       "      <td>St1</td>\n",
       "      <td>Lay's</td>\n",
       "      <td>54</td>\n",
       "    </tr>\n",
       "    <tr>\n",
       "      <th>2013-01-05</th>\n",
       "      <td>St1</td>\n",
       "      <td>Lay's</td>\n",
       "      <td>51</td>\n",
       "    </tr>\n",
       "    <tr>\n",
       "      <th>...</th>\n",
       "      <td>...</td>\n",
       "      <td>...</td>\n",
       "      <td>...</td>\n",
       "    </tr>\n",
       "    <tr>\n",
       "      <th>2017-12-27</th>\n",
       "      <td>St10</td>\n",
       "      <td>Wafers</td>\n",
       "      <td>64</td>\n",
       "    </tr>\n",
       "    <tr>\n",
       "      <th>2017-12-28</th>\n",
       "      <td>St10</td>\n",
       "      <td>Wafers</td>\n",
       "      <td>79</td>\n",
       "    </tr>\n",
       "    <tr>\n",
       "      <th>2017-12-29</th>\n",
       "      <td>St10</td>\n",
       "      <td>Wafers</td>\n",
       "      <td>72</td>\n",
       "    </tr>\n",
       "    <tr>\n",
       "      <th>2017-12-30</th>\n",
       "      <td>St10</td>\n",
       "      <td>Wafers</td>\n",
       "      <td>76</td>\n",
       "    </tr>\n",
       "    <tr>\n",
       "      <th>2017-12-31</th>\n",
       "      <td>St10</td>\n",
       "      <td>Wafers</td>\n",
       "      <td>89</td>\n",
       "    </tr>\n",
       "  </tbody>\n",
       "</table>\n",
       "<p>182600 rows × 3 columns</p>\n",
       "</div>"
      ],
      "text/plain": [
       "           store    item  sales\n",
       "date                           \n",
       "2013-01-01   St1   Lay's     33\n",
       "2013-01-02   St1   Lay's     37\n",
       "2013-01-03   St1   Lay's     38\n",
       "2013-01-04   St1   Lay's     54\n",
       "2013-01-05   St1   Lay's     51\n",
       "...          ...     ...    ...\n",
       "2017-12-27  St10  Wafers     64\n",
       "2017-12-28  St10  Wafers     79\n",
       "2017-12-29  St10  Wafers     72\n",
       "2017-12-30  St10  Wafers     76\n",
       "2017-12-31  St10  Wafers     89\n",
       "\n",
       "[182600 rows x 3 columns]"
      ]
     },
     "execution_count": 22,
     "metadata": {},
     "output_type": "execute_result"
    }
   ],
   "source": [
    "data_df.set_index('date')"
   ]
  },
  {
   "cell_type": "code",
   "execution_count": 23,
   "id": "cb365927",
   "metadata": {},
   "outputs": [],
   "source": [
    "data_df2 = data_df[(data_df['store']== 'St1') & (data_df['item']== \"Lay's\")]"
   ]
  },
  {
   "cell_type": "markdown",
   "id": "c64445dc",
   "metadata": {},
   "source": [
    "#### Multiplicative"
   ]
  },
  {
   "cell_type": "code",
   "execution_count": null,
   "id": "b32343bc",
   "metadata": {},
   "outputs": [],
   "source": [
    "from statsmodels.tsa.seasonal import seasonal_decompose\n",
    "\n",
    "result=seasonal_decompose(data_df2['sales'], model='multiplicable', period=365, extrapolate_trend= 'freq')"
   ]
  },
  {
   "cell_type": "code",
   "execution_count": null,
   "id": "e0b99602",
   "metadata": {},
   "outputs": [],
   "source": [
    "result.plot()"
   ]
  },
  {
   "cell_type": "markdown",
   "id": "6a6a78f6",
   "metadata": {},
   "source": [
    "#### Additive"
   ]
  },
  {
   "cell_type": "code",
   "execution_count": null,
   "id": "28a378b0",
   "metadata": {},
   "outputs": [],
   "source": [
    "from statsmodels.tsa.seasonal import seasonal_decompose\n",
    "\n",
    "result1 =seasonal_decompose(data_df2['sales'], model='additive', period=int(365.25), extrapolate_trend= 'freq')"
   ]
  },
  {
   "cell_type": "code",
   "execution_count": null,
   "id": "28649799",
   "metadata": {},
   "outputs": [],
   "source": [
    "result1.plot()"
   ]
  },
  {
   "cell_type": "code",
   "execution_count": null,
   "id": "af774081",
   "metadata": {},
   "outputs": [],
   "source": [
    "data_df.head()"
   ]
  },
  {
   "cell_type": "code",
   "execution_count": null,
   "id": "2e280e7f",
   "metadata": {},
   "outputs": [],
   "source": [
    "data_df.tail()"
   ]
  },
  {
   "cell_type": "markdown",
   "id": "e65cd8aa",
   "metadata": {},
   "source": [
    "### All in One"
   ]
  },
  {
   "cell_type": "code",
   "execution_count": null,
   "id": "f714149b",
   "metadata": {},
   "outputs": [],
   "source": [
    "for i in data_df['store'].unique():\n",
    "#     print(i)\n",
    "    df= data_df[data_df['store']==i]\n",
    "    for j in df['item'].unique():\n",
    "#         print(i, \":- \", j)\n",
    "        item_data = df[df['item']==j]\n",
    "#         print(item_data)\n",
    "        \n",
    "        item_data= item_data.drop(['store', 'item'], axis=1)\n",
    "        item_data.set_index('date')\n",
    "#         print(item_data)\n",
    "        time_series = item_data.index  #Get dates for test data\n",
    "        \n",
    "        result=seasonal_decompose(item_data['sales'], model='Additive', period=int(365.25), extrapolate_trend= 'freq')\n",
    "        \n",
    "        #Results\n",
    "        se_out= pd.DataFrame()\n",
    "        se_out['Trend'] = result.trend\n",
    "        se_out['seasonality']  = result.seasonal\n",
    "        se_out['remainder']  = result.resid\n",
    "#         se_out['Date']= train_dates.values\n",
    "        df_out = pd.concat([item_data,se_out], axis=1 )\n",
    "    \n",
    "        \n",
    "        #Saving Results \n",
    "        df_out['Store']= i\n",
    "        df_out['Item']=j\n",
    "        \n",
    "        predction_output = \"Seasonality\\season_\" +i+\"-\"+j+\".xlsx\"\n",
    "        df_out.to_excel(predction_output, index= False)\n",
    "        \n",
    "#         print(df_out)"
   ]
  },
  {
   "cell_type": "code",
   "execution_count": null,
   "id": "3a8c9525",
   "metadata": {},
   "outputs": [],
   "source": [
    "import pandas as pd\n",
    "import os\n",
    "import glob"
   ]
  },
  {
   "cell_type": "code",
   "execution_count": null,
   "id": "b0361c5b",
   "metadata": {},
   "outputs": [],
   "source": [
    "path = 'C:\\\\Users\\\\Ramshankar\\\\OneDrive - iLink Systems Inc\\\\Documents\\\\Demand forecasting-POC\\\\Notebooks\\\\Seasonality'\n",
    "out_files = glob.glob(os.path.join(path, \"*.xlsx\"))\n",
    "   \n",
    "dfs= []\n",
    "\n",
    "\n",
    "for f in out_files:\n",
    "    dfs.append(pd.read_excel(f))\n",
    "df_season=pd.concat(dfs, ignore_index=True)"
   ]
  },
  {
   "cell_type": "code",
   "execution_count": null,
   "id": "d756e7ff",
   "metadata": {},
   "outputs": [],
   "source": [
    "df_season"
   ]
  },
  {
   "cell_type": "code",
   "execution_count": null,
   "id": "c09d664b",
   "metadata": {},
   "outputs": [],
   "source": [
    "# df_season.to_excel('Seasonality_Additive_all.xlsx', index=False)"
   ]
  },
  {
   "cell_type": "markdown",
   "id": "1016ee26",
   "metadata": {},
   "source": [
    "### Modelling: All in One "
   ]
  },
  {
   "cell_type": "code",
   "execution_count": 24,
   "id": "3e64cc76",
   "metadata": {},
   "outputs": [
    {
     "data": {
      "text/html": [
       "<div>\n",
       "<style scoped>\n",
       "    .dataframe tbody tr th:only-of-type {\n",
       "        vertical-align: middle;\n",
       "    }\n",
       "\n",
       "    .dataframe tbody tr th {\n",
       "        vertical-align: top;\n",
       "    }\n",
       "\n",
       "    .dataframe thead th {\n",
       "        text-align: right;\n",
       "    }\n",
       "</style>\n",
       "<table border=\"1\" class=\"dataframe\">\n",
       "  <thead>\n",
       "    <tr style=\"text-align: right;\">\n",
       "      <th></th>\n",
       "      <th>date</th>\n",
       "      <th>store</th>\n",
       "      <th>item</th>\n",
       "      <th>sales</th>\n",
       "    </tr>\n",
       "  </thead>\n",
       "  <tbody>\n",
       "    <tr>\n",
       "      <th>127820</th>\n",
       "      <td>2013-01-01</td>\n",
       "      <td>St1</td>\n",
       "      <td>Lay's</td>\n",
       "      <td>33</td>\n",
       "    </tr>\n",
       "    <tr>\n",
       "      <th>127821</th>\n",
       "      <td>2013-01-02</td>\n",
       "      <td>St1</td>\n",
       "      <td>Lay's</td>\n",
       "      <td>37</td>\n",
       "    </tr>\n",
       "    <tr>\n",
       "      <th>127822</th>\n",
       "      <td>2013-01-03</td>\n",
       "      <td>St1</td>\n",
       "      <td>Lay's</td>\n",
       "      <td>38</td>\n",
       "    </tr>\n",
       "    <tr>\n",
       "      <th>127823</th>\n",
       "      <td>2013-01-04</td>\n",
       "      <td>St1</td>\n",
       "      <td>Lay's</td>\n",
       "      <td>54</td>\n",
       "    </tr>\n",
       "    <tr>\n",
       "      <th>127824</th>\n",
       "      <td>2013-01-05</td>\n",
       "      <td>St1</td>\n",
       "      <td>Lay's</td>\n",
       "      <td>51</td>\n",
       "    </tr>\n",
       "  </tbody>\n",
       "</table>\n",
       "</div>"
      ],
      "text/plain": [
       "             date store   item  sales\n",
       "127820 2013-01-01   St1  Lay's     33\n",
       "127821 2013-01-02   St1  Lay's     37\n",
       "127822 2013-01-03   St1  Lay's     38\n",
       "127823 2013-01-04   St1  Lay's     54\n",
       "127824 2013-01-05   St1  Lay's     51"
      ]
     },
     "execution_count": 24,
     "metadata": {},
     "output_type": "execute_result"
    }
   ],
   "source": [
    "import copy\n",
    "data_df= copy.deepcopy(data_filter)\n",
    "data_df.head()"
   ]
  },
  {
   "cell_type": "markdown",
   "id": "f94bed33",
   "metadata": {},
   "source": [
    "### ARIMA Model"
   ]
  },
  {
   "cell_type": "code",
   "execution_count": null,
   "id": "14658d05",
   "metadata": {},
   "outputs": [],
   "source": [
    "data_df= data_df.set_index('date')\n",
    "data_df.head(5)"
   ]
  },
  {
   "cell_type": "code",
   "execution_count": null,
   "id": "c6b9cda2",
   "metadata": {},
   "outputs": [],
   "source": [
    "from statsmodels.tsa.arima.model import ARIMA\n"
   ]
  },
  {
   "cell_type": "code",
   "execution_count": null,
   "id": "675d6a39",
   "metadata": {},
   "outputs": [],
   "source": [
    "\n",
    "for i in data_df['store'].unique():\n",
    "    df= data_df[data_df['store']==i]\n",
    "    for j in df['item'].unique():\n",
    "        item_data= df[df[\"item\"]==j]\n",
    "        \n",
    "        item_data= item_data.drop(['store', 'item'], axis=1)\n",
    "        time_series = item_data.index\n",
    "        \n",
    "#         n_days_for_prediction=182\n",
    "        \n",
    "#         date_new = pd.date_range(list(timeset)[0], periods=n_days_for_prediction, freq='W').tolist()\n",
    "        \n",
    "        train = item_data.iloc[:len(data_df)-366]\n",
    "        test = item_data.iloc[len(data_df)-366:] # set 31 Months for testing\n",
    "        \n",
    "        \n",
    "        from statsmodels.tsa.arima.model import ARIMA\n",
    "  \n",
    "        model = ARIMA(data_df['sales'], \n",
    "                order = (2, 1, 0))\n",
    "  \n",
    "  \n",
    "        result = model.fit()\n",
    "    \n",
    "#         forecast = result.predict(start = 1, \n",
    "#                           end = (len(item_data)), \n",
    "#                           typ = 'levels').rename('Forecast')\n",
    "        \n",
    "        result_df = (result.get_prediction(start= 1, end= (len(item_data))).summary_frame(alpha=0.70))\n",
    "        \n",
    "        df1= pd.DataFrame()\n",
    "        df1['Date'] = time_series\n",
    "        df1['Forecasted_Sales']= result_df['mean'].values\n",
    "        df1['Pred_lower']= result_df['mean_ci_lower'].values\n",
    "        df1['Pred_upper']= result_df['mean_ci_upper'].values\n",
    "        \n",
    "#         #Creating df for storing data without lag. \n",
    "#         stock= pd.DataFrame()\n",
    "#         stock['Date'] = time_series\n",
    "#         stock['Forecasted_Qty']= forecast.values\n",
    "\n",
    "\n",
    "#         df_forecast = pd.DataFrame()\n",
    "#         df_forecast['Date']= time_series\n",
    "#         df_forecast['Forcasted_Qty']= forecast.values\n",
    "        \n",
    "        #Saving Results \n",
    "        df1['Store']= i\n",
    "        df1['Item']=j\n",
    "        \n",
    "#         stock['Location']= i\n",
    "#         stock['Item']=j\n",
    "        \n",
    "        print(\"\\n\")\n",
    "        print(f'Writing prediction bound results of {i} and {j}')\n",
    "        predction_output = \"ModelOut\\ARIMA\\Pred\\pred\" +i+\"-\"+j+\".xlsx\"\n",
    "        df1.to_excel(predction_output, index= False)\n",
    "        \n",
    "        \n",
    "#         print(f'Writing stk data for {i} and {j}')\n",
    "#         predction_output = \"ModelOut\\All_out\\Weekly\\Output\\Output_stk-\" +i+\"-\"+j+\".xlsx\"\n",
    "#         stock.to_excel(predction_output, index= False)\n",
    "        \n",
    "        print('\\n')\n",
    "        print('Calculating error matrices')\n",
    "        \n",
    "        from sklearn.metrics import mean_squared_error\n",
    "#         from statsmodels.tools.eval_measures import rmse\n",
    "\n",
    "        from sklearn.metrics import mean_absolute_percentage_error\n",
    "\n",
    "        import math\n",
    "\n",
    "        MSE_Score= mean_squared_error(item_data[\"sales\"], result_df['mean'].values).round(2)\n",
    "#         print('MSE_Score:', MSE_Score)\n",
    "        \n",
    "        RMSE_Score = math.sqrt(mean_squared_error(item_data[\"sales\"], result_df['mean'].values))\n",
    "#         print('RMSE_Score:', round(RMSE_Score, 2))\n",
    "\n",
    "        MAPE_Score= mean_absolute_percentage_error(item_data[\"sales\"], result_df['mean'].values).round(2)\n",
    "#         print('MAPE_Score:', MAPE_Score)\n",
    "        \n",
    "        col_names =  ['MSE_ARIMA', 'RMSE_ARIMA', 'MAPE_ARIMA']\n",
    "        Error_matric= pd.DataFrame(columns = col_names)\n",
    "        \n",
    "        my_out = {'MSE_ARIMA': MSE_Score, 'RMSE_ARIMA': RMSE_Score, 'MAPE_ARIMA': MAPE_Score }\n",
    "        Error_matric.loc[len(Error_matric)] = my_out \n",
    "        \n",
    "        Error_matric['Store']=i\n",
    "        Error_matric['Item']=j\n",
    "        \n",
    "        print(f'Writing error matrices of {i} and {j}')\n",
    "        print(\"\\n\")\n",
    "        Error_output = \"ModelOut\\ARIMA\\Error\\Output_Error -\" +i+\"-\"+j+\".xlsx\"\n",
    "        Error_matric.to_excel(Error_output, index= False)\n",
    "        \n",
    "        print('Training complete')\n",
    "        \n",
    "        "
   ]
  },
  {
   "cell_type": "markdown",
   "id": "46a4c70e",
   "metadata": {},
   "source": [
    "### Combining all the prediction"
   ]
  },
  {
   "cell_type": "code",
   "execution_count": null,
   "id": "8d3f5f35",
   "metadata": {},
   "outputs": [],
   "source": [
    "import pandas as pd\n",
    "import os\n",
    "import glob"
   ]
  },
  {
   "cell_type": "code",
   "execution_count": null,
   "id": "29c182d2",
   "metadata": {},
   "outputs": [],
   "source": [
    "# use glob to get all the csv files\n",
    "# for output with bound\n",
    "\n",
    "path = 'C:\\\\Users\\\\Ramshankar\\\\OneDrive - iLink Systems Inc\\\\Documents\\\\Demand forecasting-POC\\\\Notebooks\\\\ModelOut\\\\ARIMA\\\\Pred\\\\'\n",
    "out_files = glob.glob(os.path.join(path, \"*.xlsx\"))\n",
    "\n",
    "dfs= []\n",
    "\n",
    "\n",
    "for f in out_files:\n",
    "    dfs.append(pd.read_excel(f ))\n",
    "df_bound = pd.concat(dfs, ignore_index=True)"
   ]
  },
  {
   "cell_type": "code",
   "execution_count": null,
   "id": "8da7d5de",
   "metadata": {},
   "outputs": [],
   "source": [
    "df_bound"
   ]
  },
  {
   "cell_type": "code",
   "execution_count": null,
   "id": "952ed3f4",
   "metadata": {},
   "outputs": [],
   "source": [
    "data_filter"
   ]
  },
  {
   "cell_type": "markdown",
   "id": "1a9b7022",
   "metadata": {},
   "source": [
    "__Merging prediction and actual sales data__"
   ]
  },
  {
   "cell_type": "code",
   "execution_count": null,
   "id": "7da08f45",
   "metadata": {},
   "outputs": [],
   "source": [
    "df_bound= df_bound.rename(columns={'Store': 'store'})\n",
    "df_bound= df_bound.rename(columns={'Item': 'item'})\n",
    "df_bound= df_bound.rename(columns={'Date': 'date'})\n",
    "df_bound.head()"
   ]
  },
  {
   "cell_type": "code",
   "execution_count": null,
   "id": "5089fbb4",
   "metadata": {},
   "outputs": [],
   "source": [
    "merge= pd.merge(df_bound, data_filter, on=['date', 'store', 'item'], how= 'inner')"
   ]
  },
  {
   "cell_type": "code",
   "execution_count": null,
   "id": "ab7f660a",
   "metadata": {},
   "outputs": [],
   "source": [
    "merge.head()"
   ]
  },
  {
   "cell_type": "code",
   "execution_count": null,
   "id": "03ddf3f7",
   "metadata": {},
   "outputs": [],
   "source": [
    "#Saving the file \n",
    "# merge.to_excel('Output_ARIMA.xlsx', index=False)"
   ]
  },
  {
   "cell_type": "markdown",
   "id": "3b3e5315",
   "metadata": {},
   "source": [
    "__Combining Error Matrices__"
   ]
  },
  {
   "cell_type": "code",
   "execution_count": null,
   "id": "fa4bd33d",
   "metadata": {},
   "outputs": [],
   "source": [
    "# use glob to get all the csv files\n",
    "# for output with bound\n",
    "\n",
    "path = 'C:\\\\Users\\\\Ramshankar\\\\OneDrive - iLink Systems Inc\\\\Documents\\\\Demand forecasting-POC\\\\Notebooks\\\\ModelOut\\\\ARIMA\\\\Error\\\\'\n",
    "out_files = glob.glob(os.path.join(path, \"*.xlsx\"))\n",
    "\n",
    "dfs= []\n",
    "\n",
    "\n",
    "for f in out_files:\n",
    "    dfs.append(pd.read_excel(f ))\n",
    "df_Error = pd.concat(dfs, ignore_index=True)"
   ]
  },
  {
   "cell_type": "code",
   "execution_count": null,
   "id": "87f051ba",
   "metadata": {},
   "outputs": [],
   "source": [
    "df_Error"
   ]
  },
  {
   "cell_type": "code",
   "execution_count": null,
   "id": "a6d4a92b",
   "metadata": {},
   "outputs": [],
   "source": [
    "df_Error['RMSE_ARIMA'] = df_Error['RMSE_ARIMA'].round(2)\n",
    "df_Error"
   ]
  },
  {
   "cell_type": "code",
   "execution_count": null,
   "id": "7fc84d78",
   "metadata": {},
   "outputs": [],
   "source": [
    "# df_Error.to_excel('ModelOut\\ARIMA\\Error_ARIMA.xlsx', index=False)"
   ]
  },
  {
   "cell_type": "markdown",
   "id": "00119b76",
   "metadata": {},
   "source": [
    "### Holt Winter Model "
   ]
  },
  {
   "cell_type": "code",
   "execution_count": null,
   "id": "32750ab3",
   "metadata": {},
   "outputs": [],
   "source": [
    "# from statsmodels.tsa.holtwinters import ExponentialSmoothing"
   ]
  },
  {
   "cell_type": "code",
   "execution_count": null,
   "id": "9c93d6d2",
   "metadata": {},
   "outputs": [],
   "source": []
  },
  {
   "cell_type": "markdown",
   "id": "7c13253a",
   "metadata": {},
   "source": [
    "### All in On "
   ]
  },
  {
   "cell_type": "code",
   "execution_count": null,
   "id": "4e123b53",
   "metadata": {},
   "outputs": [],
   "source": [
    "\n",
    "for i in data_df['store'].unique():\n",
    "    df= data_df[data_df['store']==i]\n",
    "    for j in df['item'].unique():\n",
    "        item_data= df[df[\"item\"]==j]\n",
    "        \n",
    "        item_data= item_data.drop(['store', 'item'], axis=1)\n",
    "        time_series = item_data.index\n",
    "        \n",
    "#         n_days_for_prediction=182\n",
    "        \n",
    "#         date_new = pd.date_range(list(timeset)[0], periods=n_days_for_prediction, freq='W').tolist()\n",
    "        \n",
    "        train = item_data.iloc[:len(data_df)-366]\n",
    "        test = item_data.iloc[len(data_df)-366:] # set 31 Months for testing\n",
    "        \n",
    "        \n",
    "        from statsmodels.tsa.holtwinters import ExponentialSmoothing\n",
    "  \n",
    "    \n",
    "#         forecast = result.predict(start = 1, \n",
    "#                           end = (len(item_data)), \n",
    "#                           typ = 'levels').rename('Forecast')\n",
    "        \n",
    "#         result_df = (result.get_prediction(start= 1, end= (len(item_data))).summary_frame(alpha=0.70))\n",
    "\n",
    "        model_holt_winters = ExponentialSmoothing(item_data['sales'], seasonal_periods=12, seasonal='additive',\n",
    "                                           trend='additive',damped=True).fit() #Taking additive trend and seasonality.\n",
    "\n",
    "        forecast = model_holt_winters.forecast(len(item_data))\n",
    "\n",
    "        \n",
    "#         df1= pd.DataFrame()\n",
    "#         df1['Date'] = time_series\n",
    "#         df1['Forecasted_Sales']= result_df['mean'].values\n",
    "#         df1['Pred_lower']= result_df['mean_ci_lower'].values\n",
    "#         df1['Pred_upper']= result_df['mean_ci_upper'].values\n",
    "        \n",
    "#         #Creating df for storing data without lag. \n",
    "#         stock= pd.DataFrame()\n",
    "#         stock['Date'] = time_series\n",
    "#         stock['Forecasted_Qty']= forecast.values\n",
    "\n",
    "\n",
    "        df_forecast = pd.DataFrame()\n",
    "        df_forecast['date']= time_series\n",
    "        df_forecast['Forcasted_Sales']= forecast.values\n",
    "        \n",
    "        #Saving Results \n",
    "        df_forecast['store']= i\n",
    "        df_forecast['item']=j\n",
    "        \n",
    "#         stock['Location']= i\n",
    "#         stock['Item']=j\n",
    "        \n",
    "        print(\"\\n\")\n",
    "        print(f'Writing prediction bound results of {i} and {j}')\n",
    "        predction_output = \"ModelOut\\Holt\\Pred\\pred\" +i+\"-\"+j+\".xlsx\"\n",
    "        df_forecast.to_excel(predction_output, index= False)\n",
    "        \n",
    "        \n",
    "#         print(f'Writing stk data for {i} and {j}')\n",
    "#         predction_output = \"ModelOut\\All_out\\Weekly\\Output\\Output_stk-\" +i+\"-\"+j+\".xlsx\"\n",
    "#         stock.to_excel(predction_output, index= False)\n",
    "        \n",
    "        print('\\n')\n",
    "        print('Calculating error matrices')\n",
    "        \n",
    "        from sklearn.metrics import mean_squared_error\n",
    "#         from statsmodels.tools.eval_measures import rmse\n",
    "\n",
    "        from sklearn.metrics import mean_absolute_percentage_error\n",
    "\n",
    "        import math\n",
    "\n",
    "        MSE_Score= mean_squared_error(item_data[\"sales\"], forecast.values).round(2)\n",
    "#         print('MSE_Score:', MSE_Score)\n",
    "        \n",
    "        RMSE_Score = math.sqrt(mean_squared_error(item_data[\"sales\"], forecast.values))\n",
    "#         print('RMSE_Score:', round(RMSE_Score, 2))\n",
    "\n",
    "        MAPE_Score= mean_absolute_percentage_error(item_data[\"sales\"], forecast.values).round(2)\n",
    "#         print('MAPE_Score:', MAPE_Score)\n",
    "        \n",
    "        col_names =  ['MSE_ARIMA', 'RMSE_ARIMA', 'MAPE_ARIMA']\n",
    "        Error_matric= pd.DataFrame(columns = col_names)\n",
    "        \n",
    "        my_out = {'MSE_ARIMA': MSE_Score, 'RMSE_ARIMA': RMSE_Score, 'MAPE_ARIMA': MAPE_Score }\n",
    "        Error_matric.loc[len(Error_matric)] = my_out \n",
    "        \n",
    "        Error_matric['Store']=i\n",
    "        Error_matric['Item']=j\n",
    "        \n",
    "        print(f'Writing error matrices of {i} and {j}')\n",
    "        print(\"\\n\")\n",
    "        Error_output = \"ModelOut\\Holt\\Error\\Output_Error -\" +i+\"-\"+j+\".xlsx\"\n",
    "        Error_matric.to_excel(Error_output, index= False)\n",
    "        \n",
    "        print('Training complete')\n",
    "        \n",
    "        "
   ]
  },
  {
   "cell_type": "markdown",
   "id": "18913864",
   "metadata": {},
   "source": [
    "__Combining all the Ouputs__"
   ]
  },
  {
   "cell_type": "code",
   "execution_count": null,
   "id": "8ae8af94",
   "metadata": {},
   "outputs": [],
   "source": [
    "# use glob to get all the csv files\n",
    "# for output with bound\n",
    "\n",
    "path = 'C:\\\\Users\\\\Ramshankar\\\\OneDrive - iLink Systems Inc\\\\Documents\\\\Demand forecasting-POC\\\\Notebooks\\\\ModelOut\\\\Holt\\\\Pred\\\\'\n",
    "out_files = glob.glob(os.path.join(path, \"*.xlsx\"))\n",
    "\n",
    "dfs= []\n",
    "\n",
    "\n",
    "for f in out_files:\n",
    "    dfs.append(pd.read_excel(f ))\n",
    "df_holt = pd.concat(dfs, ignore_index=True)"
   ]
  },
  {
   "cell_type": "code",
   "execution_count": null,
   "id": "fcf40ed6",
   "metadata": {},
   "outputs": [],
   "source": [
    "df_holt"
   ]
  },
  {
   "cell_type": "code",
   "execution_count": null,
   "id": "1b07cfaa",
   "metadata": {},
   "outputs": [],
   "source": [
    "data_filter.shape"
   ]
  },
  {
   "cell_type": "code",
   "execution_count": null,
   "id": "076e3ae6",
   "metadata": {},
   "outputs": [],
   "source": [
    "merge_holt= pd.merge(df_holt, data_filter, on=['date', 'store', 'item'], how= 'inner')\n",
    "merge_holt.head()"
   ]
  },
  {
   "cell_type": "code",
   "execution_count": null,
   "id": "6260403f",
   "metadata": {},
   "outputs": [],
   "source": [
    "merge_holt.shape"
   ]
  },
  {
   "cell_type": "code",
   "execution_count": null,
   "id": "adfe1cdd",
   "metadata": {},
   "outputs": [],
   "source": [
    "merge_holt.head()"
   ]
  },
  {
   "cell_type": "code",
   "execution_count": null,
   "id": "69f7bd03",
   "metadata": {},
   "outputs": [],
   "source": [
    "# merge_holt.to_excel('ModelOut\\Holt\\Output_HOlt.xlsx', index=False)"
   ]
  },
  {
   "cell_type": "markdown",
   "id": "2fbd43e4",
   "metadata": {},
   "source": [
    "__Combining all Error Matrices__"
   ]
  },
  {
   "cell_type": "code",
   "execution_count": null,
   "id": "fb9b6183",
   "metadata": {},
   "outputs": [],
   "source": [
    "# use glob to get all the csv files\n",
    "# for output with bound\n",
    "\n",
    "path = 'C:\\\\Users\\\\Ramshankar\\\\OneDrive - iLink Systems Inc\\\\Documents\\\\Demand forecasting-POC\\\\Notebooks\\\\ModelOut\\\\Holt\\\\Error\\\\'\n",
    "out_files = glob.glob(os.path.join(path, \"*.xlsx\"))\n",
    "\n",
    "dfs= []\n",
    "\n",
    "\n",
    "for f in out_files:\n",
    "    dfs.append(pd.read_excel(f ))\n",
    "df_Error_holt = pd.concat(dfs, ignore_index=True)"
   ]
  },
  {
   "cell_type": "code",
   "execution_count": null,
   "id": "910bae45",
   "metadata": {},
   "outputs": [],
   "source": [
    "df_Error_holt"
   ]
  },
  {
   "cell_type": "code",
   "execution_count": null,
   "id": "e2240c5f",
   "metadata": {},
   "outputs": [],
   "source": [
    "# df_Error_holt.to_excel('ModelOut\\Holt\\Error_HOlt.xlsx', index=False)"
   ]
  },
  {
   "cell_type": "code",
   "execution_count": null,
   "id": "95425813",
   "metadata": {},
   "outputs": [],
   "source": [
    "# train.index"
   ]
  },
  {
   "cell_type": "code",
   "execution_count": null,
   "id": "d966933b",
   "metadata": {},
   "outputs": [],
   "source": []
  },
  {
   "cell_type": "code",
   "execution_count": null,
   "id": "17ff54b0",
   "metadata": {},
   "outputs": [],
   "source": []
  },
  {
   "cell_type": "markdown",
   "id": "d96f4c6b",
   "metadata": {},
   "source": [
    "## Facebook Probhet Model "
   ]
  },
  {
   "cell_type": "code",
   "execution_count": null,
   "id": "377693f2",
   "metadata": {},
   "outputs": [],
   "source": [
    "# data_df2= data_df2.set_index('date')\n",
    "\n",
    "# Split data into train / test sets\n",
    "# train = data_df2.iloc[:len(data_df2)-366]\n",
    "# test = data_df2.iloc[len(data_df2)-366:]"
   ]
  },
  {
   "cell_type": "markdown",
   "id": "7fd73242",
   "metadata": {},
   "source": [
    "### All in One "
   ]
  },
  {
   "cell_type": "code",
   "execution_count": 25,
   "id": "176139a0",
   "metadata": {},
   "outputs": [
    {
     "data": {
      "text/plain": [
       "array(['St1', 'St2', 'St3', 'St4', 'St5', 'St6', 'St7', 'St8', 'St9',\n",
       "       'St10'], dtype=object)"
      ]
     },
     "execution_count": 25,
     "metadata": {},
     "output_type": "execute_result"
    }
   ],
   "source": [
    "data_df['store'].unique()"
   ]
  },
  {
   "cell_type": "code",
   "execution_count": 26,
   "id": "3a4a8052",
   "metadata": {},
   "outputs": [
    {
     "data": {
      "text/html": [
       "<div>\n",
       "<style scoped>\n",
       "    .dataframe tbody tr th:only-of-type {\n",
       "        vertical-align: middle;\n",
       "    }\n",
       "\n",
       "    .dataframe tbody tr th {\n",
       "        vertical-align: top;\n",
       "    }\n",
       "\n",
       "    .dataframe thead th {\n",
       "        text-align: right;\n",
       "    }\n",
       "</style>\n",
       "<table border=\"1\" class=\"dataframe\">\n",
       "  <thead>\n",
       "    <tr style=\"text-align: right;\">\n",
       "      <th></th>\n",
       "      <th>date</th>\n",
       "      <th>store</th>\n",
       "      <th>item</th>\n",
       "      <th>sales</th>\n",
       "    </tr>\n",
       "  </thead>\n",
       "  <tbody>\n",
       "    <tr>\n",
       "      <th>127820</th>\n",
       "      <td>2013-01-01</td>\n",
       "      <td>St1</td>\n",
       "      <td>Lay's</td>\n",
       "      <td>33</td>\n",
       "    </tr>\n",
       "    <tr>\n",
       "      <th>127821</th>\n",
       "      <td>2013-01-02</td>\n",
       "      <td>St1</td>\n",
       "      <td>Lay's</td>\n",
       "      <td>37</td>\n",
       "    </tr>\n",
       "    <tr>\n",
       "      <th>127822</th>\n",
       "      <td>2013-01-03</td>\n",
       "      <td>St1</td>\n",
       "      <td>Lay's</td>\n",
       "      <td>38</td>\n",
       "    </tr>\n",
       "    <tr>\n",
       "      <th>127823</th>\n",
       "      <td>2013-01-04</td>\n",
       "      <td>St1</td>\n",
       "      <td>Lay's</td>\n",
       "      <td>54</td>\n",
       "    </tr>\n",
       "    <tr>\n",
       "      <th>127824</th>\n",
       "      <td>2013-01-05</td>\n",
       "      <td>St1</td>\n",
       "      <td>Lay's</td>\n",
       "      <td>51</td>\n",
       "    </tr>\n",
       "    <tr>\n",
       "      <th>...</th>\n",
       "      <td>...</td>\n",
       "      <td>...</td>\n",
       "      <td>...</td>\n",
       "      <td>...</td>\n",
       "    </tr>\n",
       "    <tr>\n",
       "      <th>821695</th>\n",
       "      <td>2017-12-27</td>\n",
       "      <td>St10</td>\n",
       "      <td>Wafers</td>\n",
       "      <td>64</td>\n",
       "    </tr>\n",
       "    <tr>\n",
       "      <th>821696</th>\n",
       "      <td>2017-12-28</td>\n",
       "      <td>St10</td>\n",
       "      <td>Wafers</td>\n",
       "      <td>79</td>\n",
       "    </tr>\n",
       "    <tr>\n",
       "      <th>821697</th>\n",
       "      <td>2017-12-29</td>\n",
       "      <td>St10</td>\n",
       "      <td>Wafers</td>\n",
       "      <td>72</td>\n",
       "    </tr>\n",
       "    <tr>\n",
       "      <th>821698</th>\n",
       "      <td>2017-12-30</td>\n",
       "      <td>St10</td>\n",
       "      <td>Wafers</td>\n",
       "      <td>76</td>\n",
       "    </tr>\n",
       "    <tr>\n",
       "      <th>821699</th>\n",
       "      <td>2017-12-31</td>\n",
       "      <td>St10</td>\n",
       "      <td>Wafers</td>\n",
       "      <td>89</td>\n",
       "    </tr>\n",
       "  </tbody>\n",
       "</table>\n",
       "<p>182600 rows × 4 columns</p>\n",
       "</div>"
      ],
      "text/plain": [
       "             date store    item  sales\n",
       "127820 2013-01-01   St1   Lay's     33\n",
       "127821 2013-01-02   St1   Lay's     37\n",
       "127822 2013-01-03   St1   Lay's     38\n",
       "127823 2013-01-04   St1   Lay's     54\n",
       "127824 2013-01-05   St1   Lay's     51\n",
       "...           ...   ...     ...    ...\n",
       "821695 2017-12-27  St10  Wafers     64\n",
       "821696 2017-12-28  St10  Wafers     79\n",
       "821697 2017-12-29  St10  Wafers     72\n",
       "821698 2017-12-30  St10  Wafers     76\n",
       "821699 2017-12-31  St10  Wafers     89\n",
       "\n",
       "[182600 rows x 4 columns]"
      ]
     },
     "execution_count": 26,
     "metadata": {},
     "output_type": "execute_result"
    }
   ],
   "source": [
    "data_df"
   ]
  },
  {
   "cell_type": "code",
   "execution_count": 27,
   "id": "06c0786f",
   "metadata": {},
   "outputs": [],
   "source": [
    "# data2= data_df2.reset_index()\n",
    "# data2\n",
    "\n",
    "from sklearn.metrics import mean_squared_error\n",
    "# from statsmodels.tools.eval_measures import rmse\n",
    "\n",
    "from sklearn.metrics import mean_absolute_percentage_error\n",
    "\n",
    "import math"
   ]
  },
  {
   "cell_type": "code",
   "execution_count": 29,
   "id": "e717f23f",
   "metadata": {},
   "outputs": [
    {
     "name": "stdout",
     "output_type": "stream",
     "text": [
      "\n",
      "\n",
      "Preparing data for modelling\n",
      "\n",
      "\n",
      "Model Training initiated for St1 and Lay's\n"
     ]
    },
    {
     "name": "stderr",
     "output_type": "stream",
     "text": [
      "13:32:16 - cmdstanpy - INFO - Chain [1] start processing\n",
      "13:32:16 - cmdstanpy - INFO - Chain [1] done processing\n"
     ]
    },
    {
     "name": "stdout",
     "output_type": "stream",
     "text": [
      "Model forecasting\n",
      "Merging forecasting and test data\n",
      "Tranining complted for St1 and Lay's\n",
      "Finding error matrices MSE and RMSE\n",
      "Writing error matrices of St1 and Lay's\n",
      "\n",
      "\n",
      "\n",
      "\n",
      "Writing predicted results of St1 and Lay's\n"
     ]
    },
    {
     "name": "stderr",
     "output_type": "stream",
     "text": [
      "C:\\Users\\Ramshankar\\AppData\\Local\\Temp\\ipykernel_15304\\1358708478.py:73: SettingWithCopyWarning: \n",
      "A value is trying to be set on a copy of a slice from a DataFrame.\n",
      "Try using .loc[row_indexer,col_indexer] = value instead\n",
      "\n",
      "See the caveats in the documentation: https://pandas.pydata.org/pandas-docs/stable/user_guide/indexing.html#returning-a-view-versus-a-copy\n",
      "  forecasted_df['store']= i\n",
      "C:\\Users\\Ramshankar\\AppData\\Local\\Temp\\ipykernel_15304\\1358708478.py:74: SettingWithCopyWarning: \n",
      "A value is trying to be set on a copy of a slice from a DataFrame.\n",
      "Try using .loc[row_indexer,col_indexer] = value instead\n",
      "\n",
      "See the caveats in the documentation: https://pandas.pydata.org/pandas-docs/stable/user_guide/indexing.html#returning-a-view-versus-a-copy\n",
      "  forecasted_df['item']=j\n"
     ]
    },
    {
     "name": "stdout",
     "output_type": "stream",
     "text": [
      "\n",
      "\n",
      "Preparing data for modelling\n",
      "\n",
      "\n",
      "Model Training initiated for St1 and Kurkure\n"
     ]
    },
    {
     "name": "stderr",
     "output_type": "stream",
     "text": [
      "13:32:18 - cmdstanpy - INFO - Chain [1] start processing\n",
      "13:32:18 - cmdstanpy - INFO - Chain [1] done processing\n"
     ]
    },
    {
     "name": "stdout",
     "output_type": "stream",
     "text": [
      "Model forecasting\n",
      "Merging forecasting and test data\n",
      "Tranining complted for St1 and Kurkure\n",
      "Finding error matrices MSE and RMSE\n",
      "Writing error matrices of St1 and Kurkure\n",
      "\n",
      "\n",
      "\n",
      "\n",
      "Writing predicted results of St1 and Kurkure\n"
     ]
    },
    {
     "name": "stderr",
     "output_type": "stream",
     "text": [
      "C:\\Users\\Ramshankar\\AppData\\Local\\Temp\\ipykernel_15304\\1358708478.py:73: SettingWithCopyWarning: \n",
      "A value is trying to be set on a copy of a slice from a DataFrame.\n",
      "Try using .loc[row_indexer,col_indexer] = value instead\n",
      "\n",
      "See the caveats in the documentation: https://pandas.pydata.org/pandas-docs/stable/user_guide/indexing.html#returning-a-view-versus-a-copy\n",
      "  forecasted_df['store']= i\n",
      "C:\\Users\\Ramshankar\\AppData\\Local\\Temp\\ipykernel_15304\\1358708478.py:74: SettingWithCopyWarning: \n",
      "A value is trying to be set on a copy of a slice from a DataFrame.\n",
      "Try using .loc[row_indexer,col_indexer] = value instead\n",
      "\n",
      "See the caveats in the documentation: https://pandas.pydata.org/pandas-docs/stable/user_guide/indexing.html#returning-a-view-versus-a-copy\n",
      "  forecasted_df['item']=j\n"
     ]
    },
    {
     "name": "stdout",
     "output_type": "stream",
     "text": [
      "\n",
      "\n",
      "Preparing data for modelling\n",
      "\n",
      "\n",
      "Model Training initiated for St1 and Bingo\n"
     ]
    },
    {
     "name": "stderr",
     "output_type": "stream",
     "text": [
      "13:32:20 - cmdstanpy - INFO - Chain [1] start processing\n",
      "13:32:20 - cmdstanpy - INFO - Chain [1] done processing\n"
     ]
    },
    {
     "name": "stdout",
     "output_type": "stream",
     "text": [
      "Model forecasting\n",
      "Merging forecasting and test data\n",
      "Tranining complted for St1 and Bingo\n",
      "Finding error matrices MSE and RMSE\n",
      "Writing error matrices of St1 and Bingo\n",
      "\n",
      "\n",
      "\n",
      "\n",
      "Writing predicted results of St1 and Bingo\n"
     ]
    },
    {
     "name": "stderr",
     "output_type": "stream",
     "text": [
      "C:\\Users\\Ramshankar\\AppData\\Local\\Temp\\ipykernel_15304\\1358708478.py:73: SettingWithCopyWarning: \n",
      "A value is trying to be set on a copy of a slice from a DataFrame.\n",
      "Try using .loc[row_indexer,col_indexer] = value instead\n",
      "\n",
      "See the caveats in the documentation: https://pandas.pydata.org/pandas-docs/stable/user_guide/indexing.html#returning-a-view-versus-a-copy\n",
      "  forecasted_df['store']= i\n",
      "C:\\Users\\Ramshankar\\AppData\\Local\\Temp\\ipykernel_15304\\1358708478.py:74: SettingWithCopyWarning: \n",
      "A value is trying to be set on a copy of a slice from a DataFrame.\n",
      "Try using .loc[row_indexer,col_indexer] = value instead\n",
      "\n",
      "See the caveats in the documentation: https://pandas.pydata.org/pandas-docs/stable/user_guide/indexing.html#returning-a-view-versus-a-copy\n",
      "  forecasted_df['item']=j\n"
     ]
    },
    {
     "name": "stdout",
     "output_type": "stream",
     "text": [
      "\n",
      "\n",
      "Preparing data for modelling\n",
      "\n",
      "\n",
      "Model Training initiated for St1 and Haldiram\n"
     ]
    },
    {
     "name": "stderr",
     "output_type": "stream",
     "text": [
      "13:32:22 - cmdstanpy - INFO - Chain [1] start processing\n",
      "13:32:23 - cmdstanpy - INFO - Chain [1] done processing\n"
     ]
    },
    {
     "name": "stdout",
     "output_type": "stream",
     "text": [
      "Model forecasting\n",
      "Merging forecasting and test data\n",
      "Tranining complted for St1 and Haldiram\n",
      "Finding error matrices MSE and RMSE\n",
      "Writing error matrices of St1 and Haldiram\n",
      "\n",
      "\n",
      "\n",
      "\n",
      "Writing predicted results of St1 and Haldiram\n"
     ]
    },
    {
     "name": "stderr",
     "output_type": "stream",
     "text": [
      "C:\\Users\\Ramshankar\\AppData\\Local\\Temp\\ipykernel_15304\\1358708478.py:73: SettingWithCopyWarning: \n",
      "A value is trying to be set on a copy of a slice from a DataFrame.\n",
      "Try using .loc[row_indexer,col_indexer] = value instead\n",
      "\n",
      "See the caveats in the documentation: https://pandas.pydata.org/pandas-docs/stable/user_guide/indexing.html#returning-a-view-versus-a-copy\n",
      "  forecasted_df['store']= i\n",
      "C:\\Users\\Ramshankar\\AppData\\Local\\Temp\\ipykernel_15304\\1358708478.py:74: SettingWithCopyWarning: \n",
      "A value is trying to be set on a copy of a slice from a DataFrame.\n",
      "Try using .loc[row_indexer,col_indexer] = value instead\n",
      "\n",
      "See the caveats in the documentation: https://pandas.pydata.org/pandas-docs/stable/user_guide/indexing.html#returning-a-view-versus-a-copy\n",
      "  forecasted_df['item']=j\n"
     ]
    },
    {
     "name": "stdout",
     "output_type": "stream",
     "text": [
      "\n",
      "\n",
      "Preparing data for modelling\n",
      "\n",
      "\n",
      "Model Training initiated for St1 and Peanuts\n"
     ]
    },
    {
     "name": "stderr",
     "output_type": "stream",
     "text": [
      "13:32:25 - cmdstanpy - INFO - Chain [1] start processing\n",
      "13:32:25 - cmdstanpy - INFO - Chain [1] done processing\n"
     ]
    },
    {
     "name": "stdout",
     "output_type": "stream",
     "text": [
      "Model forecasting\n",
      "Merging forecasting and test data\n",
      "Tranining complted for St1 and Peanuts\n",
      "Finding error matrices MSE and RMSE\n",
      "Writing error matrices of St1 and Peanuts\n",
      "\n",
      "\n",
      "\n",
      "\n",
      "Writing predicted results of St1 and Peanuts\n"
     ]
    },
    {
     "name": "stderr",
     "output_type": "stream",
     "text": [
      "C:\\Users\\Ramshankar\\AppData\\Local\\Temp\\ipykernel_15304\\1358708478.py:73: SettingWithCopyWarning: \n",
      "A value is trying to be set on a copy of a slice from a DataFrame.\n",
      "Try using .loc[row_indexer,col_indexer] = value instead\n",
      "\n",
      "See the caveats in the documentation: https://pandas.pydata.org/pandas-docs/stable/user_guide/indexing.html#returning-a-view-versus-a-copy\n",
      "  forecasted_df['store']= i\n",
      "C:\\Users\\Ramshankar\\AppData\\Local\\Temp\\ipykernel_15304\\1358708478.py:74: SettingWithCopyWarning: \n",
      "A value is trying to be set on a copy of a slice from a DataFrame.\n",
      "Try using .loc[row_indexer,col_indexer] = value instead\n",
      "\n",
      "See the caveats in the documentation: https://pandas.pydata.org/pandas-docs/stable/user_guide/indexing.html#returning-a-view-versus-a-copy\n",
      "  forecasted_df['item']=j\n"
     ]
    },
    {
     "name": "stdout",
     "output_type": "stream",
     "text": [
      "\n",
      "\n",
      "Preparing data for modelling\n",
      "\n",
      "\n",
      "Model Training initiated for St1 and Banana Chips\n"
     ]
    },
    {
     "name": "stderr",
     "output_type": "stream",
     "text": [
      "13:32:27 - cmdstanpy - INFO - Chain [1] start processing\n",
      "13:32:27 - cmdstanpy - INFO - Chain [1] done processing\n"
     ]
    },
    {
     "name": "stdout",
     "output_type": "stream",
     "text": [
      "Model forecasting\n",
      "Merging forecasting and test data\n",
      "Tranining complted for St1 and Banana Chips\n",
      "Finding error matrices MSE and RMSE\n",
      "Writing error matrices of St1 and Banana Chips\n",
      "\n",
      "\n",
      "\n",
      "\n",
      "Writing predicted results of St1 and Banana Chips\n"
     ]
    },
    {
     "name": "stderr",
     "output_type": "stream",
     "text": [
      "C:\\Users\\Ramshankar\\AppData\\Local\\Temp\\ipykernel_15304\\1358708478.py:73: SettingWithCopyWarning: \n",
      "A value is trying to be set on a copy of a slice from a DataFrame.\n",
      "Try using .loc[row_indexer,col_indexer] = value instead\n",
      "\n",
      "See the caveats in the documentation: https://pandas.pydata.org/pandas-docs/stable/user_guide/indexing.html#returning-a-view-versus-a-copy\n",
      "  forecasted_df['store']= i\n",
      "C:\\Users\\Ramshankar\\AppData\\Local\\Temp\\ipykernel_15304\\1358708478.py:74: SettingWithCopyWarning: \n",
      "A value is trying to be set on a copy of a slice from a DataFrame.\n",
      "Try using .loc[row_indexer,col_indexer] = value instead\n",
      "\n",
      "See the caveats in the documentation: https://pandas.pydata.org/pandas-docs/stable/user_guide/indexing.html#returning-a-view-versus-a-copy\n",
      "  forecasted_df['item']=j\n"
     ]
    },
    {
     "name": "stdout",
     "output_type": "stream",
     "text": [
      "\n",
      "\n",
      "Preparing data for modelling\n",
      "\n",
      "\n",
      "Model Training initiated for St1 and Too Yum\n"
     ]
    },
    {
     "name": "stderr",
     "output_type": "stream",
     "text": [
      "13:32:29 - cmdstanpy - INFO - Chain [1] start processing\n",
      "13:32:30 - cmdstanpy - INFO - Chain [1] done processing\n"
     ]
    },
    {
     "name": "stdout",
     "output_type": "stream",
     "text": [
      "Model forecasting\n",
      "Merging forecasting and test data\n",
      "Tranining complted for St1 and Too Yum\n",
      "Finding error matrices MSE and RMSE\n",
      "Writing error matrices of St1 and Too Yum\n",
      "\n",
      "\n",
      "\n",
      "\n",
      "Writing predicted results of St1 and Too Yum\n"
     ]
    },
    {
     "name": "stderr",
     "output_type": "stream",
     "text": [
      "C:\\Users\\Ramshankar\\AppData\\Local\\Temp\\ipykernel_15304\\1358708478.py:73: SettingWithCopyWarning: \n",
      "A value is trying to be set on a copy of a slice from a DataFrame.\n",
      "Try using .loc[row_indexer,col_indexer] = value instead\n",
      "\n",
      "See the caveats in the documentation: https://pandas.pydata.org/pandas-docs/stable/user_guide/indexing.html#returning-a-view-versus-a-copy\n",
      "  forecasted_df['store']= i\n",
      "C:\\Users\\Ramshankar\\AppData\\Local\\Temp\\ipykernel_15304\\1358708478.py:74: SettingWithCopyWarning: \n",
      "A value is trying to be set on a copy of a slice from a DataFrame.\n",
      "Try using .loc[row_indexer,col_indexer] = value instead\n",
      "\n",
      "See the caveats in the documentation: https://pandas.pydata.org/pandas-docs/stable/user_guide/indexing.html#returning-a-view-versus-a-copy\n",
      "  forecasted_df['item']=j\n"
     ]
    },
    {
     "name": "stdout",
     "output_type": "stream",
     "text": [
      "\n",
      "\n",
      "Preparing data for modelling\n",
      "\n",
      "\n",
      "Model Training initiated for St1 and Parle-G\n"
     ]
    },
    {
     "name": "stderr",
     "output_type": "stream",
     "text": [
      "13:32:32 - cmdstanpy - INFO - Chain [1] start processing\n",
      "13:32:32 - cmdstanpy - INFO - Chain [1] done processing\n"
     ]
    },
    {
     "name": "stdout",
     "output_type": "stream",
     "text": [
      "Model forecasting\n",
      "Merging forecasting and test data\n",
      "Tranining complted for St1 and Parle-G\n",
      "Finding error matrices MSE and RMSE\n",
      "Writing error matrices of St1 and Parle-G\n",
      "\n",
      "\n",
      "\n",
      "\n",
      "Writing predicted results of St1 and Parle-G\n"
     ]
    },
    {
     "name": "stderr",
     "output_type": "stream",
     "text": [
      "C:\\Users\\Ramshankar\\AppData\\Local\\Temp\\ipykernel_15304\\1358708478.py:73: SettingWithCopyWarning: \n",
      "A value is trying to be set on a copy of a slice from a DataFrame.\n",
      "Try using .loc[row_indexer,col_indexer] = value instead\n",
      "\n",
      "See the caveats in the documentation: https://pandas.pydata.org/pandas-docs/stable/user_guide/indexing.html#returning-a-view-versus-a-copy\n",
      "  forecasted_df['store']= i\n",
      "C:\\Users\\Ramshankar\\AppData\\Local\\Temp\\ipykernel_15304\\1358708478.py:74: SettingWithCopyWarning: \n",
      "A value is trying to be set on a copy of a slice from a DataFrame.\n",
      "Try using .loc[row_indexer,col_indexer] = value instead\n",
      "\n",
      "See the caveats in the documentation: https://pandas.pydata.org/pandas-docs/stable/user_guide/indexing.html#returning-a-view-versus-a-copy\n",
      "  forecasted_df['item']=j\n"
     ]
    },
    {
     "name": "stdout",
     "output_type": "stream",
     "text": [
      "\n",
      "\n",
      "Preparing data for modelling\n",
      "\n",
      "\n",
      "Model Training initiated for St1 and Fruit Cake\n"
     ]
    },
    {
     "name": "stderr",
     "output_type": "stream",
     "text": [
      "13:32:34 - cmdstanpy - INFO - Chain [1] start processing\n",
      "13:32:34 - cmdstanpy - INFO - Chain [1] done processing\n"
     ]
    },
    {
     "name": "stdout",
     "output_type": "stream",
     "text": [
      "Model forecasting\n",
      "Merging forecasting and test data\n",
      "Tranining complted for St1 and Fruit Cake\n",
      "Finding error matrices MSE and RMSE\n",
      "Writing error matrices of St1 and Fruit Cake\n",
      "\n",
      "\n",
      "\n",
      "\n",
      "Writing predicted results of St1 and Fruit Cake\n"
     ]
    },
    {
     "name": "stderr",
     "output_type": "stream",
     "text": [
      "C:\\Users\\Ramshankar\\AppData\\Local\\Temp\\ipykernel_15304\\1358708478.py:73: SettingWithCopyWarning: \n",
      "A value is trying to be set on a copy of a slice from a DataFrame.\n",
      "Try using .loc[row_indexer,col_indexer] = value instead\n",
      "\n",
      "See the caveats in the documentation: https://pandas.pydata.org/pandas-docs/stable/user_guide/indexing.html#returning-a-view-versus-a-copy\n",
      "  forecasted_df['store']= i\n",
      "C:\\Users\\Ramshankar\\AppData\\Local\\Temp\\ipykernel_15304\\1358708478.py:74: SettingWithCopyWarning: \n",
      "A value is trying to be set on a copy of a slice from a DataFrame.\n",
      "Try using .loc[row_indexer,col_indexer] = value instead\n",
      "\n",
      "See the caveats in the documentation: https://pandas.pydata.org/pandas-docs/stable/user_guide/indexing.html#returning-a-view-versus-a-copy\n",
      "  forecasted_df['item']=j\n"
     ]
    },
    {
     "name": "stdout",
     "output_type": "stream",
     "text": [
      "\n",
      "\n",
      "Preparing data for modelling\n",
      "\n",
      "\n",
      "Model Training initiated for St1 and Wafers\n"
     ]
    },
    {
     "name": "stderr",
     "output_type": "stream",
     "text": [
      "13:32:36 - cmdstanpy - INFO - Chain [1] start processing\n",
      "13:32:36 - cmdstanpy - INFO - Chain [1] done processing\n"
     ]
    },
    {
     "name": "stdout",
     "output_type": "stream",
     "text": [
      "Model forecasting\n",
      "Merging forecasting and test data\n",
      "Tranining complted for St1 and Wafers\n",
      "Finding error matrices MSE and RMSE\n",
      "Writing error matrices of St1 and Wafers\n",
      "\n",
      "\n",
      "\n",
      "\n",
      "Writing predicted results of St1 and Wafers\n"
     ]
    },
    {
     "name": "stderr",
     "output_type": "stream",
     "text": [
      "C:\\Users\\Ramshankar\\AppData\\Local\\Temp\\ipykernel_15304\\1358708478.py:73: SettingWithCopyWarning: \n",
      "A value is trying to be set on a copy of a slice from a DataFrame.\n",
      "Try using .loc[row_indexer,col_indexer] = value instead\n",
      "\n",
      "See the caveats in the documentation: https://pandas.pydata.org/pandas-docs/stable/user_guide/indexing.html#returning-a-view-versus-a-copy\n",
      "  forecasted_df['store']= i\n",
      "C:\\Users\\Ramshankar\\AppData\\Local\\Temp\\ipykernel_15304\\1358708478.py:74: SettingWithCopyWarning: \n",
      "A value is trying to be set on a copy of a slice from a DataFrame.\n",
      "Try using .loc[row_indexer,col_indexer] = value instead\n",
      "\n",
      "See the caveats in the documentation: https://pandas.pydata.org/pandas-docs/stable/user_guide/indexing.html#returning-a-view-versus-a-copy\n",
      "  forecasted_df['item']=j\n"
     ]
    },
    {
     "name": "stdout",
     "output_type": "stream",
     "text": [
      "\n",
      "\n",
      "Preparing data for modelling\n",
      "\n",
      "\n",
      "Model Training initiated for St2 and Lay's\n"
     ]
    },
    {
     "name": "stderr",
     "output_type": "stream",
     "text": [
      "13:32:38 - cmdstanpy - INFO - Chain [1] start processing\n",
      "13:32:38 - cmdstanpy - INFO - Chain [1] done processing\n"
     ]
    },
    {
     "name": "stdout",
     "output_type": "stream",
     "text": [
      "Model forecasting\n",
      "Merging forecasting and test data\n",
      "Tranining complted for St2 and Lay's\n",
      "Finding error matrices MSE and RMSE\n",
      "Writing error matrices of St2 and Lay's\n",
      "\n",
      "\n",
      "\n",
      "\n",
      "Writing predicted results of St2 and Lay's\n"
     ]
    },
    {
     "name": "stderr",
     "output_type": "stream",
     "text": [
      "C:\\Users\\Ramshankar\\AppData\\Local\\Temp\\ipykernel_15304\\1358708478.py:73: SettingWithCopyWarning: \n",
      "A value is trying to be set on a copy of a slice from a DataFrame.\n",
      "Try using .loc[row_indexer,col_indexer] = value instead\n",
      "\n",
      "See the caveats in the documentation: https://pandas.pydata.org/pandas-docs/stable/user_guide/indexing.html#returning-a-view-versus-a-copy\n",
      "  forecasted_df['store']= i\n",
      "C:\\Users\\Ramshankar\\AppData\\Local\\Temp\\ipykernel_15304\\1358708478.py:74: SettingWithCopyWarning: \n",
      "A value is trying to be set on a copy of a slice from a DataFrame.\n",
      "Try using .loc[row_indexer,col_indexer] = value instead\n",
      "\n",
      "See the caveats in the documentation: https://pandas.pydata.org/pandas-docs/stable/user_guide/indexing.html#returning-a-view-versus-a-copy\n",
      "  forecasted_df['item']=j\n"
     ]
    },
    {
     "name": "stdout",
     "output_type": "stream",
     "text": [
      "\n",
      "\n",
      "Preparing data for modelling\n",
      "\n",
      "\n",
      "Model Training initiated for St2 and Kurkure\n"
     ]
    },
    {
     "name": "stderr",
     "output_type": "stream",
     "text": [
      "13:32:40 - cmdstanpy - INFO - Chain [1] start processing\n",
      "13:32:40 - cmdstanpy - INFO - Chain [1] done processing\n"
     ]
    },
    {
     "name": "stdout",
     "output_type": "stream",
     "text": [
      "Model forecasting\n",
      "Merging forecasting and test data\n",
      "Tranining complted for St2 and Kurkure\n",
      "Finding error matrices MSE and RMSE\n",
      "Writing error matrices of St2 and Kurkure\n",
      "\n",
      "\n",
      "\n",
      "\n",
      "Writing predicted results of St2 and Kurkure\n"
     ]
    },
    {
     "name": "stderr",
     "output_type": "stream",
     "text": [
      "C:\\Users\\Ramshankar\\AppData\\Local\\Temp\\ipykernel_15304\\1358708478.py:73: SettingWithCopyWarning: \n",
      "A value is trying to be set on a copy of a slice from a DataFrame.\n",
      "Try using .loc[row_indexer,col_indexer] = value instead\n",
      "\n",
      "See the caveats in the documentation: https://pandas.pydata.org/pandas-docs/stable/user_guide/indexing.html#returning-a-view-versus-a-copy\n",
      "  forecasted_df['store']= i\n",
      "C:\\Users\\Ramshankar\\AppData\\Local\\Temp\\ipykernel_15304\\1358708478.py:74: SettingWithCopyWarning: \n",
      "A value is trying to be set on a copy of a slice from a DataFrame.\n",
      "Try using .loc[row_indexer,col_indexer] = value instead\n",
      "\n",
      "See the caveats in the documentation: https://pandas.pydata.org/pandas-docs/stable/user_guide/indexing.html#returning-a-view-versus-a-copy\n",
      "  forecasted_df['item']=j\n"
     ]
    },
    {
     "name": "stdout",
     "output_type": "stream",
     "text": [
      "\n",
      "\n",
      "Preparing data for modelling\n",
      "\n",
      "\n",
      "Model Training initiated for St2 and Bingo\n"
     ]
    },
    {
     "name": "stderr",
     "output_type": "stream",
     "text": [
      "13:32:42 - cmdstanpy - INFO - Chain [1] start processing\n",
      "13:32:43 - cmdstanpy - INFO - Chain [1] done processing\n"
     ]
    },
    {
     "name": "stdout",
     "output_type": "stream",
     "text": [
      "Model forecasting\n",
      "Merging forecasting and test data\n",
      "Tranining complted for St2 and Bingo\n",
      "Finding error matrices MSE and RMSE\n",
      "Writing error matrices of St2 and Bingo\n",
      "\n",
      "\n",
      "\n",
      "\n",
      "Writing predicted results of St2 and Bingo\n"
     ]
    },
    {
     "name": "stderr",
     "output_type": "stream",
     "text": [
      "C:\\Users\\Ramshankar\\AppData\\Local\\Temp\\ipykernel_15304\\1358708478.py:73: SettingWithCopyWarning: \n",
      "A value is trying to be set on a copy of a slice from a DataFrame.\n",
      "Try using .loc[row_indexer,col_indexer] = value instead\n",
      "\n",
      "See the caveats in the documentation: https://pandas.pydata.org/pandas-docs/stable/user_guide/indexing.html#returning-a-view-versus-a-copy\n",
      "  forecasted_df['store']= i\n",
      "C:\\Users\\Ramshankar\\AppData\\Local\\Temp\\ipykernel_15304\\1358708478.py:74: SettingWithCopyWarning: \n",
      "A value is trying to be set on a copy of a slice from a DataFrame.\n",
      "Try using .loc[row_indexer,col_indexer] = value instead\n",
      "\n",
      "See the caveats in the documentation: https://pandas.pydata.org/pandas-docs/stable/user_guide/indexing.html#returning-a-view-versus-a-copy\n",
      "  forecasted_df['item']=j\n"
     ]
    },
    {
     "name": "stdout",
     "output_type": "stream",
     "text": [
      "\n",
      "\n",
      "Preparing data for modelling\n",
      "\n",
      "\n",
      "Model Training initiated for St2 and Haldiram\n"
     ]
    },
    {
     "name": "stderr",
     "output_type": "stream",
     "text": [
      "13:32:45 - cmdstanpy - INFO - Chain [1] start processing\n",
      "13:32:45 - cmdstanpy - INFO - Chain [1] done processing\n"
     ]
    },
    {
     "name": "stdout",
     "output_type": "stream",
     "text": [
      "Model forecasting\n",
      "Merging forecasting and test data\n",
      "Tranining complted for St2 and Haldiram\n",
      "Finding error matrices MSE and RMSE\n",
      "Writing error matrices of St2 and Haldiram\n",
      "\n",
      "\n",
      "\n",
      "\n",
      "Writing predicted results of St2 and Haldiram\n"
     ]
    },
    {
     "name": "stderr",
     "output_type": "stream",
     "text": [
      "C:\\Users\\Ramshankar\\AppData\\Local\\Temp\\ipykernel_15304\\1358708478.py:73: SettingWithCopyWarning: \n",
      "A value is trying to be set on a copy of a slice from a DataFrame.\n",
      "Try using .loc[row_indexer,col_indexer] = value instead\n",
      "\n",
      "See the caveats in the documentation: https://pandas.pydata.org/pandas-docs/stable/user_guide/indexing.html#returning-a-view-versus-a-copy\n",
      "  forecasted_df['store']= i\n",
      "C:\\Users\\Ramshankar\\AppData\\Local\\Temp\\ipykernel_15304\\1358708478.py:74: SettingWithCopyWarning: \n",
      "A value is trying to be set on a copy of a slice from a DataFrame.\n",
      "Try using .loc[row_indexer,col_indexer] = value instead\n",
      "\n",
      "See the caveats in the documentation: https://pandas.pydata.org/pandas-docs/stable/user_guide/indexing.html#returning-a-view-versus-a-copy\n",
      "  forecasted_df['item']=j\n"
     ]
    },
    {
     "name": "stdout",
     "output_type": "stream",
     "text": [
      "\n",
      "\n",
      "Preparing data for modelling\n",
      "\n",
      "\n",
      "Model Training initiated for St2 and Peanuts\n"
     ]
    },
    {
     "name": "stderr",
     "output_type": "stream",
     "text": [
      "13:32:47 - cmdstanpy - INFO - Chain [1] start processing\n",
      "13:32:47 - cmdstanpy - INFO - Chain [1] done processing\n"
     ]
    },
    {
     "name": "stdout",
     "output_type": "stream",
     "text": [
      "Model forecasting\n",
      "Merging forecasting and test data\n",
      "Tranining complted for St2 and Peanuts\n",
      "Finding error matrices MSE and RMSE\n",
      "Writing error matrices of St2 and Peanuts\n",
      "\n",
      "\n",
      "\n",
      "\n",
      "Writing predicted results of St2 and Peanuts\n"
     ]
    },
    {
     "name": "stderr",
     "output_type": "stream",
     "text": [
      "C:\\Users\\Ramshankar\\AppData\\Local\\Temp\\ipykernel_15304\\1358708478.py:73: SettingWithCopyWarning: \n",
      "A value is trying to be set on a copy of a slice from a DataFrame.\n",
      "Try using .loc[row_indexer,col_indexer] = value instead\n",
      "\n",
      "See the caveats in the documentation: https://pandas.pydata.org/pandas-docs/stable/user_guide/indexing.html#returning-a-view-versus-a-copy\n",
      "  forecasted_df['store']= i\n",
      "C:\\Users\\Ramshankar\\AppData\\Local\\Temp\\ipykernel_15304\\1358708478.py:74: SettingWithCopyWarning: \n",
      "A value is trying to be set on a copy of a slice from a DataFrame.\n",
      "Try using .loc[row_indexer,col_indexer] = value instead\n",
      "\n",
      "See the caveats in the documentation: https://pandas.pydata.org/pandas-docs/stable/user_guide/indexing.html#returning-a-view-versus-a-copy\n",
      "  forecasted_df['item']=j\n"
     ]
    },
    {
     "name": "stdout",
     "output_type": "stream",
     "text": [
      "\n",
      "\n",
      "Preparing data for modelling\n",
      "\n",
      "\n",
      "Model Training initiated for St2 and Banana Chips\n"
     ]
    },
    {
     "name": "stderr",
     "output_type": "stream",
     "text": [
      "13:32:49 - cmdstanpy - INFO - Chain [1] start processing\n",
      "13:32:49 - cmdstanpy - INFO - Chain [1] done processing\n"
     ]
    },
    {
     "name": "stdout",
     "output_type": "stream",
     "text": [
      "Model forecasting\n",
      "Merging forecasting and test data\n",
      "Tranining complted for St2 and Banana Chips\n",
      "Finding error matrices MSE and RMSE\n",
      "Writing error matrices of St2 and Banana Chips\n",
      "\n",
      "\n",
      "\n",
      "\n",
      "Writing predicted results of St2 and Banana Chips\n"
     ]
    },
    {
     "name": "stderr",
     "output_type": "stream",
     "text": [
      "C:\\Users\\Ramshankar\\AppData\\Local\\Temp\\ipykernel_15304\\1358708478.py:73: SettingWithCopyWarning: \n",
      "A value is trying to be set on a copy of a slice from a DataFrame.\n",
      "Try using .loc[row_indexer,col_indexer] = value instead\n",
      "\n",
      "See the caveats in the documentation: https://pandas.pydata.org/pandas-docs/stable/user_guide/indexing.html#returning-a-view-versus-a-copy\n",
      "  forecasted_df['store']= i\n",
      "C:\\Users\\Ramshankar\\AppData\\Local\\Temp\\ipykernel_15304\\1358708478.py:74: SettingWithCopyWarning: \n",
      "A value is trying to be set on a copy of a slice from a DataFrame.\n",
      "Try using .loc[row_indexer,col_indexer] = value instead\n",
      "\n",
      "See the caveats in the documentation: https://pandas.pydata.org/pandas-docs/stable/user_guide/indexing.html#returning-a-view-versus-a-copy\n",
      "  forecasted_df['item']=j\n"
     ]
    },
    {
     "name": "stdout",
     "output_type": "stream",
     "text": [
      "\n",
      "\n",
      "Preparing data for modelling\n",
      "\n",
      "\n",
      "Model Training initiated for St2 and Too Yum\n"
     ]
    },
    {
     "name": "stderr",
     "output_type": "stream",
     "text": [
      "13:32:51 - cmdstanpy - INFO - Chain [1] start processing\n",
      "13:32:52 - cmdstanpy - INFO - Chain [1] done processing\n"
     ]
    },
    {
     "name": "stdout",
     "output_type": "stream",
     "text": [
      "Model forecasting\n",
      "Merging forecasting and test data\n",
      "Tranining complted for St2 and Too Yum\n",
      "Finding error matrices MSE and RMSE\n",
      "Writing error matrices of St2 and Too Yum\n",
      "\n",
      "\n",
      "\n",
      "\n",
      "Writing predicted results of St2 and Too Yum\n"
     ]
    },
    {
     "name": "stderr",
     "output_type": "stream",
     "text": [
      "C:\\Users\\Ramshankar\\AppData\\Local\\Temp\\ipykernel_15304\\1358708478.py:73: SettingWithCopyWarning: \n",
      "A value is trying to be set on a copy of a slice from a DataFrame.\n",
      "Try using .loc[row_indexer,col_indexer] = value instead\n",
      "\n",
      "See the caveats in the documentation: https://pandas.pydata.org/pandas-docs/stable/user_guide/indexing.html#returning-a-view-versus-a-copy\n",
      "  forecasted_df['store']= i\n",
      "C:\\Users\\Ramshankar\\AppData\\Local\\Temp\\ipykernel_15304\\1358708478.py:74: SettingWithCopyWarning: \n",
      "A value is trying to be set on a copy of a slice from a DataFrame.\n",
      "Try using .loc[row_indexer,col_indexer] = value instead\n",
      "\n",
      "See the caveats in the documentation: https://pandas.pydata.org/pandas-docs/stable/user_guide/indexing.html#returning-a-view-versus-a-copy\n",
      "  forecasted_df['item']=j\n"
     ]
    },
    {
     "name": "stdout",
     "output_type": "stream",
     "text": [
      "\n",
      "\n",
      "Preparing data for modelling\n",
      "\n",
      "\n",
      "Model Training initiated for St2 and Parle-G\n"
     ]
    },
    {
     "name": "stderr",
     "output_type": "stream",
     "text": [
      "13:32:54 - cmdstanpy - INFO - Chain [1] start processing\n",
      "13:32:54 - cmdstanpy - INFO - Chain [1] done processing\n"
     ]
    },
    {
     "name": "stdout",
     "output_type": "stream",
     "text": [
      "Model forecasting\n",
      "Merging forecasting and test data\n",
      "Tranining complted for St2 and Parle-G\n",
      "Finding error matrices MSE and RMSE\n",
      "Writing error matrices of St2 and Parle-G\n",
      "\n",
      "\n",
      "\n",
      "\n",
      "Writing predicted results of St2 and Parle-G\n"
     ]
    },
    {
     "name": "stderr",
     "output_type": "stream",
     "text": [
      "C:\\Users\\Ramshankar\\AppData\\Local\\Temp\\ipykernel_15304\\1358708478.py:73: SettingWithCopyWarning: \n",
      "A value is trying to be set on a copy of a slice from a DataFrame.\n",
      "Try using .loc[row_indexer,col_indexer] = value instead\n",
      "\n",
      "See the caveats in the documentation: https://pandas.pydata.org/pandas-docs/stable/user_guide/indexing.html#returning-a-view-versus-a-copy\n",
      "  forecasted_df['store']= i\n",
      "C:\\Users\\Ramshankar\\AppData\\Local\\Temp\\ipykernel_15304\\1358708478.py:74: SettingWithCopyWarning: \n",
      "A value is trying to be set on a copy of a slice from a DataFrame.\n",
      "Try using .loc[row_indexer,col_indexer] = value instead\n",
      "\n",
      "See the caveats in the documentation: https://pandas.pydata.org/pandas-docs/stable/user_guide/indexing.html#returning-a-view-versus-a-copy\n",
      "  forecasted_df['item']=j\n"
     ]
    },
    {
     "name": "stdout",
     "output_type": "stream",
     "text": [
      "\n",
      "\n",
      "Preparing data for modelling\n",
      "\n",
      "\n",
      "Model Training initiated for St2 and Fruit Cake\n"
     ]
    },
    {
     "name": "stderr",
     "output_type": "stream",
     "text": [
      "13:32:56 - cmdstanpy - INFO - Chain [1] start processing\n",
      "13:32:56 - cmdstanpy - INFO - Chain [1] done processing\n"
     ]
    },
    {
     "name": "stdout",
     "output_type": "stream",
     "text": [
      "Model forecasting\n",
      "Merging forecasting and test data\n",
      "Tranining complted for St2 and Fruit Cake\n",
      "Finding error matrices MSE and RMSE\n",
      "Writing error matrices of St2 and Fruit Cake\n",
      "\n",
      "\n",
      "\n",
      "\n",
      "Writing predicted results of St2 and Fruit Cake\n"
     ]
    },
    {
     "name": "stderr",
     "output_type": "stream",
     "text": [
      "C:\\Users\\Ramshankar\\AppData\\Local\\Temp\\ipykernel_15304\\1358708478.py:73: SettingWithCopyWarning: \n",
      "A value is trying to be set on a copy of a slice from a DataFrame.\n",
      "Try using .loc[row_indexer,col_indexer] = value instead\n",
      "\n",
      "See the caveats in the documentation: https://pandas.pydata.org/pandas-docs/stable/user_guide/indexing.html#returning-a-view-versus-a-copy\n",
      "  forecasted_df['store']= i\n",
      "C:\\Users\\Ramshankar\\AppData\\Local\\Temp\\ipykernel_15304\\1358708478.py:74: SettingWithCopyWarning: \n",
      "A value is trying to be set on a copy of a slice from a DataFrame.\n",
      "Try using .loc[row_indexer,col_indexer] = value instead\n",
      "\n",
      "See the caveats in the documentation: https://pandas.pydata.org/pandas-docs/stable/user_guide/indexing.html#returning-a-view-versus-a-copy\n",
      "  forecasted_df['item']=j\n"
     ]
    },
    {
     "name": "stdout",
     "output_type": "stream",
     "text": [
      "\n",
      "\n",
      "Preparing data for modelling\n",
      "\n",
      "\n",
      "Model Training initiated for St2 and Wafers\n"
     ]
    },
    {
     "name": "stderr",
     "output_type": "stream",
     "text": [
      "13:32:58 - cmdstanpy - INFO - Chain [1] start processing\n",
      "13:32:58 - cmdstanpy - INFO - Chain [1] done processing\n"
     ]
    },
    {
     "name": "stdout",
     "output_type": "stream",
     "text": [
      "Model forecasting\n",
      "Merging forecasting and test data\n",
      "Tranining complted for St2 and Wafers\n",
      "Finding error matrices MSE and RMSE\n",
      "Writing error matrices of St2 and Wafers\n",
      "\n",
      "\n",
      "\n",
      "\n",
      "Writing predicted results of St2 and Wafers\n"
     ]
    },
    {
     "name": "stderr",
     "output_type": "stream",
     "text": [
      "C:\\Users\\Ramshankar\\AppData\\Local\\Temp\\ipykernel_15304\\1358708478.py:73: SettingWithCopyWarning: \n",
      "A value is trying to be set on a copy of a slice from a DataFrame.\n",
      "Try using .loc[row_indexer,col_indexer] = value instead\n",
      "\n",
      "See the caveats in the documentation: https://pandas.pydata.org/pandas-docs/stable/user_guide/indexing.html#returning-a-view-versus-a-copy\n",
      "  forecasted_df['store']= i\n",
      "C:\\Users\\Ramshankar\\AppData\\Local\\Temp\\ipykernel_15304\\1358708478.py:74: SettingWithCopyWarning: \n",
      "A value is trying to be set on a copy of a slice from a DataFrame.\n",
      "Try using .loc[row_indexer,col_indexer] = value instead\n",
      "\n",
      "See the caveats in the documentation: https://pandas.pydata.org/pandas-docs/stable/user_guide/indexing.html#returning-a-view-versus-a-copy\n",
      "  forecasted_df['item']=j\n"
     ]
    },
    {
     "name": "stdout",
     "output_type": "stream",
     "text": [
      "\n",
      "\n",
      "Preparing data for modelling\n",
      "\n",
      "\n",
      "Model Training initiated for St3 and Lay's\n"
     ]
    },
    {
     "name": "stderr",
     "output_type": "stream",
     "text": [
      "13:33:00 - cmdstanpy - INFO - Chain [1] start processing\n",
      "13:33:01 - cmdstanpy - INFO - Chain [1] done processing\n"
     ]
    },
    {
     "name": "stdout",
     "output_type": "stream",
     "text": [
      "Model forecasting\n",
      "Merging forecasting and test data\n",
      "Tranining complted for St3 and Lay's\n",
      "Finding error matrices MSE and RMSE\n",
      "Writing error matrices of St3 and Lay's\n",
      "\n",
      "\n",
      "\n",
      "\n",
      "Writing predicted results of St3 and Lay's\n"
     ]
    },
    {
     "name": "stderr",
     "output_type": "stream",
     "text": [
      "C:\\Users\\Ramshankar\\AppData\\Local\\Temp\\ipykernel_15304\\1358708478.py:73: SettingWithCopyWarning: \n",
      "A value is trying to be set on a copy of a slice from a DataFrame.\n",
      "Try using .loc[row_indexer,col_indexer] = value instead\n",
      "\n",
      "See the caveats in the documentation: https://pandas.pydata.org/pandas-docs/stable/user_guide/indexing.html#returning-a-view-versus-a-copy\n",
      "  forecasted_df['store']= i\n",
      "C:\\Users\\Ramshankar\\AppData\\Local\\Temp\\ipykernel_15304\\1358708478.py:74: SettingWithCopyWarning: \n",
      "A value is trying to be set on a copy of a slice from a DataFrame.\n",
      "Try using .loc[row_indexer,col_indexer] = value instead\n",
      "\n",
      "See the caveats in the documentation: https://pandas.pydata.org/pandas-docs/stable/user_guide/indexing.html#returning-a-view-versus-a-copy\n",
      "  forecasted_df['item']=j\n"
     ]
    },
    {
     "name": "stdout",
     "output_type": "stream",
     "text": [
      "\n",
      "\n",
      "Preparing data for modelling\n",
      "\n",
      "\n",
      "Model Training initiated for St3 and Kurkure\n"
     ]
    },
    {
     "name": "stderr",
     "output_type": "stream",
     "text": [
      "13:33:03 - cmdstanpy - INFO - Chain [1] start processing\n",
      "13:33:03 - cmdstanpy - INFO - Chain [1] done processing\n"
     ]
    },
    {
     "name": "stdout",
     "output_type": "stream",
     "text": [
      "Model forecasting\n",
      "Merging forecasting and test data\n",
      "Tranining complted for St3 and Kurkure\n",
      "Finding error matrices MSE and RMSE\n",
      "Writing error matrices of St3 and Kurkure\n",
      "\n",
      "\n",
      "\n",
      "\n",
      "Writing predicted results of St3 and Kurkure\n"
     ]
    },
    {
     "name": "stderr",
     "output_type": "stream",
     "text": [
      "C:\\Users\\Ramshankar\\AppData\\Local\\Temp\\ipykernel_15304\\1358708478.py:73: SettingWithCopyWarning: \n",
      "A value is trying to be set on a copy of a slice from a DataFrame.\n",
      "Try using .loc[row_indexer,col_indexer] = value instead\n",
      "\n",
      "See the caveats in the documentation: https://pandas.pydata.org/pandas-docs/stable/user_guide/indexing.html#returning-a-view-versus-a-copy\n",
      "  forecasted_df['store']= i\n",
      "C:\\Users\\Ramshankar\\AppData\\Local\\Temp\\ipykernel_15304\\1358708478.py:74: SettingWithCopyWarning: \n",
      "A value is trying to be set on a copy of a slice from a DataFrame.\n",
      "Try using .loc[row_indexer,col_indexer] = value instead\n",
      "\n",
      "See the caveats in the documentation: https://pandas.pydata.org/pandas-docs/stable/user_guide/indexing.html#returning-a-view-versus-a-copy\n",
      "  forecasted_df['item']=j\n"
     ]
    },
    {
     "name": "stdout",
     "output_type": "stream",
     "text": [
      "\n",
      "\n",
      "Preparing data for modelling\n",
      "\n",
      "\n",
      "Model Training initiated for St3 and Bingo\n"
     ]
    },
    {
     "name": "stderr",
     "output_type": "stream",
     "text": [
      "13:33:05 - cmdstanpy - INFO - Chain [1] start processing\n",
      "13:33:05 - cmdstanpy - INFO - Chain [1] done processing\n"
     ]
    },
    {
     "name": "stdout",
     "output_type": "stream",
     "text": [
      "Model forecasting\n",
      "Merging forecasting and test data\n",
      "Tranining complted for St3 and Bingo\n",
      "Finding error matrices MSE and RMSE\n",
      "Writing error matrices of St3 and Bingo\n",
      "\n",
      "\n",
      "\n",
      "\n",
      "Writing predicted results of St3 and Bingo\n"
     ]
    },
    {
     "name": "stderr",
     "output_type": "stream",
     "text": [
      "C:\\Users\\Ramshankar\\AppData\\Local\\Temp\\ipykernel_15304\\1358708478.py:73: SettingWithCopyWarning: \n",
      "A value is trying to be set on a copy of a slice from a DataFrame.\n",
      "Try using .loc[row_indexer,col_indexer] = value instead\n",
      "\n",
      "See the caveats in the documentation: https://pandas.pydata.org/pandas-docs/stable/user_guide/indexing.html#returning-a-view-versus-a-copy\n",
      "  forecasted_df['store']= i\n",
      "C:\\Users\\Ramshankar\\AppData\\Local\\Temp\\ipykernel_15304\\1358708478.py:74: SettingWithCopyWarning: \n",
      "A value is trying to be set on a copy of a slice from a DataFrame.\n",
      "Try using .loc[row_indexer,col_indexer] = value instead\n",
      "\n",
      "See the caveats in the documentation: https://pandas.pydata.org/pandas-docs/stable/user_guide/indexing.html#returning-a-view-versus-a-copy\n",
      "  forecasted_df['item']=j\n"
     ]
    },
    {
     "name": "stdout",
     "output_type": "stream",
     "text": [
      "\n",
      "\n",
      "Preparing data for modelling\n",
      "\n",
      "\n",
      "Model Training initiated for St3 and Haldiram\n"
     ]
    },
    {
     "name": "stderr",
     "output_type": "stream",
     "text": [
      "13:33:07 - cmdstanpy - INFO - Chain [1] start processing\n",
      "13:33:07 - cmdstanpy - INFO - Chain [1] done processing\n"
     ]
    },
    {
     "name": "stdout",
     "output_type": "stream",
     "text": [
      "Model forecasting\n",
      "Merging forecasting and test data\n",
      "Tranining complted for St3 and Haldiram\n",
      "Finding error matrices MSE and RMSE\n",
      "Writing error matrices of St3 and Haldiram\n",
      "\n",
      "\n",
      "\n",
      "\n",
      "Writing predicted results of St3 and Haldiram\n"
     ]
    },
    {
     "name": "stderr",
     "output_type": "stream",
     "text": [
      "C:\\Users\\Ramshankar\\AppData\\Local\\Temp\\ipykernel_15304\\1358708478.py:73: SettingWithCopyWarning: \n",
      "A value is trying to be set on a copy of a slice from a DataFrame.\n",
      "Try using .loc[row_indexer,col_indexer] = value instead\n",
      "\n",
      "See the caveats in the documentation: https://pandas.pydata.org/pandas-docs/stable/user_guide/indexing.html#returning-a-view-versus-a-copy\n",
      "  forecasted_df['store']= i\n",
      "C:\\Users\\Ramshankar\\AppData\\Local\\Temp\\ipykernel_15304\\1358708478.py:74: SettingWithCopyWarning: \n",
      "A value is trying to be set on a copy of a slice from a DataFrame.\n",
      "Try using .loc[row_indexer,col_indexer] = value instead\n",
      "\n",
      "See the caveats in the documentation: https://pandas.pydata.org/pandas-docs/stable/user_guide/indexing.html#returning-a-view-versus-a-copy\n",
      "  forecasted_df['item']=j\n"
     ]
    },
    {
     "name": "stdout",
     "output_type": "stream",
     "text": [
      "\n",
      "\n",
      "Preparing data for modelling\n",
      "\n",
      "\n",
      "Model Training initiated for St3 and Peanuts\n"
     ]
    },
    {
     "name": "stderr",
     "output_type": "stream",
     "text": [
      "13:33:09 - cmdstanpy - INFO - Chain [1] start processing\n",
      "13:33:10 - cmdstanpy - INFO - Chain [1] done processing\n"
     ]
    },
    {
     "name": "stdout",
     "output_type": "stream",
     "text": [
      "Model forecasting\n",
      "Merging forecasting and test data\n",
      "Tranining complted for St3 and Peanuts\n",
      "Finding error matrices MSE and RMSE\n",
      "Writing error matrices of St3 and Peanuts\n",
      "\n",
      "\n",
      "\n",
      "\n",
      "Writing predicted results of St3 and Peanuts\n"
     ]
    },
    {
     "name": "stderr",
     "output_type": "stream",
     "text": [
      "C:\\Users\\Ramshankar\\AppData\\Local\\Temp\\ipykernel_15304\\1358708478.py:73: SettingWithCopyWarning: \n",
      "A value is trying to be set on a copy of a slice from a DataFrame.\n",
      "Try using .loc[row_indexer,col_indexer] = value instead\n",
      "\n",
      "See the caveats in the documentation: https://pandas.pydata.org/pandas-docs/stable/user_guide/indexing.html#returning-a-view-versus-a-copy\n",
      "  forecasted_df['store']= i\n",
      "C:\\Users\\Ramshankar\\AppData\\Local\\Temp\\ipykernel_15304\\1358708478.py:74: SettingWithCopyWarning: \n",
      "A value is trying to be set on a copy of a slice from a DataFrame.\n",
      "Try using .loc[row_indexer,col_indexer] = value instead\n",
      "\n",
      "See the caveats in the documentation: https://pandas.pydata.org/pandas-docs/stable/user_guide/indexing.html#returning-a-view-versus-a-copy\n",
      "  forecasted_df['item']=j\n"
     ]
    },
    {
     "name": "stdout",
     "output_type": "stream",
     "text": [
      "\n",
      "\n",
      "Preparing data for modelling\n",
      "\n",
      "\n",
      "Model Training initiated for St3 and Banana Chips\n"
     ]
    },
    {
     "name": "stderr",
     "output_type": "stream",
     "text": [
      "13:33:12 - cmdstanpy - INFO - Chain [1] start processing\n",
      "13:33:12 - cmdstanpy - INFO - Chain [1] done processing\n"
     ]
    },
    {
     "name": "stdout",
     "output_type": "stream",
     "text": [
      "Model forecasting\n",
      "Merging forecasting and test data\n",
      "Tranining complted for St3 and Banana Chips\n",
      "Finding error matrices MSE and RMSE\n",
      "Writing error matrices of St3 and Banana Chips\n",
      "\n",
      "\n",
      "\n",
      "\n",
      "Writing predicted results of St3 and Banana Chips\n"
     ]
    },
    {
     "name": "stderr",
     "output_type": "stream",
     "text": [
      "C:\\Users\\Ramshankar\\AppData\\Local\\Temp\\ipykernel_15304\\1358708478.py:73: SettingWithCopyWarning: \n",
      "A value is trying to be set on a copy of a slice from a DataFrame.\n",
      "Try using .loc[row_indexer,col_indexer] = value instead\n",
      "\n",
      "See the caveats in the documentation: https://pandas.pydata.org/pandas-docs/stable/user_guide/indexing.html#returning-a-view-versus-a-copy\n",
      "  forecasted_df['store']= i\n",
      "C:\\Users\\Ramshankar\\AppData\\Local\\Temp\\ipykernel_15304\\1358708478.py:74: SettingWithCopyWarning: \n",
      "A value is trying to be set on a copy of a slice from a DataFrame.\n",
      "Try using .loc[row_indexer,col_indexer] = value instead\n",
      "\n",
      "See the caveats in the documentation: https://pandas.pydata.org/pandas-docs/stable/user_guide/indexing.html#returning-a-view-versus-a-copy\n",
      "  forecasted_df['item']=j\n"
     ]
    },
    {
     "name": "stdout",
     "output_type": "stream",
     "text": [
      "\n",
      "\n",
      "Preparing data for modelling\n",
      "\n",
      "\n",
      "Model Training initiated for St3 and Too Yum\n"
     ]
    },
    {
     "name": "stderr",
     "output_type": "stream",
     "text": [
      "13:33:14 - cmdstanpy - INFO - Chain [1] start processing\n",
      "13:33:14 - cmdstanpy - INFO - Chain [1] done processing\n"
     ]
    },
    {
     "name": "stdout",
     "output_type": "stream",
     "text": [
      "Model forecasting\n",
      "Merging forecasting and test data\n",
      "Tranining complted for St3 and Too Yum\n",
      "Finding error matrices MSE and RMSE\n",
      "Writing error matrices of St3 and Too Yum\n",
      "\n",
      "\n",
      "\n",
      "\n",
      "Writing predicted results of St3 and Too Yum\n"
     ]
    },
    {
     "name": "stderr",
     "output_type": "stream",
     "text": [
      "C:\\Users\\Ramshankar\\AppData\\Local\\Temp\\ipykernel_15304\\1358708478.py:73: SettingWithCopyWarning: \n",
      "A value is trying to be set on a copy of a slice from a DataFrame.\n",
      "Try using .loc[row_indexer,col_indexer] = value instead\n",
      "\n",
      "See the caveats in the documentation: https://pandas.pydata.org/pandas-docs/stable/user_guide/indexing.html#returning-a-view-versus-a-copy\n",
      "  forecasted_df['store']= i\n",
      "C:\\Users\\Ramshankar\\AppData\\Local\\Temp\\ipykernel_15304\\1358708478.py:74: SettingWithCopyWarning: \n",
      "A value is trying to be set on a copy of a slice from a DataFrame.\n",
      "Try using .loc[row_indexer,col_indexer] = value instead\n",
      "\n",
      "See the caveats in the documentation: https://pandas.pydata.org/pandas-docs/stable/user_guide/indexing.html#returning-a-view-versus-a-copy\n",
      "  forecasted_df['item']=j\n"
     ]
    },
    {
     "name": "stdout",
     "output_type": "stream",
     "text": [
      "\n",
      "\n",
      "Preparing data for modelling\n",
      "\n",
      "\n",
      "Model Training initiated for St3 and Parle-G\n"
     ]
    },
    {
     "name": "stderr",
     "output_type": "stream",
     "text": [
      "13:33:16 - cmdstanpy - INFO - Chain [1] start processing\n",
      "13:33:16 - cmdstanpy - INFO - Chain [1] done processing\n"
     ]
    },
    {
     "name": "stdout",
     "output_type": "stream",
     "text": [
      "Model forecasting\n",
      "Merging forecasting and test data\n",
      "Tranining complted for St3 and Parle-G\n",
      "Finding error matrices MSE and RMSE\n",
      "Writing error matrices of St3 and Parle-G\n",
      "\n",
      "\n",
      "\n",
      "\n",
      "Writing predicted results of St3 and Parle-G\n"
     ]
    },
    {
     "name": "stderr",
     "output_type": "stream",
     "text": [
      "C:\\Users\\Ramshankar\\AppData\\Local\\Temp\\ipykernel_15304\\1358708478.py:73: SettingWithCopyWarning: \n",
      "A value is trying to be set on a copy of a slice from a DataFrame.\n",
      "Try using .loc[row_indexer,col_indexer] = value instead\n",
      "\n",
      "See the caveats in the documentation: https://pandas.pydata.org/pandas-docs/stable/user_guide/indexing.html#returning-a-view-versus-a-copy\n",
      "  forecasted_df['store']= i\n",
      "C:\\Users\\Ramshankar\\AppData\\Local\\Temp\\ipykernel_15304\\1358708478.py:74: SettingWithCopyWarning: \n",
      "A value is trying to be set on a copy of a slice from a DataFrame.\n",
      "Try using .loc[row_indexer,col_indexer] = value instead\n",
      "\n",
      "See the caveats in the documentation: https://pandas.pydata.org/pandas-docs/stable/user_guide/indexing.html#returning-a-view-versus-a-copy\n",
      "  forecasted_df['item']=j\n"
     ]
    },
    {
     "name": "stdout",
     "output_type": "stream",
     "text": [
      "\n",
      "\n",
      "Preparing data for modelling\n",
      "\n",
      "\n",
      "Model Training initiated for St3 and Fruit Cake\n"
     ]
    },
    {
     "name": "stderr",
     "output_type": "stream",
     "text": [
      "13:33:19 - cmdstanpy - INFO - Chain [1] start processing\n",
      "13:33:19 - cmdstanpy - INFO - Chain [1] done processing\n"
     ]
    },
    {
     "name": "stdout",
     "output_type": "stream",
     "text": [
      "Model forecasting\n",
      "Merging forecasting and test data\n",
      "Tranining complted for St3 and Fruit Cake\n",
      "Finding error matrices MSE and RMSE\n",
      "Writing error matrices of St3 and Fruit Cake\n",
      "\n",
      "\n",
      "\n",
      "\n",
      "Writing predicted results of St3 and Fruit Cake\n"
     ]
    },
    {
     "name": "stderr",
     "output_type": "stream",
     "text": [
      "C:\\Users\\Ramshankar\\AppData\\Local\\Temp\\ipykernel_15304\\1358708478.py:73: SettingWithCopyWarning: \n",
      "A value is trying to be set on a copy of a slice from a DataFrame.\n",
      "Try using .loc[row_indexer,col_indexer] = value instead\n",
      "\n",
      "See the caveats in the documentation: https://pandas.pydata.org/pandas-docs/stable/user_guide/indexing.html#returning-a-view-versus-a-copy\n",
      "  forecasted_df['store']= i\n",
      "C:\\Users\\Ramshankar\\AppData\\Local\\Temp\\ipykernel_15304\\1358708478.py:74: SettingWithCopyWarning: \n",
      "A value is trying to be set on a copy of a slice from a DataFrame.\n",
      "Try using .loc[row_indexer,col_indexer] = value instead\n",
      "\n",
      "See the caveats in the documentation: https://pandas.pydata.org/pandas-docs/stable/user_guide/indexing.html#returning-a-view-versus-a-copy\n",
      "  forecasted_df['item']=j\n"
     ]
    },
    {
     "name": "stdout",
     "output_type": "stream",
     "text": [
      "\n",
      "\n",
      "Preparing data for modelling\n",
      "\n",
      "\n",
      "Model Training initiated for St3 and Wafers\n"
     ]
    },
    {
     "name": "stderr",
     "output_type": "stream",
     "text": [
      "13:33:21 - cmdstanpy - INFO - Chain [1] start processing\n",
      "13:33:21 - cmdstanpy - INFO - Chain [1] done processing\n"
     ]
    },
    {
     "name": "stdout",
     "output_type": "stream",
     "text": [
      "Model forecasting\n",
      "Merging forecasting and test data\n",
      "Tranining complted for St3 and Wafers\n",
      "Finding error matrices MSE and RMSE\n",
      "Writing error matrices of St3 and Wafers\n",
      "\n",
      "\n",
      "\n",
      "\n",
      "Writing predicted results of St3 and Wafers\n"
     ]
    },
    {
     "name": "stderr",
     "output_type": "stream",
     "text": [
      "C:\\Users\\Ramshankar\\AppData\\Local\\Temp\\ipykernel_15304\\1358708478.py:73: SettingWithCopyWarning: \n",
      "A value is trying to be set on a copy of a slice from a DataFrame.\n",
      "Try using .loc[row_indexer,col_indexer] = value instead\n",
      "\n",
      "See the caveats in the documentation: https://pandas.pydata.org/pandas-docs/stable/user_guide/indexing.html#returning-a-view-versus-a-copy\n",
      "  forecasted_df['store']= i\n",
      "C:\\Users\\Ramshankar\\AppData\\Local\\Temp\\ipykernel_15304\\1358708478.py:74: SettingWithCopyWarning: \n",
      "A value is trying to be set on a copy of a slice from a DataFrame.\n",
      "Try using .loc[row_indexer,col_indexer] = value instead\n",
      "\n",
      "See the caveats in the documentation: https://pandas.pydata.org/pandas-docs/stable/user_guide/indexing.html#returning-a-view-versus-a-copy\n",
      "  forecasted_df['item']=j\n"
     ]
    },
    {
     "name": "stdout",
     "output_type": "stream",
     "text": [
      "\n",
      "\n",
      "Preparing data for modelling\n",
      "\n",
      "\n",
      "Model Training initiated for St4 and Lay's\n"
     ]
    },
    {
     "name": "stderr",
     "output_type": "stream",
     "text": [
      "13:33:23 - cmdstanpy - INFO - Chain [1] start processing\n",
      "13:33:23 - cmdstanpy - INFO - Chain [1] done processing\n"
     ]
    },
    {
     "name": "stdout",
     "output_type": "stream",
     "text": [
      "Model forecasting\n",
      "Merging forecasting and test data\n",
      "Tranining complted for St4 and Lay's\n",
      "Finding error matrices MSE and RMSE\n",
      "Writing error matrices of St4 and Lay's\n",
      "\n",
      "\n",
      "\n",
      "\n",
      "Writing predicted results of St4 and Lay's\n"
     ]
    },
    {
     "name": "stderr",
     "output_type": "stream",
     "text": [
      "C:\\Users\\Ramshankar\\AppData\\Local\\Temp\\ipykernel_15304\\1358708478.py:73: SettingWithCopyWarning: \n",
      "A value is trying to be set on a copy of a slice from a DataFrame.\n",
      "Try using .loc[row_indexer,col_indexer] = value instead\n",
      "\n",
      "See the caveats in the documentation: https://pandas.pydata.org/pandas-docs/stable/user_guide/indexing.html#returning-a-view-versus-a-copy\n",
      "  forecasted_df['store']= i\n",
      "C:\\Users\\Ramshankar\\AppData\\Local\\Temp\\ipykernel_15304\\1358708478.py:74: SettingWithCopyWarning: \n",
      "A value is trying to be set on a copy of a slice from a DataFrame.\n",
      "Try using .loc[row_indexer,col_indexer] = value instead\n",
      "\n",
      "See the caveats in the documentation: https://pandas.pydata.org/pandas-docs/stable/user_guide/indexing.html#returning-a-view-versus-a-copy\n",
      "  forecasted_df['item']=j\n"
     ]
    },
    {
     "name": "stdout",
     "output_type": "stream",
     "text": [
      "\n",
      "\n",
      "Preparing data for modelling\n",
      "\n",
      "\n",
      "Model Training initiated for St4 and Kurkure\n"
     ]
    },
    {
     "name": "stderr",
     "output_type": "stream",
     "text": [
      "13:33:25 - cmdstanpy - INFO - Chain [1] start processing\n",
      "13:33:26 - cmdstanpy - INFO - Chain [1] done processing\n"
     ]
    },
    {
     "name": "stdout",
     "output_type": "stream",
     "text": [
      "Model forecasting\n",
      "Merging forecasting and test data\n",
      "Tranining complted for St4 and Kurkure\n",
      "Finding error matrices MSE and RMSE\n",
      "Writing error matrices of St4 and Kurkure\n",
      "\n",
      "\n",
      "\n",
      "\n",
      "Writing predicted results of St4 and Kurkure\n"
     ]
    },
    {
     "name": "stderr",
     "output_type": "stream",
     "text": [
      "C:\\Users\\Ramshankar\\AppData\\Local\\Temp\\ipykernel_15304\\1358708478.py:73: SettingWithCopyWarning: \n",
      "A value is trying to be set on a copy of a slice from a DataFrame.\n",
      "Try using .loc[row_indexer,col_indexer] = value instead\n",
      "\n",
      "See the caveats in the documentation: https://pandas.pydata.org/pandas-docs/stable/user_guide/indexing.html#returning-a-view-versus-a-copy\n",
      "  forecasted_df['store']= i\n",
      "C:\\Users\\Ramshankar\\AppData\\Local\\Temp\\ipykernel_15304\\1358708478.py:74: SettingWithCopyWarning: \n",
      "A value is trying to be set on a copy of a slice from a DataFrame.\n",
      "Try using .loc[row_indexer,col_indexer] = value instead\n",
      "\n",
      "See the caveats in the documentation: https://pandas.pydata.org/pandas-docs/stable/user_guide/indexing.html#returning-a-view-versus-a-copy\n",
      "  forecasted_df['item']=j\n"
     ]
    },
    {
     "name": "stdout",
     "output_type": "stream",
     "text": [
      "\n",
      "\n",
      "Preparing data for modelling\n",
      "\n",
      "\n",
      "Model Training initiated for St4 and Bingo\n"
     ]
    },
    {
     "name": "stderr",
     "output_type": "stream",
     "text": [
      "13:33:28 - cmdstanpy - INFO - Chain [1] start processing\n",
      "13:33:28 - cmdstanpy - INFO - Chain [1] done processing\n"
     ]
    },
    {
     "name": "stdout",
     "output_type": "stream",
     "text": [
      "Model forecasting\n",
      "Merging forecasting and test data\n",
      "Tranining complted for St4 and Bingo\n",
      "Finding error matrices MSE and RMSE\n",
      "Writing error matrices of St4 and Bingo\n",
      "\n",
      "\n",
      "\n",
      "\n",
      "Writing predicted results of St4 and Bingo\n"
     ]
    },
    {
     "name": "stderr",
     "output_type": "stream",
     "text": [
      "C:\\Users\\Ramshankar\\AppData\\Local\\Temp\\ipykernel_15304\\1358708478.py:73: SettingWithCopyWarning: \n",
      "A value is trying to be set on a copy of a slice from a DataFrame.\n",
      "Try using .loc[row_indexer,col_indexer] = value instead\n",
      "\n",
      "See the caveats in the documentation: https://pandas.pydata.org/pandas-docs/stable/user_guide/indexing.html#returning-a-view-versus-a-copy\n",
      "  forecasted_df['store']= i\n",
      "C:\\Users\\Ramshankar\\AppData\\Local\\Temp\\ipykernel_15304\\1358708478.py:74: SettingWithCopyWarning: \n",
      "A value is trying to be set on a copy of a slice from a DataFrame.\n",
      "Try using .loc[row_indexer,col_indexer] = value instead\n",
      "\n",
      "See the caveats in the documentation: https://pandas.pydata.org/pandas-docs/stable/user_guide/indexing.html#returning-a-view-versus-a-copy\n",
      "  forecasted_df['item']=j\n"
     ]
    },
    {
     "name": "stdout",
     "output_type": "stream",
     "text": [
      "\n",
      "\n",
      "Preparing data for modelling\n",
      "\n",
      "\n",
      "Model Training initiated for St4 and Haldiram\n"
     ]
    },
    {
     "name": "stderr",
     "output_type": "stream",
     "text": [
      "13:33:30 - cmdstanpy - INFO - Chain [1] start processing\n",
      "13:33:30 - cmdstanpy - INFO - Chain [1] done processing\n"
     ]
    },
    {
     "name": "stdout",
     "output_type": "stream",
     "text": [
      "Model forecasting\n",
      "Merging forecasting and test data\n",
      "Tranining complted for St4 and Haldiram\n",
      "Finding error matrices MSE and RMSE\n",
      "Writing error matrices of St4 and Haldiram\n",
      "\n",
      "\n",
      "\n",
      "\n",
      "Writing predicted results of St4 and Haldiram\n"
     ]
    },
    {
     "name": "stderr",
     "output_type": "stream",
     "text": [
      "C:\\Users\\Ramshankar\\AppData\\Local\\Temp\\ipykernel_15304\\1358708478.py:73: SettingWithCopyWarning: \n",
      "A value is trying to be set on a copy of a slice from a DataFrame.\n",
      "Try using .loc[row_indexer,col_indexer] = value instead\n",
      "\n",
      "See the caveats in the documentation: https://pandas.pydata.org/pandas-docs/stable/user_guide/indexing.html#returning-a-view-versus-a-copy\n",
      "  forecasted_df['store']= i\n",
      "C:\\Users\\Ramshankar\\AppData\\Local\\Temp\\ipykernel_15304\\1358708478.py:74: SettingWithCopyWarning: \n",
      "A value is trying to be set on a copy of a slice from a DataFrame.\n",
      "Try using .loc[row_indexer,col_indexer] = value instead\n",
      "\n",
      "See the caveats in the documentation: https://pandas.pydata.org/pandas-docs/stable/user_guide/indexing.html#returning-a-view-versus-a-copy\n",
      "  forecasted_df['item']=j\n"
     ]
    },
    {
     "name": "stdout",
     "output_type": "stream",
     "text": [
      "\n",
      "\n",
      "Preparing data for modelling\n",
      "\n",
      "\n",
      "Model Training initiated for St4 and Peanuts\n"
     ]
    },
    {
     "name": "stderr",
     "output_type": "stream",
     "text": [
      "13:33:32 - cmdstanpy - INFO - Chain [1] start processing\n",
      "13:33:32 - cmdstanpy - INFO - Chain [1] done processing\n"
     ]
    },
    {
     "name": "stdout",
     "output_type": "stream",
     "text": [
      "Model forecasting\n",
      "Merging forecasting and test data\n",
      "Tranining complted for St4 and Peanuts\n",
      "Finding error matrices MSE and RMSE\n",
      "Writing error matrices of St4 and Peanuts\n",
      "\n",
      "\n",
      "\n",
      "\n",
      "Writing predicted results of St4 and Peanuts\n"
     ]
    },
    {
     "name": "stderr",
     "output_type": "stream",
     "text": [
      "C:\\Users\\Ramshankar\\AppData\\Local\\Temp\\ipykernel_15304\\1358708478.py:73: SettingWithCopyWarning: \n",
      "A value is trying to be set on a copy of a slice from a DataFrame.\n",
      "Try using .loc[row_indexer,col_indexer] = value instead\n",
      "\n",
      "See the caveats in the documentation: https://pandas.pydata.org/pandas-docs/stable/user_guide/indexing.html#returning-a-view-versus-a-copy\n",
      "  forecasted_df['store']= i\n",
      "C:\\Users\\Ramshankar\\AppData\\Local\\Temp\\ipykernel_15304\\1358708478.py:74: SettingWithCopyWarning: \n",
      "A value is trying to be set on a copy of a slice from a DataFrame.\n",
      "Try using .loc[row_indexer,col_indexer] = value instead\n",
      "\n",
      "See the caveats in the documentation: https://pandas.pydata.org/pandas-docs/stable/user_guide/indexing.html#returning-a-view-versus-a-copy\n",
      "  forecasted_df['item']=j\n"
     ]
    },
    {
     "name": "stdout",
     "output_type": "stream",
     "text": [
      "\n",
      "\n",
      "Preparing data for modelling\n",
      "\n",
      "\n",
      "Model Training initiated for St4 and Banana Chips\n"
     ]
    },
    {
     "name": "stderr",
     "output_type": "stream",
     "text": [
      "13:33:34 - cmdstanpy - INFO - Chain [1] start processing\n",
      "13:33:34 - cmdstanpy - INFO - Chain [1] done processing\n"
     ]
    },
    {
     "name": "stdout",
     "output_type": "stream",
     "text": [
      "Model forecasting\n",
      "Merging forecasting and test data\n",
      "Tranining complted for St4 and Banana Chips\n",
      "Finding error matrices MSE and RMSE\n",
      "Writing error matrices of St4 and Banana Chips\n",
      "\n",
      "\n",
      "\n",
      "\n",
      "Writing predicted results of St4 and Banana Chips\n"
     ]
    },
    {
     "name": "stderr",
     "output_type": "stream",
     "text": [
      "C:\\Users\\Ramshankar\\AppData\\Local\\Temp\\ipykernel_15304\\1358708478.py:73: SettingWithCopyWarning: \n",
      "A value is trying to be set on a copy of a slice from a DataFrame.\n",
      "Try using .loc[row_indexer,col_indexer] = value instead\n",
      "\n",
      "See the caveats in the documentation: https://pandas.pydata.org/pandas-docs/stable/user_guide/indexing.html#returning-a-view-versus-a-copy\n",
      "  forecasted_df['store']= i\n",
      "C:\\Users\\Ramshankar\\AppData\\Local\\Temp\\ipykernel_15304\\1358708478.py:74: SettingWithCopyWarning: \n",
      "A value is trying to be set on a copy of a slice from a DataFrame.\n",
      "Try using .loc[row_indexer,col_indexer] = value instead\n",
      "\n",
      "See the caveats in the documentation: https://pandas.pydata.org/pandas-docs/stable/user_guide/indexing.html#returning-a-view-versus-a-copy\n",
      "  forecasted_df['item']=j\n"
     ]
    },
    {
     "name": "stdout",
     "output_type": "stream",
     "text": [
      "\n",
      "\n",
      "Preparing data for modelling\n",
      "\n",
      "\n",
      "Model Training initiated for St4 and Too Yum\n"
     ]
    },
    {
     "name": "stderr",
     "output_type": "stream",
     "text": [
      "13:33:36 - cmdstanpy - INFO - Chain [1] start processing\n",
      "13:33:37 - cmdstanpy - INFO - Chain [1] done processing\n"
     ]
    },
    {
     "name": "stdout",
     "output_type": "stream",
     "text": [
      "Model forecasting\n",
      "Merging forecasting and test data\n",
      "Tranining complted for St4 and Too Yum\n",
      "Finding error matrices MSE and RMSE\n",
      "Writing error matrices of St4 and Too Yum\n",
      "\n",
      "\n",
      "\n",
      "\n",
      "Writing predicted results of St4 and Too Yum\n"
     ]
    },
    {
     "name": "stderr",
     "output_type": "stream",
     "text": [
      "C:\\Users\\Ramshankar\\AppData\\Local\\Temp\\ipykernel_15304\\1358708478.py:73: SettingWithCopyWarning: \n",
      "A value is trying to be set on a copy of a slice from a DataFrame.\n",
      "Try using .loc[row_indexer,col_indexer] = value instead\n",
      "\n",
      "See the caveats in the documentation: https://pandas.pydata.org/pandas-docs/stable/user_guide/indexing.html#returning-a-view-versus-a-copy\n",
      "  forecasted_df['store']= i\n",
      "C:\\Users\\Ramshankar\\AppData\\Local\\Temp\\ipykernel_15304\\1358708478.py:74: SettingWithCopyWarning: \n",
      "A value is trying to be set on a copy of a slice from a DataFrame.\n",
      "Try using .loc[row_indexer,col_indexer] = value instead\n",
      "\n",
      "See the caveats in the documentation: https://pandas.pydata.org/pandas-docs/stable/user_guide/indexing.html#returning-a-view-versus-a-copy\n",
      "  forecasted_df['item']=j\n"
     ]
    },
    {
     "name": "stdout",
     "output_type": "stream",
     "text": [
      "\n",
      "\n",
      "Preparing data for modelling\n",
      "\n",
      "\n",
      "Model Training initiated for St4 and Parle-G\n"
     ]
    },
    {
     "name": "stderr",
     "output_type": "stream",
     "text": [
      "13:33:39 - cmdstanpy - INFO - Chain [1] start processing\n",
      "13:33:39 - cmdstanpy - INFO - Chain [1] done processing\n"
     ]
    },
    {
     "name": "stdout",
     "output_type": "stream",
     "text": [
      "Model forecasting\n",
      "Merging forecasting and test data\n",
      "Tranining complted for St4 and Parle-G\n",
      "Finding error matrices MSE and RMSE\n",
      "Writing error matrices of St4 and Parle-G\n",
      "\n",
      "\n",
      "\n",
      "\n",
      "Writing predicted results of St4 and Parle-G\n"
     ]
    },
    {
     "name": "stderr",
     "output_type": "stream",
     "text": [
      "C:\\Users\\Ramshankar\\AppData\\Local\\Temp\\ipykernel_15304\\1358708478.py:73: SettingWithCopyWarning: \n",
      "A value is trying to be set on a copy of a slice from a DataFrame.\n",
      "Try using .loc[row_indexer,col_indexer] = value instead\n",
      "\n",
      "See the caveats in the documentation: https://pandas.pydata.org/pandas-docs/stable/user_guide/indexing.html#returning-a-view-versus-a-copy\n",
      "  forecasted_df['store']= i\n",
      "C:\\Users\\Ramshankar\\AppData\\Local\\Temp\\ipykernel_15304\\1358708478.py:74: SettingWithCopyWarning: \n",
      "A value is trying to be set on a copy of a slice from a DataFrame.\n",
      "Try using .loc[row_indexer,col_indexer] = value instead\n",
      "\n",
      "See the caveats in the documentation: https://pandas.pydata.org/pandas-docs/stable/user_guide/indexing.html#returning-a-view-versus-a-copy\n",
      "  forecasted_df['item']=j\n"
     ]
    },
    {
     "name": "stdout",
     "output_type": "stream",
     "text": [
      "\n",
      "\n",
      "Preparing data for modelling\n",
      "\n",
      "\n",
      "Model Training initiated for St4 and Fruit Cake\n"
     ]
    },
    {
     "name": "stderr",
     "output_type": "stream",
     "text": [
      "13:33:41 - cmdstanpy - INFO - Chain [1] start processing\n",
      "13:33:41 - cmdstanpy - INFO - Chain [1] done processing\n"
     ]
    },
    {
     "name": "stdout",
     "output_type": "stream",
     "text": [
      "Model forecasting\n",
      "Merging forecasting and test data\n",
      "Tranining complted for St4 and Fruit Cake\n",
      "Finding error matrices MSE and RMSE\n",
      "Writing error matrices of St4 and Fruit Cake\n",
      "\n",
      "\n",
      "\n",
      "\n",
      "Writing predicted results of St4 and Fruit Cake\n"
     ]
    },
    {
     "name": "stderr",
     "output_type": "stream",
     "text": [
      "C:\\Users\\Ramshankar\\AppData\\Local\\Temp\\ipykernel_15304\\1358708478.py:73: SettingWithCopyWarning: \n",
      "A value is trying to be set on a copy of a slice from a DataFrame.\n",
      "Try using .loc[row_indexer,col_indexer] = value instead\n",
      "\n",
      "See the caveats in the documentation: https://pandas.pydata.org/pandas-docs/stable/user_guide/indexing.html#returning-a-view-versus-a-copy\n",
      "  forecasted_df['store']= i\n",
      "C:\\Users\\Ramshankar\\AppData\\Local\\Temp\\ipykernel_15304\\1358708478.py:74: SettingWithCopyWarning: \n",
      "A value is trying to be set on a copy of a slice from a DataFrame.\n",
      "Try using .loc[row_indexer,col_indexer] = value instead\n",
      "\n",
      "See the caveats in the documentation: https://pandas.pydata.org/pandas-docs/stable/user_guide/indexing.html#returning-a-view-versus-a-copy\n",
      "  forecasted_df['item']=j\n"
     ]
    },
    {
     "name": "stdout",
     "output_type": "stream",
     "text": [
      "\n",
      "\n",
      "Preparing data for modelling\n",
      "\n",
      "\n",
      "Model Training initiated for St4 and Wafers\n"
     ]
    },
    {
     "name": "stderr",
     "output_type": "stream",
     "text": [
      "13:33:43 - cmdstanpy - INFO - Chain [1] start processing\n",
      "13:33:44 - cmdstanpy - INFO - Chain [1] done processing\n"
     ]
    },
    {
     "name": "stdout",
     "output_type": "stream",
     "text": [
      "Model forecasting\n",
      "Merging forecasting and test data\n",
      "Tranining complted for St4 and Wafers\n",
      "Finding error matrices MSE and RMSE\n",
      "Writing error matrices of St4 and Wafers\n",
      "\n",
      "\n",
      "\n",
      "\n",
      "Writing predicted results of St4 and Wafers\n"
     ]
    },
    {
     "name": "stderr",
     "output_type": "stream",
     "text": [
      "C:\\Users\\Ramshankar\\AppData\\Local\\Temp\\ipykernel_15304\\1358708478.py:73: SettingWithCopyWarning: \n",
      "A value is trying to be set on a copy of a slice from a DataFrame.\n",
      "Try using .loc[row_indexer,col_indexer] = value instead\n",
      "\n",
      "See the caveats in the documentation: https://pandas.pydata.org/pandas-docs/stable/user_guide/indexing.html#returning-a-view-versus-a-copy\n",
      "  forecasted_df['store']= i\n",
      "C:\\Users\\Ramshankar\\AppData\\Local\\Temp\\ipykernel_15304\\1358708478.py:74: SettingWithCopyWarning: \n",
      "A value is trying to be set on a copy of a slice from a DataFrame.\n",
      "Try using .loc[row_indexer,col_indexer] = value instead\n",
      "\n",
      "See the caveats in the documentation: https://pandas.pydata.org/pandas-docs/stable/user_guide/indexing.html#returning-a-view-versus-a-copy\n",
      "  forecasted_df['item']=j\n"
     ]
    },
    {
     "name": "stdout",
     "output_type": "stream",
     "text": [
      "\n",
      "\n",
      "Preparing data for modelling\n",
      "\n",
      "\n",
      "Model Training initiated for St5 and Lay's\n"
     ]
    },
    {
     "name": "stderr",
     "output_type": "stream",
     "text": [
      "13:33:46 - cmdstanpy - INFO - Chain [1] start processing\n",
      "13:33:46 - cmdstanpy - INFO - Chain [1] done processing\n"
     ]
    },
    {
     "name": "stdout",
     "output_type": "stream",
     "text": [
      "Model forecasting\n",
      "Merging forecasting and test data\n",
      "Tranining complted for St5 and Lay's\n",
      "Finding error matrices MSE and RMSE\n",
      "Writing error matrices of St5 and Lay's\n",
      "\n",
      "\n",
      "\n",
      "\n",
      "Writing predicted results of St5 and Lay's\n"
     ]
    },
    {
     "name": "stderr",
     "output_type": "stream",
     "text": [
      "C:\\Users\\Ramshankar\\AppData\\Local\\Temp\\ipykernel_15304\\1358708478.py:73: SettingWithCopyWarning: \n",
      "A value is trying to be set on a copy of a slice from a DataFrame.\n",
      "Try using .loc[row_indexer,col_indexer] = value instead\n",
      "\n",
      "See the caveats in the documentation: https://pandas.pydata.org/pandas-docs/stable/user_guide/indexing.html#returning-a-view-versus-a-copy\n",
      "  forecasted_df['store']= i\n",
      "C:\\Users\\Ramshankar\\AppData\\Local\\Temp\\ipykernel_15304\\1358708478.py:74: SettingWithCopyWarning: \n",
      "A value is trying to be set on a copy of a slice from a DataFrame.\n",
      "Try using .loc[row_indexer,col_indexer] = value instead\n",
      "\n",
      "See the caveats in the documentation: https://pandas.pydata.org/pandas-docs/stable/user_guide/indexing.html#returning-a-view-versus-a-copy\n",
      "  forecasted_df['item']=j\n"
     ]
    },
    {
     "name": "stdout",
     "output_type": "stream",
     "text": [
      "\n",
      "\n",
      "Preparing data for modelling\n",
      "\n",
      "\n",
      "Model Training initiated for St5 and Kurkure\n"
     ]
    },
    {
     "name": "stderr",
     "output_type": "stream",
     "text": [
      "13:33:48 - cmdstanpy - INFO - Chain [1] start processing\n",
      "13:33:48 - cmdstanpy - INFO - Chain [1] done processing\n"
     ]
    },
    {
     "name": "stdout",
     "output_type": "stream",
     "text": [
      "Model forecasting\n",
      "Merging forecasting and test data\n",
      "Tranining complted for St5 and Kurkure\n",
      "Finding error matrices MSE and RMSE\n",
      "Writing error matrices of St5 and Kurkure\n",
      "\n",
      "\n",
      "\n",
      "\n",
      "Writing predicted results of St5 and Kurkure\n"
     ]
    },
    {
     "name": "stderr",
     "output_type": "stream",
     "text": [
      "C:\\Users\\Ramshankar\\AppData\\Local\\Temp\\ipykernel_15304\\1358708478.py:73: SettingWithCopyWarning: \n",
      "A value is trying to be set on a copy of a slice from a DataFrame.\n",
      "Try using .loc[row_indexer,col_indexer] = value instead\n",
      "\n",
      "See the caveats in the documentation: https://pandas.pydata.org/pandas-docs/stable/user_guide/indexing.html#returning-a-view-versus-a-copy\n",
      "  forecasted_df['store']= i\n",
      "C:\\Users\\Ramshankar\\AppData\\Local\\Temp\\ipykernel_15304\\1358708478.py:74: SettingWithCopyWarning: \n",
      "A value is trying to be set on a copy of a slice from a DataFrame.\n",
      "Try using .loc[row_indexer,col_indexer] = value instead\n",
      "\n",
      "See the caveats in the documentation: https://pandas.pydata.org/pandas-docs/stable/user_guide/indexing.html#returning-a-view-versus-a-copy\n",
      "  forecasted_df['item']=j\n"
     ]
    },
    {
     "name": "stdout",
     "output_type": "stream",
     "text": [
      "\n",
      "\n",
      "Preparing data for modelling\n",
      "\n",
      "\n",
      "Model Training initiated for St5 and Bingo\n"
     ]
    },
    {
     "name": "stderr",
     "output_type": "stream",
     "text": [
      "13:33:50 - cmdstanpy - INFO - Chain [1] start processing\n",
      "13:33:50 - cmdstanpy - INFO - Chain [1] done processing\n"
     ]
    },
    {
     "name": "stdout",
     "output_type": "stream",
     "text": [
      "Model forecasting\n",
      "Merging forecasting and test data\n",
      "Tranining complted for St5 and Bingo\n",
      "Finding error matrices MSE and RMSE\n",
      "Writing error matrices of St5 and Bingo\n",
      "\n",
      "\n",
      "\n",
      "\n",
      "Writing predicted results of St5 and Bingo\n"
     ]
    },
    {
     "name": "stderr",
     "output_type": "stream",
     "text": [
      "C:\\Users\\Ramshankar\\AppData\\Local\\Temp\\ipykernel_15304\\1358708478.py:73: SettingWithCopyWarning: \n",
      "A value is trying to be set on a copy of a slice from a DataFrame.\n",
      "Try using .loc[row_indexer,col_indexer] = value instead\n",
      "\n",
      "See the caveats in the documentation: https://pandas.pydata.org/pandas-docs/stable/user_guide/indexing.html#returning-a-view-versus-a-copy\n",
      "  forecasted_df['store']= i\n",
      "C:\\Users\\Ramshankar\\AppData\\Local\\Temp\\ipykernel_15304\\1358708478.py:74: SettingWithCopyWarning: \n",
      "A value is trying to be set on a copy of a slice from a DataFrame.\n",
      "Try using .loc[row_indexer,col_indexer] = value instead\n",
      "\n",
      "See the caveats in the documentation: https://pandas.pydata.org/pandas-docs/stable/user_guide/indexing.html#returning-a-view-versus-a-copy\n",
      "  forecasted_df['item']=j\n"
     ]
    },
    {
     "name": "stdout",
     "output_type": "stream",
     "text": [
      "\n",
      "\n",
      "Preparing data for modelling\n",
      "\n",
      "\n",
      "Model Training initiated for St5 and Haldiram\n"
     ]
    },
    {
     "name": "stderr",
     "output_type": "stream",
     "text": [
      "13:33:52 - cmdstanpy - INFO - Chain [1] start processing\n",
      "13:33:52 - cmdstanpy - INFO - Chain [1] done processing\n"
     ]
    },
    {
     "name": "stdout",
     "output_type": "stream",
     "text": [
      "Model forecasting\n",
      "Merging forecasting and test data\n",
      "Tranining complted for St5 and Haldiram\n",
      "Finding error matrices MSE and RMSE\n",
      "Writing error matrices of St5 and Haldiram\n",
      "\n",
      "\n",
      "\n",
      "\n",
      "Writing predicted results of St5 and Haldiram\n"
     ]
    },
    {
     "name": "stderr",
     "output_type": "stream",
     "text": [
      "C:\\Users\\Ramshankar\\AppData\\Local\\Temp\\ipykernel_15304\\1358708478.py:73: SettingWithCopyWarning: \n",
      "A value is trying to be set on a copy of a slice from a DataFrame.\n",
      "Try using .loc[row_indexer,col_indexer] = value instead\n",
      "\n",
      "See the caveats in the documentation: https://pandas.pydata.org/pandas-docs/stable/user_guide/indexing.html#returning-a-view-versus-a-copy\n",
      "  forecasted_df['store']= i\n",
      "C:\\Users\\Ramshankar\\AppData\\Local\\Temp\\ipykernel_15304\\1358708478.py:74: SettingWithCopyWarning: \n",
      "A value is trying to be set on a copy of a slice from a DataFrame.\n",
      "Try using .loc[row_indexer,col_indexer] = value instead\n",
      "\n",
      "See the caveats in the documentation: https://pandas.pydata.org/pandas-docs/stable/user_guide/indexing.html#returning-a-view-versus-a-copy\n",
      "  forecasted_df['item']=j\n"
     ]
    },
    {
     "name": "stdout",
     "output_type": "stream",
     "text": [
      "\n",
      "\n",
      "Preparing data for modelling\n",
      "\n",
      "\n",
      "Model Training initiated for St5 and Peanuts\n"
     ]
    },
    {
     "name": "stderr",
     "output_type": "stream",
     "text": [
      "13:33:55 - cmdstanpy - INFO - Chain [1] start processing\n",
      "13:33:55 - cmdstanpy - INFO - Chain [1] done processing\n"
     ]
    },
    {
     "name": "stdout",
     "output_type": "stream",
     "text": [
      "Model forecasting\n",
      "Merging forecasting and test data\n",
      "Tranining complted for St5 and Peanuts\n",
      "Finding error matrices MSE and RMSE\n",
      "Writing error matrices of St5 and Peanuts\n",
      "\n",
      "\n",
      "\n",
      "\n",
      "Writing predicted results of St5 and Peanuts\n"
     ]
    },
    {
     "name": "stderr",
     "output_type": "stream",
     "text": [
      "C:\\Users\\Ramshankar\\AppData\\Local\\Temp\\ipykernel_15304\\1358708478.py:73: SettingWithCopyWarning: \n",
      "A value is trying to be set on a copy of a slice from a DataFrame.\n",
      "Try using .loc[row_indexer,col_indexer] = value instead\n",
      "\n",
      "See the caveats in the documentation: https://pandas.pydata.org/pandas-docs/stable/user_guide/indexing.html#returning-a-view-versus-a-copy\n",
      "  forecasted_df['store']= i\n",
      "C:\\Users\\Ramshankar\\AppData\\Local\\Temp\\ipykernel_15304\\1358708478.py:74: SettingWithCopyWarning: \n",
      "A value is trying to be set on a copy of a slice from a DataFrame.\n",
      "Try using .loc[row_indexer,col_indexer] = value instead\n",
      "\n",
      "See the caveats in the documentation: https://pandas.pydata.org/pandas-docs/stable/user_guide/indexing.html#returning-a-view-versus-a-copy\n",
      "  forecasted_df['item']=j\n"
     ]
    },
    {
     "name": "stdout",
     "output_type": "stream",
     "text": [
      "\n",
      "\n",
      "Preparing data for modelling\n",
      "\n",
      "\n",
      "Model Training initiated for St5 and Banana Chips\n"
     ]
    },
    {
     "name": "stderr",
     "output_type": "stream",
     "text": [
      "13:33:57 - cmdstanpy - INFO - Chain [1] start processing\n",
      "13:33:57 - cmdstanpy - INFO - Chain [1] done processing\n"
     ]
    },
    {
     "name": "stdout",
     "output_type": "stream",
     "text": [
      "Model forecasting\n",
      "Merging forecasting and test data\n",
      "Tranining complted for St5 and Banana Chips\n",
      "Finding error matrices MSE and RMSE\n",
      "Writing error matrices of St5 and Banana Chips\n",
      "\n",
      "\n",
      "\n",
      "\n",
      "Writing predicted results of St5 and Banana Chips\n"
     ]
    },
    {
     "name": "stderr",
     "output_type": "stream",
     "text": [
      "C:\\Users\\Ramshankar\\AppData\\Local\\Temp\\ipykernel_15304\\1358708478.py:73: SettingWithCopyWarning: \n",
      "A value is trying to be set on a copy of a slice from a DataFrame.\n",
      "Try using .loc[row_indexer,col_indexer] = value instead\n",
      "\n",
      "See the caveats in the documentation: https://pandas.pydata.org/pandas-docs/stable/user_guide/indexing.html#returning-a-view-versus-a-copy\n",
      "  forecasted_df['store']= i\n",
      "C:\\Users\\Ramshankar\\AppData\\Local\\Temp\\ipykernel_15304\\1358708478.py:74: SettingWithCopyWarning: \n",
      "A value is trying to be set on a copy of a slice from a DataFrame.\n",
      "Try using .loc[row_indexer,col_indexer] = value instead\n",
      "\n",
      "See the caveats in the documentation: https://pandas.pydata.org/pandas-docs/stable/user_guide/indexing.html#returning-a-view-versus-a-copy\n",
      "  forecasted_df['item']=j\n"
     ]
    },
    {
     "name": "stdout",
     "output_type": "stream",
     "text": [
      "\n",
      "\n",
      "Preparing data for modelling\n",
      "\n",
      "\n",
      "Model Training initiated for St5 and Too Yum\n"
     ]
    },
    {
     "name": "stderr",
     "output_type": "stream",
     "text": [
      "13:33:59 - cmdstanpy - INFO - Chain [1] start processing\n",
      "13:33:59 - cmdstanpy - INFO - Chain [1] done processing\n"
     ]
    },
    {
     "name": "stdout",
     "output_type": "stream",
     "text": [
      "Model forecasting\n",
      "Merging forecasting and test data\n",
      "Tranining complted for St5 and Too Yum\n",
      "Finding error matrices MSE and RMSE\n",
      "Writing error matrices of St5 and Too Yum\n",
      "\n",
      "\n",
      "\n",
      "\n",
      "Writing predicted results of St5 and Too Yum\n"
     ]
    },
    {
     "name": "stderr",
     "output_type": "stream",
     "text": [
      "C:\\Users\\Ramshankar\\AppData\\Local\\Temp\\ipykernel_15304\\1358708478.py:73: SettingWithCopyWarning: \n",
      "A value is trying to be set on a copy of a slice from a DataFrame.\n",
      "Try using .loc[row_indexer,col_indexer] = value instead\n",
      "\n",
      "See the caveats in the documentation: https://pandas.pydata.org/pandas-docs/stable/user_guide/indexing.html#returning-a-view-versus-a-copy\n",
      "  forecasted_df['store']= i\n",
      "C:\\Users\\Ramshankar\\AppData\\Local\\Temp\\ipykernel_15304\\1358708478.py:74: SettingWithCopyWarning: \n",
      "A value is trying to be set on a copy of a slice from a DataFrame.\n",
      "Try using .loc[row_indexer,col_indexer] = value instead\n",
      "\n",
      "See the caveats in the documentation: https://pandas.pydata.org/pandas-docs/stable/user_guide/indexing.html#returning-a-view-versus-a-copy\n",
      "  forecasted_df['item']=j\n"
     ]
    },
    {
     "name": "stdout",
     "output_type": "stream",
     "text": [
      "\n",
      "\n",
      "Preparing data for modelling\n",
      "\n",
      "\n",
      "Model Training initiated for St5 and Parle-G\n"
     ]
    },
    {
     "name": "stderr",
     "output_type": "stream",
     "text": [
      "13:34:01 - cmdstanpy - INFO - Chain [1] start processing\n",
      "13:34:01 - cmdstanpy - INFO - Chain [1] done processing\n"
     ]
    },
    {
     "name": "stdout",
     "output_type": "stream",
     "text": [
      "Model forecasting\n",
      "Merging forecasting and test data\n",
      "Tranining complted for St5 and Parle-G\n",
      "Finding error matrices MSE and RMSE\n",
      "Writing error matrices of St5 and Parle-G\n",
      "\n",
      "\n",
      "\n",
      "\n",
      "Writing predicted results of St5 and Parle-G\n"
     ]
    },
    {
     "name": "stderr",
     "output_type": "stream",
     "text": [
      "C:\\Users\\Ramshankar\\AppData\\Local\\Temp\\ipykernel_15304\\1358708478.py:73: SettingWithCopyWarning: \n",
      "A value is trying to be set on a copy of a slice from a DataFrame.\n",
      "Try using .loc[row_indexer,col_indexer] = value instead\n",
      "\n",
      "See the caveats in the documentation: https://pandas.pydata.org/pandas-docs/stable/user_guide/indexing.html#returning-a-view-versus-a-copy\n",
      "  forecasted_df['store']= i\n",
      "C:\\Users\\Ramshankar\\AppData\\Local\\Temp\\ipykernel_15304\\1358708478.py:74: SettingWithCopyWarning: \n",
      "A value is trying to be set on a copy of a slice from a DataFrame.\n",
      "Try using .loc[row_indexer,col_indexer] = value instead\n",
      "\n",
      "See the caveats in the documentation: https://pandas.pydata.org/pandas-docs/stable/user_guide/indexing.html#returning-a-view-versus-a-copy\n",
      "  forecasted_df['item']=j\n"
     ]
    },
    {
     "name": "stdout",
     "output_type": "stream",
     "text": [
      "\n",
      "\n",
      "Preparing data for modelling\n",
      "\n",
      "\n",
      "Model Training initiated for St5 and Fruit Cake\n"
     ]
    },
    {
     "name": "stderr",
     "output_type": "stream",
     "text": [
      "13:34:04 - cmdstanpy - INFO - Chain [1] start processing\n",
      "13:34:04 - cmdstanpy - INFO - Chain [1] done processing\n"
     ]
    },
    {
     "name": "stdout",
     "output_type": "stream",
     "text": [
      "Model forecasting\n",
      "Merging forecasting and test data\n",
      "Tranining complted for St5 and Fruit Cake\n",
      "Finding error matrices MSE and RMSE\n",
      "Writing error matrices of St5 and Fruit Cake\n",
      "\n",
      "\n",
      "\n",
      "\n",
      "Writing predicted results of St5 and Fruit Cake\n"
     ]
    },
    {
     "name": "stderr",
     "output_type": "stream",
     "text": [
      "C:\\Users\\Ramshankar\\AppData\\Local\\Temp\\ipykernel_15304\\1358708478.py:73: SettingWithCopyWarning: \n",
      "A value is trying to be set on a copy of a slice from a DataFrame.\n",
      "Try using .loc[row_indexer,col_indexer] = value instead\n",
      "\n",
      "See the caveats in the documentation: https://pandas.pydata.org/pandas-docs/stable/user_guide/indexing.html#returning-a-view-versus-a-copy\n",
      "  forecasted_df['store']= i\n",
      "C:\\Users\\Ramshankar\\AppData\\Local\\Temp\\ipykernel_15304\\1358708478.py:74: SettingWithCopyWarning: \n",
      "A value is trying to be set on a copy of a slice from a DataFrame.\n",
      "Try using .loc[row_indexer,col_indexer] = value instead\n",
      "\n",
      "See the caveats in the documentation: https://pandas.pydata.org/pandas-docs/stable/user_guide/indexing.html#returning-a-view-versus-a-copy\n",
      "  forecasted_df['item']=j\n"
     ]
    },
    {
     "name": "stdout",
     "output_type": "stream",
     "text": [
      "\n",
      "\n",
      "Preparing data for modelling\n",
      "\n",
      "\n",
      "Model Training initiated for St5 and Wafers\n"
     ]
    },
    {
     "name": "stderr",
     "output_type": "stream",
     "text": [
      "13:34:06 - cmdstanpy - INFO - Chain [1] start processing\n",
      "13:34:06 - cmdstanpy - INFO - Chain [1] done processing\n"
     ]
    },
    {
     "name": "stdout",
     "output_type": "stream",
     "text": [
      "Model forecasting\n",
      "Merging forecasting and test data\n",
      "Tranining complted for St5 and Wafers\n",
      "Finding error matrices MSE and RMSE\n",
      "Writing error matrices of St5 and Wafers\n",
      "\n",
      "\n",
      "\n",
      "\n",
      "Writing predicted results of St5 and Wafers\n"
     ]
    },
    {
     "name": "stderr",
     "output_type": "stream",
     "text": [
      "C:\\Users\\Ramshankar\\AppData\\Local\\Temp\\ipykernel_15304\\1358708478.py:73: SettingWithCopyWarning: \n",
      "A value is trying to be set on a copy of a slice from a DataFrame.\n",
      "Try using .loc[row_indexer,col_indexer] = value instead\n",
      "\n",
      "See the caveats in the documentation: https://pandas.pydata.org/pandas-docs/stable/user_guide/indexing.html#returning-a-view-versus-a-copy\n",
      "  forecasted_df['store']= i\n",
      "C:\\Users\\Ramshankar\\AppData\\Local\\Temp\\ipykernel_15304\\1358708478.py:74: SettingWithCopyWarning: \n",
      "A value is trying to be set on a copy of a slice from a DataFrame.\n",
      "Try using .loc[row_indexer,col_indexer] = value instead\n",
      "\n",
      "See the caveats in the documentation: https://pandas.pydata.org/pandas-docs/stable/user_guide/indexing.html#returning-a-view-versus-a-copy\n",
      "  forecasted_df['item']=j\n"
     ]
    },
    {
     "name": "stdout",
     "output_type": "stream",
     "text": [
      "\n",
      "\n",
      "Preparing data for modelling\n",
      "\n",
      "\n",
      "Model Training initiated for St6 and Lay's\n"
     ]
    },
    {
     "name": "stderr",
     "output_type": "stream",
     "text": [
      "13:34:08 - cmdstanpy - INFO - Chain [1] start processing\n",
      "13:34:08 - cmdstanpy - INFO - Chain [1] done processing\n"
     ]
    },
    {
     "name": "stdout",
     "output_type": "stream",
     "text": [
      "Model forecasting\n",
      "Merging forecasting and test data\n",
      "Tranining complted for St6 and Lay's\n",
      "Finding error matrices MSE and RMSE\n",
      "Writing error matrices of St6 and Lay's\n",
      "\n",
      "\n",
      "\n",
      "\n",
      "Writing predicted results of St6 and Lay's\n"
     ]
    },
    {
     "name": "stderr",
     "output_type": "stream",
     "text": [
      "C:\\Users\\Ramshankar\\AppData\\Local\\Temp\\ipykernel_15304\\1358708478.py:73: SettingWithCopyWarning: \n",
      "A value is trying to be set on a copy of a slice from a DataFrame.\n",
      "Try using .loc[row_indexer,col_indexer] = value instead\n",
      "\n",
      "See the caveats in the documentation: https://pandas.pydata.org/pandas-docs/stable/user_guide/indexing.html#returning-a-view-versus-a-copy\n",
      "  forecasted_df['store']= i\n",
      "C:\\Users\\Ramshankar\\AppData\\Local\\Temp\\ipykernel_15304\\1358708478.py:74: SettingWithCopyWarning: \n",
      "A value is trying to be set on a copy of a slice from a DataFrame.\n",
      "Try using .loc[row_indexer,col_indexer] = value instead\n",
      "\n",
      "See the caveats in the documentation: https://pandas.pydata.org/pandas-docs/stable/user_guide/indexing.html#returning-a-view-versus-a-copy\n",
      "  forecasted_df['item']=j\n"
     ]
    },
    {
     "name": "stdout",
     "output_type": "stream",
     "text": [
      "\n",
      "\n",
      "Preparing data for modelling\n",
      "\n",
      "\n",
      "Model Training initiated for St6 and Kurkure\n"
     ]
    },
    {
     "name": "stderr",
     "output_type": "stream",
     "text": [
      "13:34:10 - cmdstanpy - INFO - Chain [1] start processing\n",
      "13:34:10 - cmdstanpy - INFO - Chain [1] done processing\n"
     ]
    },
    {
     "name": "stdout",
     "output_type": "stream",
     "text": [
      "Model forecasting\n",
      "Merging forecasting and test data\n",
      "Tranining complted for St6 and Kurkure\n",
      "Finding error matrices MSE and RMSE\n",
      "Writing error matrices of St6 and Kurkure\n",
      "\n",
      "\n",
      "\n",
      "\n",
      "Writing predicted results of St6 and Kurkure\n"
     ]
    },
    {
     "name": "stderr",
     "output_type": "stream",
     "text": [
      "C:\\Users\\Ramshankar\\AppData\\Local\\Temp\\ipykernel_15304\\1358708478.py:73: SettingWithCopyWarning: \n",
      "A value is trying to be set on a copy of a slice from a DataFrame.\n",
      "Try using .loc[row_indexer,col_indexer] = value instead\n",
      "\n",
      "See the caveats in the documentation: https://pandas.pydata.org/pandas-docs/stable/user_guide/indexing.html#returning-a-view-versus-a-copy\n",
      "  forecasted_df['store']= i\n",
      "C:\\Users\\Ramshankar\\AppData\\Local\\Temp\\ipykernel_15304\\1358708478.py:74: SettingWithCopyWarning: \n",
      "A value is trying to be set on a copy of a slice from a DataFrame.\n",
      "Try using .loc[row_indexer,col_indexer] = value instead\n",
      "\n",
      "See the caveats in the documentation: https://pandas.pydata.org/pandas-docs/stable/user_guide/indexing.html#returning-a-view-versus-a-copy\n",
      "  forecasted_df['item']=j\n"
     ]
    },
    {
     "name": "stdout",
     "output_type": "stream",
     "text": [
      "\n",
      "\n",
      "Preparing data for modelling\n",
      "\n",
      "\n",
      "Model Training initiated for St6 and Bingo\n"
     ]
    },
    {
     "name": "stderr",
     "output_type": "stream",
     "text": [
      "13:34:13 - cmdstanpy - INFO - Chain [1] start processing\n",
      "13:34:13 - cmdstanpy - INFO - Chain [1] done processing\n"
     ]
    },
    {
     "name": "stdout",
     "output_type": "stream",
     "text": [
      "Model forecasting\n",
      "Merging forecasting and test data\n",
      "Tranining complted for St6 and Bingo\n",
      "Finding error matrices MSE and RMSE\n",
      "Writing error matrices of St6 and Bingo\n",
      "\n",
      "\n",
      "\n",
      "\n",
      "Writing predicted results of St6 and Bingo\n"
     ]
    },
    {
     "name": "stderr",
     "output_type": "stream",
     "text": [
      "C:\\Users\\Ramshankar\\AppData\\Local\\Temp\\ipykernel_15304\\1358708478.py:73: SettingWithCopyWarning: \n",
      "A value is trying to be set on a copy of a slice from a DataFrame.\n",
      "Try using .loc[row_indexer,col_indexer] = value instead\n",
      "\n",
      "See the caveats in the documentation: https://pandas.pydata.org/pandas-docs/stable/user_guide/indexing.html#returning-a-view-versus-a-copy\n",
      "  forecasted_df['store']= i\n",
      "C:\\Users\\Ramshankar\\AppData\\Local\\Temp\\ipykernel_15304\\1358708478.py:74: SettingWithCopyWarning: \n",
      "A value is trying to be set on a copy of a slice from a DataFrame.\n",
      "Try using .loc[row_indexer,col_indexer] = value instead\n",
      "\n",
      "See the caveats in the documentation: https://pandas.pydata.org/pandas-docs/stable/user_guide/indexing.html#returning-a-view-versus-a-copy\n",
      "  forecasted_df['item']=j\n"
     ]
    },
    {
     "name": "stdout",
     "output_type": "stream",
     "text": [
      "\n",
      "\n",
      "Preparing data for modelling\n",
      "\n",
      "\n",
      "Model Training initiated for St6 and Haldiram\n"
     ]
    },
    {
     "name": "stderr",
     "output_type": "stream",
     "text": [
      "13:34:15 - cmdstanpy - INFO - Chain [1] start processing\n",
      "13:34:15 - cmdstanpy - INFO - Chain [1] done processing\n"
     ]
    },
    {
     "name": "stdout",
     "output_type": "stream",
     "text": [
      "Model forecasting\n",
      "Merging forecasting and test data\n",
      "Tranining complted for St6 and Haldiram\n",
      "Finding error matrices MSE and RMSE\n",
      "Writing error matrices of St6 and Haldiram\n",
      "\n",
      "\n",
      "\n",
      "\n",
      "Writing predicted results of St6 and Haldiram\n"
     ]
    },
    {
     "name": "stderr",
     "output_type": "stream",
     "text": [
      "C:\\Users\\Ramshankar\\AppData\\Local\\Temp\\ipykernel_15304\\1358708478.py:73: SettingWithCopyWarning: \n",
      "A value is trying to be set on a copy of a slice from a DataFrame.\n",
      "Try using .loc[row_indexer,col_indexer] = value instead\n",
      "\n",
      "See the caveats in the documentation: https://pandas.pydata.org/pandas-docs/stable/user_guide/indexing.html#returning-a-view-versus-a-copy\n",
      "  forecasted_df['store']= i\n",
      "C:\\Users\\Ramshankar\\AppData\\Local\\Temp\\ipykernel_15304\\1358708478.py:74: SettingWithCopyWarning: \n",
      "A value is trying to be set on a copy of a slice from a DataFrame.\n",
      "Try using .loc[row_indexer,col_indexer] = value instead\n",
      "\n",
      "See the caveats in the documentation: https://pandas.pydata.org/pandas-docs/stable/user_guide/indexing.html#returning-a-view-versus-a-copy\n",
      "  forecasted_df['item']=j\n"
     ]
    },
    {
     "name": "stdout",
     "output_type": "stream",
     "text": [
      "\n",
      "\n",
      "Preparing data for modelling\n",
      "\n",
      "\n",
      "Model Training initiated for St6 and Peanuts\n"
     ]
    },
    {
     "name": "stderr",
     "output_type": "stream",
     "text": [
      "13:34:17 - cmdstanpy - INFO - Chain [1] start processing\n",
      "13:34:17 - cmdstanpy - INFO - Chain [1] done processing\n"
     ]
    },
    {
     "name": "stdout",
     "output_type": "stream",
     "text": [
      "Model forecasting\n",
      "Merging forecasting and test data\n",
      "Tranining complted for St6 and Peanuts\n",
      "Finding error matrices MSE and RMSE\n",
      "Writing error matrices of St6 and Peanuts\n",
      "\n",
      "\n",
      "\n",
      "\n",
      "Writing predicted results of St6 and Peanuts\n"
     ]
    },
    {
     "name": "stderr",
     "output_type": "stream",
     "text": [
      "C:\\Users\\Ramshankar\\AppData\\Local\\Temp\\ipykernel_15304\\1358708478.py:73: SettingWithCopyWarning: \n",
      "A value is trying to be set on a copy of a slice from a DataFrame.\n",
      "Try using .loc[row_indexer,col_indexer] = value instead\n",
      "\n",
      "See the caveats in the documentation: https://pandas.pydata.org/pandas-docs/stable/user_guide/indexing.html#returning-a-view-versus-a-copy\n",
      "  forecasted_df['store']= i\n",
      "C:\\Users\\Ramshankar\\AppData\\Local\\Temp\\ipykernel_15304\\1358708478.py:74: SettingWithCopyWarning: \n",
      "A value is trying to be set on a copy of a slice from a DataFrame.\n",
      "Try using .loc[row_indexer,col_indexer] = value instead\n",
      "\n",
      "See the caveats in the documentation: https://pandas.pydata.org/pandas-docs/stable/user_guide/indexing.html#returning-a-view-versus-a-copy\n",
      "  forecasted_df['item']=j\n"
     ]
    },
    {
     "name": "stdout",
     "output_type": "stream",
     "text": [
      "\n",
      "\n",
      "Preparing data for modelling\n",
      "\n",
      "\n",
      "Model Training initiated for St6 and Banana Chips\n"
     ]
    },
    {
     "name": "stderr",
     "output_type": "stream",
     "text": [
      "13:34:19 - cmdstanpy - INFO - Chain [1] start processing\n",
      "13:34:20 - cmdstanpy - INFO - Chain [1] done processing\n"
     ]
    },
    {
     "name": "stdout",
     "output_type": "stream",
     "text": [
      "Model forecasting\n",
      "Merging forecasting and test data\n",
      "Tranining complted for St6 and Banana Chips\n",
      "Finding error matrices MSE and RMSE\n",
      "Writing error matrices of St6 and Banana Chips\n",
      "\n",
      "\n",
      "\n",
      "\n",
      "Writing predicted results of St6 and Banana Chips\n"
     ]
    },
    {
     "name": "stderr",
     "output_type": "stream",
     "text": [
      "C:\\Users\\Ramshankar\\AppData\\Local\\Temp\\ipykernel_15304\\1358708478.py:73: SettingWithCopyWarning: \n",
      "A value is trying to be set on a copy of a slice from a DataFrame.\n",
      "Try using .loc[row_indexer,col_indexer] = value instead\n",
      "\n",
      "See the caveats in the documentation: https://pandas.pydata.org/pandas-docs/stable/user_guide/indexing.html#returning-a-view-versus-a-copy\n",
      "  forecasted_df['store']= i\n",
      "C:\\Users\\Ramshankar\\AppData\\Local\\Temp\\ipykernel_15304\\1358708478.py:74: SettingWithCopyWarning: \n",
      "A value is trying to be set on a copy of a slice from a DataFrame.\n",
      "Try using .loc[row_indexer,col_indexer] = value instead\n",
      "\n",
      "See the caveats in the documentation: https://pandas.pydata.org/pandas-docs/stable/user_guide/indexing.html#returning-a-view-versus-a-copy\n",
      "  forecasted_df['item']=j\n"
     ]
    },
    {
     "name": "stdout",
     "output_type": "stream",
     "text": [
      "\n",
      "\n",
      "Preparing data for modelling\n",
      "\n",
      "\n",
      "Model Training initiated for St6 and Too Yum\n"
     ]
    },
    {
     "name": "stderr",
     "output_type": "stream",
     "text": [
      "13:34:22 - cmdstanpy - INFO - Chain [1] start processing\n",
      "13:34:22 - cmdstanpy - INFO - Chain [1] done processing\n"
     ]
    },
    {
     "name": "stdout",
     "output_type": "stream",
     "text": [
      "Model forecasting\n",
      "Merging forecasting and test data\n",
      "Tranining complted for St6 and Too Yum\n",
      "Finding error matrices MSE and RMSE\n",
      "Writing error matrices of St6 and Too Yum\n",
      "\n",
      "\n",
      "\n",
      "\n",
      "Writing predicted results of St6 and Too Yum\n"
     ]
    },
    {
     "name": "stderr",
     "output_type": "stream",
     "text": [
      "C:\\Users\\Ramshankar\\AppData\\Local\\Temp\\ipykernel_15304\\1358708478.py:73: SettingWithCopyWarning: \n",
      "A value is trying to be set on a copy of a slice from a DataFrame.\n",
      "Try using .loc[row_indexer,col_indexer] = value instead\n",
      "\n",
      "See the caveats in the documentation: https://pandas.pydata.org/pandas-docs/stable/user_guide/indexing.html#returning-a-view-versus-a-copy\n",
      "  forecasted_df['store']= i\n",
      "C:\\Users\\Ramshankar\\AppData\\Local\\Temp\\ipykernel_15304\\1358708478.py:74: SettingWithCopyWarning: \n",
      "A value is trying to be set on a copy of a slice from a DataFrame.\n",
      "Try using .loc[row_indexer,col_indexer] = value instead\n",
      "\n",
      "See the caveats in the documentation: https://pandas.pydata.org/pandas-docs/stable/user_guide/indexing.html#returning-a-view-versus-a-copy\n",
      "  forecasted_df['item']=j\n"
     ]
    },
    {
     "name": "stdout",
     "output_type": "stream",
     "text": [
      "\n",
      "\n",
      "Preparing data for modelling\n",
      "\n",
      "\n",
      "Model Training initiated for St6 and Parle-G\n"
     ]
    },
    {
     "name": "stderr",
     "output_type": "stream",
     "text": [
      "13:34:24 - cmdstanpy - INFO - Chain [1] start processing\n",
      "13:34:24 - cmdstanpy - INFO - Chain [1] done processing\n"
     ]
    },
    {
     "name": "stdout",
     "output_type": "stream",
     "text": [
      "Model forecasting\n",
      "Merging forecasting and test data\n",
      "Tranining complted for St6 and Parle-G\n",
      "Finding error matrices MSE and RMSE\n",
      "Writing error matrices of St6 and Parle-G\n",
      "\n",
      "\n",
      "\n",
      "\n",
      "Writing predicted results of St6 and Parle-G\n"
     ]
    },
    {
     "name": "stderr",
     "output_type": "stream",
     "text": [
      "C:\\Users\\Ramshankar\\AppData\\Local\\Temp\\ipykernel_15304\\1358708478.py:73: SettingWithCopyWarning: \n",
      "A value is trying to be set on a copy of a slice from a DataFrame.\n",
      "Try using .loc[row_indexer,col_indexer] = value instead\n",
      "\n",
      "See the caveats in the documentation: https://pandas.pydata.org/pandas-docs/stable/user_guide/indexing.html#returning-a-view-versus-a-copy\n",
      "  forecasted_df['store']= i\n",
      "C:\\Users\\Ramshankar\\AppData\\Local\\Temp\\ipykernel_15304\\1358708478.py:74: SettingWithCopyWarning: \n",
      "A value is trying to be set on a copy of a slice from a DataFrame.\n",
      "Try using .loc[row_indexer,col_indexer] = value instead\n",
      "\n",
      "See the caveats in the documentation: https://pandas.pydata.org/pandas-docs/stable/user_guide/indexing.html#returning-a-view-versus-a-copy\n",
      "  forecasted_df['item']=j\n"
     ]
    },
    {
     "name": "stdout",
     "output_type": "stream",
     "text": [
      "\n",
      "\n",
      "Preparing data for modelling\n",
      "\n",
      "\n",
      "Model Training initiated for St6 and Fruit Cake\n"
     ]
    },
    {
     "name": "stderr",
     "output_type": "stream",
     "text": [
      "13:34:26 - cmdstanpy - INFO - Chain [1] start processing\n",
      "13:34:26 - cmdstanpy - INFO - Chain [1] done processing\n"
     ]
    },
    {
     "name": "stdout",
     "output_type": "stream",
     "text": [
      "Model forecasting\n",
      "Merging forecasting and test data\n",
      "Tranining complted for St6 and Fruit Cake\n",
      "Finding error matrices MSE and RMSE\n",
      "Writing error matrices of St6 and Fruit Cake\n",
      "\n",
      "\n",
      "\n",
      "\n",
      "Writing predicted results of St6 and Fruit Cake\n"
     ]
    },
    {
     "name": "stderr",
     "output_type": "stream",
     "text": [
      "C:\\Users\\Ramshankar\\AppData\\Local\\Temp\\ipykernel_15304\\1358708478.py:73: SettingWithCopyWarning: \n",
      "A value is trying to be set on a copy of a slice from a DataFrame.\n",
      "Try using .loc[row_indexer,col_indexer] = value instead\n",
      "\n",
      "See the caveats in the documentation: https://pandas.pydata.org/pandas-docs/stable/user_guide/indexing.html#returning-a-view-versus-a-copy\n",
      "  forecasted_df['store']= i\n",
      "C:\\Users\\Ramshankar\\AppData\\Local\\Temp\\ipykernel_15304\\1358708478.py:74: SettingWithCopyWarning: \n",
      "A value is trying to be set on a copy of a slice from a DataFrame.\n",
      "Try using .loc[row_indexer,col_indexer] = value instead\n",
      "\n",
      "See the caveats in the documentation: https://pandas.pydata.org/pandas-docs/stable/user_guide/indexing.html#returning-a-view-versus-a-copy\n",
      "  forecasted_df['item']=j\n"
     ]
    },
    {
     "name": "stdout",
     "output_type": "stream",
     "text": [
      "\n",
      "\n",
      "Preparing data for modelling\n",
      "\n",
      "\n",
      "Model Training initiated for St6 and Wafers\n"
     ]
    },
    {
     "name": "stderr",
     "output_type": "stream",
     "text": [
      "13:34:29 - cmdstanpy - INFO - Chain [1] start processing\n",
      "13:34:29 - cmdstanpy - INFO - Chain [1] done processing\n"
     ]
    },
    {
     "name": "stdout",
     "output_type": "stream",
     "text": [
      "Model forecasting\n",
      "Merging forecasting and test data\n",
      "Tranining complted for St6 and Wafers\n",
      "Finding error matrices MSE and RMSE\n",
      "Writing error matrices of St6 and Wafers\n",
      "\n",
      "\n",
      "\n",
      "\n",
      "Writing predicted results of St6 and Wafers\n"
     ]
    },
    {
     "name": "stderr",
     "output_type": "stream",
     "text": [
      "C:\\Users\\Ramshankar\\AppData\\Local\\Temp\\ipykernel_15304\\1358708478.py:73: SettingWithCopyWarning: \n",
      "A value is trying to be set on a copy of a slice from a DataFrame.\n",
      "Try using .loc[row_indexer,col_indexer] = value instead\n",
      "\n",
      "See the caveats in the documentation: https://pandas.pydata.org/pandas-docs/stable/user_guide/indexing.html#returning-a-view-versus-a-copy\n",
      "  forecasted_df['store']= i\n",
      "C:\\Users\\Ramshankar\\AppData\\Local\\Temp\\ipykernel_15304\\1358708478.py:74: SettingWithCopyWarning: \n",
      "A value is trying to be set on a copy of a slice from a DataFrame.\n",
      "Try using .loc[row_indexer,col_indexer] = value instead\n",
      "\n",
      "See the caveats in the documentation: https://pandas.pydata.org/pandas-docs/stable/user_guide/indexing.html#returning-a-view-versus-a-copy\n",
      "  forecasted_df['item']=j\n"
     ]
    },
    {
     "name": "stdout",
     "output_type": "stream",
     "text": [
      "\n",
      "\n",
      "Preparing data for modelling\n",
      "\n",
      "\n",
      "Model Training initiated for St7 and Lay's\n"
     ]
    },
    {
     "name": "stderr",
     "output_type": "stream",
     "text": [
      "13:34:31 - cmdstanpy - INFO - Chain [1] start processing\n",
      "13:34:31 - cmdstanpy - INFO - Chain [1] done processing\n"
     ]
    },
    {
     "name": "stdout",
     "output_type": "stream",
     "text": [
      "Model forecasting\n",
      "Merging forecasting and test data\n",
      "Tranining complted for St7 and Lay's\n",
      "Finding error matrices MSE and RMSE\n",
      "Writing error matrices of St7 and Lay's\n",
      "\n",
      "\n",
      "\n",
      "\n",
      "Writing predicted results of St7 and Lay's\n"
     ]
    },
    {
     "name": "stderr",
     "output_type": "stream",
     "text": [
      "C:\\Users\\Ramshankar\\AppData\\Local\\Temp\\ipykernel_15304\\1358708478.py:73: SettingWithCopyWarning: \n",
      "A value is trying to be set on a copy of a slice from a DataFrame.\n",
      "Try using .loc[row_indexer,col_indexer] = value instead\n",
      "\n",
      "See the caveats in the documentation: https://pandas.pydata.org/pandas-docs/stable/user_guide/indexing.html#returning-a-view-versus-a-copy\n",
      "  forecasted_df['store']= i\n",
      "C:\\Users\\Ramshankar\\AppData\\Local\\Temp\\ipykernel_15304\\1358708478.py:74: SettingWithCopyWarning: \n",
      "A value is trying to be set on a copy of a slice from a DataFrame.\n",
      "Try using .loc[row_indexer,col_indexer] = value instead\n",
      "\n",
      "See the caveats in the documentation: https://pandas.pydata.org/pandas-docs/stable/user_guide/indexing.html#returning-a-view-versus-a-copy\n",
      "  forecasted_df['item']=j\n"
     ]
    },
    {
     "name": "stdout",
     "output_type": "stream",
     "text": [
      "\n",
      "\n",
      "Preparing data for modelling\n",
      "\n",
      "\n",
      "Model Training initiated for St7 and Kurkure\n"
     ]
    },
    {
     "name": "stderr",
     "output_type": "stream",
     "text": [
      "13:34:33 - cmdstanpy - INFO - Chain [1] start processing\n",
      "13:34:33 - cmdstanpy - INFO - Chain [1] done processing\n"
     ]
    },
    {
     "name": "stdout",
     "output_type": "stream",
     "text": [
      "Model forecasting\n",
      "Merging forecasting and test data\n",
      "Tranining complted for St7 and Kurkure\n",
      "Finding error matrices MSE and RMSE\n",
      "Writing error matrices of St7 and Kurkure\n",
      "\n",
      "\n",
      "\n",
      "\n",
      "Writing predicted results of St7 and Kurkure\n"
     ]
    },
    {
     "name": "stderr",
     "output_type": "stream",
     "text": [
      "C:\\Users\\Ramshankar\\AppData\\Local\\Temp\\ipykernel_15304\\1358708478.py:73: SettingWithCopyWarning: \n",
      "A value is trying to be set on a copy of a slice from a DataFrame.\n",
      "Try using .loc[row_indexer,col_indexer] = value instead\n",
      "\n",
      "See the caveats in the documentation: https://pandas.pydata.org/pandas-docs/stable/user_guide/indexing.html#returning-a-view-versus-a-copy\n",
      "  forecasted_df['store']= i\n",
      "C:\\Users\\Ramshankar\\AppData\\Local\\Temp\\ipykernel_15304\\1358708478.py:74: SettingWithCopyWarning: \n",
      "A value is trying to be set on a copy of a slice from a DataFrame.\n",
      "Try using .loc[row_indexer,col_indexer] = value instead\n",
      "\n",
      "See the caveats in the documentation: https://pandas.pydata.org/pandas-docs/stable/user_guide/indexing.html#returning-a-view-versus-a-copy\n",
      "  forecasted_df['item']=j\n"
     ]
    },
    {
     "name": "stdout",
     "output_type": "stream",
     "text": [
      "\n",
      "\n",
      "Preparing data for modelling\n",
      "\n",
      "\n",
      "Model Training initiated for St7 and Bingo\n"
     ]
    },
    {
     "name": "stderr",
     "output_type": "stream",
     "text": [
      "13:34:35 - cmdstanpy - INFO - Chain [1] start processing\n",
      "13:34:36 - cmdstanpy - INFO - Chain [1] done processing\n"
     ]
    },
    {
     "name": "stdout",
     "output_type": "stream",
     "text": [
      "Model forecasting\n",
      "Merging forecasting and test data\n",
      "Tranining complted for St7 and Bingo\n",
      "Finding error matrices MSE and RMSE\n",
      "Writing error matrices of St7 and Bingo\n",
      "\n",
      "\n",
      "\n",
      "\n",
      "Writing predicted results of St7 and Bingo\n"
     ]
    },
    {
     "name": "stderr",
     "output_type": "stream",
     "text": [
      "C:\\Users\\Ramshankar\\AppData\\Local\\Temp\\ipykernel_15304\\1358708478.py:73: SettingWithCopyWarning: \n",
      "A value is trying to be set on a copy of a slice from a DataFrame.\n",
      "Try using .loc[row_indexer,col_indexer] = value instead\n",
      "\n",
      "See the caveats in the documentation: https://pandas.pydata.org/pandas-docs/stable/user_guide/indexing.html#returning-a-view-versus-a-copy\n",
      "  forecasted_df['store']= i\n",
      "C:\\Users\\Ramshankar\\AppData\\Local\\Temp\\ipykernel_15304\\1358708478.py:74: SettingWithCopyWarning: \n",
      "A value is trying to be set on a copy of a slice from a DataFrame.\n",
      "Try using .loc[row_indexer,col_indexer] = value instead\n",
      "\n",
      "See the caveats in the documentation: https://pandas.pydata.org/pandas-docs/stable/user_guide/indexing.html#returning-a-view-versus-a-copy\n",
      "  forecasted_df['item']=j\n"
     ]
    },
    {
     "name": "stdout",
     "output_type": "stream",
     "text": [
      "\n",
      "\n",
      "Preparing data for modelling\n",
      "\n",
      "\n",
      "Model Training initiated for St7 and Haldiram\n"
     ]
    },
    {
     "name": "stderr",
     "output_type": "stream",
     "text": [
      "13:34:38 - cmdstanpy - INFO - Chain [1] start processing\n",
      "13:34:38 - cmdstanpy - INFO - Chain [1] done processing\n"
     ]
    },
    {
     "name": "stdout",
     "output_type": "stream",
     "text": [
      "Model forecasting\n",
      "Merging forecasting and test data\n",
      "Tranining complted for St7 and Haldiram\n",
      "Finding error matrices MSE and RMSE\n",
      "Writing error matrices of St7 and Haldiram\n",
      "\n",
      "\n",
      "\n",
      "\n",
      "Writing predicted results of St7 and Haldiram\n"
     ]
    },
    {
     "name": "stderr",
     "output_type": "stream",
     "text": [
      "C:\\Users\\Ramshankar\\AppData\\Local\\Temp\\ipykernel_15304\\1358708478.py:73: SettingWithCopyWarning: \n",
      "A value is trying to be set on a copy of a slice from a DataFrame.\n",
      "Try using .loc[row_indexer,col_indexer] = value instead\n",
      "\n",
      "See the caveats in the documentation: https://pandas.pydata.org/pandas-docs/stable/user_guide/indexing.html#returning-a-view-versus-a-copy\n",
      "  forecasted_df['store']= i\n",
      "C:\\Users\\Ramshankar\\AppData\\Local\\Temp\\ipykernel_15304\\1358708478.py:74: SettingWithCopyWarning: \n",
      "A value is trying to be set on a copy of a slice from a DataFrame.\n",
      "Try using .loc[row_indexer,col_indexer] = value instead\n",
      "\n",
      "See the caveats in the documentation: https://pandas.pydata.org/pandas-docs/stable/user_guide/indexing.html#returning-a-view-versus-a-copy\n",
      "  forecasted_df['item']=j\n"
     ]
    },
    {
     "name": "stdout",
     "output_type": "stream",
     "text": [
      "\n",
      "\n",
      "Preparing data for modelling\n",
      "\n",
      "\n",
      "Model Training initiated for St7 and Peanuts\n"
     ]
    },
    {
     "name": "stderr",
     "output_type": "stream",
     "text": [
      "13:34:40 - cmdstanpy - INFO - Chain [1] start processing\n",
      "13:34:40 - cmdstanpy - INFO - Chain [1] done processing\n"
     ]
    },
    {
     "name": "stdout",
     "output_type": "stream",
     "text": [
      "Model forecasting\n",
      "Merging forecasting and test data\n",
      "Tranining complted for St7 and Peanuts\n",
      "Finding error matrices MSE and RMSE\n",
      "Writing error matrices of St7 and Peanuts\n",
      "\n",
      "\n",
      "\n",
      "\n",
      "Writing predicted results of St7 and Peanuts\n"
     ]
    },
    {
     "name": "stderr",
     "output_type": "stream",
     "text": [
      "C:\\Users\\Ramshankar\\AppData\\Local\\Temp\\ipykernel_15304\\1358708478.py:73: SettingWithCopyWarning: \n",
      "A value is trying to be set on a copy of a slice from a DataFrame.\n",
      "Try using .loc[row_indexer,col_indexer] = value instead\n",
      "\n",
      "See the caveats in the documentation: https://pandas.pydata.org/pandas-docs/stable/user_guide/indexing.html#returning-a-view-versus-a-copy\n",
      "  forecasted_df['store']= i\n",
      "C:\\Users\\Ramshankar\\AppData\\Local\\Temp\\ipykernel_15304\\1358708478.py:74: SettingWithCopyWarning: \n",
      "A value is trying to be set on a copy of a slice from a DataFrame.\n",
      "Try using .loc[row_indexer,col_indexer] = value instead\n",
      "\n",
      "See the caveats in the documentation: https://pandas.pydata.org/pandas-docs/stable/user_guide/indexing.html#returning-a-view-versus-a-copy\n",
      "  forecasted_df['item']=j\n"
     ]
    },
    {
     "name": "stdout",
     "output_type": "stream",
     "text": [
      "\n",
      "\n",
      "Preparing data for modelling\n",
      "\n",
      "\n",
      "Model Training initiated for St7 and Banana Chips\n"
     ]
    },
    {
     "name": "stderr",
     "output_type": "stream",
     "text": [
      "13:34:42 - cmdstanpy - INFO - Chain [1] start processing\n",
      "13:34:42 - cmdstanpy - INFO - Chain [1] done processing\n"
     ]
    },
    {
     "name": "stdout",
     "output_type": "stream",
     "text": [
      "Model forecasting\n",
      "Merging forecasting and test data\n",
      "Tranining complted for St7 and Banana Chips\n",
      "Finding error matrices MSE and RMSE\n",
      "Writing error matrices of St7 and Banana Chips\n",
      "\n",
      "\n",
      "\n",
      "\n",
      "Writing predicted results of St7 and Banana Chips\n"
     ]
    },
    {
     "name": "stderr",
     "output_type": "stream",
     "text": [
      "C:\\Users\\Ramshankar\\AppData\\Local\\Temp\\ipykernel_15304\\1358708478.py:73: SettingWithCopyWarning: \n",
      "A value is trying to be set on a copy of a slice from a DataFrame.\n",
      "Try using .loc[row_indexer,col_indexer] = value instead\n",
      "\n",
      "See the caveats in the documentation: https://pandas.pydata.org/pandas-docs/stable/user_guide/indexing.html#returning-a-view-versus-a-copy\n",
      "  forecasted_df['store']= i\n",
      "C:\\Users\\Ramshankar\\AppData\\Local\\Temp\\ipykernel_15304\\1358708478.py:74: SettingWithCopyWarning: \n",
      "A value is trying to be set on a copy of a slice from a DataFrame.\n",
      "Try using .loc[row_indexer,col_indexer] = value instead\n",
      "\n",
      "See the caveats in the documentation: https://pandas.pydata.org/pandas-docs/stable/user_guide/indexing.html#returning-a-view-versus-a-copy\n",
      "  forecasted_df['item']=j\n"
     ]
    },
    {
     "name": "stdout",
     "output_type": "stream",
     "text": [
      "\n",
      "\n",
      "Preparing data for modelling\n",
      "\n",
      "\n",
      "Model Training initiated for St7 and Too Yum\n"
     ]
    },
    {
     "name": "stderr",
     "output_type": "stream",
     "text": [
      "13:34:44 - cmdstanpy - INFO - Chain [1] start processing\n",
      "13:34:44 - cmdstanpy - INFO - Chain [1] done processing\n"
     ]
    },
    {
     "name": "stdout",
     "output_type": "stream",
     "text": [
      "Model forecasting\n",
      "Merging forecasting and test data\n",
      "Tranining complted for St7 and Too Yum\n",
      "Finding error matrices MSE and RMSE\n",
      "Writing error matrices of St7 and Too Yum\n",
      "\n",
      "\n",
      "\n",
      "\n",
      "Writing predicted results of St7 and Too Yum\n"
     ]
    },
    {
     "name": "stderr",
     "output_type": "stream",
     "text": [
      "C:\\Users\\Ramshankar\\AppData\\Local\\Temp\\ipykernel_15304\\1358708478.py:73: SettingWithCopyWarning: \n",
      "A value is trying to be set on a copy of a slice from a DataFrame.\n",
      "Try using .loc[row_indexer,col_indexer] = value instead\n",
      "\n",
      "See the caveats in the documentation: https://pandas.pydata.org/pandas-docs/stable/user_guide/indexing.html#returning-a-view-versus-a-copy\n",
      "  forecasted_df['store']= i\n",
      "C:\\Users\\Ramshankar\\AppData\\Local\\Temp\\ipykernel_15304\\1358708478.py:74: SettingWithCopyWarning: \n",
      "A value is trying to be set on a copy of a slice from a DataFrame.\n",
      "Try using .loc[row_indexer,col_indexer] = value instead\n",
      "\n",
      "See the caveats in the documentation: https://pandas.pydata.org/pandas-docs/stable/user_guide/indexing.html#returning-a-view-versus-a-copy\n",
      "  forecasted_df['item']=j\n"
     ]
    },
    {
     "name": "stdout",
     "output_type": "stream",
     "text": [
      "\n",
      "\n",
      "Preparing data for modelling\n",
      "\n",
      "\n",
      "Model Training initiated for St7 and Parle-G\n"
     ]
    },
    {
     "name": "stderr",
     "output_type": "stream",
     "text": [
      "13:34:47 - cmdstanpy - INFO - Chain [1] start processing\n",
      "13:34:47 - cmdstanpy - INFO - Chain [1] done processing\n"
     ]
    },
    {
     "name": "stdout",
     "output_type": "stream",
     "text": [
      "Model forecasting\n",
      "Merging forecasting and test data\n",
      "Tranining complted for St7 and Parle-G\n",
      "Finding error matrices MSE and RMSE\n",
      "Writing error matrices of St7 and Parle-G\n",
      "\n",
      "\n",
      "\n",
      "\n",
      "Writing predicted results of St7 and Parle-G\n"
     ]
    },
    {
     "name": "stderr",
     "output_type": "stream",
     "text": [
      "C:\\Users\\Ramshankar\\AppData\\Local\\Temp\\ipykernel_15304\\1358708478.py:73: SettingWithCopyWarning: \n",
      "A value is trying to be set on a copy of a slice from a DataFrame.\n",
      "Try using .loc[row_indexer,col_indexer] = value instead\n",
      "\n",
      "See the caveats in the documentation: https://pandas.pydata.org/pandas-docs/stable/user_guide/indexing.html#returning-a-view-versus-a-copy\n",
      "  forecasted_df['store']= i\n",
      "C:\\Users\\Ramshankar\\AppData\\Local\\Temp\\ipykernel_15304\\1358708478.py:74: SettingWithCopyWarning: \n",
      "A value is trying to be set on a copy of a slice from a DataFrame.\n",
      "Try using .loc[row_indexer,col_indexer] = value instead\n",
      "\n",
      "See the caveats in the documentation: https://pandas.pydata.org/pandas-docs/stable/user_guide/indexing.html#returning-a-view-versus-a-copy\n",
      "  forecasted_df['item']=j\n"
     ]
    },
    {
     "name": "stdout",
     "output_type": "stream",
     "text": [
      "\n",
      "\n",
      "Preparing data for modelling\n",
      "\n",
      "\n",
      "Model Training initiated for St7 and Fruit Cake\n"
     ]
    },
    {
     "name": "stderr",
     "output_type": "stream",
     "text": [
      "13:34:49 - cmdstanpy - INFO - Chain [1] start processing\n",
      "13:34:49 - cmdstanpy - INFO - Chain [1] done processing\n"
     ]
    },
    {
     "name": "stdout",
     "output_type": "stream",
     "text": [
      "Model forecasting\n",
      "Merging forecasting and test data\n",
      "Tranining complted for St7 and Fruit Cake\n",
      "Finding error matrices MSE and RMSE\n",
      "Writing error matrices of St7 and Fruit Cake\n",
      "\n",
      "\n",
      "\n",
      "\n",
      "Writing predicted results of St7 and Fruit Cake\n"
     ]
    },
    {
     "name": "stderr",
     "output_type": "stream",
     "text": [
      "C:\\Users\\Ramshankar\\AppData\\Local\\Temp\\ipykernel_15304\\1358708478.py:73: SettingWithCopyWarning: \n",
      "A value is trying to be set on a copy of a slice from a DataFrame.\n",
      "Try using .loc[row_indexer,col_indexer] = value instead\n",
      "\n",
      "See the caveats in the documentation: https://pandas.pydata.org/pandas-docs/stable/user_guide/indexing.html#returning-a-view-versus-a-copy\n",
      "  forecasted_df['store']= i\n",
      "C:\\Users\\Ramshankar\\AppData\\Local\\Temp\\ipykernel_15304\\1358708478.py:74: SettingWithCopyWarning: \n",
      "A value is trying to be set on a copy of a slice from a DataFrame.\n",
      "Try using .loc[row_indexer,col_indexer] = value instead\n",
      "\n",
      "See the caveats in the documentation: https://pandas.pydata.org/pandas-docs/stable/user_guide/indexing.html#returning-a-view-versus-a-copy\n",
      "  forecasted_df['item']=j\n"
     ]
    },
    {
     "name": "stdout",
     "output_type": "stream",
     "text": [
      "\n",
      "\n",
      "Preparing data for modelling\n",
      "\n",
      "\n",
      "Model Training initiated for St7 and Wafers\n"
     ]
    },
    {
     "name": "stderr",
     "output_type": "stream",
     "text": [
      "13:34:51 - cmdstanpy - INFO - Chain [1] start processing\n",
      "13:34:51 - cmdstanpy - INFO - Chain [1] done processing\n"
     ]
    },
    {
     "name": "stdout",
     "output_type": "stream",
     "text": [
      "Model forecasting\n",
      "Merging forecasting and test data\n",
      "Tranining complted for St7 and Wafers\n",
      "Finding error matrices MSE and RMSE\n",
      "Writing error matrices of St7 and Wafers\n",
      "\n",
      "\n",
      "\n",
      "\n",
      "Writing predicted results of St7 and Wafers\n"
     ]
    },
    {
     "name": "stderr",
     "output_type": "stream",
     "text": [
      "C:\\Users\\Ramshankar\\AppData\\Local\\Temp\\ipykernel_15304\\1358708478.py:73: SettingWithCopyWarning: \n",
      "A value is trying to be set on a copy of a slice from a DataFrame.\n",
      "Try using .loc[row_indexer,col_indexer] = value instead\n",
      "\n",
      "See the caveats in the documentation: https://pandas.pydata.org/pandas-docs/stable/user_guide/indexing.html#returning-a-view-versus-a-copy\n",
      "  forecasted_df['store']= i\n",
      "C:\\Users\\Ramshankar\\AppData\\Local\\Temp\\ipykernel_15304\\1358708478.py:74: SettingWithCopyWarning: \n",
      "A value is trying to be set on a copy of a slice from a DataFrame.\n",
      "Try using .loc[row_indexer,col_indexer] = value instead\n",
      "\n",
      "See the caveats in the documentation: https://pandas.pydata.org/pandas-docs/stable/user_guide/indexing.html#returning-a-view-versus-a-copy\n",
      "  forecasted_df['item']=j\n"
     ]
    },
    {
     "name": "stdout",
     "output_type": "stream",
     "text": [
      "\n",
      "\n",
      "Preparing data for modelling\n",
      "\n",
      "\n",
      "Model Training initiated for St8 and Lay's\n"
     ]
    },
    {
     "name": "stderr",
     "output_type": "stream",
     "text": [
      "13:34:53 - cmdstanpy - INFO - Chain [1] start processing\n",
      "13:34:54 - cmdstanpy - INFO - Chain [1] done processing\n"
     ]
    },
    {
     "name": "stdout",
     "output_type": "stream",
     "text": [
      "Model forecasting\n",
      "Merging forecasting and test data\n",
      "Tranining complted for St8 and Lay's\n",
      "Finding error matrices MSE and RMSE\n",
      "Writing error matrices of St8 and Lay's\n",
      "\n",
      "\n",
      "\n",
      "\n",
      "Writing predicted results of St8 and Lay's\n"
     ]
    },
    {
     "name": "stderr",
     "output_type": "stream",
     "text": [
      "C:\\Users\\Ramshankar\\AppData\\Local\\Temp\\ipykernel_15304\\1358708478.py:73: SettingWithCopyWarning: \n",
      "A value is trying to be set on a copy of a slice from a DataFrame.\n",
      "Try using .loc[row_indexer,col_indexer] = value instead\n",
      "\n",
      "See the caveats in the documentation: https://pandas.pydata.org/pandas-docs/stable/user_guide/indexing.html#returning-a-view-versus-a-copy\n",
      "  forecasted_df['store']= i\n",
      "C:\\Users\\Ramshankar\\AppData\\Local\\Temp\\ipykernel_15304\\1358708478.py:74: SettingWithCopyWarning: \n",
      "A value is trying to be set on a copy of a slice from a DataFrame.\n",
      "Try using .loc[row_indexer,col_indexer] = value instead\n",
      "\n",
      "See the caveats in the documentation: https://pandas.pydata.org/pandas-docs/stable/user_guide/indexing.html#returning-a-view-versus-a-copy\n",
      "  forecasted_df['item']=j\n"
     ]
    },
    {
     "name": "stdout",
     "output_type": "stream",
     "text": [
      "\n",
      "\n",
      "Preparing data for modelling\n",
      "\n",
      "\n",
      "Model Training initiated for St8 and Kurkure\n"
     ]
    },
    {
     "name": "stderr",
     "output_type": "stream",
     "text": [
      "13:34:56 - cmdstanpy - INFO - Chain [1] start processing\n",
      "13:34:56 - cmdstanpy - INFO - Chain [1] done processing\n"
     ]
    },
    {
     "name": "stdout",
     "output_type": "stream",
     "text": [
      "Model forecasting\n",
      "Merging forecasting and test data\n",
      "Tranining complted for St8 and Kurkure\n",
      "Finding error matrices MSE and RMSE\n",
      "Writing error matrices of St8 and Kurkure\n",
      "\n",
      "\n",
      "\n",
      "\n",
      "Writing predicted results of St8 and Kurkure\n"
     ]
    },
    {
     "name": "stderr",
     "output_type": "stream",
     "text": [
      "C:\\Users\\Ramshankar\\AppData\\Local\\Temp\\ipykernel_15304\\1358708478.py:73: SettingWithCopyWarning: \n",
      "A value is trying to be set on a copy of a slice from a DataFrame.\n",
      "Try using .loc[row_indexer,col_indexer] = value instead\n",
      "\n",
      "See the caveats in the documentation: https://pandas.pydata.org/pandas-docs/stable/user_guide/indexing.html#returning-a-view-versus-a-copy\n",
      "  forecasted_df['store']= i\n",
      "C:\\Users\\Ramshankar\\AppData\\Local\\Temp\\ipykernel_15304\\1358708478.py:74: SettingWithCopyWarning: \n",
      "A value is trying to be set on a copy of a slice from a DataFrame.\n",
      "Try using .loc[row_indexer,col_indexer] = value instead\n",
      "\n",
      "See the caveats in the documentation: https://pandas.pydata.org/pandas-docs/stable/user_guide/indexing.html#returning-a-view-versus-a-copy\n",
      "  forecasted_df['item']=j\n"
     ]
    },
    {
     "name": "stdout",
     "output_type": "stream",
     "text": [
      "\n",
      "\n",
      "Preparing data for modelling\n",
      "\n",
      "\n",
      "Model Training initiated for St8 and Bingo\n"
     ]
    },
    {
     "name": "stderr",
     "output_type": "stream",
     "text": [
      "13:34:58 - cmdstanpy - INFO - Chain [1] start processing\n",
      "13:34:58 - cmdstanpy - INFO - Chain [1] done processing\n"
     ]
    },
    {
     "name": "stdout",
     "output_type": "stream",
     "text": [
      "Model forecasting\n",
      "Merging forecasting and test data\n",
      "Tranining complted for St8 and Bingo\n",
      "Finding error matrices MSE and RMSE\n",
      "Writing error matrices of St8 and Bingo\n",
      "\n",
      "\n",
      "\n",
      "\n",
      "Writing predicted results of St8 and Bingo\n"
     ]
    },
    {
     "name": "stderr",
     "output_type": "stream",
     "text": [
      "C:\\Users\\Ramshankar\\AppData\\Local\\Temp\\ipykernel_15304\\1358708478.py:73: SettingWithCopyWarning: \n",
      "A value is trying to be set on a copy of a slice from a DataFrame.\n",
      "Try using .loc[row_indexer,col_indexer] = value instead\n",
      "\n",
      "See the caveats in the documentation: https://pandas.pydata.org/pandas-docs/stable/user_guide/indexing.html#returning-a-view-versus-a-copy\n",
      "  forecasted_df['store']= i\n",
      "C:\\Users\\Ramshankar\\AppData\\Local\\Temp\\ipykernel_15304\\1358708478.py:74: SettingWithCopyWarning: \n",
      "A value is trying to be set on a copy of a slice from a DataFrame.\n",
      "Try using .loc[row_indexer,col_indexer] = value instead\n",
      "\n",
      "See the caveats in the documentation: https://pandas.pydata.org/pandas-docs/stable/user_guide/indexing.html#returning-a-view-versus-a-copy\n",
      "  forecasted_df['item']=j\n"
     ]
    },
    {
     "name": "stdout",
     "output_type": "stream",
     "text": [
      "\n",
      "\n",
      "Preparing data for modelling\n",
      "\n",
      "\n",
      "Model Training initiated for St8 and Haldiram\n"
     ]
    },
    {
     "name": "stderr",
     "output_type": "stream",
     "text": [
      "13:35:00 - cmdstanpy - INFO - Chain [1] start processing\n",
      "13:35:00 - cmdstanpy - INFO - Chain [1] done processing\n"
     ]
    },
    {
     "name": "stdout",
     "output_type": "stream",
     "text": [
      "Model forecasting\n",
      "Merging forecasting and test data\n",
      "Tranining complted for St8 and Haldiram\n",
      "Finding error matrices MSE and RMSE\n",
      "Writing error matrices of St8 and Haldiram\n",
      "\n",
      "\n",
      "\n",
      "\n",
      "Writing predicted results of St8 and Haldiram\n"
     ]
    },
    {
     "name": "stderr",
     "output_type": "stream",
     "text": [
      "C:\\Users\\Ramshankar\\AppData\\Local\\Temp\\ipykernel_15304\\1358708478.py:73: SettingWithCopyWarning: \n",
      "A value is trying to be set on a copy of a slice from a DataFrame.\n",
      "Try using .loc[row_indexer,col_indexer] = value instead\n",
      "\n",
      "See the caveats in the documentation: https://pandas.pydata.org/pandas-docs/stable/user_guide/indexing.html#returning-a-view-versus-a-copy\n",
      "  forecasted_df['store']= i\n",
      "C:\\Users\\Ramshankar\\AppData\\Local\\Temp\\ipykernel_15304\\1358708478.py:74: SettingWithCopyWarning: \n",
      "A value is trying to be set on a copy of a slice from a DataFrame.\n",
      "Try using .loc[row_indexer,col_indexer] = value instead\n",
      "\n",
      "See the caveats in the documentation: https://pandas.pydata.org/pandas-docs/stable/user_guide/indexing.html#returning-a-view-versus-a-copy\n",
      "  forecasted_df['item']=j\n"
     ]
    },
    {
     "name": "stdout",
     "output_type": "stream",
     "text": [
      "\n",
      "\n",
      "Preparing data for modelling\n",
      "\n",
      "\n",
      "Model Training initiated for St8 and Peanuts\n"
     ]
    },
    {
     "name": "stderr",
     "output_type": "stream",
     "text": [
      "13:35:03 - cmdstanpy - INFO - Chain [1] start processing\n",
      "13:35:03 - cmdstanpy - INFO - Chain [1] done processing\n"
     ]
    },
    {
     "name": "stdout",
     "output_type": "stream",
     "text": [
      "Model forecasting\n",
      "Merging forecasting and test data\n",
      "Tranining complted for St8 and Peanuts\n",
      "Finding error matrices MSE and RMSE\n",
      "Writing error matrices of St8 and Peanuts\n",
      "\n",
      "\n",
      "\n",
      "\n",
      "Writing predicted results of St8 and Peanuts\n"
     ]
    },
    {
     "name": "stderr",
     "output_type": "stream",
     "text": [
      "C:\\Users\\Ramshankar\\AppData\\Local\\Temp\\ipykernel_15304\\1358708478.py:73: SettingWithCopyWarning: \n",
      "A value is trying to be set on a copy of a slice from a DataFrame.\n",
      "Try using .loc[row_indexer,col_indexer] = value instead\n",
      "\n",
      "See the caveats in the documentation: https://pandas.pydata.org/pandas-docs/stable/user_guide/indexing.html#returning-a-view-versus-a-copy\n",
      "  forecasted_df['store']= i\n",
      "C:\\Users\\Ramshankar\\AppData\\Local\\Temp\\ipykernel_15304\\1358708478.py:74: SettingWithCopyWarning: \n",
      "A value is trying to be set on a copy of a slice from a DataFrame.\n",
      "Try using .loc[row_indexer,col_indexer] = value instead\n",
      "\n",
      "See the caveats in the documentation: https://pandas.pydata.org/pandas-docs/stable/user_guide/indexing.html#returning-a-view-versus-a-copy\n",
      "  forecasted_df['item']=j\n"
     ]
    },
    {
     "name": "stdout",
     "output_type": "stream",
     "text": [
      "\n",
      "\n",
      "Preparing data for modelling\n",
      "\n",
      "\n",
      "Model Training initiated for St8 and Banana Chips\n"
     ]
    },
    {
     "name": "stderr",
     "output_type": "stream",
     "text": [
      "13:35:05 - cmdstanpy - INFO - Chain [1] start processing\n",
      "13:35:05 - cmdstanpy - INFO - Chain [1] done processing\n"
     ]
    },
    {
     "name": "stdout",
     "output_type": "stream",
     "text": [
      "Model forecasting\n",
      "Merging forecasting and test data\n",
      "Tranining complted for St8 and Banana Chips\n",
      "Finding error matrices MSE and RMSE\n",
      "Writing error matrices of St8 and Banana Chips\n",
      "\n",
      "\n",
      "\n",
      "\n",
      "Writing predicted results of St8 and Banana Chips\n"
     ]
    },
    {
     "name": "stderr",
     "output_type": "stream",
     "text": [
      "C:\\Users\\Ramshankar\\AppData\\Local\\Temp\\ipykernel_15304\\1358708478.py:73: SettingWithCopyWarning: \n",
      "A value is trying to be set on a copy of a slice from a DataFrame.\n",
      "Try using .loc[row_indexer,col_indexer] = value instead\n",
      "\n",
      "See the caveats in the documentation: https://pandas.pydata.org/pandas-docs/stable/user_guide/indexing.html#returning-a-view-versus-a-copy\n",
      "  forecasted_df['store']= i\n",
      "C:\\Users\\Ramshankar\\AppData\\Local\\Temp\\ipykernel_15304\\1358708478.py:74: SettingWithCopyWarning: \n",
      "A value is trying to be set on a copy of a slice from a DataFrame.\n",
      "Try using .loc[row_indexer,col_indexer] = value instead\n",
      "\n",
      "See the caveats in the documentation: https://pandas.pydata.org/pandas-docs/stable/user_guide/indexing.html#returning-a-view-versus-a-copy\n",
      "  forecasted_df['item']=j\n"
     ]
    },
    {
     "name": "stdout",
     "output_type": "stream",
     "text": [
      "\n",
      "\n",
      "Preparing data for modelling\n",
      "\n",
      "\n",
      "Model Training initiated for St8 and Too Yum\n"
     ]
    },
    {
     "name": "stderr",
     "output_type": "stream",
     "text": [
      "13:35:07 - cmdstanpy - INFO - Chain [1] start processing\n",
      "13:35:07 - cmdstanpy - INFO - Chain [1] done processing\n"
     ]
    },
    {
     "name": "stdout",
     "output_type": "stream",
     "text": [
      "Model forecasting\n",
      "Merging forecasting and test data\n",
      "Tranining complted for St8 and Too Yum\n",
      "Finding error matrices MSE and RMSE\n",
      "Writing error matrices of St8 and Too Yum\n",
      "\n",
      "\n",
      "\n",
      "\n",
      "Writing predicted results of St8 and Too Yum\n"
     ]
    },
    {
     "name": "stderr",
     "output_type": "stream",
     "text": [
      "C:\\Users\\Ramshankar\\AppData\\Local\\Temp\\ipykernel_15304\\1358708478.py:73: SettingWithCopyWarning: \n",
      "A value is trying to be set on a copy of a slice from a DataFrame.\n",
      "Try using .loc[row_indexer,col_indexer] = value instead\n",
      "\n",
      "See the caveats in the documentation: https://pandas.pydata.org/pandas-docs/stable/user_guide/indexing.html#returning-a-view-versus-a-copy\n",
      "  forecasted_df['store']= i\n",
      "C:\\Users\\Ramshankar\\AppData\\Local\\Temp\\ipykernel_15304\\1358708478.py:74: SettingWithCopyWarning: \n",
      "A value is trying to be set on a copy of a slice from a DataFrame.\n",
      "Try using .loc[row_indexer,col_indexer] = value instead\n",
      "\n",
      "See the caveats in the documentation: https://pandas.pydata.org/pandas-docs/stable/user_guide/indexing.html#returning-a-view-versus-a-copy\n",
      "  forecasted_df['item']=j\n"
     ]
    },
    {
     "name": "stdout",
     "output_type": "stream",
     "text": [
      "\n",
      "\n",
      "Preparing data for modelling\n",
      "\n",
      "\n",
      "Model Training initiated for St8 and Parle-G\n"
     ]
    },
    {
     "name": "stderr",
     "output_type": "stream",
     "text": [
      "13:35:09 - cmdstanpy - INFO - Chain [1] start processing\n",
      "13:35:10 - cmdstanpy - INFO - Chain [1] done processing\n"
     ]
    },
    {
     "name": "stdout",
     "output_type": "stream",
     "text": [
      "Model forecasting\n",
      "Merging forecasting and test data\n",
      "Tranining complted for St8 and Parle-G\n",
      "Finding error matrices MSE and RMSE\n",
      "Writing error matrices of St8 and Parle-G\n",
      "\n",
      "\n",
      "\n",
      "\n",
      "Writing predicted results of St8 and Parle-G\n"
     ]
    },
    {
     "name": "stderr",
     "output_type": "stream",
     "text": [
      "C:\\Users\\Ramshankar\\AppData\\Local\\Temp\\ipykernel_15304\\1358708478.py:73: SettingWithCopyWarning: \n",
      "A value is trying to be set on a copy of a slice from a DataFrame.\n",
      "Try using .loc[row_indexer,col_indexer] = value instead\n",
      "\n",
      "See the caveats in the documentation: https://pandas.pydata.org/pandas-docs/stable/user_guide/indexing.html#returning-a-view-versus-a-copy\n",
      "  forecasted_df['store']= i\n",
      "C:\\Users\\Ramshankar\\AppData\\Local\\Temp\\ipykernel_15304\\1358708478.py:74: SettingWithCopyWarning: \n",
      "A value is trying to be set on a copy of a slice from a DataFrame.\n",
      "Try using .loc[row_indexer,col_indexer] = value instead\n",
      "\n",
      "See the caveats in the documentation: https://pandas.pydata.org/pandas-docs/stable/user_guide/indexing.html#returning-a-view-versus-a-copy\n",
      "  forecasted_df['item']=j\n"
     ]
    },
    {
     "name": "stdout",
     "output_type": "stream",
     "text": [
      "\n",
      "\n",
      "Preparing data for modelling\n",
      "\n",
      "\n",
      "Model Training initiated for St8 and Fruit Cake\n"
     ]
    },
    {
     "name": "stderr",
     "output_type": "stream",
     "text": [
      "13:35:12 - cmdstanpy - INFO - Chain [1] start processing\n",
      "13:35:12 - cmdstanpy - INFO - Chain [1] done processing\n"
     ]
    },
    {
     "name": "stdout",
     "output_type": "stream",
     "text": [
      "Model forecasting\n",
      "Merging forecasting and test data\n",
      "Tranining complted for St8 and Fruit Cake\n",
      "Finding error matrices MSE and RMSE\n",
      "Writing error matrices of St8 and Fruit Cake\n",
      "\n",
      "\n",
      "\n",
      "\n",
      "Writing predicted results of St8 and Fruit Cake\n"
     ]
    },
    {
     "name": "stderr",
     "output_type": "stream",
     "text": [
      "C:\\Users\\Ramshankar\\AppData\\Local\\Temp\\ipykernel_15304\\1358708478.py:73: SettingWithCopyWarning: \n",
      "A value is trying to be set on a copy of a slice from a DataFrame.\n",
      "Try using .loc[row_indexer,col_indexer] = value instead\n",
      "\n",
      "See the caveats in the documentation: https://pandas.pydata.org/pandas-docs/stable/user_guide/indexing.html#returning-a-view-versus-a-copy\n",
      "  forecasted_df['store']= i\n",
      "C:\\Users\\Ramshankar\\AppData\\Local\\Temp\\ipykernel_15304\\1358708478.py:74: SettingWithCopyWarning: \n",
      "A value is trying to be set on a copy of a slice from a DataFrame.\n",
      "Try using .loc[row_indexer,col_indexer] = value instead\n",
      "\n",
      "See the caveats in the documentation: https://pandas.pydata.org/pandas-docs/stable/user_guide/indexing.html#returning-a-view-versus-a-copy\n",
      "  forecasted_df['item']=j\n"
     ]
    },
    {
     "name": "stdout",
     "output_type": "stream",
     "text": [
      "\n",
      "\n",
      "Preparing data for modelling\n",
      "\n",
      "\n",
      "Model Training initiated for St8 and Wafers\n"
     ]
    },
    {
     "name": "stderr",
     "output_type": "stream",
     "text": [
      "13:35:14 - cmdstanpy - INFO - Chain [1] start processing\n",
      "13:35:14 - cmdstanpy - INFO - Chain [1] done processing\n"
     ]
    },
    {
     "name": "stdout",
     "output_type": "stream",
     "text": [
      "Model forecasting\n",
      "Merging forecasting and test data\n",
      "Tranining complted for St8 and Wafers\n",
      "Finding error matrices MSE and RMSE\n",
      "Writing error matrices of St8 and Wafers\n",
      "\n",
      "\n",
      "\n",
      "\n",
      "Writing predicted results of St8 and Wafers\n"
     ]
    },
    {
     "name": "stderr",
     "output_type": "stream",
     "text": [
      "C:\\Users\\Ramshankar\\AppData\\Local\\Temp\\ipykernel_15304\\1358708478.py:73: SettingWithCopyWarning: \n",
      "A value is trying to be set on a copy of a slice from a DataFrame.\n",
      "Try using .loc[row_indexer,col_indexer] = value instead\n",
      "\n",
      "See the caveats in the documentation: https://pandas.pydata.org/pandas-docs/stable/user_guide/indexing.html#returning-a-view-versus-a-copy\n",
      "  forecasted_df['store']= i\n",
      "C:\\Users\\Ramshankar\\AppData\\Local\\Temp\\ipykernel_15304\\1358708478.py:74: SettingWithCopyWarning: \n",
      "A value is trying to be set on a copy of a slice from a DataFrame.\n",
      "Try using .loc[row_indexer,col_indexer] = value instead\n",
      "\n",
      "See the caveats in the documentation: https://pandas.pydata.org/pandas-docs/stable/user_guide/indexing.html#returning-a-view-versus-a-copy\n",
      "  forecasted_df['item']=j\n"
     ]
    },
    {
     "name": "stdout",
     "output_type": "stream",
     "text": [
      "\n",
      "\n",
      "Preparing data for modelling\n",
      "\n",
      "\n",
      "Model Training initiated for St9 and Lay's\n"
     ]
    },
    {
     "name": "stderr",
     "output_type": "stream",
     "text": [
      "13:35:16 - cmdstanpy - INFO - Chain [1] start processing\n",
      "13:35:16 - cmdstanpy - INFO - Chain [1] done processing\n"
     ]
    },
    {
     "name": "stdout",
     "output_type": "stream",
     "text": [
      "Model forecasting\n",
      "Merging forecasting and test data\n",
      "Tranining complted for St9 and Lay's\n",
      "Finding error matrices MSE and RMSE\n",
      "Writing error matrices of St9 and Lay's\n",
      "\n",
      "\n",
      "\n",
      "\n",
      "Writing predicted results of St9 and Lay's\n"
     ]
    },
    {
     "name": "stderr",
     "output_type": "stream",
     "text": [
      "C:\\Users\\Ramshankar\\AppData\\Local\\Temp\\ipykernel_15304\\1358708478.py:73: SettingWithCopyWarning: \n",
      "A value is trying to be set on a copy of a slice from a DataFrame.\n",
      "Try using .loc[row_indexer,col_indexer] = value instead\n",
      "\n",
      "See the caveats in the documentation: https://pandas.pydata.org/pandas-docs/stable/user_guide/indexing.html#returning-a-view-versus-a-copy\n",
      "  forecasted_df['store']= i\n",
      "C:\\Users\\Ramshankar\\AppData\\Local\\Temp\\ipykernel_15304\\1358708478.py:74: SettingWithCopyWarning: \n",
      "A value is trying to be set on a copy of a slice from a DataFrame.\n",
      "Try using .loc[row_indexer,col_indexer] = value instead\n",
      "\n",
      "See the caveats in the documentation: https://pandas.pydata.org/pandas-docs/stable/user_guide/indexing.html#returning-a-view-versus-a-copy\n",
      "  forecasted_df['item']=j\n"
     ]
    },
    {
     "name": "stdout",
     "output_type": "stream",
     "text": [
      "\n",
      "\n",
      "Preparing data for modelling\n",
      "\n",
      "\n",
      "Model Training initiated for St9 and Kurkure\n"
     ]
    },
    {
     "name": "stderr",
     "output_type": "stream",
     "text": [
      "13:35:18 - cmdstanpy - INFO - Chain [1] start processing\n",
      "13:35:19 - cmdstanpy - INFO - Chain [1] done processing\n"
     ]
    },
    {
     "name": "stdout",
     "output_type": "stream",
     "text": [
      "Model forecasting\n",
      "Merging forecasting and test data\n",
      "Tranining complted for St9 and Kurkure\n",
      "Finding error matrices MSE and RMSE\n",
      "Writing error matrices of St9 and Kurkure\n",
      "\n",
      "\n",
      "\n",
      "\n",
      "Writing predicted results of St9 and Kurkure\n"
     ]
    },
    {
     "name": "stderr",
     "output_type": "stream",
     "text": [
      "C:\\Users\\Ramshankar\\AppData\\Local\\Temp\\ipykernel_15304\\1358708478.py:73: SettingWithCopyWarning: \n",
      "A value is trying to be set on a copy of a slice from a DataFrame.\n",
      "Try using .loc[row_indexer,col_indexer] = value instead\n",
      "\n",
      "See the caveats in the documentation: https://pandas.pydata.org/pandas-docs/stable/user_guide/indexing.html#returning-a-view-versus-a-copy\n",
      "  forecasted_df['store']= i\n",
      "C:\\Users\\Ramshankar\\AppData\\Local\\Temp\\ipykernel_15304\\1358708478.py:74: SettingWithCopyWarning: \n",
      "A value is trying to be set on a copy of a slice from a DataFrame.\n",
      "Try using .loc[row_indexer,col_indexer] = value instead\n",
      "\n",
      "See the caveats in the documentation: https://pandas.pydata.org/pandas-docs/stable/user_guide/indexing.html#returning-a-view-versus-a-copy\n",
      "  forecasted_df['item']=j\n"
     ]
    },
    {
     "name": "stdout",
     "output_type": "stream",
     "text": [
      "\n",
      "\n",
      "Preparing data for modelling\n",
      "\n",
      "\n",
      "Model Training initiated for St9 and Bingo\n"
     ]
    },
    {
     "name": "stderr",
     "output_type": "stream",
     "text": [
      "13:35:21 - cmdstanpy - INFO - Chain [1] start processing\n",
      "13:35:21 - cmdstanpy - INFO - Chain [1] done processing\n"
     ]
    },
    {
     "name": "stdout",
     "output_type": "stream",
     "text": [
      "Model forecasting\n",
      "Merging forecasting and test data\n",
      "Tranining complted for St9 and Bingo\n",
      "Finding error matrices MSE and RMSE\n",
      "Writing error matrices of St9 and Bingo\n",
      "\n",
      "\n",
      "\n",
      "\n",
      "Writing predicted results of St9 and Bingo\n"
     ]
    },
    {
     "name": "stderr",
     "output_type": "stream",
     "text": [
      "C:\\Users\\Ramshankar\\AppData\\Local\\Temp\\ipykernel_15304\\1358708478.py:73: SettingWithCopyWarning: \n",
      "A value is trying to be set on a copy of a slice from a DataFrame.\n",
      "Try using .loc[row_indexer,col_indexer] = value instead\n",
      "\n",
      "See the caveats in the documentation: https://pandas.pydata.org/pandas-docs/stable/user_guide/indexing.html#returning-a-view-versus-a-copy\n",
      "  forecasted_df['store']= i\n",
      "C:\\Users\\Ramshankar\\AppData\\Local\\Temp\\ipykernel_15304\\1358708478.py:74: SettingWithCopyWarning: \n",
      "A value is trying to be set on a copy of a slice from a DataFrame.\n",
      "Try using .loc[row_indexer,col_indexer] = value instead\n",
      "\n",
      "See the caveats in the documentation: https://pandas.pydata.org/pandas-docs/stable/user_guide/indexing.html#returning-a-view-versus-a-copy\n",
      "  forecasted_df['item']=j\n"
     ]
    },
    {
     "name": "stdout",
     "output_type": "stream",
     "text": [
      "\n",
      "\n",
      "Preparing data for modelling\n",
      "\n",
      "\n",
      "Model Training initiated for St9 and Haldiram\n"
     ]
    },
    {
     "name": "stderr",
     "output_type": "stream",
     "text": [
      "13:35:23 - cmdstanpy - INFO - Chain [1] start processing\n",
      "13:35:23 - cmdstanpy - INFO - Chain [1] done processing\n"
     ]
    },
    {
     "name": "stdout",
     "output_type": "stream",
     "text": [
      "Model forecasting\n",
      "Merging forecasting and test data\n",
      "Tranining complted for St9 and Haldiram\n",
      "Finding error matrices MSE and RMSE\n",
      "Writing error matrices of St9 and Haldiram\n",
      "\n",
      "\n",
      "\n",
      "\n",
      "Writing predicted results of St9 and Haldiram\n"
     ]
    },
    {
     "name": "stderr",
     "output_type": "stream",
     "text": [
      "C:\\Users\\Ramshankar\\AppData\\Local\\Temp\\ipykernel_15304\\1358708478.py:73: SettingWithCopyWarning: \n",
      "A value is trying to be set on a copy of a slice from a DataFrame.\n",
      "Try using .loc[row_indexer,col_indexer] = value instead\n",
      "\n",
      "See the caveats in the documentation: https://pandas.pydata.org/pandas-docs/stable/user_guide/indexing.html#returning-a-view-versus-a-copy\n",
      "  forecasted_df['store']= i\n",
      "C:\\Users\\Ramshankar\\AppData\\Local\\Temp\\ipykernel_15304\\1358708478.py:74: SettingWithCopyWarning: \n",
      "A value is trying to be set on a copy of a slice from a DataFrame.\n",
      "Try using .loc[row_indexer,col_indexer] = value instead\n",
      "\n",
      "See the caveats in the documentation: https://pandas.pydata.org/pandas-docs/stable/user_guide/indexing.html#returning-a-view-versus-a-copy\n",
      "  forecasted_df['item']=j\n"
     ]
    },
    {
     "name": "stdout",
     "output_type": "stream",
     "text": [
      "\n",
      "\n",
      "Preparing data for modelling\n",
      "\n",
      "\n",
      "Model Training initiated for St9 and Peanuts\n"
     ]
    },
    {
     "name": "stderr",
     "output_type": "stream",
     "text": [
      "13:35:25 - cmdstanpy - INFO - Chain [1] start processing\n",
      "13:35:25 - cmdstanpy - INFO - Chain [1] done processing\n"
     ]
    },
    {
     "name": "stdout",
     "output_type": "stream",
     "text": [
      "Model forecasting\n",
      "Merging forecasting and test data\n",
      "Tranining complted for St9 and Peanuts\n",
      "Finding error matrices MSE and RMSE\n",
      "Writing error matrices of St9 and Peanuts\n",
      "\n",
      "\n",
      "\n",
      "\n",
      "Writing predicted results of St9 and Peanuts\n"
     ]
    },
    {
     "name": "stderr",
     "output_type": "stream",
     "text": [
      "C:\\Users\\Ramshankar\\AppData\\Local\\Temp\\ipykernel_15304\\1358708478.py:73: SettingWithCopyWarning: \n",
      "A value is trying to be set on a copy of a slice from a DataFrame.\n",
      "Try using .loc[row_indexer,col_indexer] = value instead\n",
      "\n",
      "See the caveats in the documentation: https://pandas.pydata.org/pandas-docs/stable/user_guide/indexing.html#returning-a-view-versus-a-copy\n",
      "  forecasted_df['store']= i\n",
      "C:\\Users\\Ramshankar\\AppData\\Local\\Temp\\ipykernel_15304\\1358708478.py:74: SettingWithCopyWarning: \n",
      "A value is trying to be set on a copy of a slice from a DataFrame.\n",
      "Try using .loc[row_indexer,col_indexer] = value instead\n",
      "\n",
      "See the caveats in the documentation: https://pandas.pydata.org/pandas-docs/stable/user_guide/indexing.html#returning-a-view-versus-a-copy\n",
      "  forecasted_df['item']=j\n"
     ]
    },
    {
     "name": "stdout",
     "output_type": "stream",
     "text": [
      "\n",
      "\n",
      "Preparing data for modelling\n",
      "\n",
      "\n",
      "Model Training initiated for St9 and Banana Chips\n"
     ]
    },
    {
     "name": "stderr",
     "output_type": "stream",
     "text": [
      "13:35:28 - cmdstanpy - INFO - Chain [1] start processing\n",
      "13:35:28 - cmdstanpy - INFO - Chain [1] done processing\n"
     ]
    },
    {
     "name": "stdout",
     "output_type": "stream",
     "text": [
      "Model forecasting\n",
      "Merging forecasting and test data\n",
      "Tranining complted for St9 and Banana Chips\n",
      "Finding error matrices MSE and RMSE\n",
      "Writing error matrices of St9 and Banana Chips\n",
      "\n",
      "\n",
      "\n",
      "\n",
      "Writing predicted results of St9 and Banana Chips\n"
     ]
    },
    {
     "name": "stderr",
     "output_type": "stream",
     "text": [
      "C:\\Users\\Ramshankar\\AppData\\Local\\Temp\\ipykernel_15304\\1358708478.py:73: SettingWithCopyWarning: \n",
      "A value is trying to be set on a copy of a slice from a DataFrame.\n",
      "Try using .loc[row_indexer,col_indexer] = value instead\n",
      "\n",
      "See the caveats in the documentation: https://pandas.pydata.org/pandas-docs/stable/user_guide/indexing.html#returning-a-view-versus-a-copy\n",
      "  forecasted_df['store']= i\n",
      "C:\\Users\\Ramshankar\\AppData\\Local\\Temp\\ipykernel_15304\\1358708478.py:74: SettingWithCopyWarning: \n",
      "A value is trying to be set on a copy of a slice from a DataFrame.\n",
      "Try using .loc[row_indexer,col_indexer] = value instead\n",
      "\n",
      "See the caveats in the documentation: https://pandas.pydata.org/pandas-docs/stable/user_guide/indexing.html#returning-a-view-versus-a-copy\n",
      "  forecasted_df['item']=j\n"
     ]
    },
    {
     "name": "stdout",
     "output_type": "stream",
     "text": [
      "\n",
      "\n",
      "Preparing data for modelling\n",
      "\n",
      "\n",
      "Model Training initiated for St9 and Too Yum\n"
     ]
    },
    {
     "name": "stderr",
     "output_type": "stream",
     "text": [
      "13:35:30 - cmdstanpy - INFO - Chain [1] start processing\n",
      "13:35:30 - cmdstanpy - INFO - Chain [1] done processing\n"
     ]
    },
    {
     "name": "stdout",
     "output_type": "stream",
     "text": [
      "Model forecasting\n",
      "Merging forecasting and test data\n",
      "Tranining complted for St9 and Too Yum\n",
      "Finding error matrices MSE and RMSE\n",
      "Writing error matrices of St9 and Too Yum\n",
      "\n",
      "\n",
      "\n",
      "\n",
      "Writing predicted results of St9 and Too Yum\n"
     ]
    },
    {
     "name": "stderr",
     "output_type": "stream",
     "text": [
      "C:\\Users\\Ramshankar\\AppData\\Local\\Temp\\ipykernel_15304\\1358708478.py:73: SettingWithCopyWarning: \n",
      "A value is trying to be set on a copy of a slice from a DataFrame.\n",
      "Try using .loc[row_indexer,col_indexer] = value instead\n",
      "\n",
      "See the caveats in the documentation: https://pandas.pydata.org/pandas-docs/stable/user_guide/indexing.html#returning-a-view-versus-a-copy\n",
      "  forecasted_df['store']= i\n",
      "C:\\Users\\Ramshankar\\AppData\\Local\\Temp\\ipykernel_15304\\1358708478.py:74: SettingWithCopyWarning: \n",
      "A value is trying to be set on a copy of a slice from a DataFrame.\n",
      "Try using .loc[row_indexer,col_indexer] = value instead\n",
      "\n",
      "See the caveats in the documentation: https://pandas.pydata.org/pandas-docs/stable/user_guide/indexing.html#returning-a-view-versus-a-copy\n",
      "  forecasted_df['item']=j\n"
     ]
    },
    {
     "name": "stdout",
     "output_type": "stream",
     "text": [
      "\n",
      "\n",
      "Preparing data for modelling\n",
      "\n",
      "\n",
      "Model Training initiated for St9 and Parle-G\n"
     ]
    },
    {
     "name": "stderr",
     "output_type": "stream",
     "text": [
      "13:35:32 - cmdstanpy - INFO - Chain [1] start processing\n",
      "13:35:32 - cmdstanpy - INFO - Chain [1] done processing\n"
     ]
    },
    {
     "name": "stdout",
     "output_type": "stream",
     "text": [
      "Model forecasting\n",
      "Merging forecasting and test data\n",
      "Tranining complted for St9 and Parle-G\n",
      "Finding error matrices MSE and RMSE\n",
      "Writing error matrices of St9 and Parle-G\n",
      "\n",
      "\n",
      "\n",
      "\n",
      "Writing predicted results of St9 and Parle-G\n"
     ]
    },
    {
     "name": "stderr",
     "output_type": "stream",
     "text": [
      "C:\\Users\\Ramshankar\\AppData\\Local\\Temp\\ipykernel_15304\\1358708478.py:73: SettingWithCopyWarning: \n",
      "A value is trying to be set on a copy of a slice from a DataFrame.\n",
      "Try using .loc[row_indexer,col_indexer] = value instead\n",
      "\n",
      "See the caveats in the documentation: https://pandas.pydata.org/pandas-docs/stable/user_guide/indexing.html#returning-a-view-versus-a-copy\n",
      "  forecasted_df['store']= i\n",
      "C:\\Users\\Ramshankar\\AppData\\Local\\Temp\\ipykernel_15304\\1358708478.py:74: SettingWithCopyWarning: \n",
      "A value is trying to be set on a copy of a slice from a DataFrame.\n",
      "Try using .loc[row_indexer,col_indexer] = value instead\n",
      "\n",
      "See the caveats in the documentation: https://pandas.pydata.org/pandas-docs/stable/user_guide/indexing.html#returning-a-view-versus-a-copy\n",
      "  forecasted_df['item']=j\n"
     ]
    },
    {
     "name": "stdout",
     "output_type": "stream",
     "text": [
      "\n",
      "\n",
      "Preparing data for modelling\n",
      "\n",
      "\n",
      "Model Training initiated for St9 and Fruit Cake\n"
     ]
    },
    {
     "name": "stderr",
     "output_type": "stream",
     "text": [
      "13:35:34 - cmdstanpy - INFO - Chain [1] start processing\n",
      "13:35:34 - cmdstanpy - INFO - Chain [1] done processing\n"
     ]
    },
    {
     "name": "stdout",
     "output_type": "stream",
     "text": [
      "Model forecasting\n",
      "Merging forecasting and test data\n",
      "Tranining complted for St9 and Fruit Cake\n",
      "Finding error matrices MSE and RMSE\n",
      "Writing error matrices of St9 and Fruit Cake\n",
      "\n",
      "\n",
      "\n",
      "\n",
      "Writing predicted results of St9 and Fruit Cake\n"
     ]
    },
    {
     "name": "stderr",
     "output_type": "stream",
     "text": [
      "C:\\Users\\Ramshankar\\AppData\\Local\\Temp\\ipykernel_15304\\1358708478.py:73: SettingWithCopyWarning: \n",
      "A value is trying to be set on a copy of a slice from a DataFrame.\n",
      "Try using .loc[row_indexer,col_indexer] = value instead\n",
      "\n",
      "See the caveats in the documentation: https://pandas.pydata.org/pandas-docs/stable/user_guide/indexing.html#returning-a-view-versus-a-copy\n",
      "  forecasted_df['store']= i\n",
      "C:\\Users\\Ramshankar\\AppData\\Local\\Temp\\ipykernel_15304\\1358708478.py:74: SettingWithCopyWarning: \n",
      "A value is trying to be set on a copy of a slice from a DataFrame.\n",
      "Try using .loc[row_indexer,col_indexer] = value instead\n",
      "\n",
      "See the caveats in the documentation: https://pandas.pydata.org/pandas-docs/stable/user_guide/indexing.html#returning-a-view-versus-a-copy\n",
      "  forecasted_df['item']=j\n"
     ]
    },
    {
     "name": "stdout",
     "output_type": "stream",
     "text": [
      "\n",
      "\n",
      "Preparing data for modelling\n",
      "\n",
      "\n",
      "Model Training initiated for St9 and Wafers\n"
     ]
    },
    {
     "name": "stderr",
     "output_type": "stream",
     "text": [
      "13:35:36 - cmdstanpy - INFO - Chain [1] start processing\n",
      "13:35:37 - cmdstanpy - INFO - Chain [1] done processing\n"
     ]
    },
    {
     "name": "stdout",
     "output_type": "stream",
     "text": [
      "Model forecasting\n",
      "Merging forecasting and test data\n",
      "Tranining complted for St9 and Wafers\n",
      "Finding error matrices MSE and RMSE\n",
      "Writing error matrices of St9 and Wafers\n",
      "\n",
      "\n",
      "\n",
      "\n",
      "Writing predicted results of St9 and Wafers\n"
     ]
    },
    {
     "name": "stderr",
     "output_type": "stream",
     "text": [
      "C:\\Users\\Ramshankar\\AppData\\Local\\Temp\\ipykernel_15304\\1358708478.py:73: SettingWithCopyWarning: \n",
      "A value is trying to be set on a copy of a slice from a DataFrame.\n",
      "Try using .loc[row_indexer,col_indexer] = value instead\n",
      "\n",
      "See the caveats in the documentation: https://pandas.pydata.org/pandas-docs/stable/user_guide/indexing.html#returning-a-view-versus-a-copy\n",
      "  forecasted_df['store']= i\n",
      "C:\\Users\\Ramshankar\\AppData\\Local\\Temp\\ipykernel_15304\\1358708478.py:74: SettingWithCopyWarning: \n",
      "A value is trying to be set on a copy of a slice from a DataFrame.\n",
      "Try using .loc[row_indexer,col_indexer] = value instead\n",
      "\n",
      "See the caveats in the documentation: https://pandas.pydata.org/pandas-docs/stable/user_guide/indexing.html#returning-a-view-versus-a-copy\n",
      "  forecasted_df['item']=j\n"
     ]
    },
    {
     "name": "stdout",
     "output_type": "stream",
     "text": [
      "\n",
      "\n",
      "Preparing data for modelling\n",
      "\n",
      "\n",
      "Model Training initiated for St10 and Lay's\n"
     ]
    },
    {
     "name": "stderr",
     "output_type": "stream",
     "text": [
      "13:35:39 - cmdstanpy - INFO - Chain [1] start processing\n",
      "13:35:39 - cmdstanpy - INFO - Chain [1] done processing\n"
     ]
    },
    {
     "name": "stdout",
     "output_type": "stream",
     "text": [
      "Model forecasting\n",
      "Merging forecasting and test data\n",
      "Tranining complted for St10 and Lay's\n",
      "Finding error matrices MSE and RMSE\n",
      "Writing error matrices of St10 and Lay's\n",
      "\n",
      "\n",
      "\n",
      "\n",
      "Writing predicted results of St10 and Lay's\n"
     ]
    },
    {
     "name": "stderr",
     "output_type": "stream",
     "text": [
      "C:\\Users\\Ramshankar\\AppData\\Local\\Temp\\ipykernel_15304\\1358708478.py:73: SettingWithCopyWarning: \n",
      "A value is trying to be set on a copy of a slice from a DataFrame.\n",
      "Try using .loc[row_indexer,col_indexer] = value instead\n",
      "\n",
      "See the caveats in the documentation: https://pandas.pydata.org/pandas-docs/stable/user_guide/indexing.html#returning-a-view-versus-a-copy\n",
      "  forecasted_df['store']= i\n",
      "C:\\Users\\Ramshankar\\AppData\\Local\\Temp\\ipykernel_15304\\1358708478.py:74: SettingWithCopyWarning: \n",
      "A value is trying to be set on a copy of a slice from a DataFrame.\n",
      "Try using .loc[row_indexer,col_indexer] = value instead\n",
      "\n",
      "See the caveats in the documentation: https://pandas.pydata.org/pandas-docs/stable/user_guide/indexing.html#returning-a-view-versus-a-copy\n",
      "  forecasted_df['item']=j\n"
     ]
    },
    {
     "name": "stdout",
     "output_type": "stream",
     "text": [
      "\n",
      "\n",
      "Preparing data for modelling\n",
      "\n",
      "\n",
      "Model Training initiated for St10 and Kurkure\n"
     ]
    },
    {
     "name": "stderr",
     "output_type": "stream",
     "text": [
      "13:35:41 - cmdstanpy - INFO - Chain [1] start processing\n",
      "13:35:41 - cmdstanpy - INFO - Chain [1] done processing\n"
     ]
    },
    {
     "name": "stdout",
     "output_type": "stream",
     "text": [
      "Model forecasting\n",
      "Merging forecasting and test data\n",
      "Tranining complted for St10 and Kurkure\n",
      "Finding error matrices MSE and RMSE\n",
      "Writing error matrices of St10 and Kurkure\n",
      "\n",
      "\n",
      "\n",
      "\n",
      "Writing predicted results of St10 and Kurkure\n"
     ]
    },
    {
     "name": "stderr",
     "output_type": "stream",
     "text": [
      "C:\\Users\\Ramshankar\\AppData\\Local\\Temp\\ipykernel_15304\\1358708478.py:73: SettingWithCopyWarning: \n",
      "A value is trying to be set on a copy of a slice from a DataFrame.\n",
      "Try using .loc[row_indexer,col_indexer] = value instead\n",
      "\n",
      "See the caveats in the documentation: https://pandas.pydata.org/pandas-docs/stable/user_guide/indexing.html#returning-a-view-versus-a-copy\n",
      "  forecasted_df['store']= i\n",
      "C:\\Users\\Ramshankar\\AppData\\Local\\Temp\\ipykernel_15304\\1358708478.py:74: SettingWithCopyWarning: \n",
      "A value is trying to be set on a copy of a slice from a DataFrame.\n",
      "Try using .loc[row_indexer,col_indexer] = value instead\n",
      "\n",
      "See the caveats in the documentation: https://pandas.pydata.org/pandas-docs/stable/user_guide/indexing.html#returning-a-view-versus-a-copy\n",
      "  forecasted_df['item']=j\n"
     ]
    },
    {
     "name": "stdout",
     "output_type": "stream",
     "text": [
      "\n",
      "\n",
      "Preparing data for modelling\n",
      "\n",
      "\n",
      "Model Training initiated for St10 and Bingo\n"
     ]
    },
    {
     "name": "stderr",
     "output_type": "stream",
     "text": [
      "13:35:43 - cmdstanpy - INFO - Chain [1] start processing\n",
      "13:35:43 - cmdstanpy - INFO - Chain [1] done processing\n"
     ]
    },
    {
     "name": "stdout",
     "output_type": "stream",
     "text": [
      "Model forecasting\n",
      "Merging forecasting and test data\n",
      "Tranining complted for St10 and Bingo\n",
      "Finding error matrices MSE and RMSE\n",
      "Writing error matrices of St10 and Bingo\n",
      "\n",
      "\n",
      "\n",
      "\n",
      "Writing predicted results of St10 and Bingo\n"
     ]
    },
    {
     "name": "stderr",
     "output_type": "stream",
     "text": [
      "C:\\Users\\Ramshankar\\AppData\\Local\\Temp\\ipykernel_15304\\1358708478.py:73: SettingWithCopyWarning: \n",
      "A value is trying to be set on a copy of a slice from a DataFrame.\n",
      "Try using .loc[row_indexer,col_indexer] = value instead\n",
      "\n",
      "See the caveats in the documentation: https://pandas.pydata.org/pandas-docs/stable/user_guide/indexing.html#returning-a-view-versus-a-copy\n",
      "  forecasted_df['store']= i\n",
      "C:\\Users\\Ramshankar\\AppData\\Local\\Temp\\ipykernel_15304\\1358708478.py:74: SettingWithCopyWarning: \n",
      "A value is trying to be set on a copy of a slice from a DataFrame.\n",
      "Try using .loc[row_indexer,col_indexer] = value instead\n",
      "\n",
      "See the caveats in the documentation: https://pandas.pydata.org/pandas-docs/stable/user_guide/indexing.html#returning-a-view-versus-a-copy\n",
      "  forecasted_df['item']=j\n"
     ]
    },
    {
     "name": "stdout",
     "output_type": "stream",
     "text": [
      "\n",
      "\n",
      "Preparing data for modelling\n",
      "\n",
      "\n",
      "Model Training initiated for St10 and Haldiram\n"
     ]
    },
    {
     "name": "stderr",
     "output_type": "stream",
     "text": [
      "13:35:46 - cmdstanpy - INFO - Chain [1] start processing\n",
      "13:35:46 - cmdstanpy - INFO - Chain [1] done processing\n"
     ]
    },
    {
     "name": "stdout",
     "output_type": "stream",
     "text": [
      "Model forecasting\n",
      "Merging forecasting and test data\n",
      "Tranining complted for St10 and Haldiram\n",
      "Finding error matrices MSE and RMSE\n",
      "Writing error matrices of St10 and Haldiram\n",
      "\n",
      "\n",
      "\n",
      "\n",
      "Writing predicted results of St10 and Haldiram\n"
     ]
    },
    {
     "name": "stderr",
     "output_type": "stream",
     "text": [
      "C:\\Users\\Ramshankar\\AppData\\Local\\Temp\\ipykernel_15304\\1358708478.py:73: SettingWithCopyWarning: \n",
      "A value is trying to be set on a copy of a slice from a DataFrame.\n",
      "Try using .loc[row_indexer,col_indexer] = value instead\n",
      "\n",
      "See the caveats in the documentation: https://pandas.pydata.org/pandas-docs/stable/user_guide/indexing.html#returning-a-view-versus-a-copy\n",
      "  forecasted_df['store']= i\n",
      "C:\\Users\\Ramshankar\\AppData\\Local\\Temp\\ipykernel_15304\\1358708478.py:74: SettingWithCopyWarning: \n",
      "A value is trying to be set on a copy of a slice from a DataFrame.\n",
      "Try using .loc[row_indexer,col_indexer] = value instead\n",
      "\n",
      "See the caveats in the documentation: https://pandas.pydata.org/pandas-docs/stable/user_guide/indexing.html#returning-a-view-versus-a-copy\n",
      "  forecasted_df['item']=j\n"
     ]
    },
    {
     "name": "stdout",
     "output_type": "stream",
     "text": [
      "\n",
      "\n",
      "Preparing data for modelling\n",
      "\n",
      "\n",
      "Model Training initiated for St10 and Peanuts\n"
     ]
    },
    {
     "name": "stderr",
     "output_type": "stream",
     "text": [
      "13:35:48 - cmdstanpy - INFO - Chain [1] start processing\n",
      "13:35:48 - cmdstanpy - INFO - Chain [1] done processing\n"
     ]
    },
    {
     "name": "stdout",
     "output_type": "stream",
     "text": [
      "Model forecasting\n",
      "Merging forecasting and test data\n",
      "Tranining complted for St10 and Peanuts\n",
      "Finding error matrices MSE and RMSE\n",
      "Writing error matrices of St10 and Peanuts\n",
      "\n",
      "\n",
      "\n",
      "\n",
      "Writing predicted results of St10 and Peanuts\n"
     ]
    },
    {
     "name": "stderr",
     "output_type": "stream",
     "text": [
      "C:\\Users\\Ramshankar\\AppData\\Local\\Temp\\ipykernel_15304\\1358708478.py:73: SettingWithCopyWarning: \n",
      "A value is trying to be set on a copy of a slice from a DataFrame.\n",
      "Try using .loc[row_indexer,col_indexer] = value instead\n",
      "\n",
      "See the caveats in the documentation: https://pandas.pydata.org/pandas-docs/stable/user_guide/indexing.html#returning-a-view-versus-a-copy\n",
      "  forecasted_df['store']= i\n",
      "C:\\Users\\Ramshankar\\AppData\\Local\\Temp\\ipykernel_15304\\1358708478.py:74: SettingWithCopyWarning: \n",
      "A value is trying to be set on a copy of a slice from a DataFrame.\n",
      "Try using .loc[row_indexer,col_indexer] = value instead\n",
      "\n",
      "See the caveats in the documentation: https://pandas.pydata.org/pandas-docs/stable/user_guide/indexing.html#returning-a-view-versus-a-copy\n",
      "  forecasted_df['item']=j\n"
     ]
    },
    {
     "name": "stdout",
     "output_type": "stream",
     "text": [
      "\n",
      "\n",
      "Preparing data for modelling\n",
      "\n",
      "\n",
      "Model Training initiated for St10 and Banana Chips\n"
     ]
    },
    {
     "name": "stderr",
     "output_type": "stream",
     "text": [
      "13:35:50 - cmdstanpy - INFO - Chain [1] start processing\n",
      "13:35:50 - cmdstanpy - INFO - Chain [1] done processing\n"
     ]
    },
    {
     "name": "stdout",
     "output_type": "stream",
     "text": [
      "Model forecasting\n",
      "Merging forecasting and test data\n",
      "Tranining complted for St10 and Banana Chips\n",
      "Finding error matrices MSE and RMSE\n",
      "Writing error matrices of St10 and Banana Chips\n",
      "\n",
      "\n",
      "\n",
      "\n",
      "Writing predicted results of St10 and Banana Chips\n"
     ]
    },
    {
     "name": "stderr",
     "output_type": "stream",
     "text": [
      "C:\\Users\\Ramshankar\\AppData\\Local\\Temp\\ipykernel_15304\\1358708478.py:73: SettingWithCopyWarning: \n",
      "A value is trying to be set on a copy of a slice from a DataFrame.\n",
      "Try using .loc[row_indexer,col_indexer] = value instead\n",
      "\n",
      "See the caveats in the documentation: https://pandas.pydata.org/pandas-docs/stable/user_guide/indexing.html#returning-a-view-versus-a-copy\n",
      "  forecasted_df['store']= i\n",
      "C:\\Users\\Ramshankar\\AppData\\Local\\Temp\\ipykernel_15304\\1358708478.py:74: SettingWithCopyWarning: \n",
      "A value is trying to be set on a copy of a slice from a DataFrame.\n",
      "Try using .loc[row_indexer,col_indexer] = value instead\n",
      "\n",
      "See the caveats in the documentation: https://pandas.pydata.org/pandas-docs/stable/user_guide/indexing.html#returning-a-view-versus-a-copy\n",
      "  forecasted_df['item']=j\n"
     ]
    },
    {
     "name": "stdout",
     "output_type": "stream",
     "text": [
      "\n",
      "\n",
      "Preparing data for modelling\n",
      "\n",
      "\n",
      "Model Training initiated for St10 and Too Yum\n"
     ]
    },
    {
     "name": "stderr",
     "output_type": "stream",
     "text": [
      "13:35:53 - cmdstanpy - INFO - Chain [1] start processing\n",
      "13:35:53 - cmdstanpy - INFO - Chain [1] done processing\n"
     ]
    },
    {
     "name": "stdout",
     "output_type": "stream",
     "text": [
      "Model forecasting\n",
      "Merging forecasting and test data\n",
      "Tranining complted for St10 and Too Yum\n",
      "Finding error matrices MSE and RMSE\n",
      "Writing error matrices of St10 and Too Yum\n",
      "\n",
      "\n",
      "\n",
      "\n",
      "Writing predicted results of St10 and Too Yum\n"
     ]
    },
    {
     "name": "stderr",
     "output_type": "stream",
     "text": [
      "C:\\Users\\Ramshankar\\AppData\\Local\\Temp\\ipykernel_15304\\1358708478.py:73: SettingWithCopyWarning: \n",
      "A value is trying to be set on a copy of a slice from a DataFrame.\n",
      "Try using .loc[row_indexer,col_indexer] = value instead\n",
      "\n",
      "See the caveats in the documentation: https://pandas.pydata.org/pandas-docs/stable/user_guide/indexing.html#returning-a-view-versus-a-copy\n",
      "  forecasted_df['store']= i\n",
      "C:\\Users\\Ramshankar\\AppData\\Local\\Temp\\ipykernel_15304\\1358708478.py:74: SettingWithCopyWarning: \n",
      "A value is trying to be set on a copy of a slice from a DataFrame.\n",
      "Try using .loc[row_indexer,col_indexer] = value instead\n",
      "\n",
      "See the caveats in the documentation: https://pandas.pydata.org/pandas-docs/stable/user_guide/indexing.html#returning-a-view-versus-a-copy\n",
      "  forecasted_df['item']=j\n"
     ]
    },
    {
     "name": "stdout",
     "output_type": "stream",
     "text": [
      "\n",
      "\n",
      "Preparing data for modelling\n",
      "\n",
      "\n",
      "Model Training initiated for St10 and Parle-G\n"
     ]
    },
    {
     "name": "stderr",
     "output_type": "stream",
     "text": [
      "13:35:55 - cmdstanpy - INFO - Chain [1] start processing\n",
      "13:35:55 - cmdstanpy - INFO - Chain [1] done processing\n"
     ]
    },
    {
     "name": "stdout",
     "output_type": "stream",
     "text": [
      "Model forecasting\n",
      "Merging forecasting and test data\n",
      "Tranining complted for St10 and Parle-G\n",
      "Finding error matrices MSE and RMSE\n",
      "Writing error matrices of St10 and Parle-G\n",
      "\n",
      "\n",
      "\n",
      "\n",
      "Writing predicted results of St10 and Parle-G\n"
     ]
    },
    {
     "name": "stderr",
     "output_type": "stream",
     "text": [
      "C:\\Users\\Ramshankar\\AppData\\Local\\Temp\\ipykernel_15304\\1358708478.py:73: SettingWithCopyWarning: \n",
      "A value is trying to be set on a copy of a slice from a DataFrame.\n",
      "Try using .loc[row_indexer,col_indexer] = value instead\n",
      "\n",
      "See the caveats in the documentation: https://pandas.pydata.org/pandas-docs/stable/user_guide/indexing.html#returning-a-view-versus-a-copy\n",
      "  forecasted_df['store']= i\n",
      "C:\\Users\\Ramshankar\\AppData\\Local\\Temp\\ipykernel_15304\\1358708478.py:74: SettingWithCopyWarning: \n",
      "A value is trying to be set on a copy of a slice from a DataFrame.\n",
      "Try using .loc[row_indexer,col_indexer] = value instead\n",
      "\n",
      "See the caveats in the documentation: https://pandas.pydata.org/pandas-docs/stable/user_guide/indexing.html#returning-a-view-versus-a-copy\n",
      "  forecasted_df['item']=j\n"
     ]
    },
    {
     "name": "stdout",
     "output_type": "stream",
     "text": [
      "\n",
      "\n",
      "Preparing data for modelling\n",
      "\n",
      "\n",
      "Model Training initiated for St10 and Fruit Cake\n"
     ]
    },
    {
     "name": "stderr",
     "output_type": "stream",
     "text": [
      "13:35:57 - cmdstanpy - INFO - Chain [1] start processing\n",
      "13:35:57 - cmdstanpy - INFO - Chain [1] done processing\n"
     ]
    },
    {
     "name": "stdout",
     "output_type": "stream",
     "text": [
      "Model forecasting\n",
      "Merging forecasting and test data\n",
      "Tranining complted for St10 and Fruit Cake\n",
      "Finding error matrices MSE and RMSE\n",
      "Writing error matrices of St10 and Fruit Cake\n",
      "\n",
      "\n",
      "\n",
      "\n",
      "Writing predicted results of St10 and Fruit Cake\n"
     ]
    },
    {
     "name": "stderr",
     "output_type": "stream",
     "text": [
      "C:\\Users\\Ramshankar\\AppData\\Local\\Temp\\ipykernel_15304\\1358708478.py:73: SettingWithCopyWarning: \n",
      "A value is trying to be set on a copy of a slice from a DataFrame.\n",
      "Try using .loc[row_indexer,col_indexer] = value instead\n",
      "\n",
      "See the caveats in the documentation: https://pandas.pydata.org/pandas-docs/stable/user_guide/indexing.html#returning-a-view-versus-a-copy\n",
      "  forecasted_df['store']= i\n",
      "C:\\Users\\Ramshankar\\AppData\\Local\\Temp\\ipykernel_15304\\1358708478.py:74: SettingWithCopyWarning: \n",
      "A value is trying to be set on a copy of a slice from a DataFrame.\n",
      "Try using .loc[row_indexer,col_indexer] = value instead\n",
      "\n",
      "See the caveats in the documentation: https://pandas.pydata.org/pandas-docs/stable/user_guide/indexing.html#returning-a-view-versus-a-copy\n",
      "  forecasted_df['item']=j\n"
     ]
    },
    {
     "name": "stdout",
     "output_type": "stream",
     "text": [
      "\n",
      "\n",
      "Preparing data for modelling\n",
      "\n",
      "\n",
      "Model Training initiated for St10 and Wafers\n"
     ]
    },
    {
     "name": "stderr",
     "output_type": "stream",
     "text": [
      "13:35:59 - cmdstanpy - INFO - Chain [1] start processing\n",
      "13:36:00 - cmdstanpy - INFO - Chain [1] done processing\n"
     ]
    },
    {
     "name": "stdout",
     "output_type": "stream",
     "text": [
      "Model forecasting\n",
      "Merging forecasting and test data\n",
      "Tranining complted for St10 and Wafers\n",
      "Finding error matrices MSE and RMSE\n",
      "Writing error matrices of St10 and Wafers\n",
      "\n",
      "\n",
      "\n",
      "\n",
      "Writing predicted results of St10 and Wafers\n"
     ]
    },
    {
     "name": "stderr",
     "output_type": "stream",
     "text": [
      "C:\\Users\\Ramshankar\\AppData\\Local\\Temp\\ipykernel_15304\\1358708478.py:73: SettingWithCopyWarning: \n",
      "A value is trying to be set on a copy of a slice from a DataFrame.\n",
      "Try using .loc[row_indexer,col_indexer] = value instead\n",
      "\n",
      "See the caveats in the documentation: https://pandas.pydata.org/pandas-docs/stable/user_guide/indexing.html#returning-a-view-versus-a-copy\n",
      "  forecasted_df['store']= i\n",
      "C:\\Users\\Ramshankar\\AppData\\Local\\Temp\\ipykernel_15304\\1358708478.py:74: SettingWithCopyWarning: \n",
      "A value is trying to be set on a copy of a slice from a DataFrame.\n",
      "Try using .loc[row_indexer,col_indexer] = value instead\n",
      "\n",
      "See the caveats in the documentation: https://pandas.pydata.org/pandas-docs/stable/user_guide/indexing.html#returning-a-view-versus-a-copy\n",
      "  forecasted_df['item']=j\n"
     ]
    }
   ],
   "source": [
    "for i in data_df['store'].unique():\n",
    "    df= data_df[data_df['store']==i]\n",
    "#     print(df)\n",
    "    for j in df['item'].unique():\n",
    "        item_df= df[df['item']==j]\n",
    "#         print(item_df)\n",
    "        \n",
    "        print(\"\\n\")\n",
    "        print(\"Preparing data for modelling\")\n",
    "        item_df= item_df.drop(['store', 'item'], axis=1)\n",
    "        item_df= item_df.rename(columns={'date':'ds', 'sales': 'y'})\n",
    "        \n",
    "        train = item_df.iloc[:len(item_df)-366]\n",
    "        test = item_df.iloc[len(item_df)-366:]\n",
    "#         item_df1= data_df.drop(['store', 'item', 'sales'], axis=1)\n",
    "#         item_df1= item_df1.rename(columns={'date':'ds'})\n",
    "    \n",
    "        item_ds = item_df.drop(['y'], axis=1)\n",
    "        \n",
    "#         train = item_df[item_df['ds']<= '2022-05-01']\n",
    "#         test = item_df[item_df['ds']>= '2022-05-01']\n",
    "#         test1= test.drop(['y'], axis=1)\n",
    "        \n",
    "        print(\"\\n\")\n",
    "        print(f\"Model Training initiated for {i} and {j}\")\n",
    "        \n",
    "        from prophet import Prophet\n",
    "        \n",
    "        model = Prophet()\n",
    "        model.fit(train)\n",
    "        \n",
    "        print(\"Model forecasting\")\n",
    "        forecasted = model.predict(item_ds)\n",
    "        forecasted_df= forecasted[['ds', 'yhat']]\n",
    "        \n",
    "#         data4 = item_df.rename(columns= {'date':'ds', 'sales': 'y'})\n",
    "        \n",
    "        print(\"Merging forecasting and test data\")\n",
    "        data_merge= pd.merge(item_df,forecasted_df, on= ['ds'], how ='inner')\n",
    "        \n",
    "        \n",
    "#         print(\"\\n\")\n",
    "        print(f\"Tranining complted for {i} and {j}\")\n",
    "        print(\"Finding error matrices MSE and RMSE\")\n",
    "        MSE_Score = mean_squared_error(data_merge.y, data_merge.yhat).round(2)\n",
    "#         print(f'Train Score {i}-{j}: %.2f MSE' % (MSE_Score))\n",
    "        \n",
    "        RMSE_Score = math.sqrt(mean_squared_error(data_merge.y, data_merge.yhat))\n",
    "#         print(f'Train Score {i}-{j}: %.2f RMSE' % (RMSE_Score))\n",
    "        \n",
    "        from sklearn.metrics import mean_absolute_percentage_error\n",
    "\n",
    "        MAPE_Score= mean_absolute_percentage_error(data_merge.y, data_merge.yhat).round(2)\n",
    "#         print('MAPE_Score:', MAPE_Score)\n",
    "        \n",
    "        \n",
    "        col_names =  ['MSE_prophet', 'RMSE_prophet', 'MAPE_prophet']\n",
    "        Error_matric= pd.DataFrame(columns = col_names)\n",
    "        \n",
    "        my_out = {'MSE_prophet': MSE_Score, 'RMSE_prophet': RMSE_Score, 'MAPE_prophet': MAPE_Score }\n",
    "        Error_matric.loc[len(Error_matric)] = my_out \n",
    "        \n",
    "        Error_matric['store']=i\n",
    "        Error_matric['item']=j\n",
    "        \n",
    "#         C:\\Users\\Ramshankar\\OneDrive - iLink Systems Inc\\Documents\\Costco\\Code\\ModelOut\\All_out\\Weekly\\Prophet\n",
    "        print(f'Writing error matrices of {i} and {j}')\n",
    "        print(\"\\n\")\n",
    "        Error_output = \"ModelOut\\Prophet\\Error\\Output_Error -\" +i+\"-\"+j+\".xlsx\"\n",
    "        Error_matric.to_excel(Error_output, index= False)\n",
    "        \n",
    "        #Saving Results \n",
    "        forecasted_df['store']= i\n",
    "        forecasted_df['item']=j\n",
    "        \n",
    "        print(\"\\n\")\n",
    "        print(f'Writing predicted results of {i} and {j}')\n",
    "        predction_output = \"ModelOut\\Prophet\\Pred\\Output -\" +i+\"-\"+j+\".xlsx\"\n",
    "        forecasted_df.to_excel(predction_output, index= False)\n",
    "        \n",
    "        \n",
    "        "
   ]
  },
  {
   "cell_type": "markdown",
   "id": "76c9347c",
   "metadata": {},
   "source": [
    "### Combining all the prediction"
   ]
  },
  {
   "cell_type": "code",
   "execution_count": 30,
   "id": "452025f0",
   "metadata": {},
   "outputs": [],
   "source": [
    "import pandas as pd\n",
    "import os\n",
    "import glob"
   ]
  },
  {
   "cell_type": "code",
   "execution_count": 31,
   "id": "5800bd9c",
   "metadata": {},
   "outputs": [],
   "source": [
    "path = 'C:\\\\Users\\\\Ramshankar\\\\OneDrive - iLink Systems Inc\\\\Documents\\\\Demand forecasting-POC\\\\Notebooks\\\\ModelOut\\\\Prophet\\\\Pred\\\\'\n",
    "out_files = glob.glob(os.path.join(path, \"*.xlsx\"))\n",
    "\n",
    "dfs= []\n",
    "\n",
    "\n",
    "for f in out_files:\n",
    "    dfs.append(pd.read_excel(f ))\n",
    "df_prophet = pd.concat(dfs, ignore_index=True)"
   ]
  },
  {
   "cell_type": "code",
   "execution_count": 32,
   "id": "4dc613dc",
   "metadata": {},
   "outputs": [
    {
     "data": {
      "text/html": [
       "<div>\n",
       "<style scoped>\n",
       "    .dataframe tbody tr th:only-of-type {\n",
       "        vertical-align: middle;\n",
       "    }\n",
       "\n",
       "    .dataframe tbody tr th {\n",
       "        vertical-align: top;\n",
       "    }\n",
       "\n",
       "    .dataframe thead th {\n",
       "        text-align: right;\n",
       "    }\n",
       "</style>\n",
       "<table border=\"1\" class=\"dataframe\">\n",
       "  <thead>\n",
       "    <tr style=\"text-align: right;\">\n",
       "      <th></th>\n",
       "      <th>ds</th>\n",
       "      <th>yhat</th>\n",
       "      <th>store</th>\n",
       "      <th>item</th>\n",
       "    </tr>\n",
       "  </thead>\n",
       "  <tbody>\n",
       "    <tr>\n",
       "      <th>0</th>\n",
       "      <td>2013-01-01</td>\n",
       "      <td>33.834942</td>\n",
       "      <td>St1</td>\n",
       "      <td>Banana Chips</td>\n",
       "    </tr>\n",
       "    <tr>\n",
       "      <th>1</th>\n",
       "      <td>2013-01-02</td>\n",
       "      <td>32.777953</td>\n",
       "      <td>St1</td>\n",
       "      <td>Banana Chips</td>\n",
       "    </tr>\n",
       "    <tr>\n",
       "      <th>2</th>\n",
       "      <td>2013-01-03</td>\n",
       "      <td>37.433858</td>\n",
       "      <td>St1</td>\n",
       "      <td>Banana Chips</td>\n",
       "    </tr>\n",
       "    <tr>\n",
       "      <th>3</th>\n",
       "      <td>2013-01-04</td>\n",
       "      <td>41.978901</td>\n",
       "      <td>St1</td>\n",
       "      <td>Banana Chips</td>\n",
       "    </tr>\n",
       "    <tr>\n",
       "      <th>4</th>\n",
       "      <td>2013-01-05</td>\n",
       "      <td>46.548545</td>\n",
       "      <td>St1</td>\n",
       "      <td>Banana Chips</td>\n",
       "    </tr>\n",
       "    <tr>\n",
       "      <th>...</th>\n",
       "      <td>...</td>\n",
       "      <td>...</td>\n",
       "      <td>...</td>\n",
       "      <td>...</td>\n",
       "    </tr>\n",
       "    <tr>\n",
       "      <th>182595</th>\n",
       "      <td>2017-12-27</td>\n",
       "      <td>72.009457</td>\n",
       "      <td>St9</td>\n",
       "      <td>Wafers</td>\n",
       "    </tr>\n",
       "    <tr>\n",
       "      <th>182596</th>\n",
       "      <td>2017-12-28</td>\n",
       "      <td>78.260099</td>\n",
       "      <td>St9</td>\n",
       "      <td>Wafers</td>\n",
       "    </tr>\n",
       "    <tr>\n",
       "      <th>182597</th>\n",
       "      <td>2017-12-29</td>\n",
       "      <td>85.012361</td>\n",
       "      <td>St9</td>\n",
       "      <td>Wafers</td>\n",
       "    </tr>\n",
       "    <tr>\n",
       "      <th>182598</th>\n",
       "      <td>2017-12-30</td>\n",
       "      <td>89.742187</td>\n",
       "      <td>St9</td>\n",
       "      <td>Wafers</td>\n",
       "    </tr>\n",
       "    <tr>\n",
       "      <th>182599</th>\n",
       "      <td>2017-12-31</td>\n",
       "      <td>94.588763</td>\n",
       "      <td>St9</td>\n",
       "      <td>Wafers</td>\n",
       "    </tr>\n",
       "  </tbody>\n",
       "</table>\n",
       "<p>182600 rows × 4 columns</p>\n",
       "</div>"
      ],
      "text/plain": [
       "               ds       yhat store          item\n",
       "0      2013-01-01  33.834942   St1  Banana Chips\n",
       "1      2013-01-02  32.777953   St1  Banana Chips\n",
       "2      2013-01-03  37.433858   St1  Banana Chips\n",
       "3      2013-01-04  41.978901   St1  Banana Chips\n",
       "4      2013-01-05  46.548545   St1  Banana Chips\n",
       "...           ...        ...   ...           ...\n",
       "182595 2017-12-27  72.009457   St9        Wafers\n",
       "182596 2017-12-28  78.260099   St9        Wafers\n",
       "182597 2017-12-29  85.012361   St9        Wafers\n",
       "182598 2017-12-30  89.742187   St9        Wafers\n",
       "182599 2017-12-31  94.588763   St9        Wafers\n",
       "\n",
       "[182600 rows x 4 columns]"
      ]
     },
     "execution_count": 32,
     "metadata": {},
     "output_type": "execute_result"
    }
   ],
   "source": [
    "df_prophet"
   ]
  },
  {
   "cell_type": "code",
   "execution_count": 34,
   "id": "99ad066b",
   "metadata": {},
   "outputs": [],
   "source": [
    "df_prophet= df_prophet.rename(columns={'ds':'date', 'yhat':'forecasted_sales'})"
   ]
  },
  {
   "cell_type": "code",
   "execution_count": 35,
   "id": "2182ef98",
   "metadata": {},
   "outputs": [
    {
     "data": {
      "text/html": [
       "<div>\n",
       "<style scoped>\n",
       "    .dataframe tbody tr th:only-of-type {\n",
       "        vertical-align: middle;\n",
       "    }\n",
       "\n",
       "    .dataframe tbody tr th {\n",
       "        vertical-align: top;\n",
       "    }\n",
       "\n",
       "    .dataframe thead th {\n",
       "        text-align: right;\n",
       "    }\n",
       "</style>\n",
       "<table border=\"1\" class=\"dataframe\">\n",
       "  <thead>\n",
       "    <tr style=\"text-align: right;\">\n",
       "      <th></th>\n",
       "      <th>date</th>\n",
       "      <th>forecasted_sales</th>\n",
       "      <th>store</th>\n",
       "      <th>item</th>\n",
       "    </tr>\n",
       "  </thead>\n",
       "  <tbody>\n",
       "    <tr>\n",
       "      <th>0</th>\n",
       "      <td>2013-01-01</td>\n",
       "      <td>33.834942</td>\n",
       "      <td>St1</td>\n",
       "      <td>Banana Chips</td>\n",
       "    </tr>\n",
       "    <tr>\n",
       "      <th>1</th>\n",
       "      <td>2013-01-02</td>\n",
       "      <td>32.777953</td>\n",
       "      <td>St1</td>\n",
       "      <td>Banana Chips</td>\n",
       "    </tr>\n",
       "    <tr>\n",
       "      <th>2</th>\n",
       "      <td>2013-01-03</td>\n",
       "      <td>37.433858</td>\n",
       "      <td>St1</td>\n",
       "      <td>Banana Chips</td>\n",
       "    </tr>\n",
       "    <tr>\n",
       "      <th>3</th>\n",
       "      <td>2013-01-04</td>\n",
       "      <td>41.978901</td>\n",
       "      <td>St1</td>\n",
       "      <td>Banana Chips</td>\n",
       "    </tr>\n",
       "    <tr>\n",
       "      <th>4</th>\n",
       "      <td>2013-01-05</td>\n",
       "      <td>46.548545</td>\n",
       "      <td>St1</td>\n",
       "      <td>Banana Chips</td>\n",
       "    </tr>\n",
       "    <tr>\n",
       "      <th>...</th>\n",
       "      <td>...</td>\n",
       "      <td>...</td>\n",
       "      <td>...</td>\n",
       "      <td>...</td>\n",
       "    </tr>\n",
       "    <tr>\n",
       "      <th>182595</th>\n",
       "      <td>2017-12-27</td>\n",
       "      <td>72.009457</td>\n",
       "      <td>St9</td>\n",
       "      <td>Wafers</td>\n",
       "    </tr>\n",
       "    <tr>\n",
       "      <th>182596</th>\n",
       "      <td>2017-12-28</td>\n",
       "      <td>78.260099</td>\n",
       "      <td>St9</td>\n",
       "      <td>Wafers</td>\n",
       "    </tr>\n",
       "    <tr>\n",
       "      <th>182597</th>\n",
       "      <td>2017-12-29</td>\n",
       "      <td>85.012361</td>\n",
       "      <td>St9</td>\n",
       "      <td>Wafers</td>\n",
       "    </tr>\n",
       "    <tr>\n",
       "      <th>182598</th>\n",
       "      <td>2017-12-30</td>\n",
       "      <td>89.742187</td>\n",
       "      <td>St9</td>\n",
       "      <td>Wafers</td>\n",
       "    </tr>\n",
       "    <tr>\n",
       "      <th>182599</th>\n",
       "      <td>2017-12-31</td>\n",
       "      <td>94.588763</td>\n",
       "      <td>St9</td>\n",
       "      <td>Wafers</td>\n",
       "    </tr>\n",
       "  </tbody>\n",
       "</table>\n",
       "<p>182600 rows × 4 columns</p>\n",
       "</div>"
      ],
      "text/plain": [
       "             date  forecasted_sales store          item\n",
       "0      2013-01-01         33.834942   St1  Banana Chips\n",
       "1      2013-01-02         32.777953   St1  Banana Chips\n",
       "2      2013-01-03         37.433858   St1  Banana Chips\n",
       "3      2013-01-04         41.978901   St1  Banana Chips\n",
       "4      2013-01-05         46.548545   St1  Banana Chips\n",
       "...           ...               ...   ...           ...\n",
       "182595 2017-12-27         72.009457   St9        Wafers\n",
       "182596 2017-12-28         78.260099   St9        Wafers\n",
       "182597 2017-12-29         85.012361   St9        Wafers\n",
       "182598 2017-12-30         89.742187   St9        Wafers\n",
       "182599 2017-12-31         94.588763   St9        Wafers\n",
       "\n",
       "[182600 rows x 4 columns]"
      ]
     },
     "execution_count": 35,
     "metadata": {},
     "output_type": "execute_result"
    }
   ],
   "source": [
    "df_prophet"
   ]
  },
  {
   "cell_type": "code",
   "execution_count": 33,
   "id": "80f4a14d",
   "metadata": {},
   "outputs": [
    {
     "data": {
      "text/html": [
       "<div>\n",
       "<style scoped>\n",
       "    .dataframe tbody tr th:only-of-type {\n",
       "        vertical-align: middle;\n",
       "    }\n",
       "\n",
       "    .dataframe tbody tr th {\n",
       "        vertical-align: top;\n",
       "    }\n",
       "\n",
       "    .dataframe thead th {\n",
       "        text-align: right;\n",
       "    }\n",
       "</style>\n",
       "<table border=\"1\" class=\"dataframe\">\n",
       "  <thead>\n",
       "    <tr style=\"text-align: right;\">\n",
       "      <th></th>\n",
       "      <th>date</th>\n",
       "      <th>store</th>\n",
       "      <th>item</th>\n",
       "      <th>sales</th>\n",
       "    </tr>\n",
       "  </thead>\n",
       "  <tbody>\n",
       "    <tr>\n",
       "      <th>127820</th>\n",
       "      <td>2013-01-01</td>\n",
       "      <td>St1</td>\n",
       "      <td>Lay's</td>\n",
       "      <td>33</td>\n",
       "    </tr>\n",
       "    <tr>\n",
       "      <th>127821</th>\n",
       "      <td>2013-01-02</td>\n",
       "      <td>St1</td>\n",
       "      <td>Lay's</td>\n",
       "      <td>37</td>\n",
       "    </tr>\n",
       "    <tr>\n",
       "      <th>127822</th>\n",
       "      <td>2013-01-03</td>\n",
       "      <td>St1</td>\n",
       "      <td>Lay's</td>\n",
       "      <td>38</td>\n",
       "    </tr>\n",
       "    <tr>\n",
       "      <th>127823</th>\n",
       "      <td>2013-01-04</td>\n",
       "      <td>St1</td>\n",
       "      <td>Lay's</td>\n",
       "      <td>54</td>\n",
       "    </tr>\n",
       "    <tr>\n",
       "      <th>127824</th>\n",
       "      <td>2013-01-05</td>\n",
       "      <td>St1</td>\n",
       "      <td>Lay's</td>\n",
       "      <td>51</td>\n",
       "    </tr>\n",
       "    <tr>\n",
       "      <th>...</th>\n",
       "      <td>...</td>\n",
       "      <td>...</td>\n",
       "      <td>...</td>\n",
       "      <td>...</td>\n",
       "    </tr>\n",
       "    <tr>\n",
       "      <th>821695</th>\n",
       "      <td>2017-12-27</td>\n",
       "      <td>St10</td>\n",
       "      <td>Wafers</td>\n",
       "      <td>64</td>\n",
       "    </tr>\n",
       "    <tr>\n",
       "      <th>821696</th>\n",
       "      <td>2017-12-28</td>\n",
       "      <td>St10</td>\n",
       "      <td>Wafers</td>\n",
       "      <td>79</td>\n",
       "    </tr>\n",
       "    <tr>\n",
       "      <th>821697</th>\n",
       "      <td>2017-12-29</td>\n",
       "      <td>St10</td>\n",
       "      <td>Wafers</td>\n",
       "      <td>72</td>\n",
       "    </tr>\n",
       "    <tr>\n",
       "      <th>821698</th>\n",
       "      <td>2017-12-30</td>\n",
       "      <td>St10</td>\n",
       "      <td>Wafers</td>\n",
       "      <td>76</td>\n",
       "    </tr>\n",
       "    <tr>\n",
       "      <th>821699</th>\n",
       "      <td>2017-12-31</td>\n",
       "      <td>St10</td>\n",
       "      <td>Wafers</td>\n",
       "      <td>89</td>\n",
       "    </tr>\n",
       "  </tbody>\n",
       "</table>\n",
       "<p>182600 rows × 4 columns</p>\n",
       "</div>"
      ],
      "text/plain": [
       "             date store    item  sales\n",
       "127820 2013-01-01   St1   Lay's     33\n",
       "127821 2013-01-02   St1   Lay's     37\n",
       "127822 2013-01-03   St1   Lay's     38\n",
       "127823 2013-01-04   St1   Lay's     54\n",
       "127824 2013-01-05   St1   Lay's     51\n",
       "...           ...   ...     ...    ...\n",
       "821695 2017-12-27  St10  Wafers     64\n",
       "821696 2017-12-28  St10  Wafers     79\n",
       "821697 2017-12-29  St10  Wafers     72\n",
       "821698 2017-12-30  St10  Wafers     76\n",
       "821699 2017-12-31  St10  Wafers     89\n",
       "\n",
       "[182600 rows x 4 columns]"
      ]
     },
     "execution_count": 33,
     "metadata": {},
     "output_type": "execute_result"
    }
   ],
   "source": [
    "data_df"
   ]
  },
  {
   "cell_type": "code",
   "execution_count": 36,
   "id": "6dbe5ecf",
   "metadata": {},
   "outputs": [
    {
     "data": {
      "text/html": [
       "<div>\n",
       "<style scoped>\n",
       "    .dataframe tbody tr th:only-of-type {\n",
       "        vertical-align: middle;\n",
       "    }\n",
       "\n",
       "    .dataframe tbody tr th {\n",
       "        vertical-align: top;\n",
       "    }\n",
       "\n",
       "    .dataframe thead th {\n",
       "        text-align: right;\n",
       "    }\n",
       "</style>\n",
       "<table border=\"1\" class=\"dataframe\">\n",
       "  <thead>\n",
       "    <tr style=\"text-align: right;\">\n",
       "      <th></th>\n",
       "      <th>date</th>\n",
       "      <th>store</th>\n",
       "      <th>item</th>\n",
       "      <th>sales</th>\n",
       "      <th>forecasted_sales</th>\n",
       "    </tr>\n",
       "  </thead>\n",
       "  <tbody>\n",
       "    <tr>\n",
       "      <th>0</th>\n",
       "      <td>2013-01-01</td>\n",
       "      <td>St1</td>\n",
       "      <td>Lay's</td>\n",
       "      <td>33</td>\n",
       "      <td>33.053333</td>\n",
       "    </tr>\n",
       "    <tr>\n",
       "      <th>1</th>\n",
       "      <td>2013-01-02</td>\n",
       "      <td>St1</td>\n",
       "      <td>Lay's</td>\n",
       "      <td>37</td>\n",
       "      <td>32.579542</td>\n",
       "    </tr>\n",
       "    <tr>\n",
       "      <th>2</th>\n",
       "      <td>2013-01-03</td>\n",
       "      <td>St1</td>\n",
       "      <td>Lay's</td>\n",
       "      <td>38</td>\n",
       "      <td>36.432553</td>\n",
       "    </tr>\n",
       "    <tr>\n",
       "      <th>3</th>\n",
       "      <td>2013-01-04</td>\n",
       "      <td>St1</td>\n",
       "      <td>Lay's</td>\n",
       "      <td>54</td>\n",
       "      <td>41.349099</td>\n",
       "    </tr>\n",
       "    <tr>\n",
       "      <th>4</th>\n",
       "      <td>2013-01-05</td>\n",
       "      <td>St1</td>\n",
       "      <td>Lay's</td>\n",
       "      <td>51</td>\n",
       "      <td>46.108570</td>\n",
       "    </tr>\n",
       "  </tbody>\n",
       "</table>\n",
       "</div>"
      ],
      "text/plain": [
       "        date store   item  sales  forecasted_sales\n",
       "0 2013-01-01   St1  Lay's     33         33.053333\n",
       "1 2013-01-02   St1  Lay's     37         32.579542\n",
       "2 2013-01-03   St1  Lay's     38         36.432553\n",
       "3 2013-01-04   St1  Lay's     54         41.349099\n",
       "4 2013-01-05   St1  Lay's     51         46.108570"
      ]
     },
     "execution_count": 36,
     "metadata": {},
     "output_type": "execute_result"
    }
   ],
   "source": [
    "merge_prophet = pd.merge(data_df, df_prophet, on=['date', 'store', 'item'], how= 'inner')\n",
    "merge_prophet.head()"
   ]
  },
  {
   "cell_type": "code",
   "execution_count": 42,
   "id": "f0c262f5",
   "metadata": {},
   "outputs": [],
   "source": [
    "# merge_prophet.to_excel('ModelOut\\Prophet\\Output_Prophet.xlsx', index=False)"
   ]
  },
  {
   "cell_type": "markdown",
   "id": "30517420",
   "metadata": {},
   "source": [
    "### Combining all the Error matrices"
   ]
  },
  {
   "cell_type": "code",
   "execution_count": 38,
   "id": "34c4f58d",
   "metadata": {},
   "outputs": [],
   "source": [
    "path = 'C:\\\\Users\\\\Ramshankar\\\\OneDrive - iLink Systems Inc\\\\Documents\\\\Demand forecasting-POC\\\\Notebooks\\\\ModelOut\\\\Prophet\\\\Error\\\\'\n",
    "out_files = glob.glob(os.path.join(path, \"*.xlsx\"))\n",
    "\n",
    "dfs= []\n",
    "\n",
    "\n",
    "for f in out_files:\n",
    "    dfs.append(pd.read_excel(f ))\n",
    "df_prophet_Err = pd.concat(dfs, ignore_index=True)"
   ]
  },
  {
   "cell_type": "code",
   "execution_count": 39,
   "id": "024f8495",
   "metadata": {},
   "outputs": [
    {
     "data": {
      "text/html": [
       "<div>\n",
       "<style scoped>\n",
       "    .dataframe tbody tr th:only-of-type {\n",
       "        vertical-align: middle;\n",
       "    }\n",
       "\n",
       "    .dataframe tbody tr th {\n",
       "        vertical-align: top;\n",
       "    }\n",
       "\n",
       "    .dataframe thead th {\n",
       "        text-align: right;\n",
       "    }\n",
       "</style>\n",
       "<table border=\"1\" class=\"dataframe\">\n",
       "  <thead>\n",
       "    <tr style=\"text-align: right;\">\n",
       "      <th></th>\n",
       "      <th>MSE_prophet</th>\n",
       "      <th>RMSE_prophet</th>\n",
       "      <th>MAPE_prophet</th>\n",
       "      <th>store</th>\n",
       "      <th>item</th>\n",
       "    </tr>\n",
       "  </thead>\n",
       "  <tbody>\n",
       "    <tr>\n",
       "      <th>0</th>\n",
       "      <td>82.06</td>\n",
       "      <td>9.058462</td>\n",
       "      <td>0.11</td>\n",
       "      <td>St1</td>\n",
       "      <td>Banana Chips</td>\n",
       "    </tr>\n",
       "    <tr>\n",
       "      <th>1</th>\n",
       "      <td>97.58</td>\n",
       "      <td>9.878479</td>\n",
       "      <td>0.11</td>\n",
       "      <td>St1</td>\n",
       "      <td>Bingo</td>\n",
       "    </tr>\n",
       "    <tr>\n",
       "      <th>2</th>\n",
       "      <td>87.96</td>\n",
       "      <td>9.378706</td>\n",
       "      <td>0.11</td>\n",
       "      <td>St1</td>\n",
       "      <td>Fruit Cake</td>\n",
       "    </tr>\n",
       "    <tr>\n",
       "      <th>3</th>\n",
       "      <td>92.82</td>\n",
       "      <td>9.634199</td>\n",
       "      <td>0.11</td>\n",
       "      <td>St1</td>\n",
       "      <td>Haldiram</td>\n",
       "    </tr>\n",
       "    <tr>\n",
       "      <th>4</th>\n",
       "      <td>87.50</td>\n",
       "      <td>9.354315</td>\n",
       "      <td>0.11</td>\n",
       "      <td>St1</td>\n",
       "      <td>Kurkure</td>\n",
       "    </tr>\n",
       "    <tr>\n",
       "      <th>...</th>\n",
       "      <td>...</td>\n",
       "      <td>...</td>\n",
       "      <td>...</td>\n",
       "      <td>...</td>\n",
       "      <td>...</td>\n",
       "    </tr>\n",
       "    <tr>\n",
       "      <th>95</th>\n",
       "      <td>93.25</td>\n",
       "      <td>9.656656</td>\n",
       "      <td>0.10</td>\n",
       "      <td>St9</td>\n",
       "      <td>Lay's</td>\n",
       "    </tr>\n",
       "    <tr>\n",
       "      <th>96</th>\n",
       "      <td>96.97</td>\n",
       "      <td>9.847388</td>\n",
       "      <td>0.10</td>\n",
       "      <td>St9</td>\n",
       "      <td>Parle-G</td>\n",
       "    </tr>\n",
       "    <tr>\n",
       "      <th>97</th>\n",
       "      <td>100.36</td>\n",
       "      <td>10.018205</td>\n",
       "      <td>0.10</td>\n",
       "      <td>St9</td>\n",
       "      <td>Peanuts</td>\n",
       "    </tr>\n",
       "    <tr>\n",
       "      <th>98</th>\n",
       "      <td>122.28</td>\n",
       "      <td>11.058003</td>\n",
       "      <td>0.10</td>\n",
       "      <td>St9</td>\n",
       "      <td>Too Yum</td>\n",
       "    </tr>\n",
       "    <tr>\n",
       "      <th>99</th>\n",
       "      <td>103.15</td>\n",
       "      <td>10.156390</td>\n",
       "      <td>0.10</td>\n",
       "      <td>St9</td>\n",
       "      <td>Wafers</td>\n",
       "    </tr>\n",
       "  </tbody>\n",
       "</table>\n",
       "<p>100 rows × 5 columns</p>\n",
       "</div>"
      ],
      "text/plain": [
       "    MSE_prophet  RMSE_prophet  MAPE_prophet store          item\n",
       "0         82.06      9.058462          0.11   St1  Banana Chips\n",
       "1         97.58      9.878479          0.11   St1         Bingo\n",
       "2         87.96      9.378706          0.11   St1    Fruit Cake\n",
       "3         92.82      9.634199          0.11   St1      Haldiram\n",
       "4         87.50      9.354315          0.11   St1       Kurkure\n",
       "..          ...           ...           ...   ...           ...\n",
       "95        93.25      9.656656          0.10   St9         Lay's\n",
       "96        96.97      9.847388          0.10   St9       Parle-G\n",
       "97       100.36     10.018205          0.10   St9       Peanuts\n",
       "98       122.28     11.058003          0.10   St9       Too Yum\n",
       "99       103.15     10.156390          0.10   St9        Wafers\n",
       "\n",
       "[100 rows x 5 columns]"
      ]
     },
     "execution_count": 39,
     "metadata": {},
     "output_type": "execute_result"
    }
   ],
   "source": [
    "df_prophet_Err"
   ]
  },
  {
   "cell_type": "code",
   "execution_count": 43,
   "id": "1c9cf9c8",
   "metadata": {},
   "outputs": [],
   "source": [
    "# df_prophet_Err.to_excel('ModelOut\\Prophet\\Error_Prophet.xlsx', index=False)"
   ]
  },
  {
   "cell_type": "code",
   "execution_count": 44,
   "id": "18bf27dd",
   "metadata": {},
   "outputs": [],
   "source": [
    "# data_filter.to_excel('Retail data.xlsx', index=False)"
   ]
  },
  {
   "cell_type": "markdown",
   "id": "ba779f0a",
   "metadata": {},
   "source": [
    "__Reading ARIMA Error__"
   ]
  },
  {
   "cell_type": "code",
   "execution_count": 45,
   "id": "cbbeec27",
   "metadata": {},
   "outputs": [],
   "source": [
    "path= 'C:\\\\Users\\\\Ramshankar\\\\OneDrive - iLink Systems Inc\\\\Documents\\\\Demand forecasting-POC\\\\Notebooks\\\\ModelOut\\\\ARIMA\\\\'\n",
    "\n",
    "\n",
    "Er_Arima = pd.read_excel(path + 'Error_ARIMA.xlsx')"
   ]
  },
  {
   "cell_type": "code",
   "execution_count": 46,
   "id": "87f2f147",
   "metadata": {},
   "outputs": [
    {
     "data": {
      "text/html": [
       "<div>\n",
       "<style scoped>\n",
       "    .dataframe tbody tr th:only-of-type {\n",
       "        vertical-align: middle;\n",
       "    }\n",
       "\n",
       "    .dataframe tbody tr th {\n",
       "        vertical-align: top;\n",
       "    }\n",
       "\n",
       "    .dataframe thead th {\n",
       "        text-align: right;\n",
       "    }\n",
       "</style>\n",
       "<table border=\"1\" class=\"dataframe\">\n",
       "  <thead>\n",
       "    <tr style=\"text-align: right;\">\n",
       "      <th></th>\n",
       "      <th>MSE_ARIMA</th>\n",
       "      <th>RMSE_ARIMA</th>\n",
       "      <th>MAPE_ARIMA</th>\n",
       "      <th>Store</th>\n",
       "      <th>Item</th>\n",
       "    </tr>\n",
       "  </thead>\n",
       "  <tbody>\n",
       "    <tr>\n",
       "      <th>0</th>\n",
       "      <td>139.46</td>\n",
       "      <td>11.81</td>\n",
       "      <td>0.14</td>\n",
       "      <td>St1</td>\n",
       "      <td>Banana Chips</td>\n",
       "    </tr>\n",
       "    <tr>\n",
       "      <th>1</th>\n",
       "      <td>269.11</td>\n",
       "      <td>16.40</td>\n",
       "      <td>0.16</td>\n",
       "      <td>St1</td>\n",
       "      <td>Bingo</td>\n",
       "    </tr>\n",
       "    <tr>\n",
       "      <th>2</th>\n",
       "      <td>152.27</td>\n",
       "      <td>12.34</td>\n",
       "      <td>0.14</td>\n",
       "      <td>St1</td>\n",
       "      <td>Fruit Cake</td>\n",
       "    </tr>\n",
       "    <tr>\n",
       "      <th>3</th>\n",
       "      <td>194.23</td>\n",
       "      <td>13.94</td>\n",
       "      <td>0.15</td>\n",
       "      <td>St1</td>\n",
       "      <td>Haldiram</td>\n",
       "    </tr>\n",
       "    <tr>\n",
       "      <th>4</th>\n",
       "      <td>185.57</td>\n",
       "      <td>13.62</td>\n",
       "      <td>0.14</td>\n",
       "      <td>St1</td>\n",
       "      <td>Kurkure</td>\n",
       "    </tr>\n",
       "    <tr>\n",
       "      <th>...</th>\n",
       "      <td>...</td>\n",
       "      <td>...</td>\n",
       "      <td>...</td>\n",
       "      <td>...</td>\n",
       "      <td>...</td>\n",
       "    </tr>\n",
       "    <tr>\n",
       "      <th>95</th>\n",
       "      <td>302.20</td>\n",
       "      <td>17.38</td>\n",
       "      <td>0.16</td>\n",
       "      <td>St9</td>\n",
       "      <td>Lay's</td>\n",
       "    </tr>\n",
       "    <tr>\n",
       "      <th>96</th>\n",
       "      <td>305.31</td>\n",
       "      <td>17.47</td>\n",
       "      <td>0.17</td>\n",
       "      <td>St9</td>\n",
       "      <td>Parle-G</td>\n",
       "    </tr>\n",
       "    <tr>\n",
       "      <th>97</th>\n",
       "      <td>412.72</td>\n",
       "      <td>20.32</td>\n",
       "      <td>0.19</td>\n",
       "      <td>St9</td>\n",
       "      <td>Peanuts</td>\n",
       "    </tr>\n",
       "    <tr>\n",
       "      <th>98</th>\n",
       "      <td>762.48</td>\n",
       "      <td>27.61</td>\n",
       "      <td>0.24</td>\n",
       "      <td>St9</td>\n",
       "      <td>Too Yum</td>\n",
       "    </tr>\n",
       "    <tr>\n",
       "      <th>99</th>\n",
       "      <td>425.82</td>\n",
       "      <td>20.64</td>\n",
       "      <td>0.19</td>\n",
       "      <td>St9</td>\n",
       "      <td>Wafers</td>\n",
       "    </tr>\n",
       "  </tbody>\n",
       "</table>\n",
       "<p>100 rows × 5 columns</p>\n",
       "</div>"
      ],
      "text/plain": [
       "    MSE_ARIMA  RMSE_ARIMA  MAPE_ARIMA Store          Item\n",
       "0      139.46       11.81        0.14   St1  Banana Chips\n",
       "1      269.11       16.40        0.16   St1         Bingo\n",
       "2      152.27       12.34        0.14   St1    Fruit Cake\n",
       "3      194.23       13.94        0.15   St1      Haldiram\n",
       "4      185.57       13.62        0.14   St1       Kurkure\n",
       "..        ...         ...         ...   ...           ...\n",
       "95     302.20       17.38        0.16   St9         Lay's\n",
       "96     305.31       17.47        0.17   St9       Parle-G\n",
       "97     412.72       20.32        0.19   St9       Peanuts\n",
       "98     762.48       27.61        0.24   St9       Too Yum\n",
       "99     425.82       20.64        0.19   St9        Wafers\n",
       "\n",
       "[100 rows x 5 columns]"
      ]
     },
     "execution_count": 46,
     "metadata": {},
     "output_type": "execute_result"
    }
   ],
   "source": [
    "Er_Arima"
   ]
  },
  {
   "cell_type": "code",
   "execution_count": 48,
   "id": "6e458d0a",
   "metadata": {},
   "outputs": [],
   "source": [
    "Er_Arima=Er_Arima.rename(columns={'Store': 'store', 'Item':'item'})"
   ]
  },
  {
   "cell_type": "code",
   "execution_count": 49,
   "id": "58342011",
   "metadata": {},
   "outputs": [
    {
     "data": {
      "text/html": [
       "<div>\n",
       "<style scoped>\n",
       "    .dataframe tbody tr th:only-of-type {\n",
       "        vertical-align: middle;\n",
       "    }\n",
       "\n",
       "    .dataframe tbody tr th {\n",
       "        vertical-align: top;\n",
       "    }\n",
       "\n",
       "    .dataframe thead th {\n",
       "        text-align: right;\n",
       "    }\n",
       "</style>\n",
       "<table border=\"1\" class=\"dataframe\">\n",
       "  <thead>\n",
       "    <tr style=\"text-align: right;\">\n",
       "      <th></th>\n",
       "      <th>MSE_prophet</th>\n",
       "      <th>RMSE_prophet</th>\n",
       "      <th>MAPE_prophet</th>\n",
       "      <th>store</th>\n",
       "      <th>item</th>\n",
       "      <th>MSE_ARIMA</th>\n",
       "      <th>RMSE_ARIMA</th>\n",
       "      <th>MAPE_ARIMA</th>\n",
       "    </tr>\n",
       "  </thead>\n",
       "  <tbody>\n",
       "    <tr>\n",
       "      <th>0</th>\n",
       "      <td>82.06</td>\n",
       "      <td>9.058462</td>\n",
       "      <td>0.11</td>\n",
       "      <td>St1</td>\n",
       "      <td>Banana Chips</td>\n",
       "      <td>139.46</td>\n",
       "      <td>11.81</td>\n",
       "      <td>0.14</td>\n",
       "    </tr>\n",
       "    <tr>\n",
       "      <th>1</th>\n",
       "      <td>97.58</td>\n",
       "      <td>9.878479</td>\n",
       "      <td>0.11</td>\n",
       "      <td>St1</td>\n",
       "      <td>Bingo</td>\n",
       "      <td>269.11</td>\n",
       "      <td>16.40</td>\n",
       "      <td>0.16</td>\n",
       "    </tr>\n",
       "    <tr>\n",
       "      <th>2</th>\n",
       "      <td>87.96</td>\n",
       "      <td>9.378706</td>\n",
       "      <td>0.11</td>\n",
       "      <td>St1</td>\n",
       "      <td>Fruit Cake</td>\n",
       "      <td>152.27</td>\n",
       "      <td>12.34</td>\n",
       "      <td>0.14</td>\n",
       "    </tr>\n",
       "    <tr>\n",
       "      <th>3</th>\n",
       "      <td>92.82</td>\n",
       "      <td>9.634199</td>\n",
       "      <td>0.11</td>\n",
       "      <td>St1</td>\n",
       "      <td>Haldiram</td>\n",
       "      <td>194.23</td>\n",
       "      <td>13.94</td>\n",
       "      <td>0.15</td>\n",
       "    </tr>\n",
       "    <tr>\n",
       "      <th>4</th>\n",
       "      <td>87.50</td>\n",
       "      <td>9.354315</td>\n",
       "      <td>0.11</td>\n",
       "      <td>St1</td>\n",
       "      <td>Kurkure</td>\n",
       "      <td>185.57</td>\n",
       "      <td>13.62</td>\n",
       "      <td>0.14</td>\n",
       "    </tr>\n",
       "    <tr>\n",
       "      <th>...</th>\n",
       "      <td>...</td>\n",
       "      <td>...</td>\n",
       "      <td>...</td>\n",
       "      <td>...</td>\n",
       "      <td>...</td>\n",
       "      <td>...</td>\n",
       "      <td>...</td>\n",
       "      <td>...</td>\n",
       "    </tr>\n",
       "    <tr>\n",
       "      <th>95</th>\n",
       "      <td>93.25</td>\n",
       "      <td>9.656656</td>\n",
       "      <td>0.10</td>\n",
       "      <td>St9</td>\n",
       "      <td>Lay's</td>\n",
       "      <td>302.20</td>\n",
       "      <td>17.38</td>\n",
       "      <td>0.16</td>\n",
       "    </tr>\n",
       "    <tr>\n",
       "      <th>96</th>\n",
       "      <td>96.97</td>\n",
       "      <td>9.847388</td>\n",
       "      <td>0.10</td>\n",
       "      <td>St9</td>\n",
       "      <td>Parle-G</td>\n",
       "      <td>305.31</td>\n",
       "      <td>17.47</td>\n",
       "      <td>0.17</td>\n",
       "    </tr>\n",
       "    <tr>\n",
       "      <th>97</th>\n",
       "      <td>100.36</td>\n",
       "      <td>10.018205</td>\n",
       "      <td>0.10</td>\n",
       "      <td>St9</td>\n",
       "      <td>Peanuts</td>\n",
       "      <td>412.72</td>\n",
       "      <td>20.32</td>\n",
       "      <td>0.19</td>\n",
       "    </tr>\n",
       "    <tr>\n",
       "      <th>98</th>\n",
       "      <td>122.28</td>\n",
       "      <td>11.058003</td>\n",
       "      <td>0.10</td>\n",
       "      <td>St9</td>\n",
       "      <td>Too Yum</td>\n",
       "      <td>762.48</td>\n",
       "      <td>27.61</td>\n",
       "      <td>0.24</td>\n",
       "    </tr>\n",
       "    <tr>\n",
       "      <th>99</th>\n",
       "      <td>103.15</td>\n",
       "      <td>10.156390</td>\n",
       "      <td>0.10</td>\n",
       "      <td>St9</td>\n",
       "      <td>Wafers</td>\n",
       "      <td>425.82</td>\n",
       "      <td>20.64</td>\n",
       "      <td>0.19</td>\n",
       "    </tr>\n",
       "  </tbody>\n",
       "</table>\n",
       "<p>100 rows × 8 columns</p>\n",
       "</div>"
      ],
      "text/plain": [
       "    MSE_prophet  RMSE_prophet  MAPE_prophet store          item  MSE_ARIMA  \\\n",
       "0         82.06      9.058462          0.11   St1  Banana Chips     139.46   \n",
       "1         97.58      9.878479          0.11   St1         Bingo     269.11   \n",
       "2         87.96      9.378706          0.11   St1    Fruit Cake     152.27   \n",
       "3         92.82      9.634199          0.11   St1      Haldiram     194.23   \n",
       "4         87.50      9.354315          0.11   St1       Kurkure     185.57   \n",
       "..          ...           ...           ...   ...           ...        ...   \n",
       "95        93.25      9.656656          0.10   St9         Lay's     302.20   \n",
       "96        96.97      9.847388          0.10   St9       Parle-G     305.31   \n",
       "97       100.36     10.018205          0.10   St9       Peanuts     412.72   \n",
       "98       122.28     11.058003          0.10   St9       Too Yum     762.48   \n",
       "99       103.15     10.156390          0.10   St9        Wafers     425.82   \n",
       "\n",
       "    RMSE_ARIMA  MAPE_ARIMA  \n",
       "0        11.81        0.14  \n",
       "1        16.40        0.16  \n",
       "2        12.34        0.14  \n",
       "3        13.94        0.15  \n",
       "4        13.62        0.14  \n",
       "..         ...         ...  \n",
       "95       17.38        0.16  \n",
       "96       17.47        0.17  \n",
       "97       20.32        0.19  \n",
       "98       27.61        0.24  \n",
       "99       20.64        0.19  \n",
       "\n",
       "[100 rows x 8 columns]"
      ]
     },
     "execution_count": 49,
     "metadata": {},
     "output_type": "execute_result"
    }
   ],
   "source": [
    "merge1 = pd.merge(df_prophet_Err, Er_Arima, on=['store', 'item'], how= 'inner')\n",
    "merge1"
   ]
  },
  {
   "cell_type": "code",
   "execution_count": 51,
   "id": "9a27f2b9",
   "metadata": {},
   "outputs": [],
   "source": [
    "path= 'C:\\\\Users\\\\Ramshankar\\\\OneDrive - iLink Systems Inc\\\\Documents\\\\Demand forecasting-POC\\\\Notebooks\\\\ModelOut\\\\Holt\\\\'\n",
    "\n",
    "\n",
    "Er_Holt = pd.read_excel(path + 'Error_HOlt.xlsx')"
   ]
  },
  {
   "cell_type": "code",
   "execution_count": 52,
   "id": "059beb08",
   "metadata": {},
   "outputs": [
    {
     "data": {
      "text/html": [
       "<div>\n",
       "<style scoped>\n",
       "    .dataframe tbody tr th:only-of-type {\n",
       "        vertical-align: middle;\n",
       "    }\n",
       "\n",
       "    .dataframe tbody tr th {\n",
       "        vertical-align: top;\n",
       "    }\n",
       "\n",
       "    .dataframe thead th {\n",
       "        text-align: right;\n",
       "    }\n",
       "</style>\n",
       "<table border=\"1\" class=\"dataframe\">\n",
       "  <thead>\n",
       "    <tr style=\"text-align: right;\">\n",
       "      <th></th>\n",
       "      <th>MSE_Holt</th>\n",
       "      <th>RMSE_Holt</th>\n",
       "      <th>MAPE_Holt</th>\n",
       "      <th>Store</th>\n",
       "      <th>Item</th>\n",
       "    </tr>\n",
       "  </thead>\n",
       "  <tbody>\n",
       "    <tr>\n",
       "      <th>0</th>\n",
       "      <td>622.53</td>\n",
       "      <td>24.950468</td>\n",
       "      <td>0.26</td>\n",
       "      <td>St1</td>\n",
       "      <td>Banana Chips</td>\n",
       "    </tr>\n",
       "    <tr>\n",
       "      <th>1</th>\n",
       "      <td>1474.08</td>\n",
       "      <td>38.393732</td>\n",
       "      <td>0.37</td>\n",
       "      <td>St1</td>\n",
       "      <td>Bingo</td>\n",
       "    </tr>\n",
       "    <tr>\n",
       "      <th>2</th>\n",
       "      <td>996.60</td>\n",
       "      <td>31.568911</td>\n",
       "      <td>0.32</td>\n",
       "      <td>St1</td>\n",
       "      <td>Fruit Cake</td>\n",
       "    </tr>\n",
       "    <tr>\n",
       "      <th>3</th>\n",
       "      <td>2231.91</td>\n",
       "      <td>47.243043</td>\n",
       "      <td>0.52</td>\n",
       "      <td>St1</td>\n",
       "      <td>Haldiram</td>\n",
       "    </tr>\n",
       "    <tr>\n",
       "      <th>4</th>\n",
       "      <td>1193.54</td>\n",
       "      <td>34.547604</td>\n",
       "      <td>0.34</td>\n",
       "      <td>St1</td>\n",
       "      <td>Kurkure</td>\n",
       "    </tr>\n",
       "    <tr>\n",
       "      <th>...</th>\n",
       "      <td>...</td>\n",
       "      <td>...</td>\n",
       "      <td>...</td>\n",
       "      <td>...</td>\n",
       "      <td>...</td>\n",
       "    </tr>\n",
       "    <tr>\n",
       "      <th>95</th>\n",
       "      <td>1422.32</td>\n",
       "      <td>37.713662</td>\n",
       "      <td>0.35</td>\n",
       "      <td>St9</td>\n",
       "      <td>Lay's</td>\n",
       "    </tr>\n",
       "    <tr>\n",
       "      <th>96</th>\n",
       "      <td>787.20</td>\n",
       "      <td>28.057019</td>\n",
       "      <td>0.25</td>\n",
       "      <td>St9</td>\n",
       "      <td>Parle-G</td>\n",
       "    </tr>\n",
       "    <tr>\n",
       "      <th>97</th>\n",
       "      <td>1398.15</td>\n",
       "      <td>37.391796</td>\n",
       "      <td>0.33</td>\n",
       "      <td>St9</td>\n",
       "      <td>Peanuts</td>\n",
       "    </tr>\n",
       "    <tr>\n",
       "      <th>98</th>\n",
       "      <td>1070.12</td>\n",
       "      <td>32.712703</td>\n",
       "      <td>0.26</td>\n",
       "      <td>St9</td>\n",
       "      <td>Too Yum</td>\n",
       "    </tr>\n",
       "    <tr>\n",
       "      <th>99</th>\n",
       "      <td>2140.33</td>\n",
       "      <td>46.263685</td>\n",
       "      <td>0.43</td>\n",
       "      <td>St9</td>\n",
       "      <td>Wafers</td>\n",
       "    </tr>\n",
       "  </tbody>\n",
       "</table>\n",
       "<p>100 rows × 5 columns</p>\n",
       "</div>"
      ],
      "text/plain": [
       "    MSE_Holt  RMSE_Holt  MAPE_Holt Store          Item\n",
       "0     622.53  24.950468       0.26   St1  Banana Chips\n",
       "1    1474.08  38.393732       0.37   St1         Bingo\n",
       "2     996.60  31.568911       0.32   St1    Fruit Cake\n",
       "3    2231.91  47.243043       0.52   St1      Haldiram\n",
       "4    1193.54  34.547604       0.34   St1       Kurkure\n",
       "..       ...        ...        ...   ...           ...\n",
       "95   1422.32  37.713662       0.35   St9         Lay's\n",
       "96    787.20  28.057019       0.25   St9       Parle-G\n",
       "97   1398.15  37.391796       0.33   St9       Peanuts\n",
       "98   1070.12  32.712703       0.26   St9       Too Yum\n",
       "99   2140.33  46.263685       0.43   St9        Wafers\n",
       "\n",
       "[100 rows x 5 columns]"
      ]
     },
     "execution_count": 52,
     "metadata": {},
     "output_type": "execute_result"
    }
   ],
   "source": [
    "Er_Holt"
   ]
  },
  {
   "cell_type": "code",
   "execution_count": 53,
   "id": "161955c5",
   "metadata": {},
   "outputs": [],
   "source": [
    "Er_Holt = Er_Holt.rename(columns={'Store': 'store', 'Item':'item'})"
   ]
  },
  {
   "cell_type": "code",
   "execution_count": 54,
   "id": "0fcd567f",
   "metadata": {},
   "outputs": [
    {
     "data": {
      "text/html": [
       "<div>\n",
       "<style scoped>\n",
       "    .dataframe tbody tr th:only-of-type {\n",
       "        vertical-align: middle;\n",
       "    }\n",
       "\n",
       "    .dataframe tbody tr th {\n",
       "        vertical-align: top;\n",
       "    }\n",
       "\n",
       "    .dataframe thead th {\n",
       "        text-align: right;\n",
       "    }\n",
       "</style>\n",
       "<table border=\"1\" class=\"dataframe\">\n",
       "  <thead>\n",
       "    <tr style=\"text-align: right;\">\n",
       "      <th></th>\n",
       "      <th>MSE_prophet</th>\n",
       "      <th>RMSE_prophet</th>\n",
       "      <th>MAPE_prophet</th>\n",
       "      <th>store</th>\n",
       "      <th>item</th>\n",
       "      <th>MSE_ARIMA</th>\n",
       "      <th>RMSE_ARIMA</th>\n",
       "      <th>MAPE_ARIMA</th>\n",
       "      <th>MSE_Holt</th>\n",
       "      <th>RMSE_Holt</th>\n",
       "      <th>MAPE_Holt</th>\n",
       "    </tr>\n",
       "  </thead>\n",
       "  <tbody>\n",
       "    <tr>\n",
       "      <th>0</th>\n",
       "      <td>82.06</td>\n",
       "      <td>9.058462</td>\n",
       "      <td>0.11</td>\n",
       "      <td>St1</td>\n",
       "      <td>Banana Chips</td>\n",
       "      <td>139.46</td>\n",
       "      <td>11.81</td>\n",
       "      <td>0.14</td>\n",
       "      <td>622.53</td>\n",
       "      <td>24.950468</td>\n",
       "      <td>0.26</td>\n",
       "    </tr>\n",
       "    <tr>\n",
       "      <th>1</th>\n",
       "      <td>97.58</td>\n",
       "      <td>9.878479</td>\n",
       "      <td>0.11</td>\n",
       "      <td>St1</td>\n",
       "      <td>Bingo</td>\n",
       "      <td>269.11</td>\n",
       "      <td>16.40</td>\n",
       "      <td>0.16</td>\n",
       "      <td>1474.08</td>\n",
       "      <td>38.393732</td>\n",
       "      <td>0.37</td>\n",
       "    </tr>\n",
       "    <tr>\n",
       "      <th>2</th>\n",
       "      <td>87.96</td>\n",
       "      <td>9.378706</td>\n",
       "      <td>0.11</td>\n",
       "      <td>St1</td>\n",
       "      <td>Fruit Cake</td>\n",
       "      <td>152.27</td>\n",
       "      <td>12.34</td>\n",
       "      <td>0.14</td>\n",
       "      <td>996.60</td>\n",
       "      <td>31.568911</td>\n",
       "      <td>0.32</td>\n",
       "    </tr>\n",
       "    <tr>\n",
       "      <th>3</th>\n",
       "      <td>92.82</td>\n",
       "      <td>9.634199</td>\n",
       "      <td>0.11</td>\n",
       "      <td>St1</td>\n",
       "      <td>Haldiram</td>\n",
       "      <td>194.23</td>\n",
       "      <td>13.94</td>\n",
       "      <td>0.15</td>\n",
       "      <td>2231.91</td>\n",
       "      <td>47.243043</td>\n",
       "      <td>0.52</td>\n",
       "    </tr>\n",
       "    <tr>\n",
       "      <th>4</th>\n",
       "      <td>87.50</td>\n",
       "      <td>9.354315</td>\n",
       "      <td>0.11</td>\n",
       "      <td>St1</td>\n",
       "      <td>Kurkure</td>\n",
       "      <td>185.57</td>\n",
       "      <td>13.62</td>\n",
       "      <td>0.14</td>\n",
       "      <td>1193.54</td>\n",
       "      <td>34.547604</td>\n",
       "      <td>0.34</td>\n",
       "    </tr>\n",
       "    <tr>\n",
       "      <th>...</th>\n",
       "      <td>...</td>\n",
       "      <td>...</td>\n",
       "      <td>...</td>\n",
       "      <td>...</td>\n",
       "      <td>...</td>\n",
       "      <td>...</td>\n",
       "      <td>...</td>\n",
       "      <td>...</td>\n",
       "      <td>...</td>\n",
       "      <td>...</td>\n",
       "      <td>...</td>\n",
       "    </tr>\n",
       "    <tr>\n",
       "      <th>95</th>\n",
       "      <td>93.25</td>\n",
       "      <td>9.656656</td>\n",
       "      <td>0.10</td>\n",
       "      <td>St9</td>\n",
       "      <td>Lay's</td>\n",
       "      <td>302.20</td>\n",
       "      <td>17.38</td>\n",
       "      <td>0.16</td>\n",
       "      <td>1422.32</td>\n",
       "      <td>37.713662</td>\n",
       "      <td>0.35</td>\n",
       "    </tr>\n",
       "    <tr>\n",
       "      <th>96</th>\n",
       "      <td>96.97</td>\n",
       "      <td>9.847388</td>\n",
       "      <td>0.10</td>\n",
       "      <td>St9</td>\n",
       "      <td>Parle-G</td>\n",
       "      <td>305.31</td>\n",
       "      <td>17.47</td>\n",
       "      <td>0.17</td>\n",
       "      <td>787.20</td>\n",
       "      <td>28.057019</td>\n",
       "      <td>0.25</td>\n",
       "    </tr>\n",
       "    <tr>\n",
       "      <th>97</th>\n",
       "      <td>100.36</td>\n",
       "      <td>10.018205</td>\n",
       "      <td>0.10</td>\n",
       "      <td>St9</td>\n",
       "      <td>Peanuts</td>\n",
       "      <td>412.72</td>\n",
       "      <td>20.32</td>\n",
       "      <td>0.19</td>\n",
       "      <td>1398.15</td>\n",
       "      <td>37.391796</td>\n",
       "      <td>0.33</td>\n",
       "    </tr>\n",
       "    <tr>\n",
       "      <th>98</th>\n",
       "      <td>122.28</td>\n",
       "      <td>11.058003</td>\n",
       "      <td>0.10</td>\n",
       "      <td>St9</td>\n",
       "      <td>Too Yum</td>\n",
       "      <td>762.48</td>\n",
       "      <td>27.61</td>\n",
       "      <td>0.24</td>\n",
       "      <td>1070.12</td>\n",
       "      <td>32.712703</td>\n",
       "      <td>0.26</td>\n",
       "    </tr>\n",
       "    <tr>\n",
       "      <th>99</th>\n",
       "      <td>103.15</td>\n",
       "      <td>10.156390</td>\n",
       "      <td>0.10</td>\n",
       "      <td>St9</td>\n",
       "      <td>Wafers</td>\n",
       "      <td>425.82</td>\n",
       "      <td>20.64</td>\n",
       "      <td>0.19</td>\n",
       "      <td>2140.33</td>\n",
       "      <td>46.263685</td>\n",
       "      <td>0.43</td>\n",
       "    </tr>\n",
       "  </tbody>\n",
       "</table>\n",
       "<p>100 rows × 11 columns</p>\n",
       "</div>"
      ],
      "text/plain": [
       "    MSE_prophet  RMSE_prophet  MAPE_prophet store          item  MSE_ARIMA  \\\n",
       "0         82.06      9.058462          0.11   St1  Banana Chips     139.46   \n",
       "1         97.58      9.878479          0.11   St1         Bingo     269.11   \n",
       "2         87.96      9.378706          0.11   St1    Fruit Cake     152.27   \n",
       "3         92.82      9.634199          0.11   St1      Haldiram     194.23   \n",
       "4         87.50      9.354315          0.11   St1       Kurkure     185.57   \n",
       "..          ...           ...           ...   ...           ...        ...   \n",
       "95        93.25      9.656656          0.10   St9         Lay's     302.20   \n",
       "96        96.97      9.847388          0.10   St9       Parle-G     305.31   \n",
       "97       100.36     10.018205          0.10   St9       Peanuts     412.72   \n",
       "98       122.28     11.058003          0.10   St9       Too Yum     762.48   \n",
       "99       103.15     10.156390          0.10   St9        Wafers     425.82   \n",
       "\n",
       "    RMSE_ARIMA  MAPE_ARIMA  MSE_Holt  RMSE_Holt  MAPE_Holt  \n",
       "0        11.81        0.14    622.53  24.950468       0.26  \n",
       "1        16.40        0.16   1474.08  38.393732       0.37  \n",
       "2        12.34        0.14    996.60  31.568911       0.32  \n",
       "3        13.94        0.15   2231.91  47.243043       0.52  \n",
       "4        13.62        0.14   1193.54  34.547604       0.34  \n",
       "..         ...         ...       ...        ...        ...  \n",
       "95       17.38        0.16   1422.32  37.713662       0.35  \n",
       "96       17.47        0.17    787.20  28.057019       0.25  \n",
       "97       20.32        0.19   1398.15  37.391796       0.33  \n",
       "98       27.61        0.24   1070.12  32.712703       0.26  \n",
       "99       20.64        0.19   2140.33  46.263685       0.43  \n",
       "\n",
       "[100 rows x 11 columns]"
      ]
     },
     "execution_count": 54,
     "metadata": {},
     "output_type": "execute_result"
    }
   ],
   "source": [
    "merge2 = pd.merge(merge1, Er_Holt, on=['store', 'item'], how= 'inner')\n",
    "merge2"
   ]
  },
  {
   "cell_type": "code",
   "execution_count": 55,
   "id": "1ea4d510",
   "metadata": {},
   "outputs": [],
   "source": [
    "# merge2.to_excel('Error_Matrices.xlsx', index= False)"
   ]
  },
  {
   "cell_type": "markdown",
   "id": "1e933dfd",
   "metadata": {},
   "source": [
    "### CHange in percentage"
   ]
  },
  {
   "cell_type": "code",
   "execution_count": 1,
   "id": "5b5a082e",
   "metadata": {},
   "outputs": [],
   "source": [
    "import pandas as pd\n",
    "import numpy as np\n",
    "import matplotlib.pyplot as plt\n",
    "import seaborn as sns\n",
    "\n"
   ]
  },
  {
   "cell_type": "code",
   "execution_count": 2,
   "id": "b5609b65",
   "metadata": {},
   "outputs": [],
   "source": [
    "path= 'C:\\\\Users\\\\Ramshankar\\\\OneDrive - iLink Systems Inc\\\\Documents\\\\Demand forecasting-POC\\\\Notebooks\\\\ModelOut\\\\Prophet\\\\'\n",
    "\n",
    "\n",
    "df_prophet = pd.read_excel(path + 'Output_Prophet.xlsx')"
   ]
  },
  {
   "cell_type": "code",
   "execution_count": 3,
   "id": "54037ca0",
   "metadata": {},
   "outputs": [
    {
     "data": {
      "text/html": [
       "<div>\n",
       "<style scoped>\n",
       "    .dataframe tbody tr th:only-of-type {\n",
       "        vertical-align: middle;\n",
       "    }\n",
       "\n",
       "    .dataframe tbody tr th {\n",
       "        vertical-align: top;\n",
       "    }\n",
       "\n",
       "    .dataframe thead th {\n",
       "        text-align: right;\n",
       "    }\n",
       "</style>\n",
       "<table border=\"1\" class=\"dataframe\">\n",
       "  <thead>\n",
       "    <tr style=\"text-align: right;\">\n",
       "      <th></th>\n",
       "      <th>date</th>\n",
       "      <th>store</th>\n",
       "      <th>item</th>\n",
       "      <th>sales</th>\n",
       "      <th>forecasted_sales</th>\n",
       "    </tr>\n",
       "  </thead>\n",
       "  <tbody>\n",
       "    <tr>\n",
       "      <th>0</th>\n",
       "      <td>2013-01-01</td>\n",
       "      <td>St1</td>\n",
       "      <td>Lay's</td>\n",
       "      <td>33</td>\n",
       "      <td>33.053333</td>\n",
       "    </tr>\n",
       "    <tr>\n",
       "      <th>1</th>\n",
       "      <td>2013-01-02</td>\n",
       "      <td>St1</td>\n",
       "      <td>Lay's</td>\n",
       "      <td>37</td>\n",
       "      <td>32.579542</td>\n",
       "    </tr>\n",
       "    <tr>\n",
       "      <th>2</th>\n",
       "      <td>2013-01-03</td>\n",
       "      <td>St1</td>\n",
       "      <td>Lay's</td>\n",
       "      <td>38</td>\n",
       "      <td>36.432553</td>\n",
       "    </tr>\n",
       "    <tr>\n",
       "      <th>3</th>\n",
       "      <td>2013-01-04</td>\n",
       "      <td>St1</td>\n",
       "      <td>Lay's</td>\n",
       "      <td>54</td>\n",
       "      <td>41.349099</td>\n",
       "    </tr>\n",
       "    <tr>\n",
       "      <th>4</th>\n",
       "      <td>2013-01-05</td>\n",
       "      <td>St1</td>\n",
       "      <td>Lay's</td>\n",
       "      <td>51</td>\n",
       "      <td>46.108570</td>\n",
       "    </tr>\n",
       "    <tr>\n",
       "      <th>...</th>\n",
       "      <td>...</td>\n",
       "      <td>...</td>\n",
       "      <td>...</td>\n",
       "      <td>...</td>\n",
       "      <td>...</td>\n",
       "    </tr>\n",
       "    <tr>\n",
       "      <th>182595</th>\n",
       "      <td>2017-12-27</td>\n",
       "      <td>St10</td>\n",
       "      <td>Wafers</td>\n",
       "      <td>64</td>\n",
       "      <td>77.821901</td>\n",
       "    </tr>\n",
       "    <tr>\n",
       "      <th>182596</th>\n",
       "      <td>2017-12-28</td>\n",
       "      <td>St10</td>\n",
       "      <td>Wafers</td>\n",
       "      <td>79</td>\n",
       "      <td>82.925948</td>\n",
       "    </tr>\n",
       "    <tr>\n",
       "      <th>182597</th>\n",
       "      <td>2017-12-29</td>\n",
       "      <td>St10</td>\n",
       "      <td>Wafers</td>\n",
       "      <td>72</td>\n",
       "      <td>90.082103</td>\n",
       "    </tr>\n",
       "    <tr>\n",
       "      <th>182598</th>\n",
       "      <td>2017-12-30</td>\n",
       "      <td>St10</td>\n",
       "      <td>Wafers</td>\n",
       "      <td>76</td>\n",
       "      <td>95.244409</td>\n",
       "    </tr>\n",
       "    <tr>\n",
       "      <th>182599</th>\n",
       "      <td>2017-12-31</td>\n",
       "      <td>St10</td>\n",
       "      <td>Wafers</td>\n",
       "      <td>89</td>\n",
       "      <td>100.262535</td>\n",
       "    </tr>\n",
       "  </tbody>\n",
       "</table>\n",
       "<p>182600 rows × 5 columns</p>\n",
       "</div>"
      ],
      "text/plain": [
       "             date store    item  sales  forecasted_sales\n",
       "0      2013-01-01   St1   Lay's     33         33.053333\n",
       "1      2013-01-02   St1   Lay's     37         32.579542\n",
       "2      2013-01-03   St1   Lay's     38         36.432553\n",
       "3      2013-01-04   St1   Lay's     54         41.349099\n",
       "4      2013-01-05   St1   Lay's     51         46.108570\n",
       "...           ...   ...     ...    ...               ...\n",
       "182595 2017-12-27  St10  Wafers     64         77.821901\n",
       "182596 2017-12-28  St10  Wafers     79         82.925948\n",
       "182597 2017-12-29  St10  Wafers     72         90.082103\n",
       "182598 2017-12-30  St10  Wafers     76         95.244409\n",
       "182599 2017-12-31  St10  Wafers     89        100.262535\n",
       "\n",
       "[182600 rows x 5 columns]"
      ]
     },
     "execution_count": 3,
     "metadata": {},
     "output_type": "execute_result"
    }
   ],
   "source": [
    "df_prophet"
   ]
  },
  {
   "cell_type": "code",
   "execution_count": 4,
   "id": "7289ac0e",
   "metadata": {},
   "outputs": [],
   "source": [
    "df_prophet['%_Change']= ((df_prophet['forecasted_sales']- df_prophet['sales'])/df_prophet['sales'])*100"
   ]
  },
  {
   "cell_type": "code",
   "execution_count": 6,
   "id": "0ccf4b8b",
   "metadata": {},
   "outputs": [
    {
     "data": {
      "text/plain": [
       "111.31418476101298"
      ]
     },
     "execution_count": 6,
     "metadata": {},
     "output_type": "execute_result"
    }
   ],
   "source": [
    "df_prophet['%_Change'].max()"
   ]
  },
  {
   "cell_type": "code",
   "execution_count": 7,
   "id": "9a92b6bb",
   "metadata": {},
   "outputs": [
    {
     "data": {
      "text/plain": [
       "-51.24353968290464"
      ]
     },
     "execution_count": 7,
     "metadata": {},
     "output_type": "execute_result"
    }
   ],
   "source": [
    "df_prophet['%_Change'].min()"
   ]
  },
  {
   "cell_type": "code",
   "execution_count": null,
   "id": "2131e577",
   "metadata": {},
   "outputs": [],
   "source": []
  }
 ],
 "metadata": {
  "kernelspec": {
   "display_name": "Python 3 (ipykernel)",
   "language": "python",
   "name": "python3"
  },
  "language_info": {
   "codemirror_mode": {
    "name": "ipython",
    "version": 3
   },
   "file_extension": ".py",
   "mimetype": "text/x-python",
   "name": "python",
   "nbconvert_exporter": "python",
   "pygments_lexer": "ipython3",
   "version": "3.11.5"
  }
 },
 "nbformat": 4,
 "nbformat_minor": 5
}
